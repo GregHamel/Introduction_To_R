{
 "cells": [
  {
   "cell_type": "markdown",
   "metadata": {},
   "source": [
    "# Introduction to R Part 18: Frequency Tables"
   ]
  },
  {
   "cell_type": "markdown",
   "metadata": {},
   "source": [
    "Discovering relationships bewteen variables is the fundamental goal of data analysis. Frequency tables are a basic tool you can use to explore data and get an idea of the relationships bewteen variables. A frequency table is just a data table that shows the counts of one or more categorical variables.\n",
    "\n",
    "To explore frequency tables, we'll revisit the Titanic training set from Kaggle that we studied in lesson 13. We will perform a couple of the same preprocessing steps we did in lesson 13:"
   ]
  },
  {
   "cell_type": "code",
   "execution_count": 1,
   "metadata": {
    "collapsed": false
   },
   "outputs": [
    {
     "name": "stdout",
     "output_type": "stream",
     "text": [
      "'data.frame':\t889 obs. of  12 variables:\n",
      " $ PassengerId: int  1 2 3 4 5 6 7 8 9 10 ...\n",
      " $ Survived   : int  0 1 1 1 0 0 0 0 1 1 ...\n",
      " $ Pclass     : int  3 1 3 1 3 3 1 3 3 2 ...\n",
      " $ Name       : Factor w/ 889 levels \"Abbing, Mr. Anthony\",..: 109 191 358 277 16 558 519 628 416 580 ...\n",
      " $ Sex        : Factor w/ 2 levels \"female\",\"male\": 2 1 1 1 2 2 2 2 1 1 ...\n",
      " $ Age        : num  22 38 26 35 35 NA 54 2 27 14 ...\n",
      " $ SibSp      : int  1 1 0 1 0 0 0 3 0 1 ...\n",
      " $ Parch      : int  0 0 0 0 0 0 0 1 2 0 ...\n",
      " $ Ticket     : Factor w/ 680 levels \"110152\",\"110413\",..: 523 596 669 49 472 275 85 395 344 132 ...\n",
      " $ Fare       : num  7.25 71.28 7.92 53.1 8.05 ...\n",
      " $ Cabin      : Factor w/ 8 levels \"\",\"A\",\"B\",\"C\",..: 1 4 1 4 1 1 6 1 1 1 ...\n",
      " $ Embarked   : Factor w/ 3 levels \"C\",\"Q\",\"S\": 3 1 3 3 3 2 3 3 3 1 ...\n"
     ]
    }
   ],
   "source": [
    "setwd(\"C:/Users/Greg/Desktop/Kaggle/titanic\") \n",
    "\n",
    "titanic_train <- read.csv(\"titanic_train.csv\")      # load the data\n",
    "\n",
    "# Preprocessing steps:\n",
    "\n",
    "char_cabin <- as.character(titanic_train$Cabin)     # convert cabin to character\n",
    "\n",
    "new_Cabin <- ifelse(char_cabin == \"\",            # if the value is \"\"\n",
    "                    \"\",                          # keep it\n",
    "                    substr(char_cabin,1,1))      # else transform it to a substring\n",
    "\n",
    "titanic_train$Cabin <- factor(new_Cabin)         # convert back to a factor\n",
    "\n",
    "str(titanic_train)                               # check data stucture"
   ]
  },
  {
   "cell_type": "markdown",
   "metadata": {},
   "source": [
    "### One-Way Tables"
   ]
  },
  {
   "cell_type": "markdown",
   "metadata": {},
   "source": [
    "In lesson 13 we briefly introduced the table() function. The table() function takes one or more factors as input (or vectors of characters/numbers that can be converted to factors) and then produces a frequency table of counts for each unique value in the input. If you only pass one varaible to table() the result is a one-way table with counts for each of the variable's levels:"
   ]
  },
  {
   "cell_type": "code",
   "execution_count": 2,
   "metadata": {
    "collapsed": false
   },
   "outputs": [
    {
     "data": {
      "text/plain": [
       "\n",
       "  0   1 \n",
       "549 340 "
      ]
     },
     "execution_count": 2,
     "metadata": {},
     "output_type": "execute_result"
    }
   ],
   "source": [
    "table(titanic_train$Survived)            # one-way table of survival"
   ]
  },
  {
   "cell_type": "code",
   "execution_count": 3,
   "metadata": {
    "collapsed": false
   },
   "outputs": [
    {
     "data": {
      "text/plain": [
       "\n",
       "  1   2   3 \n",
       "214 184 491 "
      ]
     },
     "execution_count": 3,
     "metadata": {},
     "output_type": "execute_result"
    }
   ],
   "source": [
    "table(titanic_train$Pclass)              # one-way table of passenger class"
   ]
  },
  {
   "cell_type": "code",
   "execution_count": 4,
   "metadata": {
    "collapsed": false
   },
   "outputs": [
    {
     "data": {
      "text/plain": [
       "\n",
       "female   male \n",
       "   312    577 "
      ]
     },
     "execution_count": 4,
     "metadata": {},
     "output_type": "execute_result"
    }
   ],
   "source": [
    "table(titanic_train$Sex)                 # one-way table of sex"
   ]
  },
  {
   "cell_type": "code",
   "execution_count": 5,
   "metadata": {
    "collapsed": false
   },
   "outputs": [
    {
     "data": {
      "text/plain": [
       "\n",
       "      A   B   C   D   E   F   G \n",
       "688  15  45  59  33  32  13   4 "
      ]
     },
     "execution_count": 5,
     "metadata": {},
     "output_type": "execute_result"
    }
   ],
   "source": [
    "table(titanic_train$Cabin)               # one-way table of cabin letter"
   ]
  },
  {
   "cell_type": "markdown",
   "metadata": {},
   "source": [
    "Even these simple one-way tables give us some useful insight: we immedately get a sense of distribution of records across the factor levels. For instance, we see that males outnumbered females by a significant margin and that there were more third class passengers than first and second class passengers combined.\n",
    "\n",
    "If you pass a variable with many unique values to table(), such a numberic variable, it will be converted into a factor and a table will be created, but the counts may not be particularly meaningful.\n",
    "\n",
    "The output of table() is a table object, which is stored as an array of integers with associated names set equal to the names of the factor levels used to construct the table. The dimensions of the array are determined by the number of varaibles you pass to table(). When you makea one-way table, you end up with a 1-dimensional array, which is just a vector. This means that the functions and indexing operations we can use on vectors also generally work on the results of a one-way table:"
   ]
  },
  {
   "cell_type": "code",
   "execution_count": 6,
   "metadata": {
    "collapsed": false
   },
   "outputs": [
    {
     "data": {
      "text/html": [
       "889"
      ],
      "text/latex": [
       "889"
      ],
      "text/markdown": [
       "889"
      ],
      "text/plain": [
       "[1] 889"
      ]
     },
     "execution_count": 6,
     "metadata": {},
     "output_type": "execute_result"
    },
    {
     "data": {
      "text/html": [
       "8"
      ],
      "text/latex": [
       "8"
      ],
      "text/markdown": [
       "8"
      ],
      "text/plain": [
       "[1] 8"
      ]
     },
     "execution_count": 6,
     "metadata": {},
     "output_type": "execute_result"
    },
    {
     "data": {
      "text/html": [
       "<strong>A:</strong> 15"
      ],
      "text/latex": [
       "\\textbf{A:} 15"
      ],
      "text/markdown": [
       "**A:** 15"
      ],
      "text/plain": [
       " A \n",
       "15 "
      ]
     },
     "execution_count": 6,
     "metadata": {},
     "output_type": "execute_result"
    },
    {
     "data": {
      "text/html": [
       "<dl class=dl-horizontal>\n",
       "\t<dt>B</dt>\n",
       "\t\t<dd>45</dd>\n",
       "\t<dt>C</dt>\n",
       "\t\t<dd>59</dd>\n",
       "\t<dt>D</dt>\n",
       "\t\t<dd>33</dd>\n",
       "\t<dt>E</dt>\n",
       "\t\t<dd>32</dd>\n",
       "\t<dt>F</dt>\n",
       "\t\t<dd>13</dd>\n",
       "\t<dt>G</dt>\n",
       "\t\t<dd>4</dd>\n",
       "</dl>\n"
      ],
      "text/latex": [
       "\\begin{description*}\n",
       "\\item[B] 45\n",
       "\\item[C] 59\n",
       "\\item[D] 33\n",
       "\\item[E] 32\n",
       "\\item[F] 13\n",
       "\\item[G] 4\n",
       "\\end{description*}\n"
      ],
      "text/markdown": [
       "B\n",
       ":   45C\n",
       ":   59D\n",
       ":   33E\n",
       ":   32F\n",
       ":   13G\n",
       ":   4\n",
       "\n"
      ],
      "text/plain": [
       "\n",
       " B  C  D  E  F  G \n",
       "45 59 33 32 13  4 "
      ]
     },
     "execution_count": 6,
     "metadata": {},
     "output_type": "execute_result"
    }
   ],
   "source": [
    "cabin_table <- table(titanic_train$Cabin)   # store a table\n",
    "\n",
    "sum(cabin_table)             # get the sum of counts (total number of records)\n",
    "\n",
    "length(cabin_table)          # get the length of the table (number of levels)\n",
    "\n",
    "cabin_table[2]               # get the second item\n",
    "\n",
    "cabin_table[3:8]             # get items 3-8"
   ]
  },
  {
   "cell_type": "markdown",
   "metadata": {},
   "source": [
    "The table() function ignores NA values by default. If you want to keep NA values in the table, set the optional argument exclude equal to NULL:"
   ]
  },
  {
   "cell_type": "code",
   "execution_count": 7,
   "metadata": {
    "collapsed": false
   },
   "outputs": [
    {
     "data": {
      "text/plain": [
       "\n",
       "0.42 0.67 0.75 0.83 0.92    1    2    3    4    5    6    7    8    9   10   11 \n",
       "   1    1    2    2    1    7   10    6   10    4    3    3    4    8    2    4 \n",
       "  12   13   14 14.5   15   16   17   18   19   20 20.5   21   22   23 23.5   24 \n",
       "   1    2    6    1    5   17   13   26   25   15    1   24   27   15    1   30 \n",
       "24.5   25   26   27   28 28.5   29   30 30.5   31   32 32.5   33   34 34.5   35 \n",
       "   1   23   18   18   25    2   20   25    2   17   18    2   15   15    1   18 \n",
       "  36 36.5   37   38   39   40 40.5   41   42   43   44   45 45.5   46   47   48 \n",
       "  22    1    6   10   14   13    2    6   13    5    9   12    2    3    9    9 \n",
       "  49   50   51   52   53   54   55 55.5   56   57   58   59   60   61   62   63 \n",
       "   6   10    7    6    1    8    2    1    4    2    5    2    4    3    3    2 \n",
       "  64   65   66   70 70.5   71   74   80 <NA> \n",
       "   2    3    1    2    1    2    1    1  177 "
      ]
     },
     "execution_count": 7,
     "metadata": {},
     "output_type": "execute_result"
    }
   ],
   "source": [
    "age_table <- table(titanic_train$Age, exclude=NULL)   # create table of ages\n",
    "\n",
    "age_table                  # check the age table and confirm it includes NA"
   ]
  },
  {
   "cell_type": "markdown",
   "metadata": {},
   "source": [
    "*Note: Tables of numeric variables can be long and messy. It is generally preferable to explore numeric variables using a histogram with hist().\n",
    "\n",
    "You can ignore certain levels when creating a table by passing the levels you want to ignore to the exclude argument:"
   ]
  },
  {
   "cell_type": "code",
   "execution_count": 8,
   "metadata": {
    "collapsed": false
   },
   "outputs": [
    {
     "data": {
      "text/plain": [
       "\n",
       " A  B  C  D  E  F  G \n",
       "15 45 59 33 32 13  4 "
      ]
     },
     "execution_count": 8,
     "metadata": {},
     "output_type": "execute_result"
    }
   ],
   "source": [
    "table(titanic_train$Cabin, exclude=c(\"\"))    # exclude cabins listed as the empty string"
   ]
  },
  {
   "cell_type": "markdown",
   "metadata": {},
   "source": [
    "One of the most useful aspects of frequency tables is that they allow you to extract the proportion of the data that belongs to each level. With a one-way table, you can do this by dividing each table value by the total number of records in the table:"
   ]
  },
  {
   "cell_type": "code",
   "execution_count": 9,
   "metadata": {
    "collapsed": false
   },
   "outputs": [
    {
     "data": {
      "text/plain": [
       "\n",
       "   female      male \n",
       "0.3509561 0.6490439 "
      ]
     },
     "execution_count": 9,
     "metadata": {},
     "output_type": "execute_result"
    }
   ],
   "source": [
    "gender_table <- table(titanic_train$Sex) # create a table of genders\n",
    "\n",
    "gender_table / sum(gender_table)         # divide by the total counts to get proportions"
   ]
  },
  {
   "cell_type": "markdown",
   "metadata": {},
   "source": [
    "Alterntively, you can pass the table to the prop.table() function:"
   ]
  },
  {
   "cell_type": "code",
   "execution_count": 10,
   "metadata": {
    "collapsed": false
   },
   "outputs": [
    {
     "data": {
      "text/plain": [
       "\n",
       "   female      male \n",
       "0.3509561 0.6490439 "
      ]
     },
     "execution_count": 10,
     "metadata": {},
     "output_type": "execute_result"
    }
   ],
   "source": [
    "prop.table(gender_table)"
   ]
  },
  {
   "cell_type": "markdown",
   "metadata": {},
   "source": [
    "### Two-Way Tables"
   ]
  },
  {
   "cell_type": "markdown",
   "metadata": {},
   "source": [
    "Two-way frequency tables, also called contingency tables, are tables of counts with two dimensions where each dimension is a different varaible. Two-way tables can give you insight into the relationship between two variables. To create a two way table, simply pass two varaibles to the table() function instead of one:"
   ]
  },
  {
   "cell_type": "code",
   "execution_count": 11,
   "metadata": {
    "collapsed": false
   },
   "outputs": [
    {
     "data": {
      "text/plain": [
       "          \n",
       "           female male\n",
       "  died         81  468\n",
       "  survived    231  109"
      ]
     },
     "execution_count": 11,
     "metadata": {},
     "output_type": "execute_result"
    }
   ],
   "source": [
    "# Table of survival vs. sex\n",
    "survived_sex <- table(titanic_train$Survived, titanic_train$Sex)\n",
    "\n",
    "rownames(survived_sex) <- c(\"died\",\"survived\")   # rename rows\n",
    "\n",
    "survived_sex"
   ]
  },
  {
   "cell_type": "code",
   "execution_count": 12,
   "metadata": {
    "collapsed": false
   },
   "outputs": [
    {
     "data": {
      "text/plain": [
       "          \n",
       "           class1 class2 class3\n",
       "  died         80     97    372\n",
       "  survived    134     87    119"
      ]
     },
     "execution_count": 12,
     "metadata": {},
     "output_type": "execute_result"
    }
   ],
   "source": [
    "# Table of survival vs passenger class\n",
    "survived_class <- table(titanic_train$Survived, titanic_train$Pclass)\n",
    "\n",
    "rownames(survived_class) <- c(\"died\",\"survived\")            # rename rows\n",
    "colnames(survived_class) <- c(\"class1\",\"class2\",\"class3\")   # rename cols\n",
    "\n",
    "survived_class"
   ]
  },
  {
   "cell_type": "markdown",
   "metadata": {},
   "source": [
    "The output of a two-way table is a two-dimensional array of integers where the row names are set to the levels of the first variable and the column names are set to the levels of the second variable. A two dimensional array a matrix, so the matrix functions and indexing operations we've learned generally work on two-way tables:"
   ]
  },
  {
   "cell_type": "code",
   "execution_count": 13,
   "metadata": {
    "collapsed": false
   },
   "outputs": [
    {
     "data": {
      "text/html": [
       "<dl class=dl-horizontal>\n",
       "\t<dt>died</dt>\n",
       "\t\t<dd>549</dd>\n",
       "\t<dt>survived</dt>\n",
       "\t\t<dd>340</dd>\n",
       "</dl>\n"
      ],
      "text/latex": [
       "\\begin{description*}\n",
       "\\item[died] 549\n",
       "\\item[survived] 340\n",
       "\\end{description*}\n"
      ],
      "text/markdown": [
       "died\n",
       ":   549survived\n",
       ":   340\n",
       "\n"
      ],
      "text/plain": [
       "    died survived \n",
       "     549      340 "
      ]
     },
     "execution_count": 13,
     "metadata": {},
     "output_type": "execute_result"
    }
   ],
   "source": [
    "rowSums(survived_sex)     # get row totals"
   ]
  },
  {
   "cell_type": "code",
   "execution_count": 14,
   "metadata": {
    "collapsed": false
   },
   "outputs": [
    {
     "data": {
      "text/html": [
       "<dl class=dl-horizontal>\n",
       "\t<dt>female</dt>\n",
       "\t\t<dd>312</dd>\n",
       "\t<dt>male</dt>\n",
       "\t\t<dd>577</dd>\n",
       "</dl>\n"
      ],
      "text/latex": [
       "\\begin{description*}\n",
       "\\item[female] 312\n",
       "\\item[male] 577\n",
       "\\end{description*}\n"
      ],
      "text/markdown": [
       "female\n",
       ":   312male\n",
       ":   577\n",
       "\n"
      ],
      "text/plain": [
       "female   male \n",
       "   312    577 "
      ]
     },
     "execution_count": 14,
     "metadata": {},
     "output_type": "execute_result"
    }
   ],
   "source": [
    "colSums(survived_sex)     # get column totals"
   ]
  },
  {
   "cell_type": "code",
   "execution_count": 15,
   "metadata": {
    "collapsed": false
   },
   "outputs": [
    {
     "data": {
      "text/html": [
       "231"
      ],
      "text/latex": [
       "231"
      ],
      "text/markdown": [
       "231"
      ],
      "text/plain": [
       "[1] 231"
      ]
     },
     "execution_count": 15,
     "metadata": {},
     "output_type": "execute_result"
    }
   ],
   "source": [
    "survived_sex[2,1]        # get the value in row 2, column 1"
   ]
  },
  {
   "cell_type": "markdown",
   "metadata": {},
   "source": [
    "We can check the total proportion of counts in each cell using the same method we used for one-way tables:"
   ]
  },
  {
   "cell_type": "code",
   "execution_count": 16,
   "metadata": {
    "collapsed": false
   },
   "outputs": [
    {
     "data": {
      "text/plain": [
       "          \n",
       "               female       male\n",
       "  died     0.09111361 0.52643420\n",
       "  survived 0.25984252 0.12260967"
      ]
     },
     "execution_count": 16,
     "metadata": {},
     "output_type": "execute_result"
    }
   ],
   "source": [
    "survived_sex / sum(survived_sex )"
   ]
  },
  {
   "cell_type": "code",
   "execution_count": 17,
   "metadata": {
    "collapsed": false
   },
   "outputs": [
    {
     "data": {
      "text/plain": [
       "          \n",
       "               female       male\n",
       "  died     0.09111361 0.52643420\n",
       "  survived 0.25984252 0.12260967"
      ]
     },
     "execution_count": 17,
     "metadata": {},
     "output_type": "execute_result"
    }
   ],
   "source": [
    "prop.table(survived_sex)"
   ]
  },
  {
   "cell_type": "markdown",
   "metadata": {},
   "source": [
    "With two-way tables, we are often more interested in proportions with respect to the counts in each row or column rather than the entire table. For instance, the table above shows us that 26% of the data is made up of women who survived, but this does't tell much about the rate at which women survived. To get proportions with respect to rows or columns, use prop.table() with the additional argument margin:"
   ]
  },
  {
   "cell_type": "code",
   "execution_count": 18,
   "metadata": {
    "collapsed": false
   },
   "outputs": [
    {
     "data": {
      "text/plain": [
       "          \n",
       "              female      male\n",
       "  died     0.1475410 0.8524590\n",
       "  survived 0.6794118 0.3205882"
      ]
     },
     "execution_count": 18,
     "metadata": {},
     "output_type": "execute_result"
    }
   ],
   "source": [
    "prop.table(survived_sex, margin=1)   # set margin = 1 to get proportions across rows"
   ]
  },
  {
   "cell_type": "code",
   "execution_count": 19,
   "metadata": {
    "collapsed": false
   },
   "outputs": [
    {
     "data": {
      "text/plain": [
       "          \n",
       "              female      male\n",
       "  died     0.2596154 0.8110919\n",
       "  survived 0.7403846 0.1889081"
      ]
     },
     "execution_count": 19,
     "metadata": {},
     "output_type": "execute_result"
    }
   ],
   "source": [
    "prop.table(survived_sex, margin=2)   # set margin = 2 to get proportions across columns"
   ]
  },
  {
   "cell_type": "markdown",
   "metadata": {},
   "source": [
    "The second table above gives us more insight into how gender is related to survival: 74% of women survived while only 19% of men did. This information could prove very useful for the task of predicting survival. Indeed a simple model that predicts that all women survived and that all men perished achieves an accuracy rate of 76.55% on the hidden test data used to judge the Titanic Kaggle competition!"
   ]
  },
  {
   "cell_type": "markdown",
   "metadata": {},
   "source": [
    "### Higher Dimensional Tables"
   ]
  },
  {
   "cell_type": "markdown",
   "metadata": {},
   "source": [
    "The table() function lets you create tables with more than two dimensions. Higher dimensional tables can be a little confusing to look at, but they can also yield finer-grained insight into interactions bewteen multiple variables. Lets create a 3-way table inspecting survival, sex and passenger class:"
   ]
  },
  {
   "cell_type": "code",
   "execution_count": 20,
   "metadata": {
    "collapsed": false
   },
   "outputs": [
    {
     "data": {
      "text/html": [
       "<dl>\n",
       "\t<dt>[[1]]</dt>\n",
       "\t\t<dd><ol class=list-inline>\n",
       "\t<li>\"0\"</li>\n",
       "\t<li>\"1\"</li>\n",
       "</ol>\n",
       "</dd>\n",
       "\t<dt>[[2]]</dt>\n",
       "\t\t<dd><ol class=list-inline>\n",
       "\t<li>\"female\"</li>\n",
       "\t<li>\"male\"</li>\n",
       "</ol>\n",
       "</dd>\n",
       "\t<dt>[[3]]</dt>\n",
       "\t\t<dd><ol class=list-inline>\n",
       "\t<li>\"1\"</li>\n",
       "\t<li>\"2\"</li>\n",
       "\t<li>\"3\"</li>\n",
       "</ol>\n",
       "</dd>\n",
       "</dl>\n"
      ],
      "text/latex": [
       "\\begin{description}\n",
       "\\item[{[[1]]}] \\begin{enumerate*}\n",
       "\\item \"0\"\n",
       "\\item \"1\"\n",
       "\\end{enumerate*}\n",
       "\n",
       "\\item[{[[2]]}] \\begin{enumerate*}\n",
       "\\item \"female\"\n",
       "\\item \"male\"\n",
       "\\end{enumerate*}\n",
       "\n",
       "\\item[{[[3]]}] \\begin{enumerate*}\n",
       "\\item \"1\"\n",
       "\\item \"2\"\n",
       "\\item \"3\"\n",
       "\\end{enumerate*}\n",
       "\n",
       "\\end{description}\n"
      ],
      "text/markdown": [
       "[[1]]\n",
       ":   1. \"0\"\n",
       "2. \"1\"\n",
       "\n",
       "\n",
       "\n",
       "[[2]]\n",
       ":   1. \"female\"\n",
       "2. \"male\"\n",
       "\n",
       "\n",
       "\n",
       "[[3]]\n",
       ":   1. \"1\"\n",
       "2. \"2\"\n",
       "3. \"3\"\n",
       "\n",
       "\n",
       "\n",
       "\n",
       "\n"
      ],
      "text/plain": [
       "[[1]]\n",
       "[1] \"0\" \"1\"\n",
       "\n",
       "[[2]]\n",
       "[1] \"female\" \"male\"  \n",
       "\n",
       "[[3]]\n",
       "[1] \"1\" \"2\" \"3\"\n"
      ]
     },
     "execution_count": 20,
     "metadata": {},
     "output_type": "execute_result"
    }
   ],
   "source": [
    "surv_sex_class <- table(titanic_train$Survived, titanic_train$Sex, titanic_train$Pclass)\n",
    "\n",
    "dimnames(surv_sex_class)           # check the names of each dimension"
   ]
  },
  {
   "cell_type": "markdown",
   "metadata": {},
   "source": [
    "As seen above, you can check the names of each dimension as a list with the dimnames() funciton. You can also use dimnames() to reassign names to the dimensions:"
   ]
  },
  {
   "cell_type": "code",
   "execution_count": 21,
   "metadata": {
    "collapsed": false
   },
   "outputs": [
    {
     "data": {
      "text/plain": [
       ", ,  = class1\n",
       "\n",
       "          \n",
       "           female male\n",
       "  died          3   77\n",
       "  survived     89   45\n",
       "\n",
       ", ,  = class2\n",
       "\n",
       "          \n",
       "           female male\n",
       "  died          6   91\n",
       "  survived     70   17\n",
       "\n",
       ", ,  = class3\n",
       "\n",
       "          \n",
       "           female male\n",
       "  died         72  300\n",
       "  survived     72   47\n"
      ]
     },
     "execution_count": 21,
     "metadata": {},
     "output_type": "execute_result"
    }
   ],
   "source": [
    "dimnames(surv_sex_class)[[1]] <- c(\"died\", \"survived\")           # rename dimension 1\n",
    "dimnames(surv_sex_class)[[3]] <- c(\"class1\", \"class2\",\"class3\")  # rename dimension 3\n",
    "\n",
    "surv_sex_class                          # check the 3-way table"
   ]
  },
  {
   "cell_type": "markdown",
   "metadata": {},
   "source": [
    "Survival rates appear to be lower for passengers with lower classes but it is hard to get an accurate picture of survival rates by looking at raw counts. Let's dig a little deeper by looking at proportions. Once again, we can use the prop.table() function to extract proportions of counts with respect to different dimensions of the table. In this case, it would be most interesting to consider survival rates of passengers by gender and class. Gender is dimension 2 and passenger class is dimension 3 so we should supply those as the margins to prop.table() to extract the proportions of interest:"
   ]
  },
  {
   "cell_type": "code",
   "execution_count": 22,
   "metadata": {
    "collapsed": false
   },
   "outputs": [
    {
     "data": {
      "text/plain": [
       ", ,  = class1\n",
       "\n",
       "          \n",
       "               female       male\n",
       "  died     0.03260870 0.63114754\n",
       "  survived 0.96739130 0.36885246\n",
       "\n",
       ", ,  = class2\n",
       "\n",
       "          \n",
       "               female       male\n",
       "  died     0.07894737 0.84259259\n",
       "  survived 0.92105263 0.15740741\n",
       "\n",
       ", ,  = class3\n",
       "\n",
       "          \n",
       "               female       male\n",
       "  died     0.50000000 0.86455331\n",
       "  survived 0.50000000 0.13544669\n"
      ]
     },
     "execution_count": 22,
     "metadata": {},
     "output_type": "execute_result"
    }
   ],
   "source": [
    "prop.table(surv_sex_class, margin= c(2,3) )"
   ]
  },
  {
   "cell_type": "markdown",
   "metadata": {},
   "source": [
    "Here we see something quite interesting: over 90% of women in first class and second class survived, but only 50% of women in third class survived. Men in first class also survived at a greater rate than men in lower classes. Passenger class seems to have a significant impact on survival, so it would likely be useful to include as a feature in a predictive model."
   ]
  },
  {
   "cell_type": "markdown",
   "metadata": {},
   "source": [
    "### Wrap Up"
   ]
  },
  {
   "cell_type": "markdown",
   "metadata": {},
   "source": [
    "Frequency tables are a simple yet effective tool for exploring relationships bewteen variables that take on few unique values. Tables do, however, require you to inspect numerical values and proportions closely and it is not always easy to quickly convey insights drawn from tables to others. Creating plots is a way to visually investigate data, which takes advantage of our innate ability to process and detect patterns in images."
   ]
  },
  {
   "cell_type": "markdown",
   "metadata": {},
   "source": [
    "### Next Time: Introduction to R Part 19: Base R Plotting"
   ]
  }
 ],
 "metadata": {
  "kernelspec": {
   "display_name": "R",
   "language": "R",
   "name": "ir"
  },
  "language_info": {
   "codemirror_mode": "r",
   "file_extension": ".r",
   "mimetype": "text/x-r-source",
   "name": "R",
   "pygments_lexer": "r",
   "version": "3.1.3"
  }
 },
 "nbformat": 4,
 "nbformat_minor": 0
}
