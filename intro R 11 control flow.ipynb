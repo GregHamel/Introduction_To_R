{
 "cells": [
  {
   "cell_type": "markdown",
   "metadata": {},
   "source": [
    "# Introduction to R Part 11: Control Flow"
   ]
  },
  {
   "cell_type": "markdown",
   "metadata": {},
   "source": [
    "You can go a long way in R without doing things that are typically associated with computer programming like writing your own loops and functions. In fact, it is quite possible to conduct data analysis and predictive modeling tasks using the tools built into R and its packages without writing your own code. That said, it is useful to learn a few basic programming constructs, even if you mainly want to use R as a tool for calculation and analysis.\n",
    "\n",
    "When you execute code, R exectues statements in the order in which they appear. Programming languages like R let you change the order in which code executes, which allows to skip certain statements or run certain statements over and over again. Programming constructs that let you alter the order in which code executes are known as control flow statements."
   ]
  },
  {
   "cell_type": "markdown",
   "metadata": {},
   "source": [
    "### If, Else and Else If"
   ]
  },
  {
   "cell_type": "markdown",
   "metadata": {},
   "source": [
    "The most basic control flow statement in programming is the if statement. An if statement checks if some logical expression is true or false and executes a specified block of code if the logical expression is true.\n",
    "\n",
    "In R, an if statement starts with if, followed by a logical expression in parentheses, followed by the code to execute when the if statement is true in curly braces:"
   ]
  },
  {
   "cell_type": "code",
   "execution_count": 1,
   "metadata": {
    "collapsed": false
   },
   "outputs": [
    {
     "name": "stdout",
     "output_type": "stream",
     "text": [
      "[1] 10\n"
     ]
    }
   ],
   "source": [
    "x <- 10                #assign some variables\n",
    "y <- 5\n",
    "\n",
    "if                     #the keyword \"if\" starts an if statement\n",
    "(x > y)                #a logical expression follows the \"if\" \n",
    "{print (x)}            #code to execute is wrapped in curly braces \"{}\""
   ]
  },
  {
   "cell_type": "markdown",
   "metadata": {},
   "source": [
    "In this case the logical expression was true-- x was greater than y --so the print(x) statement was executed. \n",
    "\n",
    "The code above breaks the if statement out across 3 lines for descriptive purposes, but in practice it is considered good style to put the if, the logical expression and the opening curly brace on the same line, the code to execute on the following lines and then the final closing brace on its own line:"
   ]
  },
  {
   "cell_type": "code",
   "execution_count": 2,
   "metadata": {
    "collapsed": false
   },
   "outputs": [
    {
     "name": "stdout",
     "output_type": "stream",
     "text": [
      "[1] 10\n"
     ]
    }
   ],
   "source": [
    "if (x > y) {            #this is standard R style for if statements\n",
    "    print(x)\n",
    "}"
   ]
  },
  {
   "cell_type": "markdown",
   "metadata": {},
   "source": [
    "If statements are often accompanied by else statements. Else statements come after if statements and allow you to execute code in the event that the logical expression of an if statement is false:"
   ]
  },
  {
   "cell_type": "code",
   "execution_count": 3,
   "metadata": {
    "collapsed": false
   },
   "outputs": [
    {
     "name": "stdout",
     "output_type": "stream",
     "text": [
      "[1] 25\n"
     ]
    }
   ],
   "source": [
    "y <- 25              #reassign variable y to make it larger than x\n",
    "\n",
    "if (x > y) {           #The original if statement\n",
    "    print(x)\n",
    "} else {               #with a new else statement added\n",
    "    print(y)\n",
    "}"
   ]
  },
  {
   "cell_type": "markdown",
   "metadata": {},
   "source": [
    "In this case, (x > y) evaluates to false so the code in the if block is skipped and the code in the else block is executed instead. \n",
    "\n",
    "You can extend this basic if/else construct to perform multiple logical checks in a row by adding one or more \"else if\" statements bewteen the opening if and the closing else. Each else if statement performs another logical check and executes its code if the check is true:"
   ]
  },
  {
   "cell_type": "code",
   "execution_count": 4,
   "metadata": {
    "collapsed": false
   },
   "outputs": [
    {
     "name": "stdout",
     "output_type": "stream",
     "text": [
      "[1] \"x and y are equal\"\n"
     ]
    }
   ],
   "source": [
    "y <- 10\n",
    "\n",
    "if (x > y) {                     \n",
    "    print(x)\n",
    "} else if (y == x) {              #a new else if statement that checks equality\n",
    "    print(\"x and y are equal\")\n",
    "} else {                         \n",
    "    print(y)\n",
    "}"
   ]
  },
  {
   "cell_type": "markdown",
   "metadata": {},
   "source": [
    "### For Loops"
   ]
  },
  {
   "cell_type": "markdown",
   "metadata": {},
   "source": [
    "For loops are a programming construct that let you go through each item in a sequence and then perform some operation on each one. For instance, you could use a for loop to go through all the values in a vector an check whether each conforms to some logical expression or to print each value to the console:"
   ]
  },
  {
   "cell_type": "code",
   "execution_count": 5,
   "metadata": {
    "collapsed": false
   },
   "outputs": [
    {
     "name": "stdout",
     "output_type": "stream",
     "text": [
      "[1] 0\n",
      "[1] 10\n",
      "[1] 20\n",
      "[1] 30\n",
      "[1] 40\n",
      "[1] 50\n",
      "[1] 60\n",
      "[1] 70\n",
      "[1] 80\n",
      "[1] 90\n",
      "[1] 100\n"
     ]
    }
   ],
   "source": [
    "my_sequence <- seq(0,100,10)        #Create a numeric vector\n",
    "\n",
    "for (item in my_sequence) {         #create a new for loop over the specified items\n",
    "    print(item)                     #code to execute\n",
    "}                               "
   ]
  },
  {
   "cell_type": "markdown",
   "metadata": {},
   "source": [
    "For loops support a couple of keywords that help control the flow of the loop: next and break. \n",
    "\n",
    "The next keyword causes a for loop to skip to the next iteration of the loop:"
   ]
  },
  {
   "cell_type": "code",
   "execution_count": 6,
   "metadata": {
    "collapsed": false
   },
   "outputs": [
    {
     "name": "stdout",
     "output_type": "stream",
     "text": [
      "[1] 50\n",
      "[1] 60\n",
      "[1] 70\n",
      "[1] 80\n",
      "[1] 90\n",
      "[1] 100\n"
     ]
    }
   ],
   "source": [
    "for (item in my_sequence) {\n",
    "    if (item < 50){                #this if statement skips items less than 50\n",
    "        next\n",
    "    }\n",
    "    print(item)\n",
    "} "
   ]
  },
  {
   "cell_type": "markdown",
   "metadata": {},
   "source": [
    "*Note: In other programming languages, the keyword continue is often used instead of next.\n",
    "\n",
    "The break keybord halts the execution of the loop entirely. Use break to \"break out\" of a loop:"
   ]
  },
  {
   "cell_type": "code",
   "execution_count": 7,
   "metadata": {
    "collapsed": false
   },
   "outputs": [
    {
     "name": "stdout",
     "output_type": "stream",
     "text": [
      "[1] 0\n",
      "[1] 10\n",
      "[1] 20\n",
      "[1] 30\n",
      "[1] 40\n",
      "[1] 50\n"
     ]
    }
   ],
   "source": [
    "for (item in my_sequence) {\n",
    "    if (item > 50){                #break out of the loop if item exceeds 50\n",
    "        break\n",
    "    }\n",
    "    print(item)\n",
    "} "
   ]
  },
  {
   "cell_type": "markdown",
   "metadata": {},
   "source": [
    "In the for loop above, substituting the next keyword for break would actually result in the exact same output but the code would take longer to run because it would still go through each item instead of breaking out of the for loop early. It is best to break out of loops as early as possible to reduce execution time."
   ]
  },
  {
   "cell_type": "markdown",
   "metadata": {},
   "source": [
    "### While Loops"
   ]
  },
  {
   "cell_type": "markdown",
   "metadata": {},
   "source": [
    "While loops are similar to for loops in that they allow you to execute code over and over again. \n",
    "For loops execute thier contents, at most, a number of iterations equal to the length of the sequence you are looping over. While loops, on the other hand, keep executing thier contents as long as certain logical expression you supply remains true:"
   ]
  },
  {
   "cell_type": "code",
   "execution_count": 8,
   "metadata": {
    "collapsed": false
   },
   "outputs": [
    {
     "name": "stdout",
     "output_type": "stream",
     "text": [
      "[1] \"Study\"\n",
      "[1] \"Study\"\n",
      "[1] \"Study\"\n",
      "[1] \"Study\"\n",
      "[1] \"Study\"\n"
     ]
    }
   ],
   "source": [
    "x <- 5\n",
    "iters <-0\n",
    "\n",
    "while (iters < x) {        #execute the contents as long as iters < x\n",
    "    print(\"Study\")\n",
    "    iters <- iters+1       #increment iters by 1 each time the loop executes\n",
    "}"
   ]
  },
  {
   "cell_type": "markdown",
   "metadata": {},
   "source": [
    "While loops can get you into trouble because they keep executing until the logical statement provided is false. If you supply a logical statement that will never become false and don't provide a way to break out of the while loop, it will run forever. For instance, if the while loop above didn't include the statement incrementing the value of iters by 1, the logical statement would never become false and the code would run forever. Infinite while loops are a common cause of program crashes.\n",
    "\n",
    "The next and break statements work inside while loops just like they do in for loops. You can use the break statement to escape a while loop even if the logical expression you supplied is true. Consider the following while loop:"
   ]
  },
  {
   "cell_type": "code",
   "execution_count": 9,
   "metadata": {
    "collapsed": false
   },
   "outputs": [
    {
     "name": "stdout",
     "output_type": "stream",
     "text": [
      "[1] \"Study\"\n"
     ]
    }
   ],
   "source": [
    "while (TRUE) {            #this logical expression is always true!\n",
    "    print(\"Study\")\n",
    "    break                 #but we immediealy break out of the loop\n",
    "}"
   ]
  },
  {
   "cell_type": "markdown",
   "metadata": {},
   "source": [
    "It is important to make sure that while loops contain a logical expression that will eventually be false or a break statement that will eventually be executed to avoid infinite loops.\n",
    "\n",
    "Although you can use a while loop to do anything a for loop can do, it is best to use for loops whenever you want to peform an operation on every item of a sequence or to peform an operation a specific number of times. While loops should be reserved for cases where you don't know how many times you need to execute the loop."
   ]
  },
  {
   "cell_type": "markdown",
   "metadata": {},
   "source": [
    "### The ifelse() Function"
   ]
  },
  {
   "cell_type": "markdown",
   "metadata": {},
   "source": [
    "Although it is important to be able to create your own if/else statments and loops when you need to, R's vectorized nature means you can often avoid using such programming constructs. Whenever you want to peform the same operation to each object in a vector or other R data stucture, there's often a way to do it in an efficinet vectorized fashion without writing your own loops.\n",
    "\n",
    "For example, imagine you have a vector of numbers and you want to set all the negative values in the vector to zero. One way to do it is to use a for loop with an inner if statement:"
   ]
  },
  {
   "cell_type": "code",
   "execution_count": 10,
   "metadata": {
    "collapsed": false
   },
   "outputs": [
    {
     "name": "stdout",
     "output_type": "stream",
     "text": [
      " [1] 0.16837792 0.00000000 0.00000000 0.02142267 0.00000000 0.85396807\n",
      " [7] 0.04264368 0.95510197 0.57194709 0.00000000 0.00000000 0.00000000\n",
      "[13] 0.34868366 0.00000000 0.00000000 0.00000000 0.53685317 0.75465105\n",
      "[19] 0.47719953 0.00000000 0.00000000 0.16156641 0.29600487 0.24195292\n",
      "[25] 0.19220829\n"
     ]
    }
   ],
   "source": [
    "my_vect <- runif(25, -1, 1)            #Generate some random data bewteen -1 and 1\n",
    "\n",
    "for (index in 1:length(my_vect) ) {    #loop through the sequence 1:25\n",
    "    number <- my_vect[index]           #look up the number at the corresponding index \n",
    "    if (number < 0) {                  #check if the number is less than 0\n",
    "        my_vect[index] <- 0            #if so, set the vector's value at that index to 0\n",
    "    }\n",
    "}\n",
    "\n",
    "print (my_vect)"
   ]
  },
  {
   "cell_type": "markdown",
   "metadata": {},
   "source": [
    "Using a for loop requires writing quite a bit of code and loops in R are not particularly fast.\n",
    "\n",
    "Instead we could have used R's ifelse() function to the same thing more efficiently in a vectorized manner. ifelse() takes a logical test as the first argument, a value to return if the test is true as the second argument and a value to return if the test is false as the third argument:"
   ]
  },
  {
   "cell_type": "code",
   "execution_count": 11,
   "metadata": {
    "collapsed": false
   },
   "outputs": [
    {
     "name": "stdout",
     "output_type": "stream",
     "text": [
      " [1] 0.0000000 0.5665029 0.6905469 0.0000000 0.9513379 0.0000000 0.0000000\n",
      " [8] 0.0000000 0.0000000 0.8481442 0.0000000 0.0000000 0.8600330 0.0000000\n",
      "[15] 0.5336112 0.3344582 0.9317987 0.0000000 0.6134997 0.5033124 0.5396886\n",
      "[22] 0.0000000 0.2308890 0.0000000 0.0000000\n"
     ]
    }
   ],
   "source": [
    "my_vect <- runif(25, -1, 1)            #Generate new random data bewteen -1 and 1\n",
    "\n",
    "my_vect <-   ifelse((my_vect < 0),     #a logical test\n",
    "             0,                        #value to set if the test is true\n",
    "             my_vect)                  #value to set if the test is false\n",
    "\n",
    "print (my_vect)"
   ]
  },
  {
   "cell_type": "markdown",
   "metadata": {},
   "source": [
    "Since ifelse() is a vectorized function it provides a quicky way to to apply a logical test to all values in a vector, change certain values based on the test outcome and keep other values the same.\n",
    "\n",
    "Although R and its pacakges provide many common functions, you may need to write your own custom functions from time to time."
   ]
  },
  {
   "cell_type": "markdown",
   "metadata": {},
   "source": [
    "### Next Time: Introduction to R Part 12: Functions"
   ]
  }
 ],
 "metadata": {
  "kernelspec": {
   "display_name": "R",
   "language": "R",
   "name": "ir"
  },
  "language_info": {
   "codemirror_mode": "r",
   "file_extension": ".r",
   "mimetype": "text/x-r-source",
   "name": "R",
   "pygments_lexer": "r",
   "version": "3.1.3"
  }
 },
 "nbformat": 4,
 "nbformat_minor": 0
}
