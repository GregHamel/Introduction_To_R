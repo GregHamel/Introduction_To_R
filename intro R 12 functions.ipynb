{
 "cells": [
  {
   "cell_type": "markdown",
   "metadata": {},
   "source": [
    "# Introduction to R Part 12: Functions"
   ]
  },
  {
   "cell_type": "markdown",
   "metadata": {},
   "source": [
    "In R, a function is an object that accepts input, runs some code on the input and typically returns some output based on the supplied input. We've already seen many functions that are built into R and its pacakges. Built-in functions and packages can take you a long way in R, but it can be useful to define your own functions to perform specific tasks outside the scope of built-in functions."
   ]
  },
  {
   "cell_type": "markdown",
   "metadata": {},
   "source": [
    "### Creating Functions"
   ]
  },
  {
   "cell_type": "markdown",
   "metadata": {},
   "source": [
    "Create a new function in R using the following syntax:"
   ]
  },
  {
   "cell_type": "code",
   "execution_count": 1,
   "metadata": {
    "collapsed": false
   },
   "outputs": [],
   "source": [
    "new_function <- function(arguments) {    #assign the function a name and declare arguments\n",
    "    \n",
    "    for (x in 1:arguments){              #body of the function (code to execute)\n",
    "    print (\"Study\")                      \n",
    "    }  \n",
    "}                                        "
   ]
  },
  {
   "cell_type": "markdown",
   "metadata": {},
   "source": [
    "After defining a function and assigning it a name, you can call the function using that name just like you would use a built-in function:"
   ]
  },
  {
   "cell_type": "code",
   "execution_count": 2,
   "metadata": {
    "collapsed": false
   },
   "outputs": [
    {
     "name": "stdout",
     "output_type": "stream",
     "text": [
      "[1] \"Study\"\n",
      "[1] \"Study\"\n",
      "[1] \"Study\"\n",
      "[1] \"Study\"\n",
      "[1] \"Study\"\n"
     ]
    }
   ],
   "source": [
    "new_function(5)                     #run the function defined above on the input 5"
   ]
  },
  {
   "cell_type": "markdown",
   "metadata": {},
   "source": [
    "This particular function does not return anything: it simply prints values to the console.\n",
    "\n",
    "Functions in R return the last expression evaluated by default:"
   ]
  },
  {
   "cell_type": "code",
   "execution_count": 3,
   "metadata": {
    "collapsed": false
   },
   "outputs": [
    {
     "data": {
      "text/html": [
       "15"
      ],
      "text/latex": [
       "15"
      ],
      "text/markdown": [
       "15"
      ],
      "text/plain": [
       "[1] 15"
      ]
     },
     "execution_count": 3,
     "metadata": {},
     "output_type": "execute_result"
    }
   ],
   "source": [
    "add_10 <- function(number){  \n",
    "    \n",
    "    number + 10                         #this function returns the argument + 10\n",
    "}\n",
    "\n",
    "add_10(5)"
   ]
  },
  {
   "cell_type": "markdown",
   "metadata": {},
   "source": [
    "You can also use return() to explicity break out of a function and return the specififed value:"
   ]
  },
  {
   "cell_type": "code",
   "execution_count": 4,
   "metadata": {
    "collapsed": false
   },
   "outputs": [
    {
     "data": {
      "text/html": [
       "25"
      ],
      "text/latex": [
       "25"
      ],
      "text/markdown": [
       "25"
      ],
      "text/plain": [
       "[1] 25"
      ]
     },
     "execution_count": 4,
     "metadata": {},
     "output_type": "execute_result"
    }
   ],
   "source": [
    "add_20 <- function(number){           \n",
    "    \n",
    "    return (number + 20)       # return() causes a function to exit and return a specified value\n",
    "    \n",
    "    number + 10                # the function exits before this line of code is executed\n",
    "}\n",
    "\n",
    "add_20(5)"
   ]
  },
  {
   "cell_type": "markdown",
   "metadata": {},
   "source": [
    "Any time you want to break out of a function early and return a value, you need to use return(). You can use return() even when returning the last evaluated expression, but it is not necessary since the last evaluated expression will be returned by default:"
   ]
  },
  {
   "cell_type": "code",
   "execution_count": 5,
   "metadata": {
    "collapsed": true
   },
   "outputs": [],
   "source": [
    "# These two functions are essentailly identical:\n",
    "\n",
    "add_10 <- function(number){  \n",
    "    number + 10                     \n",
    "}\n",
    "\n",
    "add_10_version2 <- function(number){  \n",
    "    return(number + 10)                         \n",
    "}"
   ]
  },
  {
   "cell_type": "markdown",
   "metadata": {},
   "source": [
    "Whether to explicity use return() in cases like this where it is not stricty necessary is largely a matter of personal preference. In complicated functions, explicit use of return() may make code easier to understand. In short functions like the one above, return may just make code look more cluttered."
   ]
  },
  {
   "cell_type": "markdown",
   "metadata": {},
   "source": [
    "### Function Arguments"
   ]
  },
  {
   "cell_type": "markdown",
   "metadata": {},
   "source": [
    "A function can have one or more named arguments. You can assign a default value to an argument when creating a function with the argument_name = argument_value syntax:"
   ]
  },
  {
   "cell_type": "code",
   "execution_count": 6,
   "metadata": {
    "collapsed": false
   },
   "outputs": [
    {
     "name": "stdout",
     "output_type": "stream",
     "text": [
      "[1] 1\n",
      "[1] 2\n",
      "[1] 3\n"
     ]
    }
   ],
   "source": [
    "sum_3_items <- function(x,y,z,                   #define a function with 3 named arguments\n",
    "                        print_args = TRUE){      #and 1 extra argument with a default value\n",
    "    \n",
    "    if (print_args){                     \n",
    "        print (x)\n",
    "        print (y)\n",
    "        print (z)\n",
    "    }\n",
    "    \n",
    "    return(x+y+z)\n",
    "}\n",
    "\n",
    "sum1 <- sum_3_items(1,2,3)            #the arguments are printed because print_args is TRUE\n",
    "\n",
    "sum2 <- sum_3_items(10,20,30, print_args = FALSE)  #changing the default value suppresses printing"
   ]
  },
  {
   "cell_type": "markdown",
   "metadata": {},
   "source": [
    "When you call a function, the arguments you supply are matched based on the order in which you supply them unless you specify the name of an argument explicity. For instance, in the code above, the arguments 1,2 and 3 passed to sum_3_items() are assigned to x, y and z, respecitvely. Alternatively, we could have explictly assigned the arguments when calling the function:"
   ]
  },
  {
   "cell_type": "code",
   "execution_count": 7,
   "metadata": {
    "collapsed": false
   },
   "outputs": [
    {
     "name": "stdout",
     "output_type": "stream",
     "text": [
      "[1] 3\n",
      "[1] 2\n",
      "[1] 1\n"
     ]
    }
   ],
   "source": [
    "sum1 <-  sum_3_items(z=1, y=2, x=3)  "
   ]
  },
  {
   "cell_type": "markdown",
   "metadata": {},
   "source": [
    "When you explicity assign values to arguments by name, the order you pass the arguments to the function doesn't matter. You can also assign some variables using ordered matching and some explicitly. Explicilty assiging a varaible removes it from the normal argument order."
   ]
  },
  {
   "cell_type": "code",
   "execution_count": 8,
   "metadata": {
    "collapsed": false
   },
   "outputs": [
    {
     "name": "stdout",
     "output_type": "stream",
     "text": [
      "[1] 3\n",
      "[1] 2\n",
      "[1] 1\n"
     ]
    }
   ],
   "source": [
    "#y is explicitly assigned so 3 and 1 are assigned to the remaining arguments x and z\n",
    "sum1 <-  sum_3_items(3, 1, y=2) "
   ]
  },
  {
   "cell_type": "raw",
   "metadata": {},
   "source": [
    "R also provides a special ellipsis (...) argument. The ... argument collects all extra arguments passed to a function that are not matched. The ... argument can be used in functions where the number of arguments is not known in advance. For intance, we could use ... to add any number of numerical arguments together:"
   ]
  },
  {
   "cell_type": "code",
   "execution_count": 9,
   "metadata": {
    "collapsed": false
   },
   "outputs": [
    {
     "data": {
      "text/html": [
       "56"
      ],
      "text/latex": [
       "56"
      ],
      "text/markdown": [
       "56"
      ],
      "text/plain": [
       "[1] 56"
      ]
     },
     "execution_count": 9,
     "metadata": {},
     "output_type": "execute_result"
    }
   ],
   "source": [
    "addition_function <- function(...){          #accept any number of arguments\n",
    "    \n",
    "    total <- 0                   #create a variable to store the sum\n",
    "    \n",
    "    for (value in list(...)){    #list(...) extracts the arguments to a list that we can loop over\n",
    "        total <- total+value     #add each argument in ... to the total\n",
    "    }\n",
    "    \n",
    "    total\n",
    "}\n",
    "\n",
    "addition_function(2,4,6,8,10,12,14)    #add several numbers"
   ]
  },
  {
   "cell_type": "markdown",
   "metadata": {},
   "source": [
    "We've already encouterd several functions that use ... such as c() which combines any number of arguments into a single vector.  ... can also be used to pass arguments from one function to another, offering an easy way to extend existing functions:"
   ]
  },
  {
   "cell_type": "code",
   "execution_count": 10,
   "metadata": {
    "collapsed": false
   },
   "outputs": [
    {
     "name": "stdout",
     "output_type": "stream",
     "text": [
      "[1] 4\n",
      "[1] 1 3 4 5\n"
     ]
    }
   ],
   "source": [
    "# This function is the same as c() but it also prints the number of arguments you supply\n",
    "\n",
    "extend_c <- function(...) {      \n",
    "  print(length(list(...)))       #print the number of arguments\n",
    "  c(...)                         #pass the arguments to c() and return the result\n",
    "}\n",
    "\n",
    "my_vector <- extend_c(1,3,4,5)\n",
    "\n",
    "print(my_vector)"
   ]
  },
  {
   "cell_type": "markdown",
   "metadata": {},
   "source": [
    "### Function Documentation"
   ]
  },
  {
   "cell_type": "markdown",
   "metadata": {},
   "source": [
    "When writing a function that you or someone else is going to use in the future it can be useful to supply some documentation that explains how the function works. Documentation can be added to a function by inserting a few lines of comments immedietly below the function's assignment statement. Documentation typically includes a short description of the function, a summary of the function's arguments and a description of the function's return value:"
   ]
  },
  {
   "cell_type": "code",
   "execution_count": 11,
   "metadata": {
    "collapsed": false
   },
   "outputs": [],
   "source": [
    "root_mean_squared_error <- function(predicted, targets){  \n",
    "    # Computes root mean squared error bewteen two vectors\n",
    "    #\n",
    "    # Args:\n",
    "    #    predicted: a numeric vector of predictions\n",
    "    #    targets: a numeric vector of target values for each prediction\n",
    "    #\n",
    "    # Returns:\n",
    "    #    The root mean squared error bewteen predicted values and targets\n",
    "    \n",
    "    sqrt((mean(targets-predicted)^2))                 \n",
    "}"
   ]
  },
  {
   "cell_type": "markdown",
   "metadata": {},
   "source": [
    "*Note: root mean squared error (rmse) is a common evaluation metric in predictive modeling.\n",
    "\n",
    "Documentation should provide enough information that the user doesn't have to read the code in the body of the function to use the function. \n",
    "\n",
    "There are many other intricies of functions that we haven't discussed here, but the basics described in this lesson are sufficient for our purposes. \n",
    "\n",
    "Now that we have learned some basic programming constructs we are ready to start exploring data."
   ]
  },
  {
   "cell_type": "markdown",
   "metadata": {},
   "source": [
    "### Next Time: Introduction to R Part 13: Initial Data Exploration"
   ]
  }
 ],
 "metadata": {
  "kernelspec": {
   "display_name": "R",
   "language": "R",
   "name": "ir"
  },
  "language_info": {
   "codemirror_mode": "r",
   "file_extension": ".r",
   "mimetype": "text/x-r-source",
   "name": "R",
   "pygments_lexer": "r",
   "version": "3.1.3"
  }
 },
 "nbformat": 4,
 "nbformat_minor": 0
}
