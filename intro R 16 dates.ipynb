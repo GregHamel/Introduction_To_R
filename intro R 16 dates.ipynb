{
 "cells": [
  {
   "cell_type": "markdown",
   "metadata": {},
   "source": [
    "# Introduction to R Part 16: Dealing With Dates"
   ]
  },
  {
   "cell_type": "markdown",
   "metadata": {},
   "source": [
    "In the last two lessons we learned a variety of methods to prepare character and text data, but many data sets also contain dates that don't fit nicely into either category. Common date formats contain numbers and sometimes characters as well to specify months and days. Getting dates into a friendly format and extracting features of dates like month and year into new varaibles can be useful preprocessing steps.\n",
    "\n",
    "For this lesson I've created some dummy date data in a few different formats. To read the data, copy the table of dates below and then use read.csv(\"clipboard\", sep=\"\\t\", stringsAsFactors=FALSE)"
   ]
  },
  {
   "cell_type": "code",
   "execution_count": 1,
   "metadata": {
    "collapsed": false
   },
   "outputs": [],
   "source": [
    "dates <- read.csv(\"clipboard\", sep=\"\\t\", stringsAsFactors=FALSE)   # Load dates"
   ]
  },
  {
   "cell_type": "code",
   "execution_count": 2,
   "metadata": {
    "collapsed": false
   },
   "outputs": [
    {
     "data": {
      "text/html": [
       "<table>\n",
       "<thead><tr><th></th><th scope=col>month_day_year</th><th scope=col>day_month_year</th><th scope=col>date_time</th><th scope=col>year_month_day</th></tr></thead>\n",
       "<tbody>\n",
       "\t<tr><th scope=row>1</th><td>4/22/1996</td><td>22-Apr-96</td><td>Tue Aug 11 09:50:35 1996</td><td>2007-06-22</td></tr>\n",
       "\t<tr><th scope=row>2</th><td>4/23/1996</td><td>23-Apr-96</td><td>Tue May 12 19:50:35 2016</td><td>2017-01-09</td></tr>\n",
       "\t<tr><th scope=row>3</th><td>5/14/1996</td><td>14-May-96</td><td>Mon Oct 14 09:50:35 2017</td><td>1998-04-12</td></tr>\n",
       "\t<tr><th scope=row>4</th><td>5/15/1996</td><td>15-May-96</td><td>Tue Jan 11 09:50:35 2018</td><td>2027-07-22</td></tr>\n",
       "\t<tr><th scope=row>5</th><td>5/16/2001</td><td>16-May-01</td><td>Fri Mar 11 07:30:36 2019</td><td>1945-11-15</td></tr>\n",
       "\t<tr><th scope=row>6</th><td>5/17/2002</td><td>17-May-02</td><td>Tue Aug 11 09:50:35 2020</td><td>1942-06-22</td></tr>\n",
       "\t<tr><th scope=row>7</th><td>5/18/2003</td><td>18-May-03</td><td>Wed Dec 21 09:50:35 2021</td><td>1887-06-13</td></tr>\n",
       "\t<tr><th scope=row>8</th><td>5/19/2004</td><td>19-May-04</td><td>Tue Jan 11 09:50:35 2022</td><td>1912-01-25</td></tr>\n",
       "\t<tr><th scope=row>9</th><td>5/20/2005</td><td>20-May-05</td><td>Sun Jul 10 19:40:25 2023</td><td>2007-06-22</td></tr>\n",
       "</tbody>\n",
       "</table>\n"
      ],
      "text/latex": [
       "\\begin{tabular}{r|llll}\n",
       "  & month_day_year & day_month_year & date_time & year_month_day\\\\\n",
       "\\hline\n",
       "\t1 & 4/22/1996 & 22-Apr-96 & Tue Aug 11 09:50:35 1996 & 2007-06-22\\\\\n",
       "\t2 & 4/23/1996 & 23-Apr-96 & Tue May 12 19:50:35 2016 & 2017-01-09\\\\\n",
       "\t3 & 5/14/1996 & 14-May-96 & Mon Oct 14 09:50:35 2017 & 1998-04-12\\\\\n",
       "\t4 & 5/15/1996 & 15-May-96 & Tue Jan 11 09:50:35 2018 & 2027-07-22\\\\\n",
       "\t5 & 5/16/2001 & 16-May-01 & Fri Mar 11 07:30:36 2019 & 1945-11-15\\\\\n",
       "\t6 & 5/17/2002 & 17-May-02 & Tue Aug 11 09:50:35 2020 & 1942-06-22\\\\\n",
       "\t7 & 5/18/2003 & 18-May-03 & Wed Dec 21 09:50:35 2021 & 1887-06-13\\\\\n",
       "\t8 & 5/19/2004 & 19-May-04 & Tue Jan 11 09:50:35 2022 & 1912-01-25\\\\\n",
       "\t9 & 5/20/2005 & 20-May-05 & Sun Jul 10 19:40:25 2023 & 2007-06-22\\\\\n",
       "\\end{tabular}\n"
      ],
      "text/plain": [
       "  month_day_year day_month_year                date_time year_month_day\n",
       "1      4/22/1996      22-Apr-96 Tue Aug 11 09:50:35 1996     2007-06-22\n",
       "2      4/23/1996      23-Apr-96 Tue May 12 19:50:35 2016     2017-01-09\n",
       "3      5/14/1996      14-May-96 Mon Oct 14 09:50:35 2017     1998-04-12\n",
       "4      5/15/1996      15-May-96 Tue Jan 11 09:50:35 2018     2027-07-22\n",
       "5      5/16/2001      16-May-01 Fri Mar 11 07:30:36 2019     1945-11-15\n",
       "6      5/17/2002      17-May-02 Tue Aug 11 09:50:35 2020     1942-06-22\n",
       "7      5/18/2003      18-May-03 Wed Dec 21 09:50:35 2021     1887-06-13\n",
       "8      5/19/2004      19-May-04 Tue Jan 11 09:50:35 2022     1912-01-25\n",
       "9      5/20/2005      20-May-05 Sun Jul 10 19:40:25 2023     2007-06-22"
      ]
     },
     "execution_count": 2,
     "metadata": {},
     "output_type": "execute_result"
    }
   ],
   "source": [
    "dates                                     # check dates"
   ]
  },
  {
   "cell_type": "markdown",
   "metadata": {},
   "source": [
    "*Note: Your date data will contain an extra variable called \"X\" for the copied row names. Remove it with dates$X <- NULL"
   ]
  },
  {
   "cell_type": "markdown",
   "metadata": {},
   "source": [
    "When you load data with date columns into R, is typically stored as a character vector:"
   ]
  },
  {
   "cell_type": "code",
   "execution_count": 3,
   "metadata": {
    "collapsed": false
   },
   "outputs": [
    {
     "data": {
      "text/html": [
       "\"4/22/1996\""
      ],
      "text/latex": [
       "\"4/22/1996\""
      ],
      "text/markdown": [
       "\"4/22/1996\""
      ],
      "text/plain": [
       "[1] \"4/22/1996\""
      ]
     },
     "execution_count": 3,
     "metadata": {},
     "output_type": "execute_result"
    },
    {
     "data": {
      "text/html": [
       "\"character\""
      ],
      "text/latex": [
       "\"character\""
      ],
      "text/markdown": [
       "\"character\""
      ],
      "text/plain": [
       "[1] \"character\""
      ]
     },
     "execution_count": 3,
     "metadata": {},
     "output_type": "execute_result"
    }
   ],
   "source": [
    "dates[1,1]\n",
    "\n",
    "typeof(dates[1,1])"
   ]
  },
  {
   "cell_type": "markdown",
   "metadata": {},
   "source": [
    "To work with dates in R, you need to convert them from character format to a date format. R contains a built in function as.Date() that converts strings to dates:"
   ]
  },
  {
   "cell_type": "code",
   "execution_count": 4,
   "metadata": {
    "collapsed": false
   },
   "outputs": [
    {
     "data": {
      "text/plain": [
       "[1] \"2019-04-22\" \"2019-04-23\" \"2019-05-14\" \"2019-05-15\" \"2020-05-16\"\n",
       "[6] \"2020-05-17\" \"2020-05-18\" \"2020-05-19\" \"2020-05-20\""
      ]
     },
     "execution_count": 4,
     "metadata": {},
     "output_type": "execute_result"
    },
    {
     "data": {
      "text/html": [
       "\"double\""
      ],
      "text/latex": [
       "\"double\""
      ],
      "text/markdown": [
       "\"double\""
      ],
      "text/plain": [
       "[1] \"double\""
      ]
     },
     "execution_count": 4,
     "metadata": {},
     "output_type": "execute_result"
    }
   ],
   "source": [
    "first_col <- as.Date(dates$month_day_year,  # Character vector to convert\n",
    "             format= \"%m/%d/%y\")            # Format of the dates to convert\n",
    "\n",
    "first_col                                   # Check the new dates\n",
    "\n",
    "typeof(first_col)                           # Check their type"
   ]
  },
  {
   "cell_type": "markdown",
   "metadata": {},
   "source": [
    "When you use as.Date() you have to provide the format of the dates in the character data you are trying to convert. In the example above, the dates were in the month, day, year format with each number separated by a slash, so we had to provide the format string \"%m/%d/%y\". The default format for as.Date() is year, month, day separatead by slashes or hyphens. The final column in our data set is in the default format, so we could convert it without supplying a custom format:"
   ]
  },
  {
   "cell_type": "code",
   "execution_count": 5,
   "metadata": {
    "collapsed": false
   },
   "outputs": [
    {
     "data": {
      "text/plain": [
       "[1] \"2007-06-22\" \"2017-01-09\" \"1998-04-12\" \"2027-07-22\" \"1945-11-15\"\n",
       "[6] \"1942-06-22\" \"1887-06-13\" \"1912-01-25\" \"2007-06-22\""
      ]
     },
     "execution_count": 5,
     "metadata": {},
     "output_type": "execute_result"
    },
    {
     "data": {
      "text/html": [
       "\"double\""
      ],
      "text/latex": [
       "\"double\""
      ],
      "text/markdown": [
       "\"double\""
      ],
      "text/plain": [
       "[1] \"double\""
      ]
     },
     "execution_count": 5,
     "metadata": {},
     "output_type": "execute_result"
    }
   ],
   "source": [
    "forth_col <- as.Date(dates$year_month_day)\n",
    "\n",
    "forth_col\n",
    "\n",
    "typeof(first_col)"
   ]
  },
  {
   "cell_type": "markdown",
   "metadata": {},
   "source": [
    "The following is a list of date formatting codes:"
   ]
  },
  {
   "cell_type": "code",
   "execution_count": 6,
   "metadata": {
    "collapsed": false
   },
   "outputs": [],
   "source": [
    "# %d -> Day\n",
    "# %m -> Numeric Month \n",
    "# %b -> Abbreviated Month\n",
    "# %B -> Full Month\n",
    "# %y -> 2-digit year\n",
    "# %Y -> 4-digit year"
   ]
  },
  {
   "cell_type": "markdown",
   "metadata": {},
   "source": [
    "The dates we've printed to the screen might still look like character strings, but internally they are stored as numbers. (Note that the type has changed to \"double\".). R stores dates internally as the number of days since the first day of 1970, with dates before 1970 being stored as negative numbers. You can check the underlying numeric representation of a date with as.numeric():"
   ]
  },
  {
   "cell_type": "code",
   "execution_count": 7,
   "metadata": {
    "collapsed": false
   },
   "outputs": [
    {
     "data": {
      "text/html": [
       "<ol class=list-inline>\n",
       "\t<li>13686</li>\n",
       "\t<li>17175</li>\n",
       "\t<li>10328</li>\n",
       "\t<li>21021</li>\n",
       "\t<li>-8813</li>\n",
       "\t<li>-10055</li>\n",
       "\t<li>-30152</li>\n",
       "\t<li>-21161</li>\n",
       "\t<li>13686</li>\n",
       "</ol>\n"
      ],
      "text/latex": [
       "\\begin{enumerate*}\n",
       "\\item 13686\n",
       "\\item 17175\n",
       "\\item 10328\n",
       "\\item 21021\n",
       "\\item -8813\n",
       "\\item -10055\n",
       "\\item -30152\n",
       "\\item -21161\n",
       "\\item 13686\n",
       "\\end{enumerate*}\n"
      ],
      "text/markdown": [
       "1. 13686\n",
       "2. 17175\n",
       "3. 10328\n",
       "4. 21021\n",
       "5. -8813\n",
       "6. -10055\n",
       "7. -30152\n",
       "8. -21161\n",
       "9. 13686\n",
       "\n",
       "\n"
      ],
      "text/plain": [
       "[1]  13686  17175  10328  21021  -8813 -10055 -30152 -21161  13686"
      ]
     },
     "execution_count": 7,
     "metadata": {},
     "output_type": "execute_result"
    }
   ],
   "source": [
    "as.numeric(forth_col)"
   ]
  },
  {
   "cell_type": "markdown",
   "metadata": {},
   "source": [
    "Date objects let you perform subtraction to check how many days passed between two dates:"
   ]
  },
  {
   "cell_type": "code",
   "execution_count": 8,
   "metadata": {
    "collapsed": false
   },
   "outputs": [
    {
     "data": {
      "text/plain": [
       "Time difference of 3489 days"
      ]
     },
     "execution_count": 8,
     "metadata": {},
     "output_type": "execute_result"
    }
   ],
   "source": [
    "forth_col[2]-forth_col[1]"
   ]
  },
  {
   "cell_type": "markdown",
   "metadata": {},
   "source": [
    "You can also extract the day of the week and month with weekdays() and months() respectively:"
   ]
  },
  {
   "cell_type": "code",
   "execution_count": 9,
   "metadata": {
    "collapsed": false
   },
   "outputs": [
    {
     "data": {
      "text/html": [
       "<ol class=list-inline>\n",
       "\t<li>\"Friday\"</li>\n",
       "\t<li>\"Monday\"</li>\n",
       "\t<li>\"Sunday\"</li>\n",
       "\t<li>\"Thursday\"</li>\n",
       "\t<li>\"Thursday\"</li>\n",
       "\t<li>\"Monday\"</li>\n",
       "\t<li>\"Monday\"</li>\n",
       "\t<li>\"Thursday\"</li>\n",
       "\t<li>\"Friday\"</li>\n",
       "</ol>\n"
      ],
      "text/latex": [
       "\\begin{enumerate*}\n",
       "\\item \"Friday\"\n",
       "\\item \"Monday\"\n",
       "\\item \"Sunday\"\n",
       "\\item \"Thursday\"\n",
       "\\item \"Thursday\"\n",
       "\\item \"Monday\"\n",
       "\\item \"Monday\"\n",
       "\\item \"Thursday\"\n",
       "\\item \"Friday\"\n",
       "\\end{enumerate*}\n"
      ],
      "text/markdown": [
       "1. \"Friday\"\n",
       "2. \"Monday\"\n",
       "3. \"Sunday\"\n",
       "4. \"Thursday\"\n",
       "5. \"Thursday\"\n",
       "6. \"Monday\"\n",
       "7. \"Monday\"\n",
       "8. \"Thursday\"\n",
       "9. \"Friday\"\n",
       "\n",
       "\n"
      ],
      "text/plain": [
       "[1] \"Friday\"   \"Monday\"   \"Sunday\"   \"Thursday\" \"Thursday\" \"Monday\"   \"Monday\"  \n",
       "[8] \"Thursday\" \"Friday\"  "
      ]
     },
     "execution_count": 9,
     "metadata": {},
     "output_type": "execute_result"
    },
    {
     "data": {
      "text/html": [
       "<ol class=list-inline>\n",
       "\t<li>\"June\"</li>\n",
       "\t<li>\"January\"</li>\n",
       "\t<li>\"April\"</li>\n",
       "\t<li>\"July\"</li>\n",
       "\t<li>\"November\"</li>\n",
       "\t<li>\"June\"</li>\n",
       "\t<li>\"June\"</li>\n",
       "\t<li>\"January\"</li>\n",
       "\t<li>\"June\"</li>\n",
       "</ol>\n"
      ],
      "text/latex": [
       "\\begin{enumerate*}\n",
       "\\item \"June\"\n",
       "\\item \"January\"\n",
       "\\item \"April\"\n",
       "\\item \"July\"\n",
       "\\item \"November\"\n",
       "\\item \"June\"\n",
       "\\item \"June\"\n",
       "\\item \"January\"\n",
       "\\item \"June\"\n",
       "\\end{enumerate*}\n"
      ],
      "text/markdown": [
       "1. \"June\"\n",
       "2. \"January\"\n",
       "3. \"April\"\n",
       "4. \"July\"\n",
       "5. \"November\"\n",
       "6. \"June\"\n",
       "7. \"June\"\n",
       "8. \"January\"\n",
       "9. \"June\"\n",
       "\n",
       "\n"
      ],
      "text/plain": [
       "[1] \"June\"     \"January\"  \"April\"    \"July\"     \"November\" \"June\"     \"June\"    \n",
       "[8] \"January\"  \"June\"    "
      ]
     },
     "execution_count": 9,
     "metadata": {},
     "output_type": "execute_result"
    }
   ],
   "source": [
    "weekdays(forth_col)\n",
    "\n",
    "months(forth_col)"
   ]
  },
  {
   "cell_type": "markdown",
   "metadata": {},
   "source": [
    "You can check the current date using Sys.Date():"
   ]
  },
  {
   "cell_type": "code",
   "execution_count": 10,
   "metadata": {
    "collapsed": false
   },
   "outputs": [
    {
     "data": {
      "text/plain": [
       "[1] \"2015-08-11\""
      ]
     },
     "execution_count": 10,
     "metadata": {},
     "output_type": "execute_result"
    }
   ],
   "source": [
    "Sys.Date()"
   ]
  },
  {
   "cell_type": "markdown",
   "metadata": {},
   "source": [
    "And the current date/time with date():"
   ]
  },
  {
   "cell_type": "code",
   "execution_count": 11,
   "metadata": {
    "collapsed": false
   },
   "outputs": [
    {
     "data": {
      "text/html": [
       "\"Tue Aug 11 14:56:36 2015\""
      ],
      "text/latex": [
       "\"Tue Aug 11 14:56:36 2015\""
      ],
      "text/markdown": [
       "\"Tue Aug 11 14:56:36 2015\""
      ],
      "text/plain": [
       "[1] \"Tue Aug 11 14:56:36 2015\""
      ]
     },
     "execution_count": 11,
     "metadata": {},
     "output_type": "execute_result"
    }
   ],
   "source": [
    "date()"
   ]
  },
  {
   "cell_type": "markdown",
   "metadata": {},
   "source": [
    "### Date-Time Conversion"
   ]
  },
  {
   "cell_type": "markdown",
   "metadata": {},
   "source": [
    "The as.Date() function is a basic tool for dealing with dates, but it does not handle data that includes both dates and times. Date/time data includes the date as well as finer-grained time information like hours, minutes and seconds. R contains a couple of data classes, 'POSIXct' and'POSIXlt' to deal with date/time data. POSIXct encodes a date/time as the number of seconds since the first day of 1970. POSIXlt stores date/time information as a list with items like year, month, day, hour, minute and second. You can convert dates in string format to POSIX date types using as.POSIXct() and as.POSIXlt():"
   ]
  },
  {
   "cell_type": "code",
   "execution_count": 12,
   "metadata": {
    "collapsed": false
   },
   "outputs": [
    {
     "data": {
      "text/plain": [
       "[1] \"1996-08-11 09:50:35 CDT\" \"2016-05-12 19:50:35 CDT\"\n",
       "[3] \"2017-10-14 09:50:35 CDT\" \"2018-01-11 09:50:35 CST\"\n",
       "[5] \"2019-03-11 07:30:36 CDT\" \"2020-08-11 09:50:35 CDT\"\n",
       "[7] \"2021-12-21 09:50:35 CST\" \"2022-01-11 09:50:35 CST\"\n",
       "[9] \"2023-07-10 19:40:25 CDT\""
      ]
     },
     "execution_count": 12,
     "metadata": {},
     "output_type": "execute_result"
    },
    {
     "data": {
      "text/html": [
       "\"double\""
      ],
      "text/latex": [
       "\"double\""
      ],
      "text/markdown": [
       "\"double\""
      ],
      "text/plain": [
       "[1] \"double\""
      ]
     },
     "execution_count": 12,
     "metadata": {},
     "output_type": "execute_result"
    }
   ],
   "source": [
    "third_col_ct <- as.POSIXct(dates$date_time,                 # date/time to convert\n",
    "                          format = \"%a %b %d %H:%M:%S %Y\")  # date/time format\n",
    "\n",
    "third_col_ct                                                # check dates\n",
    "\n",
    "typeof(third_col_ct)                                        # check type"
   ]
  },
  {
   "cell_type": "code",
   "execution_count": 13,
   "metadata": {
    "collapsed": false
   },
   "outputs": [
    {
     "data": {
      "text/plain": [
       "[1] \"1996-08-11 09:50:35 CDT\" \"2016-05-12 19:50:35 CDT\"\n",
       "[3] \"2017-10-14 09:50:35 CDT\" \"2018-01-11 09:50:35 CST\"\n",
       "[5] \"2019-03-11 07:30:36 CDT\" \"2020-08-11 09:50:35 CDT\"\n",
       "[7] \"2021-12-21 09:50:35 CST\" \"2022-01-11 09:50:35 CST\"\n",
       "[9] \"2023-07-10 19:40:25 CDT\""
      ]
     },
     "execution_count": 13,
     "metadata": {},
     "output_type": "execute_result"
    },
    {
     "data": {
      "text/html": [
       "\"list\""
      ],
      "text/latex": [
       "\"list\""
      ],
      "text/markdown": [
       "\"list\""
      ],
      "text/plain": [
       "[1] \"list\""
      ]
     },
     "execution_count": 13,
     "metadata": {},
     "output_type": "execute_result"
    }
   ],
   "source": [
    "third_col_lt <- as.POSIXlt(dates$date_time,                 # date/time to convert\n",
    "                          format = \"%a %b %d %H:%M:%S %Y\")  # date/time format*\n",
    "\n",
    "third_col_lt                                                # check dates\n",
    "\n",
    "typeof(third_col_lt)                                        # check type"
   ]
  },
  {
   "cell_type": "markdown",
   "metadata": {},
   "source": [
    "*Note: check the documents for the strftime function with ?strftime for more information on date/time formatting codes.\n",
    "\n",
    "Both POSIXct and POSIXlt support subtraction to get the amount of time between two dates in days:"
   ]
  },
  {
   "cell_type": "code",
   "execution_count": 14,
   "metadata": {
    "collapsed": false
   },
   "outputs": [
    {
     "data": {
      "text/plain": [
       "Time difference of 7214.417 days"
      ]
     },
     "execution_count": 14,
     "metadata": {},
     "output_type": "execute_result"
    },
    {
     "data": {
      "text/plain": [
       "Time difference of 7214.417 days"
      ]
     },
     "execution_count": 14,
     "metadata": {},
     "output_type": "execute_result"
    }
   ],
   "source": [
    "third_col_ct[2]-third_col_ct[1]\n",
    "\n",
    "third_col_lt[2]-third_col_lt[1]"
   ]
  },
  {
   "cell_type": "markdown",
   "metadata": {},
   "source": [
    "You can extract various features of a date/time encoded as POSIXlt:"
   ]
  },
  {
   "cell_type": "code",
   "execution_count": 15,
   "metadata": {
    "collapsed": false
   },
   "outputs": [
    {
     "data": {
      "text/html": [
       "<ol class=list-inline>\n",
       "\t<li>96</li>\n",
       "\t<li>116</li>\n",
       "\t<li>117</li>\n",
       "\t<li>118</li>\n",
       "\t<li>119</li>\n",
       "\t<li>120</li>\n",
       "\t<li>121</li>\n",
       "\t<li>122</li>\n",
       "\t<li>123</li>\n",
       "</ol>\n"
      ],
      "text/latex": [
       "\\begin{enumerate*}\n",
       "\\item 96\n",
       "\\item 116\n",
       "\\item 117\n",
       "\\item 118\n",
       "\\item 119\n",
       "\\item 120\n",
       "\\item 121\n",
       "\\item 122\n",
       "\\item 123\n",
       "\\end{enumerate*}\n"
      ],
      "text/markdown": [
       "1. 96\n",
       "2. 116\n",
       "3. 117\n",
       "4. 118\n",
       "5. 119\n",
       "6. 120\n",
       "7. 121\n",
       "8. 122\n",
       "9. 123\n",
       "\n",
       "\n"
      ],
      "text/plain": [
       "[1]  96 116 117 118 119 120 121 122 123"
      ]
     },
     "execution_count": 15,
     "metadata": {},
     "output_type": "execute_result"
    },
    {
     "data": {
      "text/html": [
       "<ol class=list-inline>\n",
       "\t<li>7</li>\n",
       "\t<li>4</li>\n",
       "\t<li>9</li>\n",
       "\t<li>0</li>\n",
       "\t<li>2</li>\n",
       "\t<li>7</li>\n",
       "\t<li>11</li>\n",
       "\t<li>0</li>\n",
       "\t<li>6</li>\n",
       "</ol>\n"
      ],
      "text/latex": [
       "\\begin{enumerate*}\n",
       "\\item 7\n",
       "\\item 4\n",
       "\\item 9\n",
       "\\item 0\n",
       "\\item 2\n",
       "\\item 7\n",
       "\\item 11\n",
       "\\item 0\n",
       "\\item 6\n",
       "\\end{enumerate*}\n"
      ],
      "text/markdown": [
       "1. 7\n",
       "2. 4\n",
       "3. 9\n",
       "4. 0\n",
       "5. 2\n",
       "6. 7\n",
       "7. 11\n",
       "8. 0\n",
       "9. 6\n",
       "\n",
       "\n"
      ],
      "text/plain": [
       "[1]  7  4  9  0  2  7 11  0  6"
      ]
     },
     "execution_count": 15,
     "metadata": {},
     "output_type": "execute_result"
    },
    {
     "data": {
      "text/html": [
       "<ol class=list-inline>\n",
       "\t<li>0</li>\n",
       "\t<li>4</li>\n",
       "\t<li>6</li>\n",
       "\t<li>4</li>\n",
       "\t<li>1</li>\n",
       "\t<li>2</li>\n",
       "\t<li>2</li>\n",
       "\t<li>2</li>\n",
       "\t<li>1</li>\n",
       "</ol>\n"
      ],
      "text/latex": [
       "\\begin{enumerate*}\n",
       "\\item 0\n",
       "\\item 4\n",
       "\\item 6\n",
       "\\item 4\n",
       "\\item 1\n",
       "\\item 2\n",
       "\\item 2\n",
       "\\item 2\n",
       "\\item 1\n",
       "\\end{enumerate*}\n"
      ],
      "text/markdown": [
       "1. 0\n",
       "2. 4\n",
       "3. 6\n",
       "4. 4\n",
       "5. 1\n",
       "6. 2\n",
       "7. 2\n",
       "8. 2\n",
       "9. 1\n",
       "\n",
       "\n"
      ],
      "text/plain": [
       "[1] 0 4 6 4 1 2 2 2 1"
      ]
     },
     "execution_count": 15,
     "metadata": {},
     "output_type": "execute_result"
    },
    {
     "data": {
      "text/html": [
       "<ol class=list-inline>\n",
       "\t<li>11</li>\n",
       "\t<li>12</li>\n",
       "\t<li>14</li>\n",
       "\t<li>11</li>\n",
       "\t<li>11</li>\n",
       "\t<li>11</li>\n",
       "\t<li>21</li>\n",
       "\t<li>11</li>\n",
       "\t<li>10</li>\n",
       "</ol>\n"
      ],
      "text/latex": [
       "\\begin{enumerate*}\n",
       "\\item 11\n",
       "\\item 12\n",
       "\\item 14\n",
       "\\item 11\n",
       "\\item 11\n",
       "\\item 11\n",
       "\\item 21\n",
       "\\item 11\n",
       "\\item 10\n",
       "\\end{enumerate*}\n"
      ],
      "text/markdown": [
       "1. 11\n",
       "2. 12\n",
       "3. 14\n",
       "4. 11\n",
       "5. 11\n",
       "6. 11\n",
       "7. 21\n",
       "8. 11\n",
       "9. 10\n",
       "\n",
       "\n"
      ],
      "text/plain": [
       "[1] 11 12 14 11 11 11 21 11 10"
      ]
     },
     "execution_count": 15,
     "metadata": {},
     "output_type": "execute_result"
    },
    {
     "data": {
      "text/html": [
       "<ol class=list-inline>\n",
       "\t<li>223</li>\n",
       "\t<li>132</li>\n",
       "\t<li>286</li>\n",
       "\t<li>10</li>\n",
       "\t<li>69</li>\n",
       "\t<li>223</li>\n",
       "\t<li>354</li>\n",
       "\t<li>10</li>\n",
       "\t<li>190</li>\n",
       "</ol>\n"
      ],
      "text/latex": [
       "\\begin{enumerate*}\n",
       "\\item 223\n",
       "\\item 132\n",
       "\\item 286\n",
       "\\item 10\n",
       "\\item 69\n",
       "\\item 223\n",
       "\\item 354\n",
       "\\item 10\n",
       "\\item 190\n",
       "\\end{enumerate*}\n"
      ],
      "text/markdown": [
       "1. 223\n",
       "2. 132\n",
       "3. 286\n",
       "4. 10\n",
       "5. 69\n",
       "6. 223\n",
       "7. 354\n",
       "8. 10\n",
       "9. 190\n",
       "\n",
       "\n"
      ],
      "text/plain": [
       "[1] 223 132 286  10  69 223 354  10 190"
      ]
     },
     "execution_count": 15,
     "metadata": {},
     "output_type": "execute_result"
    },
    {
     "data": {
      "text/html": [
       "<ol class=list-inline>\n",
       "\t<li>9</li>\n",
       "\t<li>19</li>\n",
       "\t<li>9</li>\n",
       "\t<li>9</li>\n",
       "\t<li>7</li>\n",
       "\t<li>9</li>\n",
       "\t<li>9</li>\n",
       "\t<li>9</li>\n",
       "\t<li>19</li>\n",
       "</ol>\n"
      ],
      "text/latex": [
       "\\begin{enumerate*}\n",
       "\\item 9\n",
       "\\item 19\n",
       "\\item 9\n",
       "\\item 9\n",
       "\\item 7\n",
       "\\item 9\n",
       "\\item 9\n",
       "\\item 9\n",
       "\\item 19\n",
       "\\end{enumerate*}\n"
      ],
      "text/markdown": [
       "1. 9\n",
       "2. 19\n",
       "3. 9\n",
       "4. 9\n",
       "5. 7\n",
       "6. 9\n",
       "7. 9\n",
       "8. 9\n",
       "9. 19\n",
       "\n",
       "\n"
      ],
      "text/plain": [
       "[1]  9 19  9  9  7  9  9  9 19"
      ]
     },
     "execution_count": 15,
     "metadata": {},
     "output_type": "execute_result"
    },
    {
     "data": {
      "text/html": [
       "<ol class=list-inline>\n",
       "\t<li>50</li>\n",
       "\t<li>50</li>\n",
       "\t<li>50</li>\n",
       "\t<li>50</li>\n",
       "\t<li>30</li>\n",
       "\t<li>50</li>\n",
       "\t<li>50</li>\n",
       "\t<li>50</li>\n",
       "\t<li>40</li>\n",
       "</ol>\n"
      ],
      "text/latex": [
       "\\begin{enumerate*}\n",
       "\\item 50\n",
       "\\item 50\n",
       "\\item 50\n",
       "\\item 50\n",
       "\\item 30\n",
       "\\item 50\n",
       "\\item 50\n",
       "\\item 50\n",
       "\\item 40\n",
       "\\end{enumerate*}\n"
      ],
      "text/markdown": [
       "1. 50\n",
       "2. 50\n",
       "3. 50\n",
       "4. 50\n",
       "5. 30\n",
       "6. 50\n",
       "7. 50\n",
       "8. 50\n",
       "9. 40\n",
       "\n",
       "\n"
      ],
      "text/plain": [
       "[1] 50 50 50 50 30 50 50 50 40"
      ]
     },
     "execution_count": 15,
     "metadata": {},
     "output_type": "execute_result"
    },
    {
     "data": {
      "text/html": [
       "<ol class=list-inline>\n",
       "\t<li>35</li>\n",
       "\t<li>35</li>\n",
       "\t<li>35</li>\n",
       "\t<li>35</li>\n",
       "\t<li>36</li>\n",
       "\t<li>35</li>\n",
       "\t<li>35</li>\n",
       "\t<li>35</li>\n",
       "\t<li>25</li>\n",
       "</ol>\n"
      ],
      "text/latex": [
       "\\begin{enumerate*}\n",
       "\\item 35\n",
       "\\item 35\n",
       "\\item 35\n",
       "\\item 35\n",
       "\\item 36\n",
       "\\item 35\n",
       "\\item 35\n",
       "\\item 35\n",
       "\\item 25\n",
       "\\end{enumerate*}\n"
      ],
      "text/markdown": [
       "1. 35\n",
       "2. 35\n",
       "3. 35\n",
       "4. 35\n",
       "5. 36\n",
       "6. 35\n",
       "7. 35\n",
       "8. 35\n",
       "9. 25\n",
       "\n",
       "\n"
      ],
      "text/plain": [
       "[1] 35 35 35 35 36 35 35 35 25"
      ]
     },
     "execution_count": 15,
     "metadata": {},
     "output_type": "execute_result"
    }
   ],
   "source": [
    "third_col_lt$year   # years\n",
    "\n",
    "third_col_lt$mon    # numeric month\n",
    "\n",
    "third_col_lt$wday   # day of the week\n",
    "\n",
    "third_col_lt$mday   # day of the month\n",
    "\n",
    "third_col_lt$yday   # day of the year\n",
    "\n",
    "third_col_lt$hour   # hours\n",
    "\n",
    "third_col_lt$min    # minutes\n",
    "\n",
    "third_col_lt$sec    # seconds"
   ]
  },
  {
   "cell_type": "markdown",
   "metadata": {},
   "source": [
    "### Lubridate"
   ]
  },
  {
   "cell_type": "markdown",
   "metadata": {},
   "source": [
    "Lubridate is an R package designed to make it easy to work with dates. Lubridate contains a variety of functions that operate on dates stored in the POSIXct and POSIXlt formats.\n",
    "\n",
    "Let's install and load lubridate and then go through some if its functions:"
   ]
  },
  {
   "cell_type": "code",
   "execution_count": 16,
   "metadata": {
    "collapsed": true
   },
   "outputs": [],
   "source": [
    "# install.packages(\"lubridate\")     # uncomment this line to install\n",
    "\n",
    "library(lubridate)"
   ]
  },
  {
   "cell_type": "markdown",
   "metadata": {},
   "source": [
    "Lubridate has some useful for functions for dealing with POSIX dates:"
   ]
  },
  {
   "cell_type": "code",
   "execution_count": 17,
   "metadata": {
    "collapsed": false
   },
   "outputs": [
    {
     "data": {
      "text/html": [
       "<ol class=list-inline>\n",
       "\t<li>TRUE</li>\n",
       "\t<li>FALSE</li>\n",
       "\t<li>TRUE</li>\n",
       "\t<li>TRUE</li>\n",
       "\t<li>TRUE</li>\n",
       "\t<li>TRUE</li>\n",
       "\t<li>TRUE</li>\n",
       "\t<li>TRUE</li>\n",
       "\t<li>FALSE</li>\n",
       "</ol>\n"
      ],
      "text/latex": [
       "\\begin{enumerate*}\n",
       "\\item TRUE\n",
       "\\item FALSE\n",
       "\\item TRUE\n",
       "\\item TRUE\n",
       "\\item TRUE\n",
       "\\item TRUE\n",
       "\\item TRUE\n",
       "\\item TRUE\n",
       "\\item FALSE\n",
       "\\end{enumerate*}\n"
      ],
      "text/markdown": [
       "1. TRUE\n",
       "2. FALSE\n",
       "3. TRUE\n",
       "4. TRUE\n",
       "5. TRUE\n",
       "6. TRUE\n",
       "7. TRUE\n",
       "8. TRUE\n",
       "9. FALSE\n",
       "\n",
       "\n"
      ],
      "text/plain": [
       "[1]  TRUE FALSE  TRUE  TRUE  TRUE  TRUE  TRUE  TRUE FALSE"
      ]
     },
     "execution_count": 17,
     "metadata": {},
     "output_type": "execute_result"
    }
   ],
   "source": [
    "am(third_col_lt)        # check if date/time occured in am(TRUE) or pm(FALSE)"
   ]
  },
  {
   "cell_type": "code",
   "execution_count": 18,
   "metadata": {
    "collapsed": false
   },
   "outputs": [
    {
     "data": {
      "text/html": [
       "<ol class=list-inline>\n",
       "\t<li>1996.61029634057</li>\n",
       "\t<li>2016.3628008943</li>\n",
       "\t<li>2017.78457112506</li>\n",
       "\t<li>2018.02852089675</li>\n",
       "\t<li>2019.18978424658</li>\n",
       "\t<li>2020.61029634057</li>\n",
       "\t<li>2021.97098665018</li>\n",
       "\t<li>2022.02852089675</li>\n",
       "\t<li>2023.52267963597</li>\n",
       "</ol>\n"
      ],
      "text/latex": [
       "\\begin{enumerate*}\n",
       "\\item 1996.61029634057\n",
       "\\item 2016.3628008943\n",
       "\\item 2017.78457112506\n",
       "\\item 2018.02852089675\n",
       "\\item 2019.18978424658\n",
       "\\item 2020.61029634057\n",
       "\\item 2021.97098665018\n",
       "\\item 2022.02852089675\n",
       "\\item 2023.52267963597\n",
       "\\end{enumerate*}\n"
      ],
      "text/markdown": [
       "1. 1996.61029634057\n",
       "2. 2016.3628008943\n",
       "3. 2017.78457112506\n",
       "4. 2018.02852089675\n",
       "5. 2019.18978424658\n",
       "6. 2020.61029634057\n",
       "7. 2021.97098665018\n",
       "8. 2022.02852089675\n",
       "9. 2023.52267963597\n",
       "\n",
       "\n"
      ],
      "text/plain": [
       "[1] 1996.610 2016.363 2017.785 2018.029 2019.190 2020.610 2021.971 2022.029\n",
       "[9] 2023.523"
      ]
     },
     "execution_count": 18,
     "metadata": {},
     "output_type": "execute_result"
    }
   ],
   "source": [
    "decimal_date(third_col_lt)   # get decimal version of date/time in years"
   ]
  },
  {
   "cell_type": "code",
   "execution_count": 19,
   "metadata": {
    "collapsed": false
   },
   "outputs": [
    {
     "data": {
      "text/html": [
       "<ol class=list-inline>\n",
       "\t<li>TRUE</li>\n",
       "\t<li>TRUE</li>\n",
       "\t<li>FALSE</li>\n",
       "\t<li>FALSE</li>\n",
       "\t<li>FALSE</li>\n",
       "\t<li>TRUE</li>\n",
       "\t<li>FALSE</li>\n",
       "\t<li>FALSE</li>\n",
       "\t<li>FALSE</li>\n",
       "</ol>\n"
      ],
      "text/latex": [
       "\\begin{enumerate*}\n",
       "\\item TRUE\n",
       "\\item TRUE\n",
       "\\item FALSE\n",
       "\\item FALSE\n",
       "\\item FALSE\n",
       "\\item TRUE\n",
       "\\item FALSE\n",
       "\\item FALSE\n",
       "\\item FALSE\n",
       "\\end{enumerate*}\n"
      ],
      "text/markdown": [
       "1. TRUE\n",
       "2. TRUE\n",
       "3. FALSE\n",
       "4. FALSE\n",
       "5. FALSE\n",
       "6. TRUE\n",
       "7. FALSE\n",
       "8. FALSE\n",
       "9. FALSE\n",
       "\n",
       "\n"
      ],
      "text/plain": [
       "[1]  TRUE  TRUE FALSE FALSE FALSE  TRUE FALSE FALSE FALSE"
      ]
     },
     "execution_count": 19,
     "metadata": {},
     "output_type": "execute_result"
    }
   ],
   "source": [
    "leap_year(third_col_lt)   # is it a leap year?"
   ]
  },
  {
   "cell_type": "code",
   "execution_count": 20,
   "metadata": {
    "collapsed": false
   },
   "outputs": [
    {
     "data": {
      "text/plain": [
       "[1] \"1997-01-01 CST\" \"2016-01-01 CST\" \"2018-01-01 CST\" \"2018-01-01 CST\"\n",
       "[5] \"2019-01-01 CST\" \"2021-01-01 CST\" \"2022-01-01 CST\" \"2022-01-01 CST\"\n",
       "[9] \"2024-01-01 CST\""
      ]
     },
     "execution_count": 20,
     "metadata": {},
     "output_type": "execute_result"
    }
   ],
   "source": [
    "round_date(third_col_lt, \n",
    "          unit = c(\"year\"))  # round date/time based on specified unit"
   ]
  },
  {
   "cell_type": "code",
   "execution_count": 21,
   "metadata": {
    "collapsed": false
   },
   "outputs": [
    {
     "data": {
      "text/plain": [
       "[1] \"1997-01-01 CST\" \"2017-01-01 CST\" \"2018-01-01 CST\" \"2019-01-01 CST\"\n",
       "[5] \"2020-01-01 CST\" \"2021-01-01 CST\" \"2022-01-01 CST\" \"2023-01-01 CST\"\n",
       "[9] \"2024-01-01 CST\""
      ]
     },
     "execution_count": 21,
     "metadata": {},
     "output_type": "execute_result"
    }
   ],
   "source": [
    "ceiling_date(third_col_lt,\n",
    "          unit = c(\"year\"))  # round date/time up based on specified unit"
   ]
  },
  {
   "cell_type": "code",
   "execution_count": 22,
   "metadata": {
    "collapsed": false
   },
   "outputs": [
    {
     "data": {
      "text/plain": [
       "[1] \"1996-01-01 CST\" \"2016-01-01 CST\" \"2017-01-01 CST\" \"2018-01-01 CST\"\n",
       "[5] \"2019-01-01 CST\" \"2020-01-01 CST\" \"2021-01-01 CST\" \"2022-01-01 CST\"\n",
       "[9] \"2023-01-01 CST\""
      ]
     },
     "execution_count": 22,
     "metadata": {},
     "output_type": "execute_result"
    }
   ],
   "source": [
    "floor_date(third_col_lt,\n",
    "          unit = c(\"year\"))  # round date/time down based on specified unit"
   ]
  },
  {
   "cell_type": "code",
   "execution_count": 23,
   "metadata": {
    "collapsed": false
   },
   "outputs": [
    {
     "data": {
      "text/html": [
       "<ol class=list-inline>\n",
       "\t<li>9</li>\n",
       "\t<li>19</li>\n",
       "\t<li>9</li>\n",
       "\t<li>9</li>\n",
       "\t<li>7</li>\n",
       "\t<li>9</li>\n",
       "\t<li>9</li>\n",
       "\t<li>9</li>\n",
       "\t<li>19</li>\n",
       "</ol>\n"
      ],
      "text/latex": [
       "\\begin{enumerate*}\n",
       "\\item 9\n",
       "\\item 19\n",
       "\\item 9\n",
       "\\item 9\n",
       "\\item 7\n",
       "\\item 9\n",
       "\\item 9\n",
       "\\item 9\n",
       "\\item 19\n",
       "\\end{enumerate*}\n"
      ],
      "text/markdown": [
       "1. 9\n",
       "2. 19\n",
       "3. 9\n",
       "4. 9\n",
       "5. 7\n",
       "6. 9\n",
       "7. 9\n",
       "8. 9\n",
       "9. 19\n",
       "\n",
       "\n"
      ],
      "text/plain": [
       "[1]  9 19  9  9  7  9  9  9 19"
      ]
     },
     "execution_count": 23,
     "metadata": {},
     "output_type": "execute_result"
    }
   ],
   "source": [
    "hour(third_col_lt)        # get hours"
   ]
  },
  {
   "cell_type": "code",
   "execution_count": 24,
   "metadata": {
    "collapsed": false
   },
   "outputs": [
    {
     "data": {
      "text/html": [
       "<ol class=list-inline>\n",
       "\t<li>50</li>\n",
       "\t<li>50</li>\n",
       "\t<li>50</li>\n",
       "\t<li>50</li>\n",
       "\t<li>30</li>\n",
       "\t<li>50</li>\n",
       "\t<li>50</li>\n",
       "\t<li>50</li>\n",
       "\t<li>40</li>\n",
       "</ol>\n"
      ],
      "text/latex": [
       "\\begin{enumerate*}\n",
       "\\item 50\n",
       "\\item 50\n",
       "\\item 50\n",
       "\\item 50\n",
       "\\item 30\n",
       "\\item 50\n",
       "\\item 50\n",
       "\\item 50\n",
       "\\item 40\n",
       "\\end{enumerate*}\n"
      ],
      "text/markdown": [
       "1. 50\n",
       "2. 50\n",
       "3. 50\n",
       "4. 50\n",
       "5. 30\n",
       "6. 50\n",
       "7. 50\n",
       "8. 50\n",
       "9. 40\n",
       "\n",
       "\n"
      ],
      "text/plain": [
       "[1] 50 50 50 50 30 50 50 50 40"
      ]
     },
     "execution_count": 24,
     "metadata": {},
     "output_type": "execute_result"
    }
   ],
   "source": [
    "minute(third_col_lt)     # get minutes"
   ]
  },
  {
   "cell_type": "code",
   "execution_count": 25,
   "metadata": {
    "collapsed": false
   },
   "outputs": [
    {
     "data": {
      "text/html": [
       "<ol class=list-inline>\n",
       "\t<li>35</li>\n",
       "\t<li>35</li>\n",
       "\t<li>35</li>\n",
       "\t<li>35</li>\n",
       "\t<li>36</li>\n",
       "\t<li>35</li>\n",
       "\t<li>35</li>\n",
       "\t<li>35</li>\n",
       "\t<li>25</li>\n",
       "</ol>\n"
      ],
      "text/latex": [
       "\\begin{enumerate*}\n",
       "\\item 35\n",
       "\\item 35\n",
       "\\item 35\n",
       "\\item 35\n",
       "\\item 36\n",
       "\\item 35\n",
       "\\item 35\n",
       "\\item 35\n",
       "\\item 25\n",
       "\\end{enumerate*}\n"
      ],
      "text/markdown": [
       "1. 35\n",
       "2. 35\n",
       "3. 35\n",
       "4. 35\n",
       "5. 36\n",
       "6. 35\n",
       "7. 35\n",
       "8. 35\n",
       "9. 25\n",
       "\n",
       "\n"
      ],
      "text/plain": [
       "[1] 35 35 35 35 36 35 35 35 25"
      ]
     },
     "execution_count": 25,
     "metadata": {},
     "output_type": "execute_result"
    }
   ],
   "source": [
    "second(third_col_lt)     # get seconds"
   ]
  },
  {
   "cell_type": "code",
   "execution_count": 26,
   "metadata": {
    "collapsed": false
   },
   "outputs": [
    {
     "data": {
      "text/html": [
       "<ol class=list-inline>\n",
       "\t<li>8</li>\n",
       "\t<li>5</li>\n",
       "\t<li>10</li>\n",
       "\t<li>1</li>\n",
       "\t<li>3</li>\n",
       "\t<li>8</li>\n",
       "\t<li>12</li>\n",
       "\t<li>1</li>\n",
       "\t<li>7</li>\n",
       "</ol>\n"
      ],
      "text/latex": [
       "\\begin{enumerate*}\n",
       "\\item 8\n",
       "\\item 5\n",
       "\\item 10\n",
       "\\item 1\n",
       "\\item 3\n",
       "\\item 8\n",
       "\\item 12\n",
       "\\item 1\n",
       "\\item 7\n",
       "\\end{enumerate*}\n"
      ],
      "text/markdown": [
       "1. 8\n",
       "2. 5\n",
       "3. 10\n",
       "4. 1\n",
       "5. 3\n",
       "6. 8\n",
       "7. 12\n",
       "8. 1\n",
       "9. 7\n",
       "\n",
       "\n"
      ],
      "text/plain": [
       "[1]  8  5 10  1  3  8 12  1  7"
      ]
     },
     "execution_count": 26,
     "metadata": {},
     "output_type": "execute_result"
    }
   ],
   "source": [
    "month(third_col_lt)      # get month"
   ]
  },
  {
   "cell_type": "code",
   "execution_count": 27,
   "metadata": {
    "collapsed": false
   },
   "outputs": [
    {
     "data": {
      "text/html": [
       "<ol class=list-inline>\n",
       "\t<li>1996</li>\n",
       "\t<li>2016</li>\n",
       "\t<li>2017</li>\n",
       "\t<li>2018</li>\n",
       "\t<li>2019</li>\n",
       "\t<li>2020</li>\n",
       "\t<li>2021</li>\n",
       "\t<li>2022</li>\n",
       "\t<li>2023</li>\n",
       "</ol>\n"
      ],
      "text/latex": [
       "\\begin{enumerate*}\n",
       "\\item 1996\n",
       "\\item 2016\n",
       "\\item 2017\n",
       "\\item 2018\n",
       "\\item 2019\n",
       "\\item 2020\n",
       "\\item 2021\n",
       "\\item 2022\n",
       "\\item 2023\n",
       "\\end{enumerate*}\n"
      ],
      "text/markdown": [
       "1. 1996\n",
       "2. 2016\n",
       "3. 2017\n",
       "4. 2018\n",
       "5. 2019\n",
       "6. 2020\n",
       "7. 2021\n",
       "8. 2022\n",
       "9. 2023\n",
       "\n",
       "\n"
      ],
      "text/plain": [
       "[1] 1996 2016 2017 2018 2019 2020 2021 2022 2023"
      ]
     },
     "execution_count": 27,
     "metadata": {},
     "output_type": "execute_result"
    }
   ],
   "source": [
    "year(third_col_lt)       # get year"
   ]
  },
  {
   "cell_type": "code",
   "execution_count": 28,
   "metadata": {
    "collapsed": false
   },
   "outputs": [
    {
     "data": {
      "text/html": [
       "<ol class=list-inline>\n",
       "\t<li>11</li>\n",
       "\t<li>12</li>\n",
       "\t<li>14</li>\n",
       "\t<li>11</li>\n",
       "\t<li>11</li>\n",
       "\t<li>11</li>\n",
       "\t<li>21</li>\n",
       "\t<li>11</li>\n",
       "\t<li>10</li>\n",
       "</ol>\n"
      ],
      "text/latex": [
       "\\begin{enumerate*}\n",
       "\\item 11\n",
       "\\item 12\n",
       "\\item 14\n",
       "\\item 11\n",
       "\\item 11\n",
       "\\item 11\n",
       "\\item 21\n",
       "\\item 11\n",
       "\\item 10\n",
       "\\end{enumerate*}\n"
      ],
      "text/markdown": [
       "1. 11\n",
       "2. 12\n",
       "3. 14\n",
       "4. 11\n",
       "5. 11\n",
       "6. 11\n",
       "7. 21\n",
       "8. 11\n",
       "9. 10\n",
       "\n",
       "\n"
      ],
      "text/plain": [
       "[1] 11 12 14 11 11 11 21 11 10"
      ]
     },
     "execution_count": 28,
     "metadata": {},
     "output_type": "execute_result"
    }
   ],
   "source": [
    "mday(third_col_lt)      # get day of month"
   ]
  },
  {
   "cell_type": "code",
   "execution_count": 29,
   "metadata": {
    "collapsed": false
   },
   "outputs": [
    {
     "data": {
      "text/html": [
       "<ol class=list-inline>\n",
       "\t<li>1</li>\n",
       "\t<li>5</li>\n",
       "\t<li>7</li>\n",
       "\t<li>5</li>\n",
       "\t<li>2</li>\n",
       "\t<li>3</li>\n",
       "\t<li>3</li>\n",
       "\t<li>3</li>\n",
       "\t<li>2</li>\n",
       "</ol>\n"
      ],
      "text/latex": [
       "\\begin{enumerate*}\n",
       "\\item 1\n",
       "\\item 5\n",
       "\\item 7\n",
       "\\item 5\n",
       "\\item 2\n",
       "\\item 3\n",
       "\\item 3\n",
       "\\item 3\n",
       "\\item 2\n",
       "\\end{enumerate*}\n"
      ],
      "text/markdown": [
       "1. 1\n",
       "2. 5\n",
       "3. 7\n",
       "4. 5\n",
       "5. 2\n",
       "6. 3\n",
       "7. 3\n",
       "8. 3\n",
       "9. 2\n",
       "\n",
       "\n"
      ],
      "text/plain": [
       "[1] 1 5 7 5 2 3 3 3 2"
      ]
     },
     "execution_count": 29,
     "metadata": {},
     "output_type": "execute_result"
    }
   ],
   "source": [
    "wday(third_col_lt)      # get day of week"
   ]
  },
  {
   "cell_type": "code",
   "execution_count": 30,
   "metadata": {
    "collapsed": false
   },
   "outputs": [
    {
     "data": {
      "text/html": [
       "<ol class=list-inline>\n",
       "\t<li>224</li>\n",
       "\t<li>133</li>\n",
       "\t<li>287</li>\n",
       "\t<li>11</li>\n",
       "\t<li>70</li>\n",
       "\t<li>224</li>\n",
       "\t<li>355</li>\n",
       "\t<li>11</li>\n",
       "\t<li>191</li>\n",
       "</ol>\n"
      ],
      "text/latex": [
       "\\begin{enumerate*}\n",
       "\\item 224\n",
       "\\item 133\n",
       "\\item 287\n",
       "\\item 11\n",
       "\\item 70\n",
       "\\item 224\n",
       "\\item 355\n",
       "\\item 11\n",
       "\\item 191\n",
       "\\end{enumerate*}\n"
      ],
      "text/markdown": [
       "1. 224\n",
       "2. 133\n",
       "3. 287\n",
       "4. 11\n",
       "5. 70\n",
       "6. 224\n",
       "7. 355\n",
       "8. 11\n",
       "9. 191\n",
       "\n",
       "\n"
      ],
      "text/plain": [
       "[1] 224 133 287  11  70 224 355  11 191"
      ]
     },
     "execution_count": 30,
     "metadata": {},
     "output_type": "execute_result"
    }
   ],
   "source": [
    "yday(third_col_lt)      # get day of year"
   ]
  },
  {
   "cell_type": "code",
   "execution_count": 31,
   "metadata": {
    "collapsed": false
   },
   "outputs": [
    {
     "data": {
      "text/plain": [
       "[1] \"2015-08-11 14:56:38 CDT\""
      ]
     },
     "execution_count": 31,
     "metadata": {},
     "output_type": "execute_result"
    }
   ],
   "source": [
    "now()                   # get the current date/time"
   ]
  },
  {
   "cell_type": "markdown",
   "metadata": {},
   "source": [
    "Lubridate also contains some more advanced functions, such as functions for specifying time periods and checking whether dates lie within time periods. We won't get into all the advanced functionality Lubridate offers, but it may be worth your time to dig into the pacakge further if you need to perform some fancy operations with dates."
   ]
  },
  {
   "cell_type": "markdown",
   "metadata": {},
   "source": [
    "### Wrap Up"
   ]
  },
  {
   "cell_type": "markdown",
   "metadata": {},
   "source": [
    "Date data often requires some preprocessing before you can use it effectively. Base R has most of the tools you need to deal with dates, but the Lubridate package adds some convenience functions and extra functionality that can make dates a little easier to use. \n",
    "\n",
    "Cleaning and prepocessing numeric, character and date data is sometimes all you need to do before you start a project. In some cases, however, your data may be split across several tables such as different worksheets in an excel file or different tables in a database. In these cases, you might have to reshape your data in some way, such as by combining two tables together, before proceeding with your project. In the next lesson we will consider these sorts of manipulations."
   ]
  },
  {
   "cell_type": "markdown",
   "metadata": {},
   "source": [
    "### Introduction to R Part 17: Merging and Reshaping Data"
   ]
  }
 ],
 "metadata": {
  "kernelspec": {
   "display_name": "R",
   "language": "R",
   "name": "ir"
  },
  "language_info": {
   "codemirror_mode": "r",
   "file_extension": ".r",
   "mimetype": "text/x-r-source",
   "name": "R",
   "pygments_lexer": "r",
   "version": "3.1.3"
  }
 },
 "nbformat": 4,
 "nbformat_minor": 0
}
