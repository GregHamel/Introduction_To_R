{
 "cells": [
  {
   "cell_type": "markdown",
   "metadata": {},
   "source": [
    "# Introduction to R Part 4: Variables"
   ]
  },
  {
   "cell_type": "markdown",
   "metadata": {},
   "source": [
    "In this short lesson, we'll learn how to define varaibles in R. A variable is a name you assign a value or object. After assigning a variable, you can access its associated value or object using the variable's name.\n",
    "\n",
    "There are two ways to assign variables, = (the equals sign) and <- ."
   ]
  },
  {
   "cell_type": "code",
   "execution_count": 1,
   "metadata": {
    "collapsed": false
   },
   "outputs": [
    {
     "data": {
      "text/html": [
       "10"
      ],
      "text/latex": [
       "10"
      ],
      "text/markdown": [
       "10"
      ],
      "text/plain": [
       "[1] 10"
      ]
     },
     "execution_count": 1,
     "metadata": {},
     "output_type": "execute_result"
    },
    {
     "data": {
      "text/html": [
       "\"Life is Study\""
      ],
      "text/latex": [
       "\"Life is Study\""
      ],
      "text/markdown": [
       "\"Life is Study\""
      ],
      "text/plain": [
       "[1] \"Life is Study\""
      ]
     },
     "execution_count": 1,
     "metadata": {},
     "output_type": "execute_result"
    },
    {
     "data": {
      "text/html": [
       "25"
      ],
      "text/latex": [
       "25"
      ],
      "text/markdown": [
       "25"
      ],
      "text/plain": [
       "[1] 25"
      ]
     },
     "execution_count": 1,
     "metadata": {},
     "output_type": "execute_result"
    }
   ],
   "source": [
    "x = 10  #Assign x the double 10\n",
    "\n",
    "y <- \"Life is Study\"  #Assign y a character\n",
    "\n",
    "z <- (2+3)^2 #Assign z the result of (8+5)^10\n",
    "\n",
    "x    \n",
    "y    \n",
    "z  "
   ]
  },
  {
   "cell_type": "markdown",
   "metadata": {},
   "source": [
    "It is good practice to put a space bewteen the variable, assignment operator and value to make things clear:"
   ]
  },
  {
   "cell_type": "code",
   "execution_count": 2,
   "metadata": {
    "collapsed": false
   },
   "outputs": [
    {
     "data": {
      "text/html": [
       "8"
      ],
      "text/latex": [
       "8"
      ],
      "text/markdown": [
       "8"
      ],
      "text/plain": [
       "[1] 8"
      ]
     },
     "execution_count": 2,
     "metadata": {},
     "output_type": "execute_result"
    },
    {
     "data": {
      "text/html": [
       "10"
      ],
      "text/latex": [
       "10"
      ],
      "text/markdown": [
       "10"
      ],
      "text/plain": [
       "[1] 10"
      ]
     },
     "execution_count": 2,
     "metadata": {},
     "output_type": "execute_result"
    }
   ],
   "source": [
    "p<-8  #This works, but it looks messy.\n",
    "p   \n",
    "\n",
    "p <- 10 #Use spaces!\n",
    "p"
   ]
  },
  {
   "cell_type": "markdown",
   "metadata": {},
   "source": [
    "As shown above, you can reassign a variable after creating it. After assigning variables you can perform operations on the objects assigned to them using thier names."
   ]
  },
  {
   "cell_type": "code",
   "execution_count": 3,
   "metadata": {
    "collapsed": false
   },
   "outputs": [
    {
     "data": {
      "text/html": [
       "45"
      ],
      "text/latex": [
       "45"
      ],
      "text/markdown": [
       "45"
      ],
      "text/plain": [
       "[1] 45"
      ]
     },
     "execution_count": 3,
     "metadata": {},
     "output_type": "execute_result"
    }
   ],
   "source": [
    "x + z + p"
   ]
  },
  {
   "cell_type": "markdown",
   "metadata": {},
   "source": [
    "You can assign the same object to multiple variables with a multiple assignment statement."
   ]
  },
  {
   "cell_type": "code",
   "execution_count": 4,
   "metadata": {
    "collapsed": false
   },
   "outputs": [
    {
     "data": {
      "text/html": [
       "4"
      ],
      "text/latex": [
       "4"
      ],
      "text/markdown": [
       "4"
      ],
      "text/plain": [
       "[1] 4"
      ]
     },
     "execution_count": 4,
     "metadata": {},
     "output_type": "execute_result"
    },
    {
     "data": {
      "text/html": [
       "4"
      ],
      "text/latex": [
       "4"
      ],
      "text/markdown": [
       "4"
      ],
      "text/plain": [
       "[1] 4"
      ]
     },
     "execution_count": 4,
     "metadata": {},
     "output_type": "execute_result"
    },
    {
     "data": {
      "text/html": [
       "TRUE"
      ],
      "text/latex": [
       "TRUE"
      ],
      "text/markdown": [
       "TRUE"
      ],
      "text/plain": [
       "[1] TRUE"
      ]
     },
     "execution_count": 4,
     "metadata": {},
     "output_type": "execute_result"
    },
    {
     "data": {
      "text/html": [
       "TRUE"
      ],
      "text/latex": [
       "TRUE"
      ],
      "text/markdown": [
       "TRUE"
      ],
      "text/plain": [
       "[1] TRUE"
      ]
     },
     "execution_count": 4,
     "metadata": {},
     "output_type": "execute_result"
    }
   ],
   "source": [
    "r <- t <- 4  #Assigns 4 to both r and t\n",
    "\n",
    "q = w = TRUE  #Assigns TRUE to both q and w\n",
    "\n",
    "r\n",
    "t\n",
    "q\n",
    "w"
   ]
  },
  {
   "cell_type": "markdown",
   "metadata": {},
   "source": [
    "The R community and R style guides generally prefer using <- for variable assignment. One reason for this is that the equals sign is used in places other than variable assignment statements. Functions often take named arguments and when calling a function you use the = symbol to assign values to named arguments. For example, recall that the function round() can take an optional argument \"digits\" to round a decimal to a specific number of places:"
   ]
  },
  {
   "cell_type": "code",
   "execution_count": 5,
   "metadata": {
    "collapsed": false
   },
   "outputs": [
    {
     "data": {
      "text/html": [
       "23.46"
      ],
      "text/latex": [
       "23.46"
      ],
      "text/markdown": [
       "23.46"
      ],
      "text/plain": [
       "[1] 23.46"
      ]
     },
     "execution_count": 5,
     "metadata": {},
     "output_type": "execute_result"
    }
   ],
   "source": [
    "round(23.4567, digits = 2)"
   ]
  },
  {
   "cell_type": "markdown",
   "metadata": {},
   "source": [
    "In this case, the equals sign tells the function round() to use 2 as the value for the digits argument. It does NOT create a new varaible called digits and assign it the value 2."
   ]
  },
  {
   "cell_type": "code",
   "execution_count": 6,
   "metadata": {
    "collapsed": false
   },
   "outputs": [
    {
     "ename": "ERROR",
     "evalue": "Error in eval(expr, envir, enclos): object 'digits' not found\n",
     "output_type": "error",
     "traceback": [
      "Error in eval(expr, envir, enclos): object 'digits' not found\n"
     ]
    }
   ],
   "source": [
    "digits #the variable digits doen't exist"
   ]
  },
  {
   "cell_type": "markdown",
   "metadata": {},
   "source": [
    "On the other hand, <- always makes a variable assignment. For instance, Passing digits <- 2 to round() causes it to use 2 as the value for the digits argument AND assigns a new variable named digits the value 2:"
   ]
  },
  {
   "cell_type": "code",
   "execution_count": 7,
   "metadata": {
    "collapsed": false
   },
   "outputs": [
    {
     "data": {
      "text/html": [
       "23.46"
      ],
      "text/latex": [
       "23.46"
      ],
      "text/markdown": [
       "23.46"
      ],
      "text/plain": [
       "[1] 23.46"
      ]
     },
     "execution_count": 7,
     "metadata": {},
     "output_type": "execute_result"
    }
   ],
   "source": [
    "round(23.4567, digits <- 2) "
   ]
  },
  {
   "cell_type": "code",
   "execution_count": 8,
   "metadata": {
    "collapsed": false
   },
   "outputs": [
    {
     "data": {
      "text/html": [
       "2"
      ],
      "text/latex": [
       "2"
      ],
      "text/markdown": [
       "2"
      ],
      "text/plain": [
       "[1] 2"
      ]
     },
     "execution_count": 8,
     "metadata": {},
     "output_type": "execute_result"
    }
   ],
   "source": [
    "digits #the variable digits exists"
   ]
  },
  {
   "cell_type": "markdown",
   "metadata": {},
   "source": [
    "Defining a new variable when calling a function in this way is usually not what you want to do. Therefore it is considered good practice to use <- for variable assignment and reserve = for assigning function arguments (and == for checking equality.).\n",
    "\n",
    "Some people prefer using = for variable assignment because other programming langagues use = and it requires fewer keystrokes. Whichever method you use, be sure to remain consistent: the last thing you want is to do is use <- some of the time and = some of the time within the same code.\n",
    "\n",
    "*Note: RStudio has a keyboard shortcut for <- . My version of RStudio has the shortcut set to Alt+- (hold alt and then press the + and - keys simultaneously) for Windows and Option+- for Mac. In RStudio, click on the \"Help\" dropdown menu and then \"Keyboard Shortcuts\" to check your shortcuts. "
   ]
  },
  {
   "cell_type": "markdown",
   "metadata": {},
   "source": [
    "You can assign all sorts of objects to variables other than the atomic data types we're familiar with. To get the most out of our variables, we need to learn about R's data structures--objects that hold multiple values that we can use to organize data and perform more interesting operations. We'll start with R's most common data structure: the vector."
   ]
  },
  {
   "cell_type": "markdown",
   "metadata": {},
   "source": [
    "### Next Time: Introduction to R Part 5: Vectors"
   ]
  }
 ],
 "metadata": {
  "kernelspec": {
   "display_name": "R",
   "language": "R",
   "name": "ir"
  },
  "language_info": {
   "codemirror_mode": "r",
   "file_extension": ".r",
   "mimetype": "text/x-r-source",
   "name": "R",
   "pygments_lexer": "r",
   "version": "3.1.3"
  }
 },
 "nbformat": 4,
 "nbformat_minor": 0
}
