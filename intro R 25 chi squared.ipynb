{
 "cells": [
  {
   "cell_type": "markdown",
   "metadata": {},
   "source": [
    "# Introduction to R Part 25: Chi-Squared Tests"
   ]
  },
  {
   "cell_type": "markdown",
   "metadata": {},
   "source": [
    "Last lesson we introduced the framework of statistical hypothesis testing and the t-test for investigating differences in numeric variables. In this lesson we turn our attention to a common statistical test for categorical variables: the chi-squared test."
   ]
  },
  {
   "cell_type": "markdown",
   "metadata": {},
   "source": [
    "### Chi-Squared Goodness-Of-Fit Test"
   ]
  },
  {
   "cell_type": "markdown",
   "metadata": {},
   "source": [
    "In our study of t-tests, we introduced the one-way t-test to check whether a sample mean differs from the an expected (population) mean. The chi-squared goodness-of-fit test is an analog of the one-way t-test for categorical variables: it tests whether the distribution of sample categorical data matches an expected distribuiton. For example, you could use a chi-squared goodness-of-fit test to check whether the race demographics of members at your church or school match that of the entire U.S. population or whether the computer browser preferences of your friends match those of internet uses as a whole.\n",
    "\n",
    "When working with categorical data the values the observations themselves aren't of much use for statistical testing because categories like \"male\", \"female,\" and \"other\" have no mathmatical meaning. Tests dealing with categorical varaibles are based on variable counts instead of the actual value of the variables themselves.\n",
    "\n",
    "Let's generate some fake demographic data for U.S. and Minnesota and walk through the chi-square goodness of fit test to check whether they are different:"
   ]
  },
  {
   "cell_type": "code",
   "execution_count": 1,
   "metadata": {
    "collapsed": false
   },
   "outputs": [
    {
     "data": {
      "text/plain": [
       "national_demographics\n",
       "   asian    black hispanic    other    white \n",
       "   15000    50000    60000    35000   100000 "
      ]
     },
     "execution_count": 1,
     "metadata": {},
     "output_type": "execute_result"
    },
    {
     "data": {
      "text/plain": [
       "minnesota_demographics\n",
       "   asian    black hispanic    other    white \n",
       "      75      250      300      150      600 "
      ]
     },
     "execution_count": 1,
     "metadata": {},
     "output_type": "execute_result"
    }
   ],
   "source": [
    "national_demographics <- c(rep(\"white\",100000),      # fake demographic data\n",
    "                           rep(\"hispanic\",60000),\n",
    "                           rep(\"black\",50000),\n",
    "                           rep(\"asian\",15000),\n",
    "                           rep(\"other\",35000))\n",
    "\n",
    "minnesota_demographics <- c(rep(\"white\", 600),      # fake sample data\n",
    "                           rep(\"hispanic\", 300),\n",
    "                           rep(\"black\", 250),\n",
    "                           rep(\"asian\", 75),\n",
    "                           rep(\"other\", 150))\n",
    "\n",
    "table(national_demographics)            # check counts\n",
    "\n",
    "table(minnesota_demographics)"
   ]
  },
  {
   "cell_type": "markdown",
   "metadata": {},
   "source": [
    "Chi-squared tests are based on the so-called chi-sqaured statistic. You calculate the chi-squared statistic with the following formula:"
   ]
  },
  {
   "cell_type": "markdown",
   "metadata": {},
   "source": [
    "$$ sum(\\frac{(observed-expected)^2}{expected}) $$"
   ]
  },
  {
   "cell_type": "markdown",
   "metadata": {},
   "source": [
    "In the formula, observed is the actual observed count for each category and expected is the expected count based on the distribution of the population for the corresponding category. Let's calculate the chi-squared statistic for the our data by hand to illustrate:"
   ]
  },
  {
   "cell_type": "code",
   "execution_count": 2,
   "metadata": {
    "collapsed": false
   },
   "outputs": [
    {
     "data": {
      "text/plain": [
       "national_demographics\n",
       "    asian     black  hispanic     other     white \n",
       " 79.32692 264.42308 317.30769 185.09615 528.84615 "
      ]
     },
     "execution_count": 2,
     "metadata": {},
     "output_type": "execute_result"
    },
    {
     "data": {
      "text/html": [
       "18.1948051948052"
      ],
      "text/latex": [
       "18.1948051948052"
      ],
      "text/markdown": [
       "18.1948051948052"
      ],
      "text/plain": [
       "[1] 18.19481"
      ]
     },
     "execution_count": 2,
     "metadata": {},
     "output_type": "execute_result"
    }
   ],
   "source": [
    "observed <- table(minnesota_demographics)\n",
    "\n",
    "national_ratios <- prop.table(table(national_demographics))      # get population ratios\n",
    "\n",
    "expected <- national_ratios * length(minnesota_demographics)     # get expected counts\n",
    "\n",
    "expected                # check expected counts\n",
    "\n",
    "chi_squared_statistic <-  sum(((observed-expected)^2)/expected)  # calculate the statistic\n",
    "\n",
    "chi_squared_statistic"
   ]
  },
  {
   "cell_type": "markdown",
   "metadata": {},
   "source": [
    "*Note: the chi-squared tests assumes none of the expected counts are less than 5.\n",
    "\n",
    "Simlar to the t-test where we compared the t-test statistic to a critical value based on the t-distribuiton to determine whether the result is significant, in the chi-square test we compare the chi-square test statistic to a critical value based on the chi-square distribuiton. In R, the nickname for the chi-square distribuiton is \"chisq\", so we can use the functions rchisq(), pchisq(), qchisq() and dchisq() to work with it like any other probability distribution. Let's use this knowledge to find the critical value for 95% confidence level and check the p-value of our result:"
   ]
  },
  {
   "cell_type": "code",
   "execution_count": 3,
   "metadata": {
    "collapsed": false
   },
   "outputs": [
    {
     "data": {
      "text/html": [
       "9.48772903678115"
      ],
      "text/latex": [
       "9.48772903678115"
      ],
      "text/markdown": [
       "9.48772903678115"
      ],
      "text/plain": [
       "[1] 9.487729"
      ]
     },
     "execution_count": 3,
     "metadata": {},
     "output_type": "execute_result"
    },
    {
     "data": {
      "text/html": [
       "0.00113046973828934"
      ],
      "text/latex": [
       "0.00113046973828934"
      ],
      "text/markdown": [
       "0.00113046973828934"
      ],
      "text/plain": [
       "[1] 0.00113047"
      ]
     },
     "execution_count": 3,
     "metadata": {},
     "output_type": "execute_result"
    }
   ],
   "source": [
    "qchisq(p=0.95,       # find the critical value for 95% significance*\n",
    "       df=4)         # degrees of freedom = number of variable categories - 1\n",
    "\n",
    "1-pchisq(q=18.1948,  # find the p-value for the chi-square statistic\n",
    "         df=4)"
   ]
  },
  {
   "cell_type": "markdown",
   "metadata": {},
   "source": [
    "*Note: we are only interested in the right tail of the chi-square distribution. Read more on this here.\n",
    "\n",
    "Since our chi-squared statistic exceeds the critical value, we'd reject the null hypothesis that the two distribuions are the same.\n",
    "\n",
    "You can carry out a chi-squared goodness-of-fit test automatically using the built-in R function chisq.test():"
   ]
  },
  {
   "cell_type": "code",
   "execution_count": 4,
   "metadata": {
    "collapsed": false
   },
   "outputs": [
    {
     "data": {
      "text/plain": [
       "\n",
       "\tChi-squared test for given probabilities\n",
       "\n",
       "data:  observed\n",
       "X-squared = 18.1948, df = 4, p-value = 0.00113\n"
      ]
     },
     "execution_count": 4,
     "metadata": {},
     "output_type": "execute_result"
    }
   ],
   "source": [
    "chisq.test(x= observed,          # table of observed counts\n",
    "           p= national_ratios)   # expected proportions"
   ]
  },
  {
   "cell_type": "markdown",
   "metadata": {},
   "source": [
    "The test results agree with the values we calcualted earlier."
   ]
  },
  {
   "cell_type": "markdown",
   "metadata": {},
   "source": [
    "### Chi-Squared Test of Independence"
   ]
  },
  {
   "cell_type": "markdown",
   "metadata": {},
   "source": [
    "Independence is a key concept in probability that describes a situation where knowing the value of one variable tells you nothing about the value of another. For instance, the month you were born doesn't tell you anything where they were born, so month of birth and place of birth are independent. On the other hand, your month of bright might be related to whether you excelled at sports in school, so month of birth and sports performance may be dependent.\n",
    "\n",
    "The chi-squared test of independence tests whether two categorical variables are independent. The test of independence is commonly used to determine whether variables like education, political views and other preferences vary based on demographic categories like gender, race and religion. Let's generate fake voter polling data and perform a test of independence:"
   ]
  },
  {
   "cell_type": "code",
   "execution_count": 5,
   "metadata": {
    "collapsed": false
   },
   "outputs": [
    {
     "data": {
      "text/plain": [
       "voter_race\n",
       "   asian    black hispanic    other    white \n",
       "      38      147      225      129      461 "
      ]
     },
     "execution_count": 5,
     "metadata": {},
     "output_type": "execute_result"
    },
    {
     "data": {
      "text/plain": [
       "          voter_party\n",
       "voter_race democrat independent republican\n",
       "  asian          13          11         14\n",
       "  black          62          31         54\n",
       "  hispanic      104          34         87\n",
       "  other          47          25         57\n",
       "  white         194          75        192"
      ]
     },
     "execution_count": 5,
     "metadata": {},
     "output_type": "execute_result"
    }
   ],
   "source": [
    "set.seed(12)\n",
    "voter_race <- sample(c(\"white\", \"hispanic\", \"black\", \"asian\", \"other\"),  # generate race data\n",
    "                     prob = c(0.5, 0.25 ,0.15, 0.05, 0.15), \n",
    "                     size=1000,\n",
    "                     replace=TRUE)\n",
    "\n",
    "table(voter_race)         # check counts\n",
    "\n",
    "voter_party <- sample(c(\"democrat\",\"republican\",\"independent\"),  # generate party data\n",
    "                     prob = c(0.4, 0.4, 0.2), \n",
    "                     size=1000,\n",
    "                     replace=TRUE)\n",
    "\n",
    "voter_table <- table(voter_race, voter_party) \n",
    "voter_table"
   ]
  },
  {
   "cell_type": "markdown",
   "metadata": {},
   "source": [
    "Note that we generated the voter_party data completely independently of the voter_race data, so our test should not detect dependence.\n",
    "\n",
    "For a test of independence we use the same chi-squared formula that we used for the goodness-of-fit test. The main difference is we have to calulate the expected counts of each cell in a 2-dimensional table instead of a 1-dimensional table. To get the expected count for a cell, multiply the row total by the column total and the divide by the total number of observations. We can quickly get the expected counts for all cells in the table by taking the rowSums() and colSums() of the table, performing an outer product on them with the outer() function and dividing then by the number of observations."
   ]
  },
  {
   "cell_type": "code",
   "execution_count": 6,
   "metadata": {
    "collapsed": false
   },
   "outputs": [
    {
     "data": {
      "text/html": [
       "<table>\n",
       "<thead><tr><th></th><th scope=col>democrat</th><th scope=col>independent</th><th scope=col>republican</th></tr></thead>\n",
       "<tbody>\n",
       "\t<tr><th scope=row>asian</th><td>15.960</td><td> 6.688</td><td>15.352</td></tr>\n",
       "\t<tr><th scope=row>black</th><td>61.740</td><td>25.872</td><td>59.388</td></tr>\n",
       "\t<tr><th scope=row>hispanic</th><td>94.5</td><td>39.6</td><td>90.9</td></tr>\n",
       "\t<tr><th scope=row>other</th><td>54.180</td><td>22.704</td><td>52.116</td></tr>\n",
       "\t<tr><th scope=row>white</th><td>193.620</td><td> 81.136</td><td>186.244</td></tr>\n",
       "</tbody>\n",
       "</table>\n"
      ],
      "text/latex": [
       "\\begin{tabular}{r|lll}\n",
       "  & democrat & independent & republican\\\\\n",
       "\\hline\n",
       "\tasian & 15.960 &  6.688 & 15.352\\\\\n",
       "\tblack & 61.740 & 25.872 & 59.388\\\\\n",
       "\thispanic & 94.5 & 39.6 & 90.9\\\\\n",
       "\tother & 54.180 & 22.704 & 52.116\\\\\n",
       "\twhite & 193.620 &  81.136 & 186.244\\\\\n",
       "\\end{tabular}\n"
      ],
      "text/markdown": [
       "1. 15.96\n",
       "2. 61.74\n",
       "3. 94.5\n",
       "4. 54.18\n",
       "5. 193.62\n",
       "6. 6.688\n",
       "7. 25.872\n",
       "8. 39.6\n",
       "9. 22.704\n",
       "10. 81.136\n",
       "11. 15.352\n",
       "12. 59.388\n",
       "13. 90.9\n",
       "14. 52.116\n",
       "15. 186.244\n",
       "\n",
       "\n"
      ],
      "text/plain": [
       "         democrat independent republican\n",
       "asian       15.96       6.688     15.352\n",
       "black       61.74      25.872     59.388\n",
       "hispanic    94.50      39.600     90.900\n",
       "other       54.18      22.704     52.116\n",
       "white      193.62      81.136    186.244"
      ]
     },
     "execution_count": 6,
     "metadata": {},
     "output_type": "execute_result"
    }
   ],
   "source": [
    "expected <- outer(rowSums(voter_table),      # take the outer product of row and col totals\n",
    "                  colSums(voter_table))/sum(voter_table)     # divide by number of obs\n",
    "\n",
    "expected         # inspect expected values"
   ]
  },
  {
   "cell_type": "markdown",
   "metadata": {},
   "source": [
    "Now we can follow the same steps we took before to calculate the chi-square statistic, the critical value and the p-value:"
   ]
  },
  {
   "cell_type": "code",
   "execution_count": 7,
   "metadata": {
    "collapsed": false
   },
   "outputs": [
    {
     "data": {
      "text/html": [
       "9.15281415482329"
      ],
      "text/latex": [
       "9.15281415482329"
      ],
      "text/markdown": [
       "9.15281415482329"
      ],
      "text/plain": [
       "[1] 9.152814"
      ]
     },
     "execution_count": 7,
     "metadata": {},
     "output_type": "execute_result"
    },
    {
     "data": {
      "text/html": [
       "15.5073130558655"
      ],
      "text/latex": [
       "15.5073130558655"
      ],
      "text/markdown": [
       "15.5073130558655"
      ],
      "text/plain": [
       "[1] 15.50731"
      ]
     },
     "execution_count": 7,
     "metadata": {},
     "output_type": "execute_result"
    },
    {
     "data": {
      "text/html": [
       "0.329569301732227"
      ],
      "text/latex": [
       "0.329569301732227"
      ],
      "text/markdown": [
       "0.329569301732227"
      ],
      "text/plain": [
       "[1] 0.3295693"
      ]
     },
     "execution_count": 7,
     "metadata": {},
     "output_type": "execute_result"
    }
   ],
   "source": [
    "chi_squared_statistic <-  sum(((voter_table-expected)^2)/expected)  # calculate the statistic\n",
    "\n",
    "chi_squared_statistic\n",
    "\n",
    "qchisq(p=0.95,         # find the critical value for 95% significance\n",
    "       df=8)           # degrees of freedom*\n",
    "\n",
    "1-pchisq(q=chi_squared_statistic,   # find the p-value for the chi-square statistic\n",
    "         df=8)"
   ]
  },
  {
   "cell_type": "markdown",
   "metadata": {},
   "source": [
    "*Note: the degrees of freedom for a test of indepenedence equal the product of the number of categories in each variable minus 1. In this case we have a 5x3 table so df = 4*2.\n",
    "\n",
    "As with the goodness-of-fit test, we can use the chisq.test() function to conuct a test of independence automatically:"
   ]
  },
  {
   "cell_type": "code",
   "execution_count": 8,
   "metadata": {
    "collapsed": false
   },
   "outputs": [
    {
     "data": {
      "text/plain": [
       "\n",
       "\tPearson's Chi-squared test\n",
       "\n",
       "data:  voter_race and voter_party\n",
       "X-squared = 9.1528, df = 8, p-value = 0.3296\n"
      ]
     },
     "execution_count": 8,
     "metadata": {},
     "output_type": "execute_result"
    }
   ],
   "source": [
    "chisq.test(x=voter_race,   # first variable to test\n",
    "           y=voter_party)  # second varaible to test"
   ]
  },
  {
   "cell_type": "markdown",
   "metadata": {},
   "source": [
    "As expected, the test does not detect a significant relationship bewteen the variables."
   ]
  },
  {
   "cell_type": "markdown",
   "metadata": {},
   "source": [
    "### Wrap Up"
   ]
  },
  {
   "cell_type": "markdown",
   "metadata": {},
   "source": [
    "Chi-squared tests provide a way to investigate differences in the distributions of categorical variables with the same levels and the dependence bewteen categorical variables with different levels. In the next lesson, we'll learn about a third statistical inference test, the analysis of variance, that lets us compare several sample means at the same time."
   ]
  },
  {
   "cell_type": "markdown",
   "metadata": {},
   "source": [
    "### Introduction to R Part 26: Analysis of Variance (ANOVA)"
   ]
  }
 ],
 "metadata": {
  "kernelspec": {
   "display_name": "R",
   "language": "R",
   "name": "ir"
  },
  "language_info": {
   "codemirror_mode": "r",
   "file_extension": ".r",
   "mimetype": "text/x-r-source",
   "name": "R",
   "pygments_lexer": "r",
   "version": "3.2.2"
  }
 },
 "nbformat": 4,
 "nbformat_minor": 0
}
