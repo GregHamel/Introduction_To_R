{
 "cells": [
  {
   "cell_type": "markdown",
   "metadata": {},
   "source": [
    "# Introduction to R Part 20: Plotting with ggplot2"
   ]
  },
  {
   "cell_type": "markdown",
   "metadata": {},
   "source": [
    "Last lesson we took a whirlwind tour of R's built in plotting functions. Built in functions can take you a long way, but a dedicated plotting package can give you access to more advanced plotting capabilities and nicer aesthetics. The ggplot2 is a popular package for graphics in R that lets you take your plots to the next level.\n",
    "\n",
    "First, let's install and load ggplot2:"
   ]
  },
  {
   "cell_type": "code",
   "execution_count": 18,
   "metadata": {
    "collapsed": true
   },
   "outputs": [],
   "source": [
    "# install.packages(\"ggplot2\")   # uncomment and run if you need gpplot2\n",
    "\n",
    "library(\"ggplot2\")"
   ]
  },
  {
   "cell_type": "markdown",
   "metadata": {},
   "source": [
    "### ggplot2 Basics and qplot()"
   ]
  },
  {
   "cell_type": "markdown",
   "metadata": {},
   "source": [
    "The ggplot2 package is based on the principle that all plots consist of a few basic components: data, a coordinate system and a visual represenation of the data. In ggplot2, you built plots incrementally, starting with the data and coordinates you want to use and then specifying the graphical features: lines, points, bars, color, etc.\n",
    "\n",
    "The ggplot 2 package has two basic plotting functions qplot() (quick plot) and ggplot() (grammar of graphics plot.). The qplot() function is similar to the base R plot() function in that it only requires a single function call and it can create several different types of plots. qplot() can be useful for quick plotting, but it doesn't allow for as much flexibilty as ggplot(). \n",
    "\n",
    "We are not going to spend much time learning about qplot() since learning the ggplot() syntax is at the heart of the pacakge. I'll make one qplot for illustrative purposes and then we'll move on:"
   ]
  },
  {
   "cell_type": "code",
   "execution_count": 2,
   "metadata": {
    "collapsed": false
   },
   "outputs": [],
   "source": [
    "dummy <- qplot(x = carat,                            # x variable\n",
    "      y = price,                            # y variable\n",
    "      data = diamonds,                      # data set\n",
    "      geom = \"point\",                       # plot type\n",
    "      color = clarity,                      # color points by variable clarity\n",
    "      xlab = \"Carat Weight\",                # x label\n",
    "      ylab = \"Price\",                       # y label\n",
    "      main = \"Diamond Carat vs. Price\");     # title"
   ]
  },
  {
   "cell_type": "markdown",
   "metadata": {},
   "source": [
    "### Using ggplot()"
   ]
  },
  {
   "cell_type": "markdown",
   "metadata": {},
   "source": [
    "The ggplot() function creates plots incrementally in layers. Every ggplot starts with the same basic syntax:"
   ]
  },
  {
   "cell_type": "code",
   "execution_count": 3,
   "metadata": {
    "collapsed": false
   },
   "outputs": [
    {
     "ename": "ERROR",
     "evalue": "Error: No layers in plot\n",
     "output_type": "error",
     "traceback": [
      "Error: No layers in plot\n"
     ]
    }
   ],
   "source": [
    "ggplot(data=diamonds,             # call to ggplot() and data frame to work with\n",
    "      aes(x=carat, y=price))      # aesthetics to assign"
   ]
  },
  {
   "cell_type": "markdown",
   "metadata": {},
   "source": [
    "In the code above, we specify the data we want to work with and then assign the variables of interest, carat and price, to the x and y values of the plot. \"aes()\" is an aesthetics wrapper used in ggplot to map variables to visual properties. Bascially, when you are specifying something that changes based on a varaible in the data, that specification belongs inside an aes() wrapper. If you are setting a fixed value that doesn't change based a variable, it belongs oustide of aes().\n",
    "\n",
    "Note that running the code above didn't actually produce a plot. When you use the ggplot() syntax, the call to ggplot() initializes the plot, but nothing will actually be plotted until you add a visual layer. Let's add a layer of points to the plot using geom_point():"
   ]
  },
  {
   "cell_type": "code",
   "execution_count": 4,
   "metadata": {
    "collapsed": false
   },
   "outputs": [],
   "source": [
    "dummy <- ggplot(data=diamonds, aes(x=carat, y=price)) +  # initialize plot \n",
    "      geom_point()                            # add a layer of points (make scatterplot)"
   ]
  },
  {
   "cell_type": "markdown",
   "metadata": {},
   "source": [
    "*Note: add layer elements by adding a \"+\" after each element.\n",
    "\n",
    "The layers you add determine the type of plot you create. In this case, we used geom_point() which simply draws the data as points at the specified x and y coordinates, creating a scatterplot. ggplot2 has a wide range of geoms to create different types of plots. Here is a list of geoms for all the plot types we covered in the last lesson, plus a few more:"
   ]
  },
  {
   "cell_type": "code",
   "execution_count": 5,
   "metadata": {
    "collapsed": true
   },
   "outputs": [],
   "source": [
    "# geom_histogram()  # histogram\n",
    "# geom_density()    # density plot\n",
    "# geom_boxplot()    # boxplot\n",
    "# geom_violin()     # violin plot (combination of boxplot and density plot)\n",
    "# geom_bar()        # bar graph\n",
    "# geom_point()      # scatterplot\n",
    "# geom_jitter()     # scatterplot with points randomly perturbed to reduce overlap\n",
    "# geom_line()       # line graph\n",
    "# geom_errorbar()   # add error bar\n",
    "# geom_smooth()     # add a best-fit line\n",
    "# geom_abline       # add a line with specified slope and intercept"
   ]
  },
  {
   "cell_type": "markdown",
   "metadata": {},
   "source": [
    "Notice the scatterplot we made above didn't have the nice coloring we had in the qplot(). We could have assigned colors to the points based on the clarity variable by adding an aesthetics mapping when we added the geom_point() layer:"
   ]
  },
  {
   "cell_type": "code",
   "execution_count": 6,
   "metadata": {
    "collapsed": false
   },
   "outputs": [],
   "source": [
    "dummy <- ggplot(data=diamonds, aes(x=carat, y=price)) +  # initialize plot \n",
    "       geom_point(aes(color = clarity))         # add color based on clarity"
   ]
  },
  {
   "cell_type": "markdown",
   "metadata": {},
   "source": [
    "Note how many of the data points overlap. One way to get a better sense of overlapping data is to make the data points partially transparent. You can specify transparency with the alpha argument:"
   ]
  },
  {
   "cell_type": "code",
   "execution_count": 7,
   "metadata": {
    "collapsed": false
   },
   "outputs": [],
   "source": [
    "dummy <- ggplot(data=diamonds, aes(x=carat, y=price)) +          # initialize plot \n",
    "       geom_point(aes(color = clarity), alpha = 0.1)    # add transparency"
   ]
  },
  {
   "cell_type": "markdown",
   "metadata": {},
   "source": [
    "*Note: We pass alpha in as an argument outside of the aes() mapping because we are setting alpha to a fixed value instead of mapping it to a variable.\n",
    "\n",
    "By setting alpha to 0.1, each data point has 90% transparency. At such high transparency, single data points are hard to see, but it lets us focus on high density areas. Let's focus in on the higher density areas even further by limiting the range of the X axis to 2.5 carats."
   ]
  },
  {
   "cell_type": "code",
   "execution_count": 8,
   "metadata": {
    "collapsed": false
   },
   "outputs": [],
   "source": [
    "dummy <- ggplot(data=diamonds, aes(x=carat, y=price)) +  # initialize plot \n",
    "       geom_point(aes(color = clarity), alpha = 0.1)  +  # add transparency\n",
    "       xlim(0,2.5)                                       # specify x-axis range"
   ]
  },
  {
   "cell_type": "markdown",
   "metadata": {},
   "source": [
    "Notice the warning message. xlim and ylim delete any points that lie outside the specified plot range. "
   ]
  },
  {
   "cell_type": "markdown",
   "metadata": {},
   "source": [
    "### More Plot Examples"
   ]
  },
  {
   "cell_type": "markdown",
   "metadata": {},
   "source": [
    "Now that we know the basics of creating plots with ggplot(), let's remake some of the plots we created last time and see how they look in ggplot2, starting with a histogram:"
   ]
  },
  {
   "cell_type": "code",
   "execution_count": 9,
   "metadata": {
    "collapsed": false
   },
   "outputs": [],
   "source": [
    "# Create a histogram of carat\n",
    "\n",
    "dummy <- ggplot(data=diamonds, aes(x=carat)) +      # initialize plot \n",
    "\n",
    "       geom_histogram(fill=\"skyblue\",      # create histogram with blue bars\n",
    "                      col=\"black\",         # set bar outline color to black\n",
    "                      binwidth = 0.05) +   # set bin width\n",
    "\n",
    "       xlim(0,3)                           # add x-axis limits"
   ]
  },
  {
   "cell_type": "markdown",
   "metadata": {},
   "source": [
    "The scales and background on ggplot2 look a bit nicer than the base plotting functions.\n",
    "\n",
    "Now let's make side by side boxplots split on clarity with an extra twist: let's also include the data points as a layer behind the boxplots. We can add the points with geom_jitter(). geom_jitter() is similar to geom_point() except that it adds a little random variation (jitter) that spreads data points apart so they don't overlap as much as they would otherwise. In the case of a boxplot, jitter spreads data points horizontally so we should notice thick bands of points at common carat sizes."
   ]
  },
  {
   "cell_type": "code",
   "execution_count": 10,
   "metadata": {
    "collapsed": false
   },
   "outputs": [],
   "source": [
    "# Create boxplot of carat split on clarity with points added\n",
    "\n",
    "dummy <- ggplot(data=diamonds, aes(x=clarity, y=carat)) +  # initialize plot \n",
    "\n",
    "       geom_jitter(alpha=0.05,          # add jittered data points with transparency\n",
    "                    color=\"pink\") +     # set data point color\n",
    "\n",
    "       geom_boxplot(outlier.shape=1,     # create boxplot and set outlier shape\n",
    "                    alpha = 0  )         # make inner boxplot area transparent"
   ]
  },
  {
   "cell_type": "markdown",
   "metadata": {},
   "source": [
    "Adding jittered data points and then drawing the boxplots on top of them gives us a better sense of the distributions than boxpots alone. We can clearly see bands of data points at certan carat sizes like 1, 1.5 and 2. Let's investigate the distributions further by creating a violin plot:"
   ]
  },
  {
   "cell_type": "code",
   "execution_count": 21,
   "metadata": {
    "collapsed": false
   },
   "outputs": [],
   "source": [
    "# Create violin plot of carat split on clarity with points added\n",
    "\n",
    "dummy <- ggplot(data=diamonds, aes(x=clarity, y=carat)) +   # initialize plot \n",
    "\n",
    "       geom_violin(aes(color=clarity, fill=clarity), # make violin plot with color\n",
    "                alpha = 0.25)              # make inner plot area partially transparent"
   ]
  },
  {
   "cell_type": "markdown",
   "metadata": {},
   "source": [
    "A violin plot is a mixture of a boxplot and a density plot. The shape of the plots give us a sense of where the bulk of the data is clustered. The chart shows us that, the majority of high clarity diamonds are small while diamonds at the lower end of the clarity spectrum tend to be larger.\n",
    "\n",
    "Now let's make a grouped barplot that looks like the one we made last time:"
   ]
  },
  {
   "cell_type": "code",
   "execution_count": 12,
   "metadata": {
    "collapsed": false
   },
   "outputs": [],
   "source": [
    "dummy <- ggplot(data=diamonds, aes(x=clarity)) +        # initialize plot \n",
    "\n",
    "       geom_bar(aes(fill=color),               # create bar plot, fill based on variable color\n",
    "                color=\"black\",                 # set bar outline color\n",
    "                position=\"dodge\") +            # place bars side by side\n",
    "\n",
    "       scale_fill_manual(values=c(\"#FFFFFF\",\"#F5FCC2\",     # use custom fill colors\n",
    "        \"#E0ED87\",\"#CCDE57\", \"#B3C732\",\"#94A813\",\"#718200\"))"
   ]
  },
  {
   "cell_type": "markdown",
   "metadata": {},
   "source": [
    "The syntax for ggplot is a little more verbose than base R plotting, but the result is a plot that is crisper with helpful gridlines. The logical and incremental ggplot2 syntax also give you finer-grained control over your plots.\n",
    "\n",
    "Now let's make a density plot of carat weight. Instead of a simple density curve like we did last lesson, let's make a stacked density plot that sections the density curve based on diamond cut:"
   ]
  },
  {
   "cell_type": "code",
   "execution_count": 13,
   "metadata": {
    "collapsed": false
   },
   "outputs": [],
   "source": [
    "dummy <- ggplot(data=diamonds, aes(x=carat)) +       # initialize plot \n",
    "        xlim(0,2.5)                 +       # limit the x-axis*\n",
    "\n",
    "        geom_density(position=\"stack\",      # create a stacked density chart\n",
    "                     aes(fill=cut),         # fill based on cut\n",
    "                     alpha = 0.5)           # set transparency"
   ]
  },
  {
   "cell_type": "markdown",
   "metadata": {},
   "source": [
    "*Note: limiting the x-axis elimated some values which resulted in a few warnings.\n",
    "\n",
    "Stacked density charts can be a little messy, but the plot gives us a sense of how diamond cuts vary based on the dize of the diamond. It appears that ideal cut diamonds tend to be small while larger diamonds are more likely to have low cut grades.\n",
    "\n",
    "Finally, let's remake the line plot we created last time using ggplot2:"
   ]
  },
  {
   "cell_type": "code",
   "execution_count": 14,
   "metadata": {
    "collapsed": false
   },
   "outputs": [],
   "source": [
    "years <- seq(1950,2015,1)                         # create some dummy data\n",
    "readings <- (years-1900) + runif(66,0,20)\n",
    "data <- data.frame(years,readings)\n",
    "\n",
    "\n",
    "dummy <- ggplot(data=data, aes(x=years,y=readings)) +       # initialize plot \n",
    "\n",
    "        geom_line(color=\"red\",                     # draw a line plot\n",
    "                  size = 1)    +\n",
    "\n",
    "        geom_point(shape=10,                       # display the points\n",
    "                  size=2.5)    +\n",
    "\n",
    "        geom_smooth(method=lm) +                   # add a linear best fit line\n",
    "\n",
    "        xlab(\"Year\") + ylab(\"Readings\") +          # change axis labels\n",
    "\n",
    "        ggtitle(\"Example Time Series Plot\")        # add a title"
   ]
  },
  {
   "cell_type": "markdown",
   "metadata": {},
   "source": [
    "### Multidimensional Plotting and Faceting"
   ]
  },
  {
   "cell_type": "markdown",
   "metadata": {},
   "source": [
    "One of the most powerful aspects of plots is the ability to visually illustrate relationships between 3 or more variables. When we create a plot, each different dimension (variable) needs to map to a different perceptual feature (aesthetic) such as x position, y position, symbol, size or color. Making use of several of these aesthetics at once lets us make plots invovling many dimensions. We've already seen some examples of multidemnsional plots, such as the first scatterplot in this lesson that displayed carat weight and price colored by clarity.\n",
    "\n",
    "Faceting is another way to add an extra dimension to a plot. Faceting breaks a plot up based on a factor variable and draws a different plot for each level of the factor. You can create a faceted plot in ggplot2 by adding a facet_wrap() layer:"
   ]
  },
  {
   "cell_type": "code",
   "execution_count": 15,
   "metadata": {
    "collapsed": false
   },
   "outputs": [],
   "source": [
    "dummy <- ggplot(data=diamonds, aes(x=carat, y=price)) +      # initialize plot \n",
    "\n",
    "        geom_point(aes(color=color),                # color based on diamond color\n",
    "                        alpha=0.5)     +\n",
    "\n",
    "        facet_wrap(~clarity)           +            # facet on clarity\n",
    "\n",
    "        geom_smooth()                  +            # add an estimated fit line*\n",
    "\n",
    "        theme(legend.position=c(0.85,0.16))         # set legend position\n"
   ]
  },
  {
   "cell_type": "markdown",
   "metadata": {},
   "source": [
    "*Note: geom_smooth() uses a locally weighted fitting function by default, which can curve to fit the data.\n",
    "\n",
    "This plot gives us some extra insight into the impact clarity has on price: at given carat weights, higher clarity diamonds tend to fetch higher prices. Also note that within each facet, diamonds with better color tend to be at the top end of the price curve."
   ]
  },
  {
   "cell_type": "markdown",
   "metadata": {},
   "source": [
    "### Scales"
   ]
  },
  {
   "cell_type": "markdown",
   "metadata": {
    "collapsed": true
   },
   "source": [
    "Scales are parameters in ggplot2 that determine how a plot maps values to visual properties (aesthetics.). If you don't specify a scale for an aesthetic the plot will use a default scale. For instance, the plots we split on color all used a default color scale. You can specify custom scales by adding scale elements to your plot. Scale elements have the following structure:\n",
    "\n",
    "scale_aesthetic_scaletype() \n",
    "\n",
    "We already saw an example of a scale when made the grouped barplot above. In that case we wanted to manually set the fill color scale for the bars, so the scale we used was:\n",
    "\n",
    "scale_fill_manual()  \n",
    "\n",
    "Let's make a new scatterplot with several aesthetic properties and alter some of the scales:"
   ]
  },
  {
   "cell_type": "code",
   "execution_count": 16,
   "metadata": {
    "collapsed": false
   },
   "outputs": [],
   "source": [
    "dummy <- ggplot(data=diamonds, aes(x=carat, y=price)) +  # initialize plot \n",
    "  \n",
    "  geom_point(aes(size = carat,          # size points based on carat\n",
    "                 color = color,         # color based on diamond color\n",
    "                 alpha = clarity)) +    # set transparency based on diamond clarity\n",
    "                           \n",
    "  scale_color_manual( values=c(\"#FFFFFF\",\"#F5FCC2\",   # use manual color values\n",
    "                               \"#E0ED87\",\"#CCDE57\", \n",
    "                               \"#B3C732\",\"#94A813\",\n",
    "                               \"#718200\")) +\n",
    "  \n",
    "  scale_alpha_manual(values = c(0.1,0.15,0.2,         # use manual alpha values\n",
    "                                0.3,0.4,0.6,\n",
    "                                0.8,1)) + \n",
    "  \n",
    "  scale_size_identity() +           # set size values to the actual values of carat*\n",
    "  \n",
    "  xlim(0,2.5) +                     # limit x-axis\n",
    "  \n",
    "  theme(panel.background = element_rect(fill = \"#7FB2B8\")) +   # change background color\n",
    "  \n",
    "  theme(legend.key = element_rect(fill = '#7FB2B8'))    # change legend background color"
   ]
  },
  {
   "cell_type": "markdown",
   "metadata": {
    "collapsed": true
   },
   "source": [
    "*Note: Scale \"identity\" makes ggplot use the actual values of the variable associated with the given aesthetic property to scale the property. In this case carat has been assigned to the size property, so the sizes of the points are based on the values of the carat variable, meaning diamonds with more carats appear larger on the plot.\n",
    "\n",
    "The plot above just scratches the surface of what is possible with scales. A comprhensive look at scales and other plot options like themes is outside the scope of this brief overview; check out this ggplot2 reference sheet for a summary of common plotting options."
   ]
  },
  {
   "cell_type": "markdown",
   "metadata": {},
   "source": [
    "### Saving Plots"
   ]
  },
  {
   "cell_type": "markdown",
   "metadata": {},
   "source": [
    "You can save plots you make with ggplot2 in RStudio the same way you save base R plots: click \"export\" in the plots pane in the bottom right corner of RStudio and select your desired output format and location. Alternatively, you can run the ggsave() command to save the most recent plot to a file:"
   ]
  },
  {
   "cell_type": "code",
   "execution_count": 17,
   "metadata": {
    "collapsed": false
   },
   "outputs": [],
   "source": [
    "# ggsave(\"my_plot.png\",   # name of file where you wish to save the plot\n",
    "#        width = 7,       # width of plot image in inches\n",
    "#        height = 7)      # height of plot image in inches"
   ]
  },
  {
   "cell_type": "markdown",
   "metadata": {},
   "source": [
    "### Wrap Up"
   ]
  },
  {
   "cell_type": "markdown",
   "metadata": {},
   "source": [
    "The ggplot2 package can do everything we learned to do with R's base plotting functions and then some. The scaling and axes in ggplot2 make charts easier to read and while the syntax for plotting is a more verbose it follows a logical, step by step structure that makes it easy and powerful to work with. Base R's plotting functions are still useful for rapid plotting and first-brush data exploration, but ggplot2 is there if you need to take your plots to the next level."
   ]
  },
  {
   "cell_type": "markdown",
   "metadata": {},
   "source": [
    "### Next Time: Introduction to R Part 21: TBD"
   ]
  }
 ],
 "metadata": {
  "kernelspec": {
   "display_name": "R",
   "language": "R",
   "name": "ir"
  },
  "language_info": {
   "codemirror_mode": "r",
   "file_extension": ".r",
   "mimetype": "text/x-r-source",
   "name": "R",
   "pygments_lexer": "r",
   "version": "3.1.3"
  }
 },
 "nbformat": 4,
 "nbformat_minor": 0
}
