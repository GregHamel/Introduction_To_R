{
 "cells": [
  {
   "cell_type": "markdown",
   "metadata": {},
   "source": [
    "# Introduction to R Part 22: Probability Distributions"
   ]
  },
  {
   "cell_type": "markdown",
   "metadata": {},
   "source": [
    "Many statistical tools and techniques used in data analysis are based on probability. Probability measures how likely it is for an event to occur on a scale from 0 (the event never occurs) to 1 (the event always occurs.). When working with data, variables in the columns of the data set can be thought of as random variables: variables that vary due to chance. A probability distribution describes how a random variable is distributed; it tells us which values a random variable is most likely to take on and which values are less likely.\n",
    "\n",
    "In statistics, there are a range of precisely defined probability distributions that have different shapes and can be used to model different types of random events. In this lesson we'll discuss some common probabilty distributions and how to work with them in R."
   ]
  },
  {
   "cell_type": "markdown",
   "metadata": {},
   "source": [
    "### Distribution Function Basics and The Uniform Distribution"
   ]
  },
  {
   "cell_type": "markdown",
   "metadata": {},
   "source": [
    "The uniform distribution is a probability distribution where each value within a certain range is equally likely to occur and values outside of the range never occur. If we make a density plot of a uniform distribution, it appears flat because no value is any more likely (and hence has any more density) than another:"
   ]
  },
  {
   "cell_type": "code",
   "execution_count": 1,
   "metadata": {
    "collapsed": false
   },
   "outputs": [],
   "source": [
    "uniform_data <- runif(1000000,0,10)   # generate data from a uniform distribution\n",
    "\n",
    "# plot(density(uniform_data ))          # create a density plot"
   ]
  },
  {
   "cell_type": "markdown",
   "metadata": {},
   "source": [
    "*Note: the plot above is an approxiation of the underlying distribution, since it is based on a sample of obeservations.\n",
    "\n",
    "In the code above we generated 1 million data points from a uniform distribution spanning the range 0 to 10. In the densitiy plot we see that the density of our uniform data is essentially level meaning any given value has the same probability of occuring. The area under a probability density curve is always equal to 1.\n",
    "\n",
    "Every probability distribution in R comes with 4 functions prefixes: \"r\", \"p\" ,\"q\" and \"d\". When working probability distributions in R, your function calls will start with one of these four prefixes followed by a name for the type distribution you're working with. For instance, the R name for the uniform distribution is \"unif\" so the uniform distribution functions available to us are runif(), punif(), qunif() and dunif(). Let's go over each of these prefixes in deatil.\n",
    "\n",
    "The \"r\" prefix is used to generate random numbers from the specified distribution. As you may have noticed in previous lessons, we've used the runif() function many times generate random numbers. The arguments you supply when generating random numbers depend on the type of distribution you're using. In the case of the uniform, we have to specify how many random numbers we want to generate and then the range of the distribution:"
   ]
  },
  {
   "cell_type": "code",
   "execution_count": 2,
   "metadata": {
    "collapsed": true
   },
   "outputs": [],
   "source": [
    "more_random_data <- runif(n=10000,   # generate 10,000 numbers\n",
    "                          min=0,     # in the range 0\n",
    "                          max=10)    # to 10"
   ]
  },
  {
   "cell_type": "markdown",
   "metadata": {},
   "source": [
    "The prefix \"p\" is used to determine the probability that an observation drawn from a distribution falls below a specified value (known as the cumulative distribution function.). In essense, \"p\" gives you the area under the distribution's density curve to the left of a certain value on the x axis. For example, in the uniform distribution above, there is a 25% chance that an observation will be in the range 0 to 2.5 and a 75% chance it will fall in the range 2.5 to 10. We can confirm this with punif():"
   ]
  },
  {
   "cell_type": "code",
   "execution_count": 3,
   "metadata": {
    "collapsed": false
   },
   "outputs": [
    {
     "data": {
      "text/html": [
       "0.25"
      ],
      "text/latex": [
       "0.25"
      ],
      "text/markdown": [
       "0.25"
      ],
      "text/plain": [
       "[1] 0.25"
      ]
     },
     "execution_count": 3,
     "metadata": {},
     "output_type": "execute_result"
    }
   ],
   "source": [
    "punif(q = 2.5,      # cutoff value (quantile) to check\n",
    "      min=0,                 \n",
    "      max=10)                "
   ]
  },
  {
   "cell_type": "markdown",
   "metadata": {},
   "source": [
    "The prefix \"q\" is the inverse of the prefix \"p\": it returns the cutoff value (quantile) associated with a given probability. For instance, if we want to know the cutoff value for which we have a 40% chance of drawing an observation below that value, we can use q:"
   ]
  },
  {
   "cell_type": "code",
   "execution_count": 4,
   "metadata": {
    "collapsed": false
   },
   "outputs": [
    {
     "data": {
      "text/html": [
       "4"
      ],
      "text/latex": [
       "4"
      ],
      "text/markdown": [
       "4"
      ],
      "text/plain": [
       "[1] 4"
      ]
     },
     "execution_count": 4,
     "metadata": {},
     "output_type": "execute_result"
    }
   ],
   "source": [
    "qunif(p = 0.4,      # probability cutoff\n",
    "      min = 0, \n",
    "      max = 10)"
   ]
  },
  {
   "cell_type": "markdown",
   "metadata": {},
   "source": [
    "Finally the \"d\" prefix gives you the density (height of the density curve) at a given point. Our plot of randomly generated unform data was flat at 0.1 so the densitiy of the distribution should be constant at 0.1 throughout the range 0 to 10:"
   ]
  },
  {
   "cell_type": "code",
   "execution_count": 5,
   "metadata": {
    "collapsed": false
   },
   "outputs": [
    {
     "data": {
      "text/html": [
       "0.1"
      ],
      "text/latex": [
       "0.1"
      ],
      "text/markdown": [
       "0.1"
      ],
      "text/plain": [
       "[1] 0.1"
      ]
     },
     "execution_count": 5,
     "metadata": {},
     "output_type": "execute_result"
    },
    {
     "data": {
      "text/html": [
       "0.1"
      ],
      "text/latex": [
       "0.1"
      ],
      "text/markdown": [
       "0.1"
      ],
      "text/plain": [
       "[1] 0.1"
      ]
     },
     "execution_count": 5,
     "metadata": {},
     "output_type": "execute_result"
    },
    {
     "data": {
      "text/html": [
       "0.1"
      ],
      "text/latex": [
       "0.1"
      ],
      "text/markdown": [
       "0.1"
      ],
      "text/plain": [
       "[1] 0.1"
      ]
     },
     "execution_count": 5,
     "metadata": {},
     "output_type": "execute_result"
    },
    {
     "data": {
      "text/html": [
       "0"
      ],
      "text/latex": [
       "0"
      ],
      "text/markdown": [
       "0"
      ],
      "text/plain": [
       "[1] 0"
      ]
     },
     "execution_count": 5,
     "metadata": {},
     "output_type": "execute_result"
    }
   ],
   "source": [
    "dunif(x = 0,           # x value at which to check density\n",
    "      min = 0,\n",
    "      max = 10)\n",
    "\n",
    "dunif(5, 0, 10)        # check some more densities\n",
    "dunif(10, 0, 10)\n",
    "dunif(11, 0, 10)       # a value outside the distribution's range has 0 probability"
   ]
  },
  {
   "cell_type": "markdown",
   "metadata": {},
   "source": [
    "### Generating Random Numbers and Setting The Seed"
   ]
  },
  {
   "cell_type": "markdown",
   "metadata": {},
   "source": [
    "Any time you need to generate random real numbers in a range with equal probability you can use the runif() function. The uniform distribution is continous, meaning the values it generates can take on any real numbered value within the specified range, so the numbers it generates are decimals. If you need to generate integers intead of decimals, you could use floor() to round the decmials down:"
   ]
  },
  {
   "cell_type": "code",
   "execution_count": 6,
   "metadata": {
    "collapsed": false
   },
   "outputs": [
    {
     "data": {
      "text/plain": [
       "random_ints\n",
       "    1     2     3     4     5     6     7     8     9    10 \n",
       "10028  9976  9916  9914  9919 10076 10055 10076 10050  9990 "
      ]
     },
     "execution_count": 6,
     "metadata": {},
     "output_type": "execute_result"
    }
   ],
   "source": [
    "random_ints <- floor(runif(100000,1,11))    # generate random data and round down\n",
    "\n",
    "table(random_ints)                          # check counts"
   ]
  },
  {
   "cell_type": "markdown",
   "metadata": {},
   "source": [
    "Using runif() is not necessary to generate integers however: you can use the sample() function to draw a specified number of samples from a vector instead:"
   ]
  },
  {
   "cell_type": "code",
   "execution_count": 7,
   "metadata": {
    "collapsed": false
   },
   "outputs": [
    {
     "data": {
      "text/plain": [
       "random_ints2\n",
       "    1     2     3     4     5     6     7     8     9    10 \n",
       "10115  9952  9896  9905 10190  9924 10103  9929 10014  9972 "
      ]
     },
     "execution_count": 7,
     "metadata": {},
     "output_type": "execute_result"
    }
   ],
   "source": [
    "random_ints2 <- sample(x = 1:10,             # vector to sample from\n",
    "                       size = 100000,        # number of samples\n",
    "                       replace = TRUE)       # sample with replacement?*\n",
    "\n",
    "table(random_ints2)                          # check counts"
   ]
  },
  {
   "cell_type": "markdown",
   "metadata": {},
   "source": [
    "*Note: Sampling with replacement means you replace or \"put back\" a value after drawing it instead of removing it from the set you are sampling.\n",
    "\n",
    "When generating random data and working with functions that involve randomization, your results can differ from one run to the next. Having results vary each time you run a function is often not desirable. For example, if you want a colleague to be able to reproduce your results exactly, you can run into problems when you use randomization. You can ensure that your results are the same each time you use a function that invovles randomness by setting the random number generator's seed value to initialize it prior to running the function. Set the seed with set.seed():"
   ]
  },
  {
   "cell_type": "code",
   "execution_count": 8,
   "metadata": {
    "collapsed": false
   },
   "outputs": [
    {
     "data": {
      "text/html": [
       "<ol class=list-inline>\n",
       "\t<li>1.62424824223854</li>\n",
       "\t<li>8.35997678851709</li>\n",
       "\t<li>9.4835955912713</li>\n",
       "\t<li>3.4244368870277</li>\n",
       "\t<li>2.52413310925476</li>\n",
       "\t<li>1.30506060225889</li>\n",
       "\t<li>2.60906503768638</li>\n",
       "\t<li>6.77498828992248</li>\n",
       "\t<li>1.2058996912092</li>\n",
       "\t<li>1.07492343941703</li>\n",
       "</ol>\n"
      ],
      "text/latex": [
       "\\begin{enumerate*}\n",
       "\\item 1.62424824223854\n",
       "\\item 8.35997678851709\n",
       "\\item 9.4835955912713\n",
       "\\item 3.4244368870277\n",
       "\\item 2.52413310925476\n",
       "\\item 1.30506060225889\n",
       "\\item 2.60906503768638\n",
       "\\item 6.77498828992248\n",
       "\\item 1.2058996912092\n",
       "\\item 1.07492343941703\n",
       "\\end{enumerate*}\n"
      ],
      "text/markdown": [
       "1. 1.62424824223854\n",
       "2. 8.35997678851709\n",
       "3. 9.4835955912713\n",
       "4. 3.4244368870277\n",
       "5. 2.52413310925476\n",
       "6. 1.30506060225889\n",
       "7. 2.60906503768638\n",
       "8. 6.77498828992248\n",
       "9. 1.2058996912092\n",
       "10. 1.07492343941703\n",
       "\n",
       "\n"
      ],
      "text/plain": [
       " [1] 1.624248 8.359977 9.483596 3.424437 2.524133 1.305061 2.609065 6.774988\n",
       " [9] 1.205900 1.074923"
      ]
     },
     "execution_count": 8,
     "metadata": {},
     "output_type": "execute_result"
    },
    {
     "data": {
      "text/html": [
       "<ol class=list-inline>\n",
       "\t<li>1.62424824223854</li>\n",
       "\t<li>8.35997678851709</li>\n",
       "\t<li>9.4835955912713</li>\n",
       "\t<li>3.4244368870277</li>\n",
       "\t<li>2.52413310925476</li>\n",
       "\t<li>1.30506060225889</li>\n",
       "\t<li>2.60906503768638</li>\n",
       "\t<li>6.77498828992248</li>\n",
       "\t<li>1.2058996912092</li>\n",
       "\t<li>1.07492343941703</li>\n",
       "</ol>\n"
      ],
      "text/latex": [
       "\\begin{enumerate*}\n",
       "\\item 1.62424824223854\n",
       "\\item 8.35997678851709\n",
       "\\item 9.4835955912713\n",
       "\\item 3.4244368870277\n",
       "\\item 2.52413310925476\n",
       "\\item 1.30506060225889\n",
       "\\item 2.60906503768638\n",
       "\\item 6.77498828992248\n",
       "\\item 1.2058996912092\n",
       "\\item 1.07492343941703\n",
       "\\end{enumerate*}\n"
      ],
      "text/markdown": [
       "1. 1.62424824223854\n",
       "2. 8.35997678851709\n",
       "3. 9.4835955912713\n",
       "4. 3.4244368870277\n",
       "5. 2.52413310925476\n",
       "6. 1.30506060225889\n",
       "7. 2.60906503768638\n",
       "8. 6.77498828992248\n",
       "9. 1.2058996912092\n",
       "10. 1.07492343941703\n",
       "\n",
       "\n"
      ],
      "text/plain": [
       " [1] 1.624248 8.359977 9.483596 3.424437 2.524133 1.305061 2.609065 6.774988\n",
       " [9] 1.205900 1.074923"
      ]
     },
     "execution_count": 8,
     "metadata": {},
     "output_type": "execute_result"
    }
   ],
   "source": [
    "set.seed(12)      # set seed to arbitrary value\n",
    "\n",
    "runif(10,1,10)    # generate some random numbers\n",
    "\n",
    "set.seed(12)      # reset seed to the same value\n",
    "\n",
    "runif(10,1,10)    # generate more random numbers"
   ]
  },
  {
   "cell_type": "markdown",
   "metadata": {},
   "source": [
    "Notice that we generated the exact same numbers with both calls to runif() because we set the same seed before each call. If we had not set the seed, we would have gotten different numbers.*\n",
    "\n",
    "*Note: This reproducability illustrates the fact that these random numbers aren't truly random, but rather \"pseudorandom\"."
   ]
  },
  {
   "cell_type": "markdown",
   "metadata": {},
   "source": [
    "### The Normal Distribution"
   ]
  },
  {
   "cell_type": "markdown",
   "metadata": {},
   "source": [
    "The normal or gaussian distribution is a continuous probability distribution characterized by a symmetric bell-shaped curve. A normal distribution is defined by its center (mean) and spread (standard deviation.). The bulk of the observations generated from a normal distribution lie near the mean, which lies at the exact center of the distribution: as a rule of thumb, about 68% of the data lies within 1 standard deviation of the mean, 95% lies within 2 standard deviations and 99.7% lies within 3 standard deviations.\n",
    "\n",
    "The normal distribution is perhaps the most important distribution in all of statistics. It turns out that many real world phenomona, like IQ test scores and human heights, roughly follow a normal distribution, so it is often used to model random variables. Many common statistical tests assume distributions are normal. The R nickname for the normal distribution is \"norm\" so the functions for working with it are: rnorm(), pnorm(), qnorm() and dnorm():"
   ]
  },
  {
   "cell_type": "code",
   "execution_count": 9,
   "metadata": {
    "collapsed": false
   },
   "outputs": [
    {
     "data": {
      "text/html": [
       "0.158655253931457"
      ],
      "text/latex": [
       "0.158655253931457"
      ],
      "text/markdown": [
       "0.158655253931457"
      ],
      "text/plain": [
       "[1] 0.1586553"
      ]
     },
     "execution_count": 9,
     "metadata": {},
     "output_type": "execute_result"
    },
    {
     "data": {
      "text/html": [
       "0.158655253931457"
      ],
      "text/latex": [
       "0.158655253931457"
      ],
      "text/markdown": [
       "0.158655253931457"
      ],
      "text/plain": [
       "[1] 0.1586553"
      ]
     },
     "execution_count": 9,
     "metadata": {},
     "output_type": "execute_result"
    },
    {
     "data": {
      "text/html": [
       "0.682689492137086"
      ],
      "text/latex": [
       "0.682689492137086"
      ],
      "text/markdown": [
       "0.682689492137086"
      ],
      "text/plain": [
       "[1] 0.6826895"
      ]
     },
     "execution_count": 9,
     "metadata": {},
     "output_type": "execute_result"
    }
   ],
   "source": [
    "normally_distributed <- rnorm(1000000,     # generate normally distributed data\n",
    "                              mean = 0,    # with mean 0\n",
    "                              sd = 1)      # and standard deviation 1\n",
    "\n",
    "prob_under_minus1 <- pnorm(q=-1,           # get prob of observing a value less than -1\n",
    "                     mean=0,\n",
    "                     sd=1)\n",
    "\n",
    "prob_over_1 <-  1-pnorm(q=1,               # get prob of observing a value over 1\n",
    "                     mean=0,\n",
    "                     sd=1)\n",
    "\n",
    "between_prob <- 1-(prob_under_minus1+prob_over_1)  # prob that a number is bewtween -1 and 1\n",
    "\n",
    "\n",
    "prob_under_minus1\n",
    "prob_over_1\n",
    "between_prob"
   ]
  },
  {
   "cell_type": "markdown",
   "metadata": {},
   "source": [
    "The output shows that roughly 16% of the data generated by a normal distribution with mean 0 and standard deviation 1 is below -1, 16% is above 1 and 68% lies bewteen -1 and 1, which agrees with the 68, 95, 99.7 rule. Let's plot the randomly generated normal data and inspect the three areas we calculated under the density curve:"
   ]
  },
  {
   "cell_type": "code",
   "execution_count": 10,
   "metadata": {
    "collapsed": true
   },
   "outputs": [],
   "source": [
    "library(ggplot2)"
   ]
  },
  {
   "cell_type": "code",
   "execution_count": 11,
   "metadata": {
    "collapsed": false
   },
   "outputs": [],
   "source": [
    "# plot the density curve with the cutoff areas\n",
    "norm_frame = with(density(normally_distributed),  # create data frame of x,y density values\n",
    "                  data.frame(x,y))  \n",
    "\n",
    "myplot <- ggplot(data = norm_frame, aes(x = x, y = y)) +   # create the plot\n",
    "       geom_line() +\n",
    "       geom_ribbon(data=subset(norm_frame,x < -1),\n",
    "                   aes(ymax=y),\n",
    "                   ymin=0,\n",
    "                   fill=\"red\", \n",
    "                   alpha=0.4) +\n",
    "       geom_ribbon(data=subset(norm_frame,x > 1),\n",
    "                   aes(ymax=y),\n",
    "                   ymin=0,\n",
    "                   fill=\"red\", \n",
    "                   alpha=0.4) +\n",
    "       geom_ribbon(data=subset(norm_frame,x > -1 & x < 1),\n",
    "                   aes(ymax=y),\n",
    "                   ymin=0,\n",
    "                   fill=\"skyblue\", \n",
    "                   alpha=0.4) +\n",
    "       geom_text(x=-1.6,y=0.03,label=round(prob_under_minus1,4),size=4) +\n",
    "       geom_text(x=1.6,y=0.03,label=round(prob_under_minus1,4),size=4) +\n",
    "       geom_text(x=0,y=0.1,label=round(1-(prob_under_minus1*2),4),size=5) +\n",
    "       xlim(-4,4)"
   ]
  },
  {
   "cell_type": "markdown",
   "metadata": {},
   "source": [
    "The plot above shows the bell shape of the normal distribution, the area below and above one standard deviation and the area within 1 santdard deviation of the mean.\n",
    "\n",
    "Finding quantiles of the normal distribution is a common task when performing statistical tests. You can check quantiles with qnorm():"
   ]
  },
  {
   "cell_type": "code",
   "execution_count": 12,
   "metadata": {
    "collapsed": false
   },
   "outputs": [
    {
     "data": {
      "text/html": [
       "-1.95996398454005"
      ],
      "text/latex": [
       "-1.95996398454005"
      ],
      "text/markdown": [
       "-1.95996398454005"
      ],
      "text/plain": [
       "[1] -1.959964"
      ]
     },
     "execution_count": 12,
     "metadata": {},
     "output_type": "execute_result"
    },
    {
     "data": {
      "text/html": [
       "1.95996398454005"
      ],
      "text/latex": [
       "1.95996398454005"
      ],
      "text/markdown": [
       "1.95996398454005"
      ],
      "text/plain": [
       "[1] 1.959964"
      ]
     },
     "execution_count": 12,
     "metadata": {},
     "output_type": "execute_result"
    }
   ],
   "source": [
    "qnorm(p = 0.025)      # find the quantile at the 2.5% cutoff\n",
    "qnorm(p = 0.975)      # find the quantile at the 97.5% cutoff"
   ]
  },
  {
   "cell_type": "markdown",
   "metadata": {},
   "source": [
    "The quantile output above confirms that roughly 5% of the data lies within 2 standard deviations of the mean."
   ]
  },
  {
   "cell_type": "markdown",
   "metadata": {},
   "source": [
    "*Note: a mean of 0 and standard deviation of 1 are default values for the normal distribution functions."
   ]
  },
  {
   "cell_type": "markdown",
   "metadata": {},
   "source": [
    "### The Binomial Distribution"
   ]
  },
  {
   "cell_type": "markdown",
   "metadata": {
    "collapsed": true
   },
   "source": [
    "The binomial distribution is a discrete probability distribution that models the outcomes of a given number of random trails of some experiment or event. The binomial is defined by two parameters: the probability of success in any given trial and the number of trials. The binomail distributon tells you how likely it is to achieve a given number of successes in n trials of the experiment. For example, we could model flipping a fair coin 10 times with a binomial distribuiton where the number of trials is set to 10 and the probability of success is set to 0.5. In this case the distributon would tell us how likely it is to get zero heads, 1 head, 2 heads and so on.\n",
    "\n",
    "The R nickname for the binomial distrbution is \"binom\", so the functions for working with it are rbinom(), pbinom(), qbinom() and dbinom(). Let's generate and investigate some binomial data:"
   ]
  },
  {
   "cell_type": "code",
   "execution_count": 13,
   "metadata": {
    "collapsed": false
   },
   "outputs": [
    {
     "data": {
      "text/plain": [
       "fair_coin_flips\n",
       "     0      1      2      3      4      5      6      7      8      9     10 \n",
       "   973   9854  43735 117091 204867 246727 204975 117295  43722   9786    975 "
      ]
     },
     "execution_count": 13,
     "metadata": {},
     "output_type": "execute_result"
    }
   ],
   "source": [
    "fair_coin_flips   <- rbinom(1000000,    # generate data from the binomial distribution\n",
    "                           size = 10,   # with 10 trials\n",
    "                           prob = 0.5)  # and success probability 0.5\n",
    "\n",
    "table(fair_coin_flips)                # check the counts\n",
    "\n",
    "# hist(fair_coin_flips, breaks=seq(-0.5,10.5,1))   # plot the results as a histogram"
   ]
  },
  {
   "cell_type": "markdown",
   "metadata": {
    "collapsed": true
   },
   "source": [
    "Note that since the binomial distribution is discrete, it only takes on integer values so we can summarize binomial data with a table and its distribution with a histogram. The histogram shows us that a binomial distribution with a 50% probability of success is symmetric, with the most likely outcomes lying at the center. This is reminiscent of the normal distribution, but if we alter the success probability, the distribution won't be symmetric:"
   ]
  },
  {
   "cell_type": "code",
   "execution_count": 14,
   "metadata": {
    "collapsed": false
   },
   "outputs": [
    {
     "data": {
      "text/plain": [
       "biased_coin_flips\n",
       "     1      2      3      4      5      6      7      8      9     10 \n",
       "     1     60    756   5395  26336  88095 201120 302086 269178 106973 "
      ]
     },
     "execution_count": 14,
     "metadata": {},
     "output_type": "execute_result"
    }
   ],
   "source": [
    "set.seed(9)\n",
    "biased_coin_flips   <- rbinom(1000000,  # generate data from the binomial distribution\n",
    "                           size = 10,   # with 10 trials\n",
    "                           prob = 0.8)  # and success probability 0.8\n",
    "\n",
    "table(biased_coin_flips)                # check the counts\n",
    "\n",
    "# hist(biased_coin_flips, breaks=seq(-0.5,10.5,1))   # plot the results as a histogram"
   ]
  },
  {
   "cell_type": "markdown",
   "metadata": {},
   "source": [
    "The pbinom() function lets us check the probability of achieving a number of successes within a certain range:"
   ]
  },
  {
   "cell_type": "code",
   "execution_count": 15,
   "metadata": {
    "collapsed": false
   },
   "outputs": [
    {
     "data": {
      "text/html": [
       "0.0327934976"
      ],
      "text/latex": [
       "0.0327934976"
      ],
      "text/markdown": [
       "0.0327934976"
      ],
      "text/plain": [
       "[1] 0.0327935"
      ]
     },
     "execution_count": 15,
     "metadata": {},
     "output_type": "execute_result"
    },
    {
     "data": {
      "text/html": [
       "0.375809638400001"
      ],
      "text/latex": [
       "0.375809638400001"
      ],
      "text/markdown": [
       "0.375809638400001"
      ],
      "text/plain": [
       "[1] 0.3758096"
      ]
     },
     "execution_count": 15,
     "metadata": {},
     "output_type": "execute_result"
    }
   ],
   "source": [
    "pbinom(q=5,           # check the chances of achieving 5 successes or less\n",
    "      size=10,\n",
    "      prob=0.8)\n",
    "\n",
    "pbinom(q=8,           # check the chances of achieving 9 successes or more\n",
    "      size=10,\n",
    "      prob=0.8, \n",
    "      lower.tail = FALSE)    # check the upper tail instead of the lower tail"
   ]
  },
  {
   "cell_type": "markdown",
   "metadata": {},
   "source": [
    "dbinom() checks the density of the binomial at a given x value. Since the binomal is discrete, this is the probability of getting a specific number of successes:"
   ]
  },
  {
   "cell_type": "code",
   "execution_count": 16,
   "metadata": {
    "collapsed": false
   },
   "outputs": [
    {
     "data": {
      "text/html": [
       "0.24609375"
      ],
      "text/latex": [
       "0.24609375"
      ],
      "text/markdown": [
       "0.24609375"
      ],
      "text/plain": [
       "[1] 0.2460938"
      ]
     },
     "execution_count": 16,
     "metadata": {},
     "output_type": "execute_result"
    },
    {
     "data": {
      "text/html": [
       "0.301989888"
      ],
      "text/latex": [
       "0.301989888"
      ],
      "text/markdown": [
       "0.301989888"
      ],
      "text/plain": [
       "[1] 0.3019899"
      ]
     },
     "execution_count": 16,
     "metadata": {},
     "output_type": "execute_result"
    }
   ],
   "source": [
    "# check the probability of 5 successes in 10 flips of a fair coin\n",
    "dbinom(x=5,             \n",
    "      size=10,\n",
    "      prob=0.5)    \n",
    "\n",
    "# check the probability of 8 successes in 10 flips of a biased coin\n",
    "dbinom(x=8,             \n",
    "      size=10,\n",
    "      prob=0.8)  "
   ]
  },
  {
   "cell_type": "markdown",
   "metadata": {},
   "source": [
    "### The Geometric and Exponential Distributions"
   ]
  },
  {
   "cell_type": "markdown",
   "metadata": {
    "collapsed": true
   },
   "source": [
    "The geometric and exponential distributions model the time it takes for an event to occur. The geometric distribution is discrete and models the number of trials it takes to acheive a success in repeated experiments with a given probability of success. The exponential distribution is a continuous analog of the geomtric distribution and models the amount of time you have to wait before an event occurs given a certain occurence rate.\n",
    "\n",
    "The R name for the geometric distribution is \"geom\". Let's use the geom functions to model the number of trials it takes to get a success (heads) when flipping a fair coin:"
   ]
  },
  {
   "cell_type": "code",
   "execution_count": 17,
   "metadata": {
    "collapsed": false
   },
   "outputs": [
    {
     "data": {
      "text/plain": [
       "flips_till_heads\n",
       "     1      2      3      4      5      6      7      8      9     10     11 \n",
       "500135 250046 125003  62229  31088  15649   7976   3869   2044    976    481 \n",
       "    12     13     14     15     16     17     18     19     20     22     23 \n",
       "   256    123     66     28     15      7      4      1      2      1      1 "
      ]
     },
     "execution_count": 17,
     "metadata": {},
     "output_type": "execute_result"
    }
   ],
   "source": [
    "set.seed(12)\n",
    "flips_till_heads <- rgeom(n=1000000,       # generate geometric data* \n",
    "                          prob=0.5) + 1    \n",
    "\n",
    "table(flips_till_heads)      # check counts of results\n",
    "\n",
    "# hist(flips_till_heads, breaks=seq(-0.5,max(flips_till_heads)+0.5))   # plot the results"
   ]
  },
  {
   "cell_type": "markdown",
   "metadata": {
    "collapsed": true
   },
   "source": [
    "*Note: in R the geom functions actually models the number of failures until the first success, so we need add 1 to get the number of trails until the first success.\n",
    "\n",
    "The distrbution looks similar to what we'd expect: it is very likely to get a heads in 1 or 2 flips, while it very unikely for it to take more than 5 flips to get a heads. In the 1 million trails we generated, the longest it took to get a heads was 23 flips.\n",
    "\n",
    "Let's use pgeom() to check the probability of getting 5 failures before a success (equivalent to needing 6 flips or more to get a success:"
   ]
  },
  {
   "cell_type": "code",
   "execution_count": 18,
   "metadata": {
    "collapsed": false
   },
   "outputs": [
    {
     "data": {
      "text/html": [
       "0.015625"
      ],
      "text/latex": [
       "0.015625"
      ],
      "text/markdown": [
       "0.015625"
      ],
      "text/plain": [
       "[1] 0.015625"
      ]
     },
     "execution_count": 18,
     "metadata": {},
     "output_type": "execute_result"
    }
   ],
   "source": [
    "pgeom(q=5,             \n",
    "      prob=0.5, \n",
    "      lower.tail = FALSE)    # check the upper tail"
   ]
  },
  {
   "cell_type": "markdown",
   "metadata": {
    "collapsed": true
   },
   "source": [
    "You can use dgeom() to check the probability of seeing a specific number of failures before a success:"
   ]
  },
  {
   "cell_type": "code",
   "execution_count": 19,
   "metadata": {
    "collapsed": false
   },
   "outputs": [
    {
     "data": {
      "text/html": [
       "0.25"
      ],
      "text/latex": [
       "0.25"
      ],
      "text/markdown": [
       "0.25"
      ],
      "text/plain": [
       "[1] 0.25"
      ]
     },
     "execution_count": 19,
     "metadata": {},
     "output_type": "execute_result"
    }
   ],
   "source": [
    "dgeom(x=1,          # check the chances of getting 1 failure and then a success\n",
    "      prob=0.5)  "
   ]
  },
  {
   "cell_type": "markdown",
   "metadata": {},
   "source": [
    "The R name for the exponentail distribution is \"exp\". We've already used the exponential function a few times in past lessons to generate skewed data with rexp(). Let's generate some exponential data, calculate the probability that we have to wait longer than 1 time unit for a succcess and plot it:"
   ]
  },
  {
   "cell_type": "code",
   "execution_count": 20,
   "metadata": {
    "collapsed": false
   },
   "outputs": [
    {
     "data": {
      "text/html": [
       "0.367879441171442"
      ],
      "text/latex": [
       "0.367879441171442"
      ],
      "text/markdown": [
       "0.367879441171442"
      ],
      "text/plain": [
       "[1] 0.3678794"
      ]
     },
     "execution_count": 20,
     "metadata": {},
     "output_type": "execute_result"
    }
   ],
   "source": [
    "exponential_data <- rexp(n=1000000,\n",
    "                         rate=1)        # success/arrival rate*\n",
    "\n",
    "# get the probaility of waiting more than 1 time unit before a success\n",
    "prob_longer_1 <- pexp(q=1,               \n",
    "                      rate=1,\n",
    "                      lower.tail=FALSE)\n",
    "\n",
    "prob_longer_1"
   ]
  },
  {
   "cell_type": "markdown",
   "metadata": {},
   "source": [
    "*Note: The average arrival time for the exponential distribution is equal to 1/rate."
   ]
  },
  {
   "cell_type": "code",
   "execution_count": 21,
   "metadata": {
    "collapsed": false
   },
   "outputs": [],
   "source": [
    "# plot the density curve of the exponential\n",
    "exp_frame = with(density(exponential_data),  # create data frame of x,y density values\n",
    "                  data.frame(x,y))  \n",
    "\n",
    "myplot <- ggplot(data = exp_frame, aes(x = x, y = y)) +   # create the plot\n",
    "       geom_line() +\n",
    "       geom_ribbon(data=subset(exp_frame,x > 1),\n",
    "                   aes(ymax=y),\n",
    "                   ymin=0,\n",
    "                   fill=\"red\", \n",
    "                   alpha=0.4)+\n",
    "       geom_ribbon(data=subset(exp_frame,x < 1),\n",
    "                   aes(ymax=y),\n",
    "                   ymin=0,\n",
    "                   fill=\"skyblue\", \n",
    "                   alpha=0.4) +\n",
    "       geom_text(x=2,y=0.06,label=round(prob_longer_1,4), size=5) +\n",
    "       geom_text(x=0.5,y=0.125,label=round(1-prob_longer_1,4), size=5) +\n",
    "       xlim(-0.5,7)"
   ]
  },
  {
   "cell_type": "markdown",
   "metadata": {},
   "source": [
    "Similar to the geomtetric distribution, the exponetial starts high and has a long tail that trails off to the right that contains rare cases where you have to wait much longer than average for an arrival. "
   ]
  },
  {
   "cell_type": "markdown",
   "metadata": {},
   "source": [
    "### The Poisson Distribution"
   ]
  },
  {
   "cell_type": "markdown",
   "metadata": {
    "collapsed": true
   },
   "source": [
    "The poisson distribution models the probability of seeing a certain number of successes within a time interval, where the time it takes for the next success is modeled by an exponential distriution. The poisson distribution can be used to model traffic, such as the number of arrivals a hopsital can expect in a hour's time or the number of emails you'd expect to receive in a week.\n",
    "\n",
    "The R shorthand for the poisson distributin is \"pois\". Let's generate and plot some data from a poisson distribution with an arrival rate of 1:"
   ]
  },
  {
   "cell_type": "code",
   "execution_count": 22,
   "metadata": {
    "collapsed": false
   },
   "outputs": [
    {
     "data": {
      "text/plain": [
       "arrival_rate_1\n",
       "     0      1      2      3      4      5      6      7      8      9 \n",
       "367994 367884 183697  61524  15193   3096    527     70     13      2 "
      ]
     },
     "execution_count": 22,
     "metadata": {},
     "output_type": "execute_result"
    }
   ],
   "source": [
    "set.seed(12)\n",
    "arrival_rate_1 <- rpois(n=1000000,\n",
    "                      lambda=1)        # arrival rate\n",
    "\n",
    "table(arrival_rate_1)\n",
    "\n",
    "# hist(arrival_rate_1,breaks=seq(-0.5,max(arrival_rate_1)+0.5,1))"
   ]
  },
  {
   "cell_type": "markdown",
   "metadata": {
    "collapsed": true
   },
   "source": [
    "The histogram shows that when arrivals are relatively infrequent, it is rare to see more than a couple of arrivals in each time period. When the arrival rate is high, it becomes increasingly rate to see a low number of arrivls and the distribution starts to look more symmetric:"
   ]
  },
  {
   "cell_type": "code",
   "execution_count": 23,
   "metadata": {
    "collapsed": false
   },
   "outputs": [
    {
     "data": {
      "text/plain": [
       "arrival_rate_10\n",
       "     0      1      2      3      4      5      6      7      8      9     10 \n",
       "    49    473   2222   7576  18811  38135  62970  89986 112335 124749 125202 \n",
       "    11     12     13     14     15     16     17     18     19     20     21 \n",
       "114003  94613  72881  52293  34696  21709  12811   7147   3818   1952    874 \n",
       "    22     23     24     25     26     27     28 \n",
       "   400    175     65     30     12     10      3 "
      ]
     },
     "execution_count": 23,
     "metadata": {},
     "output_type": "execute_result"
    }
   ],
   "source": [
    "set.seed(12)\n",
    "arrival_rate_10 <- rpois(n=1000000,\n",
    "                      lambda=10)        # arrival rate of 10 per time unit\n",
    "\n",
    "table(arrival_rate_10)\n",
    "\n",
    "# hist(arrival_rate_10,breaks=seq(-0.5,max(arrival_rate_10)+0.5,1))"
   ]
  },
  {
   "cell_type": "markdown",
   "metadata": {},
   "source": [
    "We can use ppois() to check the probability of achieving more or less than a certain number of successes and dpos() to check the probability of obtaining a specific number of succeesses:"
   ]
  },
  {
   "cell_type": "code",
   "execution_count": 24,
   "metadata": {
    "collapsed": false
   },
   "outputs": [
    {
     "data": {
      "text/html": [
       "0.0670859628790318"
      ],
      "text/latex": [
       "0.0670859628790318"
      ],
      "text/markdown": [
       "0.0670859628790318"
      ],
      "text/plain": [
       "[1] 0.06708596"
      ]
     },
     "execution_count": 24,
     "metadata": {},
     "output_type": "execute_result"
    },
    {
     "data": {
      "text/html": [
       "0.125110035721133"
      ],
      "text/latex": [
       "0.125110035721133"
      ],
      "text/markdown": [
       "0.125110035721133"
      ],
      "text/plain": [
       "[1] 0.12511"
      ]
     },
     "execution_count": 24,
     "metadata": {},
     "output_type": "execute_result"
    }
   ],
   "source": [
    "ppois(q=5,           # check the probability of getting 5 successes or less\n",
    "      lambda=10)     # with an arrival rate of 10\n",
    "\n",
    "dpois(x=10,           # check the probability of getting exactly 10 successes\n",
    "      lambda=10)"
   ]
  },
  {
   "cell_type": "markdown",
   "metadata": {},
   "source": [
    "### Wrap Up"
   ]
  },
  {
   "cell_type": "markdown",
   "metadata": {
    "collapsed": true
   },
   "source": [
    "R contains built in functions that make it easy to work with a wide range of probability distribuitons, including many that we did not discuss in this lesson. Probability distribution functions are useful for generating random data, modeling random events and aiding with statistical tests and analysis. \n",
    "\n",
    "In the next few lessons we'll learn how to carry out common statistical tests in R."
   ]
  },
  {
   "cell_type": "markdown",
   "metadata": {},
   "source": [
    "### Next Time: Introduction to R Part 23: TBD"
   ]
  }
 ],
 "metadata": {
  "kernelspec": {
   "display_name": "R",
   "language": "R",
   "name": "ir"
  },
  "language_info": {
   "codemirror_mode": "r",
   "file_extension": ".r",
   "mimetype": "text/x-r-source",
   "name": "R",
   "pygments_lexer": "r",
   "version": "3.1.3"
  }
 },
 "nbformat": 4,
 "nbformat_minor": 0
}
