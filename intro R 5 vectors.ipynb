{
 "cells": [
  {
   "cell_type": "markdown",
   "metadata": {},
   "source": [
    "# Introduction to R Part 5: Vectors"
   ]
  },
  {
   "cell_type": "markdown",
   "metadata": {},
   "source": [
    "In data analysis, you typically work with large collections of related values rather than singular values. As a langauge built for statistics and data analysis, R's data stuctures are designed to make it easy to perform operations on many data values at the same time. R's most basic data stucture is the vector. In R, a vector is a sequence of data elements of the same atomic type. You can have numeric vectors, logical vectors, character vectors and so on.\n",
    "\n",
    "To create a vector with specific values, use the c() function. c() takes a comma separated sequence of elements as input and combines them into a vector:"
   ]
  },
  {
   "cell_type": "code",
   "execution_count": 1,
   "metadata": {
    "collapsed": false
   },
   "outputs": [
    {
     "name": "stdout",
     "output_type": "stream",
     "text": [
      "[1] 1 2 3\n",
      "[1] \"Life\"  \"Is\"    \"Study\"\n"
     ]
    }
   ],
   "source": [
    "x <- c(1,2,3)  #Create a numeric vector and assign it to x\n",
    "\n",
    "print(x)  #Print the value of x to the screen\n",
    "\n",
    "y <- c(\"Life\",\"Is\",\"Study\")  #Create a character vector\n",
    "\n",
    "print(y)  #Print y to the screen"
   ]
  },
  {
   "cell_type": "markdown",
   "metadata": {},
   "source": [
    "You can also combine two vectors using c():"
   ]
  },
  {
   "cell_type": "code",
   "execution_count": 2,
   "metadata": {
    "collapsed": false
   },
   "outputs": [
    {
     "name": "stdout",
     "output_type": "stream",
     "text": [
      "[1] \"1\"     \"2\"     \"3\"     \"Life\"  \"Is\"    \"Study\"\n"
     ]
    }
   ],
   "source": [
    "z <- c(x,y) #combine vectors x and y\n",
    "\n",
    "print(z)"
   ]
  },
  {
   "cell_type": "markdown",
   "metadata": {},
   "source": [
    "If you try to combine vectors of different types as shown above, R will automatically convert the vector into the type that fits best. In this case, the numbers are converted into thier character equivalents."
   ]
  },
  {
   "cell_type": "markdown",
   "metadata": {},
   "source": [
    "\n",
    "### Vector Indexing\n"
   ]
  },
  {
   "cell_type": "markdown",
   "metadata": {},
   "source": [
    "When you create a vector, each element in the vector is assigned an index based on its position in the  vector. The first element is at index position 1, the second element is at index position 2 and so on. (Note that unlike many other programming langauges, indexes in R start at 1 instead of 0.).\n",
    "\n",
    "When you print a vector to the screen, each starts line with a number in square brackets followed by vector values. The number in square brackets indicates the index of next value listed on that line. For large large vectors, this labeling can be helpful. For instance, consider a vector consisting of 100 random numbers bewteen 0 and 1:"
   ]
  },
  {
   "cell_type": "code",
   "execution_count": 3,
   "metadata": {
    "collapsed": false
   },
   "outputs": [
    {
     "name": "stdout",
     "output_type": "stream",
     "text": [
      "  [1] 0.011052210 0.490145197 0.618312998 0.490490869 0.553500076 0.419672743\n",
      "  [7] 0.273818429 0.483188420 0.356707835 0.106790057 0.454534974 0.988843087\n",
      " [13] 0.100713713 0.711968180 0.836512019 0.702161684 0.348264976 0.632885545\n",
      " [19] 0.070282435 0.208262876 0.468534216 0.110959568 0.211663193 0.950492488\n",
      " [25] 0.045724627 0.069961404 0.981119999 0.254390155 0.773755667 0.033159428\n",
      " [31] 0.370948425 0.065027314 0.354573011 0.021361357 0.057543301 0.628536676\n",
      " [37] 0.005561950 0.862910367 0.510286567 0.819589180 0.322644416 0.249997037\n",
      " [43] 0.322395303 0.287262184 0.201719848 0.172489972 0.294691101 0.026757865\n",
      " [49] 0.996838058 0.202869637 0.756352332 0.079539363 0.958007912 0.867734396\n",
      " [55] 0.552013245 0.379368102 0.459864587 0.149453555 0.470665427 0.991903896\n",
      " [61] 0.307580338 0.610368726 0.807964261 0.009829363 0.989950905 0.512811468\n",
      " [67] 0.090756134 0.652818237 0.613619230 0.911626308 0.315600886 0.122582456\n",
      " [73] 0.819179695 0.928432825 0.008830840 0.436736538 0.610373604 0.612819235\n",
      " [79] 0.908950419 0.770129842 0.412773542 0.922579678 0.298366247 0.843125839\n",
      " [85] 0.900005833 0.576789841 0.654864194 0.160472333 0.945164068 0.648045776\n",
      " [91] 0.342782406 0.797093340 0.550532531 0.718219605 0.451929778 0.614718243\n",
      " [97] 0.603863396 0.886053257 0.722976699 0.148174412\n"
     ]
    }
   ],
   "source": [
    "random_data <- runif(100)  #Create a vector of 100 random number\n",
    "\n",
    "print(random_data) #Print the vector"
   ]
  },
  {
   "cell_type": "markdown",
   "metadata": {},
   "source": [
    "In this case, having the index counters on the left hand side is a bit more useful as it immediately gives us an idea of the vector's size and keeps it organized.\n",
    "\n",
    "You can access a specific value in a vector by typing the name of the vector and then wrapping the index associated with the value you want to access in square brackets:"
   ]
  },
  {
   "cell_type": "code",
   "execution_count": 4,
   "metadata": {
    "collapsed": false
   },
   "outputs": [
    {
     "data": {
      "text/html": [
       "0.273818429326639"
      ],
      "text/latex": [
       "0.273818429326639"
      ],
      "text/markdown": [
       "0.273818429326639"
      ],
      "text/plain": [
       "[1] 0.2738184"
      ]
     },
     "execution_count": 4,
     "metadata": {},
     "output_type": "execute_result"
    }
   ],
   "source": [
    "random_data[7]  #Get the value at index 7"
   ]
  },
  {
   "cell_type": "markdown",
   "metadata": {},
   "source": [
    "Attempting to access an index that doesn't exist returns NA. NA denotes a missing value."
   ]
  },
  {
   "cell_type": "code",
   "execution_count": 5,
   "metadata": {
    "collapsed": false
   },
   "outputs": [
    {
     "data": {
      "text/plain": [
       "[1] NA"
      ]
     },
     "execution_count": 5,
     "metadata": {},
     "output_type": "execute_result"
    }
   ],
   "source": [
    "random_data[200]  "
   ]
  },
  {
   "cell_type": "markdown",
   "metadata": {},
   "source": [
    "You can access ranges of values by placing a colon bewteen the starting and ending indicies of the range:"
   ]
  },
  {
   "cell_type": "code",
   "execution_count": 6,
   "metadata": {
    "collapsed": false
   },
   "outputs": [
    {
     "name": "stdout",
     "output_type": "stream",
     "text": [
      "[1] 0.2738184 0.4831884 0.3567078 0.1067901 0.4545350 0.9888431 0.1007137\n",
      "[8] 0.7119682\n"
     ]
    }
   ],
   "source": [
    "subset1 <- random_data[7:14]  #Get values from index 7 to 14\n",
    "\n",
    "print(subset1)"
   ]
  },
  {
   "cell_type": "markdown",
   "metadata": {},
   "source": [
    "You can even access a specific subset of values by wrapping a vector in the square brackets:"
   ]
  },
  {
   "cell_type": "code",
   "execution_count": 7,
   "metadata": {
    "collapsed": false
   },
   "outputs": [
    {
     "name": "stdout",
     "output_type": "stream",
     "text": [
      "[1] 0.01105221 0.10679006 0.14817441\n"
     ]
    }
   ],
   "source": [
    "subset2 <- random_data[c(1,10,100)] #Get the first, tenth and 100th value\n",
    "\n",
    "print(subset2)"
   ]
  },
  {
   "cell_type": "markdown",
   "metadata": {},
   "source": [
    "A subset of a vector is just a shorter vector. In fact, singular values are technically vectors of length 1, so all numbers and other atomic data types we've used up till now were vectors all along! You can check the length of a vector with the length() function:"
   ]
  },
  {
   "cell_type": "code",
   "execution_count": 8,
   "metadata": {
    "collapsed": false
   },
   "outputs": [
    {
     "data": {
      "text/html": [
       "1"
      ],
      "text/latex": [
       "1"
      ],
      "text/markdown": [
       "1"
      ],
      "text/plain": [
       "[1] 1"
      ]
     },
     "execution_count": 8,
     "metadata": {},
     "output_type": "execute_result"
    },
    {
     "data": {
      "text/html": [
       "100"
      ],
      "text/latex": [
       "100"
      ],
      "text/markdown": [
       "100"
      ],
      "text/plain": [
       "[1] 100"
      ]
     },
     "execution_count": 8,
     "metadata": {},
     "output_type": "execute_result"
    }
   ],
   "source": [
    "length(10)  #A singular value is a vector of length 1\n",
    "\n",
    "length(random_data) "
   ]
  },
  {
   "cell_type": "markdown",
   "metadata": {},
   "source": [
    "Here are a few other useful ways to index into vectors:"
   ]
  },
  {
   "cell_type": "code",
   "execution_count": 9,
   "metadata": {
    "collapsed": false
   },
   "outputs": [
    {
     "name": "stdout",
     "output_type": "stream",
     "text": [
      "[1] \"Life\"  \"Study\"\n",
      "[1] 0.7264720 0.6743836\n"
     ]
    }
   ],
   "source": [
    "#Adding a minus sign excludes a given index:\n",
    "\n",
    "y <- c(\"Life\",\"Is\",\"Study\")\n",
    "y <- y[-2]                   #Exclude index 2\n",
    "print(y)\n",
    "\n",
    "#A minus sign can also exclude a given range of indicies:\n",
    "\n",
    "random_data <- runif(50)            #Generate 50 random numbers\n",
    "random_data_sub <- random_data[-(2:49)] #Exclude the range 2 through 49\n",
    "print(random_data_sub)"
   ]
  },
  {
   "cell_type": "markdown",
   "metadata": {},
   "source": [
    "You can also index a vector with a logical vector of the same length. In this case the subset is created from each index where the corresponding logical vector is TRUE. Indexing with a logical vector is a common way to filter a numeric or character vector for values that fulfill certain criteria:"
   ]
  },
  {
   "cell_type": "code",
   "execution_count": 10,
   "metadata": {
    "collapsed": false
   },
   "outputs": [
    {
     "name": "stdout",
     "output_type": "stream",
     "text": [
      " [1]  TRUE  TRUE FALSE FALSE FALSE FALSE  TRUE FALSE  TRUE  TRUE  TRUE FALSE\n",
      "[13]  TRUE FALSE  TRUE  TRUE  TRUE  TRUE  TRUE  TRUE  TRUE  TRUE FALSE  TRUE\n",
      "[25] FALSE  TRUE FALSE FALSE  TRUE FALSE FALSE FALSE  TRUE FALSE  TRUE FALSE\n",
      "[37]  TRUE FALSE  TRUE  TRUE FALSE FALSE FALSE FALSE FALSE  TRUE FALSE  TRUE\n",
      "[49] FALSE  TRUE\n"
     ]
    }
   ],
   "source": [
    "#Create a logical vector identifing values over 0.5 in random_data\n",
    "\n",
    "logical_over_half <- (random_data > 0.5)\n",
    "print(logical_over_half)"
   ]
  },
  {
   "cell_type": "code",
   "execution_count": 11,
   "metadata": {
    "collapsed": false
   },
   "outputs": [
    {
     "name": "stdout",
     "output_type": "stream",
     "text": [
      " [1] 0.7264720 0.9341863 0.7109709 0.8635124 0.6350620 0.5538607 0.8724669\n",
      " [8] 0.5468323 0.6934848 0.6939485 0.8385381 0.7443223 0.5381606 0.7729469\n",
      "[15] 0.9077848 0.5292942 0.6852107 0.8276365 0.8546837 0.6960142 0.5445985\n",
      "[22] 0.7261246 0.7140555 0.5903167 0.9449168 0.6743836\n"
     ]
    }
   ],
   "source": [
    "#Use the logical vector to create a subset of the values over 0.5\n",
    "over_half <- random_data[logical_over_half]\n",
    "\n",
    "print(over_half)"
   ]
  },
  {
   "cell_type": "code",
   "execution_count": 12,
   "metadata": {
    "collapsed": false
   },
   "outputs": [
    {
     "name": "stdout",
     "output_type": "stream",
     "text": [
      " [1] 0.40734587 0.31231468 0.23277656 0.02317402 0.31814147 0.46354222\n",
      " [7] 0.36133522 0.06569161 0.12635459 0.30916333 0.39621222 0.43596518\n",
      "[13] 0.01944562 0.25662792 0.08924450 0.20461418 0.46867852 0.41329992\n",
      "[19] 0.47674342 0.10402504 0.05368797 0.38420069 0.22512529 0.39159728\n"
     ]
    }
   ],
   "source": [
    "#Use the logical vector and the not symbol (!) to get values under 0.5\n",
    "\n",
    "under_half <- random_data[!logical_over_half]\n",
    "\n",
    "print(under_half)"
   ]
  },
  {
   "cell_type": "code",
   "execution_count": 13,
   "metadata": {
    "collapsed": false
   },
   "outputs": [
    {
     "data": {
      "text/html": [
       "<ol class=list-inline>\n",
       "\t<li>0.726471959380433</li>\n",
       "\t<li>0.934186338679865</li>\n",
       "\t<li>0.710970856482163</li>\n",
       "\t<li>0.863512360258028</li>\n",
       "\t<li>0.635061987675726</li>\n",
       "\t<li>0.553860668558627</li>\n",
       "\t<li>0.872466864297166</li>\n",
       "\t<li>0.546832289081067</li>\n",
       "\t<li>0.693484823452309</li>\n",
       "\t<li>0.693948460510001</li>\n",
       "\t<li>0.838538052747026</li>\n",
       "\t<li>0.744322303682566</li>\n",
       "\t<li>0.538160572294146</li>\n",
       "\t<li>0.772946928627789</li>\n",
       "\t<li>0.907784797484055</li>\n",
       "\t<li>0.529294188600034</li>\n",
       "\t<li>0.685210690600798</li>\n",
       "\t<li>0.827636511297897</li>\n",
       "\t<li>0.854683667654172</li>\n",
       "\t<li>0.696014217101038</li>\n",
       "\t<li>0.544598532142118</li>\n",
       "\t<li>0.726124619366601</li>\n",
       "\t<li>0.714055535616353</li>\n",
       "\t<li>0.590316680260003</li>\n",
       "\t<li>0.944916781038046</li>\n",
       "\t<li>0.674383617471904</li>\n",
       "</ol>\n"
      ],
      "text/latex": [
       "\\begin{enumerate*}\n",
       "\\item 0.726471959380433\n",
       "\\item 0.934186338679865\n",
       "\\item 0.710970856482163\n",
       "\\item 0.863512360258028\n",
       "\\item 0.635061987675726\n",
       "\\item 0.553860668558627\n",
       "\\item 0.872466864297166\n",
       "\\item 0.546832289081067\n",
       "\\item 0.693484823452309\n",
       "\\item 0.693948460510001\n",
       "\\item 0.838538052747026\n",
       "\\item 0.744322303682566\n",
       "\\item 0.538160572294146\n",
       "\\item 0.772946928627789\n",
       "\\item 0.907784797484055\n",
       "\\item 0.529294188600034\n",
       "\\item 0.685210690600798\n",
       "\\item 0.827636511297897\n",
       "\\item 0.854683667654172\n",
       "\\item 0.696014217101038\n",
       "\\item 0.544598532142118\n",
       "\\item 0.726124619366601\n",
       "\\item 0.714055535616353\n",
       "\\item 0.590316680260003\n",
       "\\item 0.944916781038046\n",
       "\\item 0.674383617471904\n",
       "\\end{enumerate*}\n"
      ],
      "text/markdown": [
       "1. 0.726471959380433\n",
       "2. 0.934186338679865\n",
       "3. 0.710970856482163\n",
       "4. 0.863512360258028\n",
       "5. 0.635061987675726\n",
       "6. 0.553860668558627\n",
       "7. 0.872466864297166\n",
       "8. 0.546832289081067\n",
       "9. 0.693484823452309\n",
       "10. 0.693948460510001\n",
       "11. 0.838538052747026\n",
       "12. 0.744322303682566\n",
       "13. 0.538160572294146\n",
       "14. 0.772946928627789\n",
       "15. 0.907784797484055\n",
       "16. 0.529294188600034\n",
       "17. 0.685210690600798\n",
       "18. 0.827636511297897\n",
       "19. 0.854683667654172\n",
       "20. 0.696014217101038\n",
       "21. 0.544598532142118\n",
       "22. 0.726124619366601\n",
       "23. 0.714055535616353\n",
       "24. 0.590316680260003\n",
       "25. 0.944916781038046\n",
       "26. 0.674383617471904\n",
       "\n",
       "\n"
      ],
      "text/plain": [
       " [1] 0.7264720 0.9341863 0.7109709 0.8635124 0.6350620 0.5538607 0.8724669\n",
       " [8] 0.5468323 0.6934848 0.6939485 0.8385381 0.7443223 0.5381606 0.7729469\n",
       "[15] 0.9077848 0.5292942 0.6852107 0.8276365 0.8546837 0.6960142 0.5445985\n",
       "[22] 0.7261246 0.7140555 0.5903167 0.9449168 0.6743836"
      ]
     },
     "execution_count": 13,
     "metadata": {},
     "output_type": "execute_result"
    }
   ],
   "source": [
    "#You can perform logical indexing all in one step:\n",
    "\n",
    "random_data[random_data > 0.5]"
   ]
  },
  {
   "cell_type": "code",
   "execution_count": 14,
   "metadata": {
    "collapsed": false
   },
   "outputs": [
    {
     "data": {
      "text/html": [
       "<ol class=list-inline>\n",
       "\t<li>0.407345874467865</li>\n",
       "\t<li>0.553860668558627</li>\n",
       "\t<li>0.463542220415547</li>\n",
       "\t<li>0.546832289081067</li>\n",
       "\t<li>0.538160572294146</li>\n",
       "\t<li>0.529294188600034</li>\n",
       "\t<li>0.435965181794018</li>\n",
       "\t<li>0.544598532142118</li>\n",
       "\t<li>0.468678524950519</li>\n",
       "\t<li>0.413299917243421</li>\n",
       "\t<li>0.476743420120329</li>\n",
       "\t<li>0.590316680260003</li>\n",
       "</ol>\n"
      ],
      "text/latex": [
       "\\begin{enumerate*}\n",
       "\\item 0.407345874467865\n",
       "\\item 0.553860668558627\n",
       "\\item 0.463542220415547\n",
       "\\item 0.546832289081067\n",
       "\\item 0.538160572294146\n",
       "\\item 0.529294188600034\n",
       "\\item 0.435965181794018\n",
       "\\item 0.544598532142118\n",
       "\\item 0.468678524950519\n",
       "\\item 0.413299917243421\n",
       "\\item 0.476743420120329\n",
       "\\item 0.590316680260003\n",
       "\\end{enumerate*}\n"
      ],
      "text/markdown": [
       "1. 0.407345874467865\n",
       "2. 0.553860668558627\n",
       "3. 0.463542220415547\n",
       "4. 0.546832289081067\n",
       "5. 0.538160572294146\n",
       "6. 0.529294188600034\n",
       "7. 0.435965181794018\n",
       "8. 0.544598532142118\n",
       "9. 0.468678524950519\n",
       "10. 0.413299917243421\n",
       "11. 0.476743420120329\n",
       "12. 0.590316680260003\n",
       "\n",
       "\n"
      ],
      "text/plain": [
       " [1] 0.4073459 0.5538607 0.4635422 0.5468323 0.5381606 0.5292942 0.4359652\n",
       " [8] 0.5445985 0.4686785 0.4132999 0.4767434 0.5903167"
      ]
     },
     "execution_count": 14,
     "metadata": {},
     "output_type": "execute_result"
    }
   ],
   "source": [
    "#You can also use more complicated logical expressions.\n",
    "#In this case we grab all values bewteen 0.4 and 0.6:\n",
    "\n",
    "random_data[(random_data < 0.6) & (random_data > 0.4)]"
   ]
  },
  {
   "cell_type": "markdown",
   "metadata": {},
   "source": [
    "Finally, you can use %in% to create a subset of elements that are contained within some other vector:"
   ]
  },
  {
   "cell_type": "code",
   "execution_count": 15,
   "metadata": {
    "collapsed": false
   },
   "outputs": [
    {
     "data": {
      "text/html": [
       "<ol class=list-inline>\n",
       "\t<li>\"a\"</li>\n",
       "\t<li>\"c\"</li>\n",
       "\t<li>\"a\"</li>\n",
       "\t<li>\"a\"</li>\n",
       "</ol>\n"
      ],
      "text/latex": [
       "\\begin{enumerate*}\n",
       "\\item \"a\"\n",
       "\\item \"c\"\n",
       "\\item \"a\"\n",
       "\\item \"a\"\n",
       "\\end{enumerate*}\n"
      ],
      "text/markdown": [
       "1. \"a\"\n",
       "2. \"c\"\n",
       "3. \"a\"\n",
       "4. \"a\"\n",
       "\n",
       "\n"
      ],
      "text/plain": [
       "[1] \"a\" \"c\" \"a\" \"a\""
      ]
     },
     "execution_count": 15,
     "metadata": {},
     "output_type": "execute_result"
    }
   ],
   "source": [
    "my_vector <- c(\"a\",\"b\",\"c\",\"d\",\"a\",\"a\",\"f\")\n",
    "\n",
    "my_vector[my_vector %in% c(\"a\",\"c\")]"
   ]
  },
  {
   "cell_type": "markdown",
   "metadata": {},
   "source": [
    "\n",
    "### Vectorized Operations\n"
   ]
  },
  {
   "cell_type": "markdown",
   "metadata": {},
   "source": [
    "One of the biggest benefits of R is that it is built around perforiming operations on vectors. Many R functions and operations behave in a \"vectorized\" manner, meaning they act upon each element of a vector and return the result in a new vector. Vectorized operations simplify the process of performing the same calculations on related data. All the basic operators and functions we've learned so far that operate on single values work on vectors longer than length 1."
   ]
  },
  {
   "cell_type": "code",
   "execution_count": 16,
   "metadata": {
    "collapsed": false
   },
   "outputs": [
    {
     "data": {
      "text/html": [
       "<ol class=list-inline>\n",
       "\t<li>11</li>\n",
       "\t<li>12</li>\n",
       "\t<li>13</li>\n",
       "</ol>\n"
      ],
      "text/latex": [
       "\\begin{enumerate*}\n",
       "\\item 11\n",
       "\\item 12\n",
       "\\item 13\n",
       "\\end{enumerate*}\n"
      ],
      "text/markdown": [
       "1. 11\n",
       "2. 12\n",
       "3. 13\n",
       "\n",
       "\n"
      ],
      "text/plain": [
       "[1] 11 12 13"
      ]
     },
     "execution_count": 16,
     "metadata": {},
     "output_type": "execute_result"
    },
    {
     "data": {
      "text/html": [
       "<ol class=list-inline>\n",
       "\t<li>-9</li>\n",
       "\t<li>-8</li>\n",
       "\t<li>-7</li>\n",
       "</ol>\n"
      ],
      "text/latex": [
       "\\begin{enumerate*}\n",
       "\\item -9\n",
       "\\item -8\n",
       "\\item -7\n",
       "\\end{enumerate*}\n"
      ],
      "text/markdown": [
       "1. -9\n",
       "2. -8\n",
       "3. -7\n",
       "\n",
       "\n"
      ],
      "text/plain": [
       "[1] -9 -8 -7"
      ]
     },
     "execution_count": 16,
     "metadata": {},
     "output_type": "execute_result"
    }
   ],
   "source": [
    "example_vector <- c(1,2,3)\n",
    "\n",
    "# + adds to each value in the vector\n",
    "example_vector + 10\n",
    "\n",
    "# - performs element-wise subtraction\n",
    "example_vector - 10"
   ]
  },
  {
   "cell_type": "markdown",
   "metadata": {},
   "source": [
    "Other math operators like *, /, ^ and %% work the same way as do functions like like round(), floor() and cieling():"
   ]
  },
  {
   "cell_type": "code",
   "execution_count": 17,
   "metadata": {
    "collapsed": false
   },
   "outputs": [
    {
     "data": {
      "text/html": [
       "<ol class=list-inline>\n",
       "\t<li>2</li>\n",
       "\t<li>2</li>\n",
       "\t<li>4</li>\n",
       "</ol>\n"
      ],
      "text/latex": [
       "\\begin{enumerate*}\n",
       "\\item 2\n",
       "\\item 2\n",
       "\\item 4\n",
       "\\end{enumerate*}\n"
      ],
      "text/markdown": [
       "1. 2\n",
       "2. 2\n",
       "3. 4\n",
       "\n",
       "\n"
      ],
      "text/plain": [
       "[1] 2 2 4"
      ]
     },
     "execution_count": 17,
     "metadata": {},
     "output_type": "execute_result"
    },
    {
     "data": {
      "text/html": [
       "<ol class=list-inline>\n",
       "\t<li>1</li>\n",
       "\t<li>2</li>\n",
       "\t<li>3</li>\n",
       "</ol>\n"
      ],
      "text/latex": [
       "\\begin{enumerate*}\n",
       "\\item 1\n",
       "\\item 2\n",
       "\\item 3\n",
       "\\end{enumerate*}\n"
      ],
      "text/markdown": [
       "1. 1\n",
       "2. 2\n",
       "3. 3\n",
       "\n",
       "\n"
      ],
      "text/plain": [
       "[1] 1 2 3"
      ]
     },
     "execution_count": 17,
     "metadata": {},
     "output_type": "execute_result"
    }
   ],
   "source": [
    "example_vector2 <- c(1.6, 2.5, 3.5)\n",
    "\n",
    "round(example_vector2)\n",
    "      \n",
    "floor(example_vector2)"
   ]
  },
  {
   "cell_type": "markdown",
   "metadata": {
    "collapsed": true
   },
   "source": [
    "Vectorized operations make it easy to carry out vector transformations quickly without worrying about programming constructs like for and while loops (we'll discuss those more later.).\n",
    "\n",
    "Vector operations that invovle two or more vectors are typically executed in an element-wise fashion. For example, if you take two numeric vectors of the sample length and add them, the result is a new vector containing the sums of the values at each index:"
   ]
  },
  {
   "cell_type": "code",
   "execution_count": 18,
   "metadata": {
    "collapsed": false
   },
   "outputs": [
    {
     "name": "stdout",
     "output_type": "stream",
     "text": [
      "[1] 11 22 33 44\n"
     ]
    }
   ],
   "source": [
    "vector1 <- c(1,2,3,4)\n",
    "vector2 <- c(10,20,30,40)\n",
    "\n",
    "print( vector1+vector2 )"
   ]
  },
  {
   "cell_type": "code",
   "execution_count": 19,
   "metadata": {
    "collapsed": false
   },
   "outputs": [
    {
     "data": {
      "text/html": [
       "<ol class=list-inline>\n",
       "\t<li>10</li>\n",
       "\t<li>40</li>\n",
       "\t<li>90</li>\n",
       "\t<li>160</li>\n",
       "</ol>\n"
      ],
      "text/latex": [
       "\\begin{enumerate*}\n",
       "\\item 10\n",
       "\\item 40\n",
       "\\item 90\n",
       "\\item 160\n",
       "\\end{enumerate*}\n"
      ],
      "text/markdown": [
       "1. 10\n",
       "2. 40\n",
       "3. 90\n",
       "4. 160\n",
       "\n",
       "\n"
      ],
      "text/plain": [
       "[1]  10  40  90 160"
      ]
     },
     "execution_count": 19,
     "metadata": {},
     "output_type": "execute_result"
    },
    {
     "data": {
      "text/html": [
       "<ol class=list-inline>\n",
       "\t<li>0.1</li>\n",
       "\t<li>0.1</li>\n",
       "\t<li>0.1</li>\n",
       "\t<li>0.1</li>\n",
       "</ol>\n"
      ],
      "text/latex": [
       "\\begin{enumerate*}\n",
       "\\item 0.1\n",
       "\\item 0.1\n",
       "\\item 0.1\n",
       "\\item 0.1\n",
       "\\end{enumerate*}\n"
      ],
      "text/markdown": [
       "1. 0.1\n",
       "2. 0.1\n",
       "3. 0.1\n",
       "4. 0.1\n",
       "\n",
       "\n"
      ],
      "text/plain": [
       "[1] 0.1 0.1 0.1 0.1"
      ]
     },
     "execution_count": 19,
     "metadata": {},
     "output_type": "execute_result"
    },
    {
     "data": {
      "text/html": [
       "<ol class=list-inline>\n",
       "\t<li>1</li>\n",
       "\t<li>2</li>\n",
       "\t<li>3</li>\n",
       "\t<li>4</li>\n",
       "</ol>\n"
      ],
      "text/latex": [
       "\\begin{enumerate*}\n",
       "\\item 1\n",
       "\\item 2\n",
       "\\item 3\n",
       "\\item 4\n",
       "\\end{enumerate*}\n"
      ],
      "text/markdown": [
       "1. 1\n",
       "2. 2\n",
       "3. 3\n",
       "4. 4\n",
       "\n",
       "\n"
      ],
      "text/plain": [
       "[1] 1 2 3 4"
      ]
     },
     "execution_count": 19,
     "metadata": {},
     "output_type": "execute_result"
    }
   ],
   "source": [
    "#Other math operations also work in this way:\n",
    "\n",
    "vector1*vector2  #element-wise multiplication\n",
    "\n",
    "vector1/vector2  #element-wise division\n",
    "\n",
    "vector1 %% vector2  #element-wise modulus"
   ]
  },
  {
   "cell_type": "code",
   "execution_count": 20,
   "metadata": {
    "collapsed": false
   },
   "outputs": [
    {
     "data": {
      "text/html": [
       "<table>\n",
       "<tbody>\n",
       "\t<tr><td>300</td></tr>\n",
       "</tbody>\n",
       "</table>\n"
      ],
      "text/latex": [
       "\\begin{tabular}{l}\n",
       "\t 300\\\\\n",
       "\\end{tabular}\n"
      ],
      "text/markdown": [
       "300"
      ],
      "text/plain": [
       "     [,1]\n",
       "[1,]  300"
      ]
     },
     "execution_count": 20,
     "metadata": {},
     "output_type": "execute_result"
    }
   ],
   "source": [
    "#If you want a vector inner product, use %*%\n",
    "\n",
    "vector1 %*% vector2"
   ]
  },
  {
   "cell_type": "markdown",
   "metadata": {
    "collapsed": true
   },
   "source": [
    "*Note: An inner product is the sum of the elementwise multiplication of two vectors. It always returns a single value.\n",
    "\n",
    "Vectorized operations can also work on character vectors. Let's consider the function paste() which takes two or more objects as input and concatenates them into a character vector. If you pass paste() character vectors longer than lengh 1, it combines them in an element-wise fashion:"
   ]
  },
  {
   "cell_type": "code",
   "execution_count": 21,
   "metadata": {
    "collapsed": false
   },
   "outputs": [
    {
     "data": {
      "text/html": [
       "<ol class=list-inline>\n",
       "\t<li>\"Life Blogging\"</li>\n",
       "\t<li>\"Is Is\"</li>\n",
       "\t<li>\"Study Fun\"</li>\n",
       "</ol>\n"
      ],
      "text/latex": [
       "\\begin{enumerate*}\n",
       "\\item \"Life Blogging\"\n",
       "\\item \"Is Is\"\n",
       "\\item \"Study Fun\"\n",
       "\\end{enumerate*}\n"
      ],
      "text/markdown": [
       "1. \"Life Blogging\"\n",
       "2. \"Is Is\"\n",
       "3. \"Study Fun\"\n",
       "\n",
       "\n"
      ],
      "text/plain": [
       "[1] \"Life Blogging\" \"Is Is\"         \"Study Fun\"    "
      ]
     },
     "execution_count": 21,
     "metadata": {},
     "output_type": "execute_result"
    }
   ],
   "source": [
    "x <- c(\"Life\",\"Is\",\"Study\")\n",
    "y <- c(\"Blogging\",\"Is\",\"Fun\")\n",
    "\n",
    "paste(x,y)"
   ]
  },
  {
   "cell_type": "markdown",
   "metadata": {},
   "source": [
    "The data type conversion functions we discussed in the atomic data types section also work on longer vectors."
   ]
  },
  {
   "cell_type": "code",
   "execution_count": 22,
   "metadata": {
    "collapsed": false
   },
   "outputs": [
    {
     "name": "stdout",
     "output_type": "stream",
     "text": [
      "[1] 1 2 3\n"
     ]
    },
    {
     "data": {
      "text/html": [
       "\"double\""
      ],
      "text/latex": [
       "\"double\""
      ],
      "text/markdown": [
       "\"double\""
      ],
      "text/plain": [
       "[1] \"double\""
      ]
     },
     "execution_count": 22,
     "metadata": {},
     "output_type": "execute_result"
    },
    {
     "name": "stdout",
     "output_type": "stream",
     "text": [
      "[1] \"1\" \"2\" \"3\"\n"
     ]
    },
    {
     "data": {
      "text/html": [
       "\"character\""
      ],
      "text/latex": [
       "\"character\""
      ],
      "text/markdown": [
       "\"character\""
      ],
      "text/plain": [
       "[1] \"character\""
      ]
     },
     "execution_count": 22,
     "metadata": {},
     "output_type": "execute_result"
    }
   ],
   "source": [
    "x <- c(1,2,3)\n",
    "print(x)\n",
    "typeof(x)\n",
    "\n",
    "x <- as.character(x)\n",
    "print(x)\n",
    "typeof(x)"
   ]
  },
  {
   "cell_type": "markdown",
   "metadata": {
    "collapsed": true
   },
   "source": [
    "### Generating Vectors"
   ]
  },
  {
   "cell_type": "markdown",
   "metadata": {
    "collapsed": true
   },
   "source": [
    "Creating vectors by hand with the c() function works fine for short vectors, but it becomes cumbersome quickly when you're working with longer vectors. R includes a variety of convenience functions to generate vectors.\n",
    "\n",
    "You can generate all whole numbers in a range using a colon:"
   ]
  },
  {
   "cell_type": "code",
   "execution_count": 23,
   "metadata": {
    "collapsed": false
   },
   "outputs": [
    {
     "name": "stdout",
     "output_type": "stream",
     "text": [
      " [1]  1  2  3  4  5  6  7  8  9 10 11 12 13 14 15 16 17 18 19 20\n"
     ]
    }
   ],
   "source": [
    "x <- 1:20 \n",
    "print(x)"
   ]
  },
  {
   "cell_type": "markdown",
   "metadata": {},
   "source": [
    "You can also generate sequences using the seq() function. Seq takes the arguments from, to, and by which specify the starting point, stopping point and size of the sequence increment:"
   ]
  },
  {
   "cell_type": "code",
   "execution_count": 24,
   "metadata": {
    "collapsed": false
   },
   "outputs": [
    {
     "name": "stdout",
     "output_type": "stream",
     "text": [
      " [1]  1  2  3  4  5  6  7  8  9 10 11 12 13 14 15 16 17 18 19 20\n"
     ]
    }
   ],
   "source": [
    "y <- seq(from = 1, to = 20, by = 1)\n",
    "print(y)"
   ]
  },
  {
   "cell_type": "code",
   "execution_count": 25,
   "metadata": {
    "collapsed": false
   },
   "outputs": [
    {
     "name": "stdout",
     "output_type": "stream",
     "text": [
      " [1]   0  10  20  30  40  50  60  70  80  90 100\n"
     ]
    }
   ],
   "source": [
    "z <- seq(0, 100, 10)   #You can omit the argument names\n",
    "print(z)"
   ]
  },
  {
   "cell_type": "markdown",
   "metadata": {},
   "source": [
    "Use rep() to create a vector of the same value repeated a specified number of times:"
   ]
  },
  {
   "cell_type": "code",
   "execution_count": 26,
   "metadata": {
    "collapsed": false
   },
   "outputs": [
    {
     "name": "stdout",
     "output_type": "stream",
     "text": [
      " [1] 1 1 1 1 1 1 1 1 1 1 1 1 1 1 1 1 1 1 1 1\n"
     ]
    }
   ],
   "source": [
    "r <- rep(x=1, times=20)\n",
    "print(r)"
   ]
  },
  {
   "cell_type": "markdown",
   "metadata": {},
   "source": [
    "As we saw earlier, you can use the runif() function to draw random values from specified range:"
   ]
  },
  {
   "cell_type": "code",
   "execution_count": 27,
   "metadata": {
    "collapsed": false
   },
   "outputs": [
    {
     "name": "stdout",
     "output_type": "stream",
     "text": [
      " [1] 91.373091  2.302970 21.632559 58.908381 16.419712 27.170919 15.427215\n",
      " [8]  5.048896  2.292052 81.036314 72.759988 53.785448 63.399075  4.636821\n",
      "[15] 45.166667 72.805486 72.470191 62.684585  8.123387  5.034811\n"
     ]
    }
   ],
   "source": [
    "x <- runif(n=20, min=0, max=100)\n",
    "print(x)"
   ]
  },
  {
   "cell_type": "markdown",
   "metadata": {},
   "source": [
    "The function runif() draws numbers from a uniform distribution, so all values within the range are equally likely. R also has functions for drawing random numbers from other types of distributions, such as rnorm() for the normal distribution, rexp() for the exponential distribution and rbinom() for the binomial distribution. We won't go into these any further right now, but suffice it to say R is very useful if you have to deal with probabilty distributions.\n",
    "\n",
    "You can accomplish a suprising amount in R using only vectors and vector commands in the console, but real-world data is usually stuctured in 2 dimensional tables. Next time we'll learn about R's simpliest multi-dimensional object, the matrix."
   ]
  },
  {
   "cell_type": "markdown",
   "metadata": {},
   "source": [
    "### Next Time: Introduction to R Part 6: Matrices"
   ]
  }
 ],
 "metadata": {
  "kernelspec": {
   "display_name": "R",
   "language": "R",
   "name": "ir"
  },
  "language_info": {
   "codemirror_mode": "r",
   "file_extension": ".r",
   "mimetype": "text/x-r-source",
   "name": "R",
   "pygments_lexer": "r",
   "version": "3.1.3"
  }
 },
 "nbformat": 4,
 "nbformat_minor": 0
}
