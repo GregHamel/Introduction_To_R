{
 "cells": [
  {
   "cell_type": "markdown",
   "metadata": {},
   "source": [
    "# Introduction to R Part 14: Working With Character Data"
   ]
  },
  {
   "cell_type": "markdown",
   "metadata": {},
   "source": [
    "Last lesson we learned that there are a lot of questions to consider when you first look at a data set, including whether you should clean or transform the data. We touched breifly on a few basic operations to prepare data for analysis, but the Titanic dataset was pretty clean to begin with. Data you encounter in the wild won't always be so friendly. Character data in particular can be extremely messy and difficult to work with because it can contain all sorts of characters and symbols that may have little meaning for your analysis. This lesson will cover some basic techniques and functions for working with text data in R.\n",
    "\n",
    "To start off we'll need some text data that is a little messier than the names in the Titanic data set. As it happens, Kaggle launched a new data exploration competiton this week, giving users access to a database of comments made on Reddit.com during the month of May 2015. Since the Minnesota Timberwolves are my favorite basketball team, I extracted the comments from the team's fan subreddit from the database. You can get the data file (comments.csv) here.\n",
    "\n",
    "Let's start by loading the data and checking its structure and a few of the comments:"
   ]
  },
  {
   "cell_type": "code",
   "execution_count": 1,
   "metadata": {
    "collapsed": false
   },
   "outputs": [
    {
     "name": "stdout",
     "output_type": "stream",
     "text": [
      "'data.frame':\t4166 obs. of  1 variable:\n",
      " $ body: chr  \"Strongly encouraging sign for us.  The T-Wolves management better not screw this up and they better surround Wiggins with a cha\"| __truncated__ \"[My reaction.](http://4.bp.blogspot.com/-3ySobv38ihc/U6yxpPwsbzI/AAAAAAAAIPo/IO8Z_wbTIVQ/s1600/2.gif)\" \"http://imgur.com/gallery/Zch2AWw\" \"Wolves have more talent than they ever had right now.\" ...\n",
      "                                                                                                                                                                                                                                                                                                                                         body\n",
      "1 Strongly encouraging sign for us.  The T-Wolves management better not screw this up and they better surround Wiggins with a championship caliber team to support his superstar potential or else I wouldn't want him to sour his prime years here in Minnesota just like how I felt with Garnett.\\n\\nTL;DR: Wolves better not fuck this up.\n",
      "2                                                                                                                                                                                                                                       [My reaction.](http://4.bp.blogspot.com/-3ySobv38ihc/U6yxpPwsbzI/AAAAAAAAIPo/IO8Z_wbTIVQ/s1600/2.gif)\n",
      "3                                                                                                                                                                                                                                                                                                            http://imgur.com/gallery/Zch2AWw\n",
      "4                                                                                                                                                                                                                                                                                       Wolves have more talent than they ever had right now.\n",
      "5                                                                                                                                                                                           Nah. Wigg is on the level of KG but where's our Steph? And our Gugliotta? Neither Bazz or Rubio are as good as Googs or as promising as Starbury.\n",
      "6                                                                                                                                                                                                                                                                                                  2004 was a pretty damn talented team dude.\n",
      "7                                                                                                                                                                                                                                                                                                                                         :')\n",
      "8                                                                                                                                                                                                                                                                                                                                     *swoon*\n"
     ]
    }
   ],
   "source": [
    "setwd(\"C:/Users/Greg/Desktop/Kaggle\")  \n",
    "\n",
    "comments <- read.csv(\"t_wolves_reddit_may2015.csv\", stringsAsFactors = FALSE)\n",
    "\n",
    "str(comments)\n",
    "\n",
    "print(head(comments, 8))"
   ]
  },
  {
   "cell_type": "markdown",
   "metadata": {},
   "source": [
    "The text in these comments is pretty messy. We see everything from long paragraphs to web links to text emoticons. Before we try working with entire comment vector, lets go over a few basic character functions."
   ]
  },
  {
   "cell_type": "markdown",
   "metadata": {},
   "source": [
    "### Character Functions"
   ]
  },
  {
   "cell_type": "markdown",
   "metadata": {},
   "source": [
    "You can check the length of a character string with the nchar() function:"
   ]
  },
  {
   "cell_type": "code",
   "execution_count": 2,
   "metadata": {
    "collapsed": false
   },
   "outputs": [
    {
     "data": {
      "text/html": [
       "329"
      ],
      "text/latex": [
       "329"
      ],
      "text/markdown": [
       "329"
      ],
      "text/plain": [
       "[1] 329"
      ]
     },
     "execution_count": 2,
     "metadata": {},
     "output_type": "execute_result"
    }
   ],
   "source": [
    "first_comment <- comments[1,1]      # Get the first comment\n",
    "\n",
    "nchar(first_comment)                #Check the number of characters"
   ]
  },
  {
   "cell_type": "markdown",
   "metadata": {},
   "source": [
    "*Note: length() returns the number of elements in entire vector while nchar() checks the number of characters in a character string\n",
    "\n",
    "We saw in an earlier lesson that you can combine two or more characters with the paste() funciton. Lets combine comments 7, 8 and 9:"
   ]
  },
  {
   "cell_type": "code",
   "execution_count": 3,
   "metadata": {
    "collapsed": false
   },
   "outputs": [
    {
     "data": {
      "text/html": [
       "\":')||*swoon*||Is Joe Smith available..?\""
      ],
      "text/latex": [
       "\":')||*swoon*||Is Joe Smith available..?\""
      ],
      "text/markdown": [
       "\":')||*swoon*||Is Joe Smith available..?\""
      ],
      "text/plain": [
       "[1] \":')||*swoon*||Is Joe Smith available..?\""
      ]
     },
     "execution_count": 3,
     "metadata": {},
     "output_type": "execute_result"
    }
   ],
   "source": [
    "paste(comments[7,1], comments[8,1], comments[9,1],\n",
    "      sep = \"||\")                          #separate comments with two pipes (||)"
   ]
  },
  {
   "cell_type": "markdown",
   "metadata": {},
   "source": [
    "We also saw that you can get a substring of a character using the substr() function:"
   ]
  },
  {
   "cell_type": "code",
   "execution_count": 4,
   "metadata": {
    "collapsed": false
   },
   "outputs": [
    {
     "data": {
      "text/html": [
       "\" surround Wiggins with a championship caliber team \""
      ],
      "text/latex": [
       "\" surround Wiggins with a championship caliber team \""
      ],
      "text/markdown": [
       "\" surround Wiggins with a championship caliber team \""
      ],
      "text/plain": [
       "[1] \" surround Wiggins with a championship caliber team \""
      ]
     },
     "execution_count": 4,
     "metadata": {},
     "output_type": "execute_result"
    }
   ],
   "source": [
    "substr(first_comment, 100, 150)           #get a substring from index 100 to 150"
   ]
  },
  {
   "cell_type": "markdown",
   "metadata": {},
   "source": [
    "You can convert all letters to uppercase or lowercase with the toupper() and tolower() functions respectively:"
   ]
  },
  {
   "cell_type": "code",
   "execution_count": 5,
   "metadata": {
    "collapsed": false
   },
   "outputs": [
    {
     "data": {
      "text/html": [
       "\" SURROUND WIGGINS WITH A CHAMPIONSHIP CALIBER TEAM \""
      ],
      "text/latex": [
       "\" SURROUND WIGGINS WITH A CHAMPIONSHIP CALIBER TEAM \""
      ],
      "text/markdown": [
       "\" SURROUND WIGGINS WITH A CHAMPIONSHIP CALIBER TEAM \""
      ],
      "text/plain": [
       "[1] \" SURROUND WIGGINS WITH A CHAMPIONSHIP CALIBER TEAM \""
      ]
     },
     "execution_count": 5,
     "metadata": {},
     "output_type": "execute_result"
    },
    {
     "data": {
      "text/html": [
       "\" surround wiggins with a championship caliber team \""
      ],
      "text/latex": [
       "\" surround wiggins with a championship caliber team \""
      ],
      "text/markdown": [
       "\" surround wiggins with a championship caliber team \""
      ],
      "text/plain": [
       "[1] \" surround wiggins with a championship caliber team \""
      ]
     },
     "execution_count": 5,
     "metadata": {},
     "output_type": "execute_result"
    }
   ],
   "source": [
    "toupper( substr(first_comment, 100, 150)  )\n",
    "\n",
    "tolower( substr(first_comment, 100, 150)  )"
   ]
  },
  {
   "cell_type": "markdown",
   "metadata": {},
   "source": [
    "To split a character string use the strsplit() function:"
   ]
  },
  {
   "cell_type": "code",
   "execution_count": 6,
   "metadata": {
    "collapsed": false
   },
   "outputs": [
    {
     "data": {
      "text/html": [
       "<ol>\n",
       "\t<li><ol class=list-inline>\n",
       "\t<li>\"Strongly\"</li>\n",
       "\t<li>\"encouraging\"</li>\n",
       "\t<li>\"sign\"</li>\n",
       "\t<li>\"for\"</li>\n",
       "\t<li>\"us.\"</li>\n",
       "\t<li>\"\"</li>\n",
       "\t<li>\"The\"</li>\n",
       "\t<li>\"T-Wolves\"</li>\n",
       "\t<li>\"management\"</li>\n",
       "\t<li>\"better\"</li>\n",
       "\t<li>\"not\"</li>\n",
       "\t<li>\"screw\"</li>\n",
       "\t<li>\"this\"</li>\n",
       "\t<li>\"up\"</li>\n",
       "\t<li>\"and\"</li>\n",
       "\t<li>\"they\"</li>\n",
       "\t<li>\"better\"</li>\n",
       "\t<li>\"surround\"</li>\n",
       "\t<li>\"Wiggins\"</li>\n",
       "\t<li>\"with\"</li>\n",
       "\t<li>\"a\"</li>\n",
       "\t<li>\"championship\"</li>\n",
       "\t<li>\"caliber\"</li>\n",
       "\t<li>\"team\"</li>\n",
       "\t<li>\"to\"</li>\n",
       "\t<li>\"support\"</li>\n",
       "\t<li>\"his\"</li>\n",
       "\t<li>\"superstar\"</li>\n",
       "\t<li>\"potential\"</li>\n",
       "\t<li>\"or\"</li>\n",
       "\t<li>\"else\"</li>\n",
       "\t<li>\"I\"</li>\n",
       "\t<li>\"wouldn't\"</li>\n",
       "\t<li>\"want\"</li>\n",
       "\t<li>\"him\"</li>\n",
       "\t<li>\"to\"</li>\n",
       "\t<li>\"sour\"</li>\n",
       "\t<li>\"his\"</li>\n",
       "\t<li>\"prime\"</li>\n",
       "\t<li>\"years\"</li>\n",
       "\t<li>\"here\"</li>\n",
       "\t<li>\"in\"</li>\n",
       "\t<li>\"Minnesota\"</li>\n",
       "\t<li>\"just\"</li>\n",
       "\t<li>\"like\"</li>\n",
       "\t<li>\"how\"</li>\n",
       "\t<li>\"I\"</li>\n",
       "\t<li>\"felt\"</li>\n",
       "\t<li>\"with\"</li>\n",
       "\t<li>\"Garnett.\n",
       "\n",
       "TL;DR:\"</li>\n",
       "\t<li>\"Wolves\"</li>\n",
       "\t<li>\"better\"</li>\n",
       "\t<li>\"not\"</li>\n",
       "\t<li>\"fuck\"</li>\n",
       "\t<li>\"this\"</li>\n",
       "\t<li>\"up.\"</li>\n",
       "</ol>\n",
       "</li>\n",
       "</ol>\n"
      ],
      "text/latex": [
       "\\begin{enumerate}\n",
       "\\item \\begin{enumerate*}\n",
       "\\item \"Strongly\"\n",
       "\\item \"encouraging\"\n",
       "\\item \"sign\"\n",
       "\\item \"for\"\n",
       "\\item \"us.\"\n",
       "\\item \"\"\n",
       "\\item \"The\"\n",
       "\\item \"T-Wolves\"\n",
       "\\item \"management\"\n",
       "\\item \"better\"\n",
       "\\item \"not\"\n",
       "\\item \"screw\"\n",
       "\\item \"this\"\n",
       "\\item \"up\"\n",
       "\\item \"and\"\n",
       "\\item \"they\"\n",
       "\\item \"better\"\n",
       "\\item \"surround\"\n",
       "\\item \"Wiggins\"\n",
       "\\item \"with\"\n",
       "\\item \"a\"\n",
       "\\item \"championship\"\n",
       "\\item \"caliber\"\n",
       "\\item \"team\"\n",
       "\\item \"to\"\n",
       "\\item \"support\"\n",
       "\\item \"his\"\n",
       "\\item \"superstar\"\n",
       "\\item \"potential\"\n",
       "\\item \"or\"\n",
       "\\item \"else\"\n",
       "\\item \"I\"\n",
       "\\item \"wouldn't\"\n",
       "\\item \"want\"\n",
       "\\item \"him\"\n",
       "\\item \"to\"\n",
       "\\item \"sour\"\n",
       "\\item \"his\"\n",
       "\\item \"prime\"\n",
       "\\item \"years\"\n",
       "\\item \"here\"\n",
       "\\item \"in\"\n",
       "\\item \"Minnesota\"\n",
       "\\item \"just\"\n",
       "\\item \"like\"\n",
       "\\item \"how\"\n",
       "\\item \"I\"\n",
       "\\item \"felt\"\n",
       "\\item \"with\"\n",
       "\\item \"Garnett.\n",
       "\n",
       "TL;DR:\"\n",
       "\\item \"Wolves\"\n",
       "\\item \"better\"\n",
       "\\item \"not\"\n",
       "\\item \"fuck\"\n",
       "\\item \"this\"\n",
       "\\item \"up.\"\n",
       "\\end{enumerate*}\n",
       "\n",
       "\\end{enumerate}\n"
      ],
      "text/markdown": [
       "1. 1. \"Strongly\"\n",
       "2. \"encouraging\"\n",
       "3. \"sign\"\n",
       "4. \"for\"\n",
       "5. \"us.\"\n",
       "6. \"\"\n",
       "7. \"The\"\n",
       "8. \"T-Wolves\"\n",
       "9. \"management\"\n",
       "10. \"better\"\n",
       "11. \"not\"\n",
       "12. \"screw\"\n",
       "13. \"this\"\n",
       "14. \"up\"\n",
       "15. \"and\"\n",
       "16. \"they\"\n",
       "17. \"better\"\n",
       "18. \"surround\"\n",
       "19. \"Wiggins\"\n",
       "20. \"with\"\n",
       "21. \"a\"\n",
       "22. \"championship\"\n",
       "23. \"caliber\"\n",
       "24. \"team\"\n",
       "25. \"to\"\n",
       "26. \"support\"\n",
       "27. \"his\"\n",
       "28. \"superstar\"\n",
       "29. \"potential\"\n",
       "30. \"or\"\n",
       "31. \"else\"\n",
       "32. \"I\"\n",
       "33. \"wouldn't\"\n",
       "34. \"want\"\n",
       "35. \"him\"\n",
       "36. \"to\"\n",
       "37. \"sour\"\n",
       "38. \"his\"\n",
       "39. \"prime\"\n",
       "40. \"years\"\n",
       "41. \"here\"\n",
       "42. \"in\"\n",
       "43. \"Minnesota\"\n",
       "44. \"just\"\n",
       "45. \"like\"\n",
       "46. \"how\"\n",
       "47. \"I\"\n",
       "48. \"felt\"\n",
       "49. \"with\"\n",
       "50. \"Garnett.\n",
       "\n",
       "TL;DR:\"\n",
       "51. \"Wolves\"\n",
       "52. \"better\"\n",
       "53. \"not\"\n",
       "54. \"fuck\"\n",
       "55. \"this\"\n",
       "56. \"up.\"\n",
       "\n",
       "\n",
       "\n",
       "\n",
       "\n"
      ],
      "text/plain": [
       "[[1]]\n",
       " [1] \"Strongly\"           \"encouraging\"        \"sign\"              \n",
       " [4] \"for\"                \"us.\"                \"\"                  \n",
       " [7] \"The\"                \"T-Wolves\"           \"management\"        \n",
       "[10] \"better\"             \"not\"                \"screw\"             \n",
       "[13] \"this\"               \"up\"                 \"and\"               \n",
       "[16] \"they\"               \"better\"             \"surround\"          \n",
       "[19] \"Wiggins\"            \"with\"               \"a\"                 \n",
       "[22] \"championship\"       \"caliber\"            \"team\"              \n",
       "[25] \"to\"                 \"support\"            \"his\"               \n",
       "[28] \"superstar\"          \"potential\"          \"or\"                \n",
       "[31] \"else\"               \"I\"                  \"wouldn't\"          \n",
       "[34] \"want\"               \"him\"                \"to\"                \n",
       "[37] \"sour\"               \"his\"                \"prime\"             \n",
       "[40] \"years\"              \"here\"               \"in\"                \n",
       "[43] \"Minnesota\"          \"just\"               \"like\"              \n",
       "[46] \"how\"                \"I\"                  \"felt\"              \n",
       "[49] \"with\"               \"Garnett.\\n\\nTL;DR:\" \"Wolves\"            \n",
       "[52] \"better\"             \"not\"                \"fuck\"              \n",
       "[55] \"this\"               \"up.\"               \n"
      ]
     },
     "execution_count": 6,
     "metadata": {},
     "output_type": "execute_result"
    }
   ],
   "source": [
    "words <- strsplit(first_comment,          # character to split\n",
    "                  split= \" \")             # string specifying where to make the split\n",
    "words"
   ]
  },
  {
   "cell_type": "markdown",
   "metadata": {},
   "source": [
    "You can replace part of a character string with a different substring using the sub() and gsub() functions. sub() replaces the first occurence of the specified substring while gsub() replaces all occurences:"
   ]
  },
  {
   "cell_type": "code",
   "execution_count": 7,
   "metadata": {
    "collapsed": false
   },
   "outputs": [
    {
     "data": {
      "text/html": [
       "\"I like Towns. Wiggins is the best.\""
      ],
      "text/latex": [
       "\"I like Towns. Wiggins is the best.\""
      ],
      "text/markdown": [
       "\"I like Towns. Wiggins is the best.\""
      ],
      "text/plain": [
       "[1] \"I like Towns. Wiggins is the best.\""
      ]
     },
     "execution_count": 7,
     "metadata": {},
     "output_type": "execute_result"
    },
    {
     "data": {
      "text/html": [
       "\"I like Towns. Towns is the best.\""
      ],
      "text/latex": [
       "\"I like Towns. Towns is the best.\""
      ],
      "text/markdown": [
       "\"I like Towns. Towns is the best.\""
      ],
      "text/plain": [
       "[1] \"I like Towns. Towns is the best.\""
      ]
     },
     "execution_count": 7,
     "metadata": {},
     "output_type": "execute_result"
    }
   ],
   "source": [
    "new_string <- \"I like Wiggins. Wiggins is the best.\"\n",
    "\n",
    "sub(pattern = \"Wiggins\",            # String to replace\n",
    "    replacement = \"Towns\",          # String to use as replacement\n",
    "    x = new_string)                 # Character vector to search\n",
    "\n",
    "gsub(pattern = \"Wiggins\",           # String to replace\n",
    "    replacement = \"Towns\",          # String to use as replacement\n",
    "    x = new_string)                 # Character vector to search"
   ]
  },
  {
   "cell_type": "raw",
   "metadata": {
    "collapsed": true
   },
   "source": [
    "A common operation when working with text data is to test whether character strings contain a certain substring or pattern of characters. For instance, if we were only interested in posts about Andrew Wiggins, we'd need to match all posts that make mention of him and avoid matching posts that don't mention him. Use the grep() function to get the indexes of elements in a character vector that match a given substring:"
   ]
  },
  {
   "cell_type": "code",
   "execution_count": 8,
   "metadata": {
    "collapsed": false
   },
   "outputs": [
    {
     "name": "stdout",
     "output_type": "stream",
     "text": [
      "  [1]    1    5   10   11   34   45   46   63   64   65   76   79   82   85   86\n",
      " [16]  112  114  160  185  200  260  265  272  281  283  315  316  318  354  409\n",
      " [31]  450  465  496  555  561  580  582  584  592  627  634  656  662  673  674\n",
      " [46]  693  715  718  740  775  784  796  817  822  832  859  865  869  871  892\n",
      " [61]  899  916  971 1017 1027 1030 1111 1125 1129 1132 1142 1157 1223 1242 1251\n",
      " [76] 1296 1325 1328 1334 1354 1375 1377 1380 1384 1391 1394 1518 1587 1621 1640\n",
      " [91] 1646 1648 1677 1692 1852 1874 1910 1929 1951 1970 1986 1998 2000 2022 2035\n",
      "[106] 2056 2075 2081 2098 2100 2106 2151 2180 2188 2194 2248 2263 2269 2299 2302\n",
      "[121] 2306 2308 2311 2333 2346 2374 2397 2400 2407 2410 2432 2443 2447 2474 2480\n",
      "[136] 2529 2531 2532 2533 2539 2565 2566 2573 2586 2596 2597 2628 2652 2659 2663\n",
      "[151] 2673 2725 2736 2768 2778 2779 2788 2811 2876 2891 2903 2934 2963 2969 2971\n",
      "[166] 2988 3003 3018 3038 3082 3086 3095 3097 3098 3108 3120 3130 3136 3169 3171\n",
      "[181] 3174 3177 3184 3214 3219 3228 3239 3261 3292 3322 3326 3328 3332 3334 3360\n",
      "[196] 3384 3386 3448 3454 3459 3474 3491 3510 3524 3530 3538 3540 3555 3573 3574\n",
      "[211] 3577 3580 3584 3613 3620 3631 3642 3645 3646 3647 3648 3651 3656 3657 3658\n",
      "[226] 3663 3674 3681 3686 3699 3704 3706 3708 3714 3733 3739 3741 3745 3747 3753\n",
      "[241] 3783 3791 3792 3806 3825 3833 3837 3839 3842 3854 3860 3864 3868 3884 3900\n",
      "[256] 3923 3930 3935 3941 3948 3949 3951 3971 3973 3987 3995 4025 4042 4047 4054\n",
      "[271] 4057 4060 4069 4133 4151 4161 4162\n"
     ]
    },
    {
     "data": {
      "text/html": [
       "0.0664906385021603"
      ],
      "text/latex": [
       "0.0664906385021603"
      ],
      "text/markdown": [
       "0.0664906385021603"
      ],
      "text/plain": [
       "[1] 0.06649064"
      ]
     },
     "execution_count": 8,
     "metadata": {},
     "output_type": "execute_result"
    }
   ],
   "source": [
    "wiggins_indexes <- grep(pattern = \"wigg|drew\",           # Substring or pattern to match\n",
    "                        x = tolower(comments$body))      # vector to search\n",
    "\n",
    "print(wiggins_indexes)                                   #check the indexes\n",
    "\n",
    "length(wiggins_indexes)/nrow(comments)          # get the ratio of comments about Wiggins"
   ]
  },
  {
   "cell_type": "markdown",
   "metadata": {
    "collapsed": true
   },
   "source": [
    "It looks like about 6.6% of comments make mention of Wiggins. Notice that this time the pattern argument we supplied wasn't just a simple substring. Posts about Andrew Wiggins could use any number of different names to refer to him--Wiggins, Andrew, Wigg, Drew--so we needed something a little more flexible than a single substring to match the posts we're interested in. The pattern we supplied is a simple example of a regular expression."
   ]
  },
  {
   "cell_type": "markdown",
   "metadata": {
    "collapsed": true
   },
   "source": [
    "### R Regular Expressions"
   ]
  },
  {
   "cell_type": "markdown",
   "metadata": {
    "collapsed": true
   },
   "source": [
    "A regular expression (regex) is a sequence of characters and special meta characters used to match a set of character strings. Regular expressions allow you to be more expressive with your matching than just providing a simple substring. A regular expression lets you define a \"pattern\" that can match strings of different lengths, made up of different characters.\n",
    "\n",
    "In the grep() example above, we supplied the regular expression: \"wigg|drew\". In this case, the vertical bar | is a metacharacter that acts as the \"or\" operator, so this regular expression matches any string that contains the substring \"wigg\" or \"drew\".\n",
    "\n",
    "When you provide a regular expression that contains no metacharacters, it simply matches the exact substring. For instance, \"Wiggins\" would only match strings containing the exact substring \"Wiggins.\" Metacharacters let you change how you make matches. Here is a list of basic metacharacters and what they do:"
   ]
  },
  {
   "cell_type": "markdown",
   "metadata": {
    "collapsed": true
   },
   "source": [
    "\".\" - The period is a metacharacter that matches any character other than a newline:"
   ]
  },
  {
   "cell_type": "code",
   "execution_count": 9,
   "metadata": {
    "collapsed": false
   },
   "outputs": [
    {
     "data": {
      "text/html": [
       "<ol class=list-inline>\n",
       "\t<li>TRUE</li>\n",
       "\t<li>TRUE</li>\n",
       "\t<li>TRUE</li>\n",
       "\t<li>TRUE</li>\n",
       "\t<li>FALSE</li>\n",
       "</ol>\n"
      ],
      "text/latex": [
       "\\begin{enumerate*}\n",
       "\\item TRUE\n",
       "\\item TRUE\n",
       "\\item TRUE\n",
       "\\item TRUE\n",
       "\\item FALSE\n",
       "\\end{enumerate*}\n"
      ],
      "text/markdown": [
       "1. TRUE\n",
       "2. TRUE\n",
       "3. TRUE\n",
       "4. TRUE\n",
       "5. FALSE\n",
       "\n",
       "\n"
      ],
      "text/plain": [
       "[1]  TRUE  TRUE  TRUE  TRUE FALSE"
      ]
     },
     "execution_count": 9,
     "metadata": {},
     "output_type": "execute_result"
    }
   ],
   "source": [
    "my_char <- c(\"will\",\"bill\",\"Till\",\"still\",\"gull\")\n",
    " \n",
    "grepl(pattern = \".ill\",         #matches any 4 character substring that ends with \"ill\"\n",
    "      my_char)"
   ]
  },
  {
   "cell_type": "markdown",
   "metadata": {
    "collapsed": true
   },
   "source": [
    "*Note: grepl() searches for matches just like grep() put returns TRUE/FALSE values if matches are found or not instead of the indexes of matches."
   ]
  },
  {
   "cell_type": "markdown",
   "metadata": {
    "collapsed": true
   },
   "source": [
    "\"[  ]\" - Square brackets specify a set of characters to match:"
   ]
  },
  {
   "cell_type": "code",
   "execution_count": 10,
   "metadata": {
    "collapsed": false
   },
   "outputs": [
    {
     "data": {
      "text/html": [
       "<ol class=list-inline>\n",
       "\t<li>FALSE</li>\n",
       "\t<li>FALSE</li>\n",
       "\t<li>TRUE</li>\n",
       "\t<li>TRUE</li>\n",
       "\t<li>FALSE</li>\n",
       "</ol>\n"
      ],
      "text/latex": [
       "\\begin{enumerate*}\n",
       "\\item FALSE\n",
       "\\item FALSE\n",
       "\\item TRUE\n",
       "\\item TRUE\n",
       "\\item FALSE\n",
       "\\end{enumerate*}\n"
      ],
      "text/markdown": [
       "1. FALSE\n",
       "2. FALSE\n",
       "3. TRUE\n",
       "4. TRUE\n",
       "5. FALSE\n",
       "\n",
       "\n"
      ],
      "text/plain": [
       "[1] FALSE FALSE  TRUE  TRUE FALSE"
      ]
     },
     "execution_count": 10,
     "metadata": {},
     "output_type": "execute_result"
    }
   ],
   "source": [
    "grepl(pattern = \"[Tt]ill\",      #matches T or t followed by \"ill\"\n",
    "      my_char)"
   ]
  },
  {
   "cell_type": "markdown",
   "metadata": {
    "collapsed": true
   },
   "source": [
    "Regular expressions include several special character sets that allow to quickly specify certain common character types. They include:"
   ]
  },
  {
   "cell_type": "code",
   "execution_count": 11,
   "metadata": {
    "collapsed": false
   },
   "outputs": [],
   "source": [
    "# [a-z] - match any lowercase letter\n",
    "# [A-Z] - match any uppercase letter\n",
    "# [0-9] - match any digit\n",
    "# [a-zA-Z0-9] - match any letter or digit\n",
    "\n",
    "# Adding the \"^\" symbol inside the square brackets matches any characters NOT in the set:\n",
    "\n",
    "# [^a-z] - match any character that is not a lowercase letter\n",
    "# [^A-Z] - match any character that is not a uppercase letter\n",
    "# [^0-9] - match any character that is not a digit\n",
    "# [^a-zA-Z0-9] - match any character that is not a letter or digit\n",
    "\n",
    "# R regular expressions also include a shorthand for specifying common sequences:\n",
    "\n",
    "# \\\\d - match any digit\n",
    "# \\\\D - match any non digit\n",
    "# \\\\w - match a word character (same as [a-zA-Z0-9])\n",
    "# \\\\W - match a non-word character\n",
    "# \\\\s - match whitespace (spaces, tabs, newlines, etc.)\n",
    "# \\\\S - match non-whitespace"
   ]
  },
  {
   "cell_type": "markdown",
   "metadata": {},
   "source": [
    "\"^\" - outside of a sequence, the caret symbol searches for matches at the beginning of a string:"
   ]
  },
  {
   "cell_type": "code",
   "execution_count": 12,
   "metadata": {
    "collapsed": false
   },
   "outputs": [
    {
     "data": {
      "text/html": [
       "<ol class=list-inline>\n",
       "\t<li>FALSE</li>\n",
       "\t<li>TRUE</li>\n",
       "\t<li>TRUE</li>\n",
       "</ol>\n"
      ],
      "text/latex": [
       "\\begin{enumerate*}\n",
       "\\item FALSE\n",
       "\\item TRUE\n",
       "\\item TRUE\n",
       "\\end{enumerate*}\n"
      ],
      "text/markdown": [
       "1. FALSE\n",
       "2. TRUE\n",
       "3. TRUE\n",
       "\n",
       "\n"
      ],
      "text/plain": [
       "[1] FALSE  TRUE  TRUE"
      ]
     },
     "execution_count": 12,
     "metadata": {},
     "output_type": "execute_result"
    }
   ],
   "source": [
    "ex_str1 <- c(\"Where did he go?\", \"He went to the Cool Store.\", \"he is so cool\")\n",
    "\n",
    "grepl(pattern = \"^(He|he)\",       # matches He or he but only at the start of a string\n",
    "      ex_str1)"
   ]
  },
  {
   "cell_type": "markdown",
   "metadata": {},
   "source": [
    "\"$\" - searches for matches at the end of a string:"
   ]
  },
  {
   "cell_type": "code",
   "execution_count": 13,
   "metadata": {
    "collapsed": false
   },
   "outputs": [
    {
     "data": {
      "text/html": [
       "<ol class=list-inline>\n",
       "\t<li>FALSE</li>\n",
       "\t<li>FALSE</li>\n",
       "\t<li>TRUE</li>\n",
       "</ol>\n"
      ],
      "text/latex": [
       "\\begin{enumerate*}\n",
       "\\item FALSE\n",
       "\\item FALSE\n",
       "\\item TRUE\n",
       "\\end{enumerate*}\n"
      ],
      "text/markdown": [
       "1. FALSE\n",
       "2. FALSE\n",
       "3. TRUE\n",
       "\n",
       "\n"
      ],
      "text/plain": [
       "[1] FALSE FALSE  TRUE"
      ]
     },
     "execution_count": 13,
     "metadata": {},
     "output_type": "execute_result"
    }
   ],
   "source": [
    "grepl(pattern <- \"(Cool|cool)$\",    # matches Cool or cool at the end of string\n",
    "      ex_str1)"
   ]
  },
  {
   "cell_type": "markdown",
   "metadata": {},
   "source": [
    "\"( )\" - parentheses in regular expressions are used for grouping and to enforce the proper order of   operations just like they are in math and logical expressions. In the examples above, the parentheses let us group the or expressions so that the \"^\" and \"$\" symbols operate on the entire or statement."
   ]
  },
  {
   "cell_type": "markdown",
   "metadata": {},
   "source": [
    "\"*\" - an asterisk matches zero or more copies of the preceeding character\n",
    "\"?\" - a question mark mataches zero or 1 copy of the preceeding character\n",
    "\"+\" - a plus matches 1 more more copies of the preceeding character"
   ]
  },
  {
   "cell_type": "code",
   "execution_count": 14,
   "metadata": {
    "collapsed": false
   },
   "outputs": [
    {
     "data": {
      "text/html": [
       "<ol class=list-inline>\n",
       "\t<li>TRUE</li>\n",
       "\t<li>FALSE</li>\n",
       "\t<li>FALSE</li>\n",
       "\t<li>TRUE</li>\n",
       "\t<li>TRUE</li>\n",
       "</ol>\n"
      ],
      "text/latex": [
       "\\begin{enumerate*}\n",
       "\\item TRUE\n",
       "\\item FALSE\n",
       "\\item FALSE\n",
       "\\item TRUE\n",
       "\\item TRUE\n",
       "\\end{enumerate*}\n"
      ],
      "text/markdown": [
       "1. TRUE\n",
       "2. FALSE\n",
       "3. FALSE\n",
       "4. TRUE\n",
       "5. TRUE\n",
       "\n",
       "\n"
      ],
      "text/plain": [
       "[1]  TRUE FALSE FALSE  TRUE  TRUE"
      ]
     },
     "execution_count": 14,
     "metadata": {},
     "output_type": "execute_result"
    },
    {
     "data": {
      "text/html": [
       "<ol class=list-inline>\n",
       "\t<li>FALSE</li>\n",
       "\t<li>FALSE</li>\n",
       "\t<li>TRUE</li>\n",
       "\t<li>FALSE</li>\n",
       "\t<li>TRUE</li>\n",
       "</ol>\n"
      ],
      "text/latex": [
       "\\begin{enumerate*}\n",
       "\\item FALSE\n",
       "\\item FALSE\n",
       "\\item TRUE\n",
       "\\item FALSE\n",
       "\\item TRUE\n",
       "\\end{enumerate*}\n"
      ],
      "text/markdown": [
       "1. FALSE\n",
       "2. FALSE\n",
       "3. TRUE\n",
       "4. FALSE\n",
       "5. TRUE\n",
       "\n",
       "\n"
      ],
      "text/plain": [
       "[1] FALSE FALSE  TRUE FALSE  TRUE"
      ]
     },
     "execution_count": 14,
     "metadata": {},
     "output_type": "execute_result"
    }
   ],
   "source": [
    "ex_str2 <- c(\"abdominal\",\"b\",\"aa\",\"abbcc\",\"aba\")\n",
    "\n",
    "grepl(pattern = \"a*b.+\",    #match 0 or more a's, a single b, then 1 or more of any character\n",
    "      ex_str2)\n",
    "\n",
    "grepl(pattern = \"a+b?a+\",   #match 1 or more a's, an optional b, then 1 or a's\n",
    "      ex_str2)"
   ]
  },
  {
   "cell_type": "markdown",
   "metadata": {
    "collapsed": true
   },
   "source": [
    "\"{ }\" - curly braces match a preeding character for a specified number of repitions:\n",
    "\n",
    "\"{m}\" - the preeceding element is matched m times\n",
    "\n",
    "\"{m,}\" - the preeceding element is matched m times or more\n",
    "\n",
    "\"{m,n}\" - the preeceding element is matched between m and n times"
   ]
  },
  {
   "cell_type": "code",
   "execution_count": 15,
   "metadata": {
    "collapsed": false
   },
   "outputs": [
    {
     "data": {
      "text/html": [
       "<ol class=list-inline>\n",
       "\t<li>FALSE</li>\n",
       "\t<li>FALSE</li>\n",
       "\t<li>FALSE</li>\n",
       "\t<li>TRUE</li>\n",
       "</ol>\n"
      ],
      "text/latex": [
       "\\begin{enumerate*}\n",
       "\\item FALSE\n",
       "\\item FALSE\n",
       "\\item FALSE\n",
       "\\item TRUE\n",
       "\\end{enumerate*}\n"
      ],
      "text/markdown": [
       "1. FALSE\n",
       "2. FALSE\n",
       "3. FALSE\n",
       "4. TRUE\n",
       "\n",
       "\n"
      ],
      "text/plain": [
       "[1] FALSE FALSE FALSE  TRUE"
      ]
     },
     "execution_count": 15,
     "metadata": {},
     "output_type": "execute_result"
    }
   ],
   "source": [
    "ex_str3 <- c(\"aabcbcb\",\"abbb\",\"abbaab\",\"aabb\")\n",
    "\n",
    "grepl(pattern = \"a{2}b{2,}\",    #match 2 a's then 2 or more b's\n",
    "      ex_str3)\n"
   ]
  },
  {
   "cell_type": "markdown",
   "metadata": {
    "collapsed": true
   },
   "source": [
    "\"\\\\\\\" - double backslashes let you \"escape\" metacharacters. You must escape metacharacters when you actually want to match the metacharacter symbol itself. For instance, if you want to match periods you can't use \".\" because it is a metacharacter that maches anything. Instead, you'd use \"\\\\\\\\.\" to escape the period's metacharacter behavoir and match the period itself."
   ]
  },
  {
   "cell_type": "code",
   "execution_count": 16,
   "metadata": {
    "collapsed": false
   },
   "outputs": [
    {
     "data": {
      "text/html": [
       "<ol class=list-inline>\n",
       "\t<li>TRUE</li>\n",
       "\t<li>TRUE</li>\n",
       "\t<li>FALSE</li>\n",
       "</ol>\n"
      ],
      "text/latex": [
       "\\begin{enumerate*}\n",
       "\\item TRUE\n",
       "\\item TRUE\n",
       "\\item FALSE\n",
       "\\end{enumerate*}\n"
      ],
      "text/markdown": [
       "1. TRUE\n",
       "2. TRUE\n",
       "3. FALSE\n",
       "\n",
       "\n"
      ],
      "text/plain": [
       "[1]  TRUE  TRUE FALSE"
      ]
     },
     "execution_count": 16,
     "metadata": {},
     "output_type": "execute_result"
    }
   ],
   "source": [
    "ex_str4 <- c(\"Mr. Ed\",\"Dr. Mario\",\"Miss\\\\Mrs Granger.\")\n",
    "\n",
    "grepl(pattern = \"\\\\. \",    #match a single period and then a space\n",
    "      ex_str4)"
   ]
  },
  {
   "cell_type": "markdown",
   "metadata": {
    "collapsed": true
   },
   "source": [
    "*Note: if you want to match the escape character backslash itself, you have to use four backslashes \"\\\\\\\\\\\\\\\\\".\n",
    "\n",
    "There are more regular expression syntaxes we won't cover here, but combinations of the few symbols we've covered give you a great amount of expressive power. Regular expressions are commonly used to peform tasks like matching phone numbers, email addresses and web addresses in blocks of text.\n",
    "\n",
    "It turns out that several of the R functions we've discussed accept regular expression patterns instead of the fixed substrings we've been using. These functions include: grep(), grepl(), sub(), gsub() and strsplit(). Remember, you can always get more details of a function by checking the docs with help()."
   ]
  },
  {
   "cell_type": "markdown",
   "metadata": {
    "collapsed": true
   },
   "source": [
    "### Getting Posts with Web Links"
   ]
  },
  {
   "cell_type": "markdown",
   "metadata": {
    "collapsed": true
   },
   "source": [
    "Now its time to use some of the new tools we have in our toolbox on the Reddit comment data. Let's say we are only interested in posts that contain web links. If we want to narrow down comments to only those with web links, we'll need to match comments that agree with some pattern that expresses the textual form of a web link. Lets try using a simple regular expression to find posts with web links.\n",
    "\n",
    "Web links begin with \"http:\" or \"https:\" so lets make a regular expressin that matches those substrings:"
   ]
  },
  {
   "cell_type": "code",
   "execution_count": 17,
   "metadata": {
    "collapsed": false
   },
   "outputs": [
    {
     "name": "stdout",
     "output_type": "stream",
     "text": [
      "[1] 216\n",
      "[1] \"[My reaction.](http://4.bp.blogspot.com/-3ySobv38ihc/U6yxpPwsbzI/AAAAAAAAIPo/IO8Z_wbTIVQ/s1600/2.gif)\"                              \n",
      "[2] \"http://imgur.com/gallery/Zch2AWw\"                                                                                                   \n",
      "[3] \"[January 4th, 2005 - 47 Pts, 17 Rebs](https://www.youtube.com/watch?v=iLRsJ9gcW0Y)\\n\\n[bonus gif](http://i.imgur.com/8bKXHT9.gifv)\" \n",
      "[4] \"[You're right.](http://espn.go.com/nba/notebook/_/page/ROY1415/2014-15-rookie-year-predictions) This article was posted October 27.\"\n",
      "[5] \"https://www.youtube.com/watch?v=K1VtZht_8t4\\n\\nGame 7 of the Western Conference semi final vs. the Kings.  2004.\"                   \n"
     ]
    }
   ],
   "source": [
    "indexes_of_links <- grep(\"https?:\",\n",
    "                        comments$body)\n",
    "\n",
    "posts_with_links <- comments$body[indexes_of_links]\n",
    "\n",
    "print( length( posts_with_links ) )                # Check number of posts matched\n",
    "\n",
    "print(head(posts_with_links, 5))                   # Check a few of the posts"
   ]
  },
  {
   "cell_type": "markdown",
   "metadata": {
    "collapsed": true
   },
   "source": [
    "It appears the comments we've returned all contain web links. It is possible that a post could contain the string \"http:\" without actually having a web link. If we wanted to reduce this possibility, we'd have to be more specific with our regular expression pattern, but in the case of a basketball-themed forum, it is pretty unlikely.\n",
    "\n",
    "Now that we've identified posts that contain web links, lets extract the links themselves. Many of the posts contain both web links and a bunch of text the user wrote. We want to get rid of the text keep the web links. It is possible to do this with R's base regular expression functions, but in this case its easier to use a package. Let's install and load the \"stringr\" package, which provides a variety of convenience functions for working with character data in R:"
   ]
  },
  {
   "cell_type": "code",
   "execution_count": 18,
   "metadata": {
    "collapsed": false
   },
   "outputs": [],
   "source": [
    "# Run install.packages to install stringr:\n",
    "# install.packages(\"stringr\")\n",
    "\n",
    "library(stringr)             #then load the package"
   ]
  },
  {
   "cell_type": "markdown",
   "metadata": {},
   "source": [
    "Now we can use stringr function str_extract_all(). This function takes a regex pattern and a character vector and returns a list where each list item is a vector of all the matches found within each string. If some comments include multiple web links, some of the vectors in our list should have more than 1 element:"
   ]
  },
  {
   "cell_type": "code",
   "execution_count": 19,
   "metadata": {
    "collapsed": false
   },
   "outputs": [
    {
     "name": "stdout",
     "output_type": "stream",
     "text": [
      "[[1]]\n",
      "[1] \"http://4.bp.blogspot.com/-3ySobv38ihc/U6yxpPwsbzI/AAAAAAAAIPo/IO8Z_wbTIVQ/s1600/2.gif\"\n",
      "\n",
      "[[2]]\n",
      "[1] \"http://imgur.com/gallery/Zch2AWw\"\n",
      "\n",
      "[[3]]\n",
      "[1] \"https://www.youtube.com/watch?v=iLRsJ9gcW0Y\"\n",
      "[2] \"http://i.imgur.com/8bKXHT9.gifv\"            \n",
      "\n",
      "[[4]]\n",
      "[1] \"http://espn.go.com/nba/notebook/_/page/ROY1415/2014-15-rookie-year-predictions\"\n",
      "\n",
      "[[5]]\n",
      "[1] \"https://www.youtube.com/watch?v=K1VtZht_8t4\"\n",
      "\n",
      "[[6]]\n",
      "[1] \"https://www.youtube.com/watch?v=mFEzW1Z6TRM\"\n",
      "\n",
      "[[7]]\n",
      "[1] \"https://instagram.com/p/2HWfB3o8rK/\"\n",
      "\n",
      "[[8]]\n",
      "[1] \"https://www.youtube.com/watch?v=524h48CWlMc&amp;feature=iv&amp;src_vid=vNqmpbMPX9k&amp;annotation_id=annotation_1856196647\"\n",
      "\n",
      "[[9]]\n",
      "[1] \"http://i.imgur.com/OrjShZv.jpg\"\n",
      "\n",
      "[[10]]\n",
      "[1] \"http://content.sportslogos.net/logos/6/232/full/923_minnesota-timberwolves-stadium-2012.png\"\n",
      "\n"
     ]
    }
   ],
   "source": [
    "only_links <- str_extract_all(pattern = \"https?:[^ \\n\\\\)]+\",  #specify a pattern to match\n",
    "                              string = posts_with_links)\n",
    "\n",
    "print( head(only_links,10))               #Check the head of the list returned"
   ]
  },
  {
   "cell_type": "markdown",
   "metadata": {
    "collapsed": true
   },
   "source": [
    "The pattern we used to match web links may look confusing, so lets go over it step by step. \n",
    "\n",
    "First the pattern matches the exact characters \"http\", an optinal \"s\" and then \":\". \n",
    "\n",
    "Next, with [^ \\n\\\\\\\\)], we create a set of characters to match. Since our set starts with \"^\", we are actually matching the negation of the set. In this case, the set is the space character, the newline character \"\\n\" and the closing parenthesis character \")\". Notice we had to escape the closing parenthesis character by wrting \"\\\\\\\\)\". Since we are matching the negation, this set matches any character that is NOT a space, newline or closing parenthesis. Finally, the \"+\" at the end matches this set 1 or more times. \n",
    "\n",
    "To summarize, the regex matches http: or https: at the start and then any number of characters until it encounters a space, newline or closing parenthesis. This regex isn't perfect: a web address could contain parentheses and a space, newline or closing parenthesis might not be the only characters that mark the end of a web link in a comment. It is good enough for this small data set, but for a serious project we would probably want someting a little more specific to handle such corner cases. \n",
    "\n",
    "Complex regular expressions can be difficult to write and confusing to read. Sometimes it is easiest to simply search the web for a regular expression to perform a common task and copy it (note if you copy a regex written for another langauge it might not work in R.)."
   ]
  },
  {
   "cell_type": "markdown",
   "metadata": {
    "collapsed": true
   },
   "source": [
    "### Wrap Up"
   ]
  },
  {
   "cell_type": "markdown",
   "metadata": {
    "collapsed": true
   },
   "source": [
    "In this lesson we learned several functions for dealing with text data in R and introduced regular expressions, a powerful tool for matching substrings in text. Regular expressions are used in many programming languages and although the syntax for regex varies a bit for one language to another, most of the basic construtcs are the same. \n",
    "\n",
    "Next time we'll turn our attention to cleaning and preparing numeric data."
   ]
  },
  {
   "cell_type": "markdown",
   "metadata": {
    "collapsed": true
   },
   "source": [
    "### Next Time: Introduction to R Part 14: Preparing Numeric Data"
   ]
  }
 ],
 "metadata": {
  "kernelspec": {
   "display_name": "R",
   "language": "R",
   "name": "ir"
  },
  "language_info": {
   "codemirror_mode": "r",
   "file_extension": ".r",
   "mimetype": "text/x-r-source",
   "name": "R",
   "pygments_lexer": "r",
   "version": "3.1.3"
  }
 },
 "nbformat": 4,
 "nbformat_minor": 0
}
