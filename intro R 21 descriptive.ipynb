{
 "cells": [
  {
   "cell_type": "markdown",
   "metadata": {},
   "source": [
    "# Introduction to R Part 21: Descriptive Statistics"
   ]
  },
  {
   "cell_type": "markdown",
   "metadata": {},
   "source": [
    "Descriptive statistics are measures that summarize important features of data, often with a single number. Producing descriptive statitics is a common first step to take after cleaning and preparing a data set for analysis. We've already seen several examples of desciptive statistics in earlier lessons, such as means and medians. In this lesson we'll review some of these functions and explore several new ones. "
   ]
  },
  {
   "cell_type": "markdown",
   "metadata": {},
   "source": [
    "### Measures of Center"
   ]
  },
  {
   "cell_type": "markdown",
   "metadata": {},
   "source": [
    "Measures of center are statistics that give us a sense of the \"middle\" of a numeric variable. In other words, centrality measures give you a sense of a typical value you'd expect to see. Common measures of center include the mean, median and mode.\n",
    "\n",
    "The mean is simply an average: the sum of the values divided by the total number of records. As we've seen before, there are several ways to get means in R:"
   ]
  },
  {
   "cell_type": "code",
   "execution_count": 1,
   "metadata": {
    "collapsed": false
   },
   "outputs": [
    {
     "data": {
      "text/html": [
       "20.090625"
      ],
      "text/latex": [
       "20.090625"
      ],
      "text/markdown": [
       "20.090625"
      ],
      "text/plain": [
       "[1] 20.09062"
      ]
     },
     "execution_count": 1,
     "metadata": {},
     "output_type": "execute_result"
    }
   ],
   "source": [
    "cars <- mtcars      # use the mtcars data set\n",
    "\n",
    "mean(cars$mpg)      # mean() gets the mean for 1 variable"
   ]
  },
  {
   "cell_type": "code",
   "execution_count": 2,
   "metadata": {
    "collapsed": false
   },
   "outputs": [
    {
     "name": "stdout",
     "output_type": "stream",
     "text": [
      "       mpg        cyl       disp         hp       drat         wt       qsec \n",
      " 20.090625   6.187500 230.721875 146.687500   3.596563   3.217250  17.848750 \n",
      "        vs         am       gear       carb \n",
      "  0.437500   0.406250   3.687500   2.812500 \n"
     ]
    }
   ],
   "source": [
    "print(colMeans(cars))     # colMeans() gets the means for all columns in a data frame"
   ]
  },
  {
   "cell_type": "code",
   "execution_count": 3,
   "metadata": {
    "collapsed": false
   },
   "outputs": [
    {
     "name": "stdout",
     "output_type": "stream",
     "text": [
      "          Mazda RX4       Mazda RX4 Wag          Datsun 710      Hornet 4 Drive \n",
      "           29.90727            29.98136            23.59818            38.73955 \n",
      "  Hornet Sportabout             Valiant          Duster 360           Merc 240D \n",
      "           53.66455            35.04909            59.72000            24.63455 \n",
      "           Merc 230            Merc 280           Merc 280C          Merc 450SE \n",
      "           27.23364            31.86000            31.78727            46.43091 \n",
      "         Merc 450SL         Merc 450SLC  Cadillac Fleetwood Lincoln Continental \n",
      "           46.50000            46.35000            66.23273            66.05855 \n",
      "  Chrysler Imperial            Fiat 128         Honda Civic      Toyota Corolla \n",
      "           65.97227            19.44091            17.74227            18.81409 \n",
      "      Toyota Corona    Dodge Challenger         AMC Javelin          Camaro Z28 \n",
      "           24.88864            47.24091            46.00773            58.75273 \n",
      "   Pontiac Firebird           Fiat X1-9       Porsche 914-2        Lotus Europa \n",
      "           57.37955            18.92864            24.77909            24.88027 \n",
      "     Ford Pantera L        Ferrari Dino       Maserati Bora          Volvo 142E \n",
      "           60.97182            34.50818            63.15545            26.26273 \n"
     ]
    }
   ],
   "source": [
    "print(rowMeans(cars))     # rowMeans() gets the means for all rows in a data frame"
   ]
  },
  {
   "cell_type": "markdown",
   "metadata": {},
   "source": [
    "The median of a distribution is the value where 50% of the data lies below it and 50% lies above it. In essence, the median splits the data in half. The median is also known as the 50% percentile since 50% of the observatinos are found below it. As we've seen previously, you can get the median using the median() function:"
   ]
  },
  {
   "cell_type": "code",
   "execution_count": 4,
   "metadata": {
    "collapsed": false
   },
   "outputs": [
    {
     "data": {
      "text/html": [
       "19.2"
      ],
      "text/latex": [
       "19.2"
      ],
      "text/markdown": [
       "19.2"
      ],
      "text/plain": [
       "[1] 19.2"
      ]
     },
     "execution_count": 4,
     "metadata": {},
     "output_type": "execute_result"
    }
   ],
   "source": [
    "median(cars$mpg)"
   ]
  },
  {
   "cell_type": "markdown",
   "metadata": {},
   "source": [
    "To get the median of every column, we can use the apply() function which takes a data object, a function to exeute, and a specified margin (rows or columns):"
   ]
  },
  {
   "cell_type": "code",
   "execution_count": 5,
   "metadata": {
    "collapsed": false
   },
   "outputs": [
    {
     "name": "stdout",
     "output_type": "stream",
     "text": [
      "    mpg     cyl    disp      hp    drat      wt    qsec      vs      am    gear \n",
      " 19.200   6.000 196.300 123.000   3.695   3.325  17.710   0.000   0.000   4.000 \n",
      "   carb \n",
      "  2.000 \n"
     ]
    }
   ],
   "source": [
    "colMedians <- apply(cars,            \n",
    "                    MARGIN=2,        # operate on columns\n",
    "                    FUN = median)    # use function median\n",
    "\n",
    "print(colMedians)"
   ]
  },
  {
   "cell_type": "markdown",
   "metadata": {},
   "source": [
    "Although the mean and median both give us some sense of the center of a distribution, they aren't always the same. The median always gives us a value that splits the data into two halves while the mean is a numeric average so extreme values can have a significant impact on the mean. In a symmetric distribution, the mean and median will be the same. Let's investigate with a density plot"
   ]
  },
  {
   "cell_type": "code",
   "execution_count": 6,
   "metadata": {
    "collapsed": false
   },
   "outputs": [],
   "source": [
    "norm_data <- rnorm(100000)              # generate normally distributed data\n",
    "\n",
    "# plot(density(norm_data))                # create a density plot\n",
    "\n",
    "# abline(v=mean(norm_data), lwd=5)        # plot a thick black line at the mean\n",
    "\n",
    "# abline(v=median(norm_data), col=\"red\", lwd=2 )   # plot a red line at the median"
   ]
  },
  {
   "cell_type": "markdown",
   "metadata": {},
   "source": [
    "In the plot above the mean and median are both so close to zero that the red median line lies on top of the thicker black line drawn at the mean. \n",
    "\n",
    "In skewed distributions, the mean tends to get pulled in the direction of the skew, while the median tends to resist the effects of skew:"
   ]
  },
  {
   "cell_type": "code",
   "execution_count": 7,
   "metadata": {
    "collapsed": false
   },
   "outputs": [],
   "source": [
    "skewed_data <- rexp(100000,1)              # generate skewed data\n",
    "\n",
    "# plot(density(skewed_data), xlim=c(0,4))    # create a density plot\n",
    "\n",
    "# abline(v=mean(skewed_data), lwd=5)         # plot a thick black line at the mean\n",
    "\n",
    "# abline(v=median(skewed_data), col=\"red\", lwd=2 )   # plot a red line at the median"
   ]
  },
  {
   "cell_type": "markdown",
   "metadata": {},
   "source": [
    "The mean is also influenced heavily by outliers while the median resists the influence of outliers:"
   ]
  },
  {
   "cell_type": "code",
   "execution_count": 8,
   "metadata": {
    "collapsed": false
   },
   "outputs": [],
   "source": [
    "norm_data <- rnorm(50)             # generate 50 normally distributed ponits\n",
    "\n",
    "outliers <- rnorm(3, mean=15)      # genearte 3 outliers\n",
    "\n",
    "norm_data <- c(norm_data,outliers)      # add outliers\n",
    "\n",
    "# plot(density(norm_data))                # create a density plot\n",
    "\n",
    "# abline(v=mean(norm_data), lwd=5)        # plot a thick black line at the mean\n",
    "\n",
    "# abline(v=median(norm_data), col=\"red\", lwd=2 )   # plot a red line at the median"
   ]
  },
  {
   "cell_type": "markdown",
   "metadata": {},
   "source": [
    "Since the median tends to resist the effects of skewness and outliers, it is known a \"robust\" statistic. The median generally gives a better sense of the typical value in a distribution with significant skew or outliers.\n",
    "\n",
    "The mode of a variable is simply the value that appears most frequently. Unlike mean and median, you can take the mode of a categorical variable and it is possible to have multiple modes. R does not include a function to find the mode, since it is not always a particularly useful statistic: oftentimes all the values in varaible are unique so the mode is essentaily meaningless. You can find the mode of a variable by creating a data table for the variable to get the counts of each value and then getting the variable with the largest count:"
   ]
  },
  {
   "cell_type": "code",
   "execution_count": 9,
   "metadata": {
    "collapsed": false
   },
   "outputs": [
    {
     "name": "stdout",
     "output_type": "stream",
     "text": [
      "data\n",
      "cat hat sat \n",
      "  2   3   1 \n"
     ]
    },
    {
     "data": {
      "text/html": [
       "\"hat\""
      ],
      "text/latex": [
       "\"hat\""
      ],
      "text/markdown": [
       "\"hat\""
      ],
      "text/plain": [
       "[1] \"hat\""
      ]
     },
     "execution_count": 9,
     "metadata": {},
     "output_type": "execute_result"
    }
   ],
   "source": [
    "data <- c(\"cat\",\"hat\",\"cat\",\"hat\",\"hat\",\"sat\")   # dummy data\n",
    "\n",
    "data_table <- table(data)                        # create table of counts\n",
    "\n",
    "print(data_table)\n",
    "\n",
    "max_index <- which.max(data_table)      # get the index of the variable with the max count\n",
    "\n",
    "names(data_table)[max_index]            # use the index to get the mode from the table's names"
   ]
  },
  {
   "cell_type": "markdown",
   "metadata": {},
   "source": [
    "If you need to repeatedly find the mode, you could wrap these steps into a user-defined function:"
   ]
  },
  {
   "cell_type": "code",
   "execution_count": 10,
   "metadata": {
    "collapsed": false
   },
   "outputs": [
    {
     "data": {
      "text/html": [
       "\"hat\""
      ],
      "text/latex": [
       "\"hat\""
      ],
      "text/markdown": [
       "\"hat\""
      ],
      "text/plain": [
       "[1] \"hat\""
      ]
     },
     "execution_count": 10,
     "metadata": {},
     "output_type": "execute_result"
    }
   ],
   "source": [
    "mode_function <- function(data){                         # define new function\n",
    "    data_table <- table(data)                            # create data table\n",
    "    max_index <- which.max(data_table)                   # find max index\n",
    "    if (is.numeric(data)){                               # if input is numeric data\n",
    "        return(as.numeric(names(data_table)[max_index])) # return output as numeric\n",
    "    }\n",
    "    names(data_table)[max_index]                     # otherwise return output as character\n",
    "}\n",
    "\n",
    "mode_function(data)"
   ]
  },
  {
   "cell_type": "markdown",
   "metadata": {},
   "source": [
    "*Note: Base R contains a function called mode() but it does not find the mode of a data set: it checks the type or storage mode of an object. \n",
    "\n",
    "Let's use our new mode function to find the modes of each column of the mtcars data set by passing it in to the apply function:"
   ]
  },
  {
   "cell_type": "code",
   "execution_count": 11,
   "metadata": {
    "collapsed": false
   },
   "outputs": [
    {
     "name": "stdout",
     "output_type": "stream",
     "text": [
      "   mpg    cyl   disp     hp   drat     wt   qsec     vs     am   gear   carb \n",
      " 10.40   8.00 275.80 110.00   3.07   3.44  17.02   0.00   0.00   3.00   2.00 \n"
     ]
    }
   ],
   "source": [
    "colModes <- apply(cars,            \n",
    "                 MARGIN=2,               # operate on columns\n",
    "                 FUN = mode_function)    # use function mode_function\n",
    "\n",
    "print(colModes)"
   ]
  },
  {
   "cell_type": "markdown",
   "metadata": {},
   "source": [
    "### Measures of Spread"
   ]
  },
  {
   "cell_type": "markdown",
   "metadata": {},
   "source": [
    "Measures of spread (dispersion) are statistics that describe how data varies. While measures of center give us an idea of the typical value, measures of spread give us a sense of how much the data tends to diverge from the typical value.\n",
    "\n",
    "One of the simpliest measures of spread is the range. Range is the distance bewteen the maximum and minimum observations:"
   ]
  },
  {
   "cell_type": "code",
   "execution_count": 12,
   "metadata": {
    "collapsed": false
   },
   "outputs": [
    {
     "data": {
      "text/html": [
       "23.5"
      ],
      "text/latex": [
       "23.5"
      ],
      "text/markdown": [
       "23.5"
      ],
      "text/plain": [
       "[1] 23.5"
      ]
     },
     "execution_count": 12,
     "metadata": {},
     "output_type": "execute_result"
    }
   ],
   "source": [
    "max(cars$mpg) - min(cars$mpg)     # subtract min from max to get the range"
   ]
  },
  {
   "cell_type": "markdown",
   "metadata": {},
   "source": [
    "As noted earlier, the median represents the 50th percentile of a data set. A summary of several percentiles can be used to describe a variable's spread. We can extract the minimum value (0th percentile), first quartile (25th percentile), median, third quartile(75th percentile) and maximum value (100th percentile) using the quantile() function:"
   ]
  },
  {
   "cell_type": "code",
   "execution_count": 13,
   "metadata": {
    "collapsed": false
   },
   "outputs": [
    {
     "data": {
      "text/html": [
       "<dl class=dl-horizontal>\n",
       "\t<dt>0%</dt>\n",
       "\t\t<dd>10.4</dd>\n",
       "\t<dt>25%</dt>\n",
       "\t\t<dd>15.425</dd>\n",
       "\t<dt>50%</dt>\n",
       "\t\t<dd>19.2</dd>\n",
       "\t<dt>75%</dt>\n",
       "\t\t<dd>22.8</dd>\n",
       "\t<dt>100%</dt>\n",
       "\t\t<dd>33.9</dd>\n",
       "</dl>\n"
      ],
      "text/latex": [
       "\\begin{description*}\n",
       "\\item[0%] 10.4\n",
       "\\item[25%] 15.425\n",
       "\\item[50%] 19.2\n",
       "\\item[75%] 22.8\n",
       "\\item[100%] 33.9\n",
       "\\end{description*}\n"
      ],
      "text/markdown": [
       "0%\n",
       ":   10.425%\n",
       ":   15.42550%\n",
       ":   19.275%\n",
       ":   22.8100%\n",
       ":   33.9\n",
       "\n"
      ],
      "text/plain": [
       "    0%    25%    50%    75%   100% \n",
       "10.400 15.425 19.200 22.800 33.900 "
      ]
     },
     "execution_count": 13,
     "metadata": {},
     "output_type": "execute_result"
    }
   ],
   "source": [
    "quantile(cars$mpg)"
   ]
  },
  {
   "cell_type": "markdown",
   "metadata": {},
   "source": [
    "Since these values are so commonly used to describe data, they are known as the \"five number summary\" and R has a couple other ways to find them:"
   ]
  },
  {
   "cell_type": "code",
   "execution_count": 14,
   "metadata": {
    "collapsed": false
   },
   "outputs": [
    {
     "data": {
      "text/html": [
       "<ol class=list-inline>\n",
       "\t<li>10.4</li>\n",
       "\t<li>15.35</li>\n",
       "\t<li>19.2</li>\n",
       "\t<li>22.8</li>\n",
       "\t<li>33.9</li>\n",
       "</ol>\n"
      ],
      "text/latex": [
       "\\begin{enumerate*}\n",
       "\\item 10.4\n",
       "\\item 15.35\n",
       "\\item 19.2\n",
       "\\item 22.8\n",
       "\\item 33.9\n",
       "\\end{enumerate*}\n"
      ],
      "text/markdown": [
       "1. 10.4\n",
       "2. 15.35\n",
       "3. 19.2\n",
       "4. 22.8\n",
       "5. 33.9\n",
       "\n",
       "\n"
      ],
      "text/plain": [
       "[1] 10.40 15.35 19.20 22.80 33.90"
      ]
     },
     "execution_count": 14,
     "metadata": {},
     "output_type": "execute_result"
    },
    {
     "data": {
      "text/plain": [
       "   Min. 1st Qu.  Median    Mean 3rd Qu.    Max. \n",
       "  10.40   15.42   19.20   20.09   22.80   33.90 "
      ]
     },
     "execution_count": 14,
     "metadata": {},
     "output_type": "execute_result"
    }
   ],
   "source": [
    "fivenum(cars$mpg)   # get five number summary\n",
    "\n",
    "summary(cars$mpg)   # summary() shows the five number summary plus the mean"
   ]
  },
  {
   "cell_type": "markdown",
   "metadata": {},
   "source": [
    "The quantile() function also lets you check percentiles other than common ones that make up the five number summary. To find percentiles, pass a vector of percentiles to the probs argument:"
   ]
  },
  {
   "cell_type": "code",
   "execution_count": 15,
   "metadata": {
    "collapsed": false
   },
   "outputs": [
    {
     "data": {
      "text/html": [
       "<dl class=dl-horizontal>\n",
       "\t<dt>10%</dt>\n",
       "\t\t<dd>14.34</dd>\n",
       "\t<dt>90%</dt>\n",
       "\t\t<dd>30.09</dd>\n",
       "</dl>\n"
      ],
      "text/latex": [
       "\\begin{description*}\n",
       "\\item[10%] 14.34\n",
       "\\item[90%] 30.09\n",
       "\\end{description*}\n"
      ],
      "text/markdown": [
       "10%\n",
       ":   14.3490%\n",
       ":   30.09\n",
       "\n"
      ],
      "text/plain": [
       "  10%   90% \n",
       "14.34 30.09 "
      ]
     },
     "execution_count": 15,
     "metadata": {},
     "output_type": "execute_result"
    }
   ],
   "source": [
    "quantile(cars$mpg,\n",
    "        probs = c(0.1,0.9))  # get the 10th and 90th percentiles"
   ]
  },
  {
   "cell_type": "markdown",
   "metadata": {},
   "source": [
    "Interquartile (IQR) range is another common measure of spread. IQR is the distance between the 3rd quartile and the 1st quartile, which encompasses half the data. R has a built in IRQ() fuction:"
   ]
  },
  {
   "cell_type": "code",
   "execution_count": 16,
   "metadata": {
    "collapsed": false
   },
   "outputs": [
    {
     "data": {
      "text/html": [
       "7.375"
      ],
      "text/latex": [
       "7.375"
      ],
      "text/markdown": [
       "7.375"
      ],
      "text/plain": [
       "[1] 7.375"
      ]
     },
     "execution_count": 16,
     "metadata": {},
     "output_type": "execute_result"
    }
   ],
   "source": [
    "IQR(cars$mpg)"
   ]
  },
  {
   "cell_type": "markdown",
   "metadata": {},
   "source": [
    "The boxplots we learned to create in the lessons on plotting are just visual representations of the five number summary and IQR:"
   ]
  },
  {
   "cell_type": "code",
   "execution_count": 17,
   "metadata": {
    "collapsed": false
   },
   "outputs": [],
   "source": [
    "five_num <- fivenum(cars$mpg)\n",
    "\n",
    "# boxplot(cars$mpg)\n",
    "\n",
    "# text(x=five_num[1], adj=2, labels =\"Minimum\")\n",
    "# text(x=five_num[2], adj=2.3, labels =\"1st Quartile\")\n",
    "# text(x=five_num[3], adj=3, labels =\"Median\")\n",
    "# text(x=five_num[4], adj=2.3, labels =\"3rd Quartile\")\n",
    "# text(x=five_num[5], adj=2, labels =\"Maximum\")\n",
    "# text(x=five_num[3], adj=c(0.5,-8), labels =\"IQR\", srt=90, cex=2)"
   ]
  },
  {
   "cell_type": "markdown",
   "metadata": {},
   "source": [
    "Variance and standard deviation are two other common measures of spread. The variance of a distribution is the average of the squared deviations (differences) from the mean. Use the built-in function var() to check variance:"
   ]
  },
  {
   "cell_type": "code",
   "execution_count": 18,
   "metadata": {
    "collapsed": false
   },
   "outputs": [
    {
     "data": {
      "text/html": [
       "36.3241028225806"
      ],
      "text/latex": [
       "36.3241028225806"
      ],
      "text/markdown": [
       "36.3241028225806"
      ],
      "text/plain": [
       "[1] 36.3241"
      ]
     },
     "execution_count": 18,
     "metadata": {},
     "output_type": "execute_result"
    }
   ],
   "source": [
    "var(cars$mpg)   # get variance"
   ]
  },
  {
   "cell_type": "markdown",
   "metadata": {},
   "source": [
    "The standard deviation is the square root of the variance. Standard deviation can be more interpretable than variance, since the standard deviation is expressed in terms of the same units as the variable in question while variance is expressed in terms of units squared. Use sd() to check the standard deviation:"
   ]
  },
  {
   "cell_type": "code",
   "execution_count": 19,
   "metadata": {
    "collapsed": false
   },
   "outputs": [
    {
     "data": {
      "text/html": [
       "6.0269480520891"
      ],
      "text/latex": [
       "6.0269480520891"
      ],
      "text/markdown": [
       "6.0269480520891"
      ],
      "text/plain": [
       "[1] 6.026948"
      ]
     },
     "execution_count": 19,
     "metadata": {},
     "output_type": "execute_result"
    }
   ],
   "source": [
    "sd(cars$mpg)    # get standard deviation"
   ]
  },
  {
   "cell_type": "markdown",
   "metadata": {},
   "source": [
    "Since variance and standard deviation are both derived from the mean, they are suspectible to the influence of data skew and outliers. Median absoulte deviation is an alternative measure of spread based on the median, which inherits the median's robustness against the influence of skew and outliers. Use the built in mad() function to find median absoulte deviation:"
   ]
  },
  {
   "cell_type": "code",
   "execution_count": 20,
   "metadata": {
    "collapsed": false
   },
   "outputs": [
    {
     "data": {
      "text/html": [
       "5.41149"
      ],
      "text/latex": [
       "5.41149"
      ],
      "text/markdown": [
       "5.41149"
      ],
      "text/plain": [
       "[1] 5.41149"
      ]
     },
     "execution_count": 20,
     "metadata": {},
     "output_type": "execute_result"
    }
   ],
   "source": [
    "mad(cars$mpg)    # get median absolute deviation"
   ]
  },
  {
   "cell_type": "markdown",
   "metadata": {},
   "source": [
    "### Skewness and Kurtosis"
   ]
  },
  {
   "cell_type": "markdown",
   "metadata": {},
   "source": [
    "Beyond measures of center and spread, descriptive statistics include measures that give you a sense of the shape of a distribution. Skewness measures the skew or aysemmtry of a distribution while kurtosis measures the jaggedness or peakedness of a distribution. We won't go into the exact calculations behind skewness and kurtosis, but they are essentailly just statistics that take the idea of variance a step further: while variance invovles squaring deviations from the mean, skewnewss invovles cubing deviations from the mean and kurtosis invovles raising deviations from the mean to the 4th power.\n",
    "\n",
    "To check skewness and kurtosis, we'll need to download the \"e1071\" package:"
   ]
  },
  {
   "cell_type": "code",
   "execution_count": 21,
   "metadata": {
    "collapsed": true
   },
   "outputs": [],
   "source": [
    "# install.packages(\"e1071\") # uncomment to install e1071\n",
    "\n",
    "library(e1071)"
   ]
  },
  {
   "cell_type": "markdown",
   "metadata": {},
   "source": [
    "After loading the package, you'll have access to the skewness() and kurtosis() functions. First let's create some some dummy data and inspect it:"
   ]
  },
  {
   "cell_type": "code",
   "execution_count": 22,
   "metadata": {
    "collapsed": false
   },
   "outputs": [],
   "source": [
    "normal_data <- rnorm(100000)                       # generate normally distributed data\n",
    "skewed_data <- c(rnorm(35000,sd=2)+2,rexp(65000))  # generate skewed data\n",
    "uniform_data <- runif(100000,0,1)                  # generate uniformly distributed data\n",
    "peaked_data <- c(rexp(100000),                     # generate data with a sharp peak\n",
    "                (rexp(100000)*-1))\n",
    "\n",
    "\n",
    "# par(mfrow=c(2,2))                             # make density plots of the distributions*\n",
    "# plot(density(normal_data))\n",
    "# plot(density(skewed_data),xlim=c(-5,5))\n",
    "# plot(density(uniform_data))\n",
    "# plot(density(peaked_data),xlim=c(-5,5))"
   ]
  },
  {
   "cell_type": "markdown",
   "metadata": {},
   "source": [
    "*Note: par() lets you set various graphical parameters. In this case, mfrow=c(2,2) lets us combine 4 plots into a single plot with 2 rows and 2 columns.\n",
    "\n",
    "Now let's check the skewness of each of the distributions. Since skewness measures aysmmetry, we'd expect to see low skewness for all of the distributions except for the second one, because all the others are roughly symmetric:"
   ]
  },
  {
   "cell_type": "code",
   "execution_count": 23,
   "metadata": {
    "collapsed": false
   },
   "outputs": [
    {
     "data": {
      "text/html": [
       "-0.0016740449062351"
      ],
      "text/latex": [
       "-0.0016740449062351"
      ],
      "text/markdown": [
       "-0.0016740449062351"
      ],
      "text/plain": [
       "[1] -0.001674045"
      ]
     },
     "execution_count": 23,
     "metadata": {},
     "output_type": "execute_result"
    },
    {
     "data": {
      "text/html": [
       "1.00267137516464"
      ],
      "text/latex": [
       "1.00267137516464"
      ],
      "text/markdown": [
       "1.00267137516464"
      ],
      "text/plain": [
       "[1] 1.002671"
      ]
     },
     "execution_count": 23,
     "metadata": {},
     "output_type": "execute_result"
    },
    {
     "data": {
      "text/html": [
       "-0.0110650694273595"
      ],
      "text/latex": [
       "-0.0110650694273595"
      ],
      "text/markdown": [
       "-0.0110650694273595"
      ],
      "text/plain": [
       "[1] -0.01106507"
      ]
     },
     "execution_count": 23,
     "metadata": {},
     "output_type": "execute_result"
    },
    {
     "data": {
      "text/html": [
       "-0.0335772340390091"
      ],
      "text/latex": [
       "-0.0335772340390091"
      ],
      "text/markdown": [
       "-0.0335772340390091"
      ],
      "text/plain": [
       "[1] -0.03357723"
      ]
     },
     "execution_count": 23,
     "metadata": {},
     "output_type": "execute_result"
    }
   ],
   "source": [
    "skewness(normal_data)\n",
    "skewness(skewed_data)\n",
    "skewness(uniform_data)\n",
    "skewness(peaked_data)"
   ]
  },
  {
   "cell_type": "markdown",
   "metadata": {},
   "source": [
    "The 3 roughly symmetric distributions have almost zero skewness, while the positively skewed distribution has positive skewness.\n",
    "\n",
    "Now let's check kurtosis. Since kurtosis measures peakedness, we'd expect the flat (uniform) distribution have low kurtosis while the distributions with sharper peaks should have higher kurtosis."
   ]
  },
  {
   "cell_type": "code",
   "execution_count": 24,
   "metadata": {
    "collapsed": false
   },
   "outputs": [
    {
     "data": {
      "text/html": [
       "0.00170149627159111"
      ],
      "text/latex": [
       "0.00170149627159111"
      ],
      "text/markdown": [
       "0.00170149627159111"
      ],
      "text/plain": [
       "[1] 0.001701496"
      ]
     },
     "execution_count": 24,
     "metadata": {},
     "output_type": "execute_result"
    },
    {
     "data": {
      "text/html": [
       "1.81118003887264"
      ],
      "text/latex": [
       "1.81118003887264"
      ],
      "text/markdown": [
       "1.81118003887264"
      ],
      "text/plain": [
       "[1] 1.81118"
      ]
     },
     "execution_count": 24,
     "metadata": {},
     "output_type": "execute_result"
    },
    {
     "data": {
      "text/html": [
       "-1.19658472311693"
      ],
      "text/latex": [
       "-1.19658472311693"
      ],
      "text/markdown": [
       "-1.19658472311693"
      ],
      "text/plain": [
       "[1] -1.196585"
      ]
     },
     "execution_count": 24,
     "metadata": {},
     "output_type": "execute_result"
    },
    {
     "data": {
      "text/html": [
       "3.01976189137365"
      ],
      "text/latex": [
       "3.01976189137365"
      ],
      "text/markdown": [
       "3.01976189137365"
      ],
      "text/plain": [
       "[1] 3.019762"
      ]
     },
     "execution_count": 24,
     "metadata": {},
     "output_type": "execute_result"
    }
   ],
   "source": [
    "kurtosis(normal_data)\n",
    "kurtosis(skewed_data)\n",
    "kurtosis(uniform_data)\n",
    "kurtosis(peaked_data)"
   ]
  },
  {
   "cell_type": "markdown",
   "metadata": {},
   "source": [
    "As we can see from the output, the normally distributed data has a kurtosis near zero, the flat distribution has negative kurtosis and the two pointier distributions have higher kurtosis."
   ]
  },
  {
   "cell_type": "markdown",
   "metadata": {},
   "source": [
    "### Wrap Up"
   ]
  },
  {
   "cell_type": "markdown",
   "metadata": {},
   "source": [
    "Descriptive statistics help you explore features of your data, like center, spread and shape by summarizing them with numerical measurements. Descriptive statistics help inform the direction of an analysis and let you communicate your findings to others. In additon, certain statistics, like the mean and variance, are used in all sorts of statistical tests and predictive models.\n",
    "\n",
    "Throughout this guide and this lesson in particular, I have used randomly generated data to illustrate concpets and R functions, but never took the time to explain how to generate random data yourself. In the next lesson, we'll learn about probability distributions, including how to draw random data from them."
   ]
  },
  {
   "cell_type": "markdown",
   "metadata": {},
   "source": [
    "### Next Time: Introduction to R Part 22: Probability Distributions"
   ]
  }
 ],
 "metadata": {
  "kernelspec": {
   "display_name": "R",
   "language": "R",
   "name": "ir"
  },
  "language_info": {
   "codemirror_mode": "r",
   "file_extension": ".r",
   "mimetype": "text/x-r-source",
   "name": "R",
   "pygments_lexer": "r",
   "version": "3.1.3"
  }
 },
 "nbformat": 4,
 "nbformat_minor": 0
}
