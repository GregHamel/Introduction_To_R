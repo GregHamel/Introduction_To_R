{
 "cells": [
  {
   "cell_type": "markdown",
   "metadata": {},
   "source": [
    "# Introduction to R Part 7: Lists"
   ]
  },
  {
   "cell_type": "markdown",
   "metadata": {},
   "source": [
    "In R a list is a data structure that contains an ordered sequence of objects that can be of different types. A list can contain all sorts of objects including numeric, logical and character vectors or matricies and even other lists.\n",
    "\n",
    "Construct a list by passing each object you wish the list to hold to the list() function:"
   ]
  },
  {
   "cell_type": "code",
   "execution_count": 1,
   "metadata": {
    "collapsed": false
   },
   "outputs": [
    {
     "name": "stdout",
     "output_type": "stream",
     "text": [
      "[[1]]\n",
      "[1] 1 2 3\n",
      "\n",
      "[[2]]\n",
      "[1] \"Life is Study\"\n",
      "\n",
      "[[3]]\n",
      "     [,1] [,2] [,3]\n",
      "[1,]    1    3    5\n",
      "[2,]    2    4    6\n",
      "\n"
     ]
    }
   ],
   "source": [
    "#Create a new list containing a vector, a character string and a matrix\n",
    "\n",
    "new_list <- list( c(1,2,3), \"Life is Study\", matrix(seq(1,6,1),2,3))\n",
    "\n",
    "print(new_list)"
   ]
  },
  {
   "cell_type": "markdown",
   "metadata": {},
   "source": [
    "You can give the objects in a list specific names upon creation:"
   ]
  },
  {
   "cell_type": "code",
   "execution_count": 2,
   "metadata": {
    "collapsed": false
   },
   "outputs": [
    {
     "name": "stdout",
     "output_type": "stream",
     "text": [
      "$vector\n",
      "[1] 1 2 3\n",
      "\n",
      "$char_string\n",
      "[1] \"Life is Study\"\n",
      "\n",
      "$my_matrix\n",
      "     [,1] [,2] [,3]\n",
      "[1,]    1    3    5\n",
      "[2,]    2    4    6\n",
      "\n"
     ]
    }
   ],
   "source": [
    "#Create the same list but give the objects names\n",
    "\n",
    "new_list <- list(vector= c(1,2,3),                   #*see note\n",
    "                 char_string = \"Life is Study\", \n",
    "                 my_matrix = matrix(seq(1,6,1),2,3))\n",
    "\n",
    "print(new_list)"
   ]
  },
  {
   "cell_type": "markdown",
   "metadata": {},
   "source": [
    "*Note: it is sometimes cleaner to break up long bits of code across multiple lines. \n",
    "\n",
    "You can access a list's object names or assign new names with the names() function:"
   ]
  },
  {
   "cell_type": "code",
   "execution_count": 3,
   "metadata": {
    "collapsed": false
   },
   "outputs": [
    {
     "data": {
      "text/html": [
       "<ol class=list-inline>\n",
       "\t<li>\"vector\"</li>\n",
       "\t<li>\"char_string\"</li>\n",
       "\t<li>\"my_matrix\"</li>\n",
       "</ol>\n"
      ],
      "text/latex": [
       "\\begin{enumerate*}\n",
       "\\item \"vector\"\n",
       "\\item \"char_string\"\n",
       "\\item \"my_matrix\"\n",
       "\\end{enumerate*}\n"
      ],
      "text/markdown": [
       "1. \"vector\"\n",
       "2. \"char_string\"\n",
       "3. \"my_matrix\"\n",
       "\n",
       "\n"
      ],
      "text/plain": [
       "[1] \"vector\"      \"char_string\" \"my_matrix\"  "
      ]
     },
     "execution_count": 3,
     "metadata": {},
     "output_type": "execute_result"
    },
    {
     "data": {
      "text/html": [
       "<ol class=list-inline>\n",
       "\t<li>\"obj1\"</li>\n",
       "\t<li>\"obj2\"</li>\n",
       "\t<li>\"obj3\"</li>\n",
       "</ol>\n"
      ],
      "text/latex": [
       "\\begin{enumerate*}\n",
       "\\item \"obj1\"\n",
       "\\item \"obj2\"\n",
       "\\item \"obj3\"\n",
       "\\end{enumerate*}\n"
      ],
      "text/markdown": [
       "1. \"obj1\"\n",
       "2. \"obj2\"\n",
       "3. \"obj3\"\n",
       "\n",
       "\n"
      ],
      "text/plain": [
       "[1] \"obj1\" \"obj2\" \"obj3\""
      ]
     },
     "execution_count": 3,
     "metadata": {},
     "output_type": "execute_result"
    }
   ],
   "source": [
    "names(new_list)  #Access names\n",
    "\n",
    "names(new_list) <- c(\"obj1\",\"obj2\",\"obj3\") #Assign new names\n",
    "\n",
    "names(new_list)  #Access names"
   ]
  },
  {
   "cell_type": "markdown",
   "metadata": {},
   "source": [
    "### List Indexing"
   ]
  },
  {
   "cell_type": "markdown",
   "metadata": {},
   "source": [
    "You can access the contents of lists several different ways. First, you can take slices of a list using the same single square bracket index notation you use with vectors:"
   ]
  },
  {
   "cell_type": "code",
   "execution_count": 4,
   "metadata": {
    "collapsed": false
   },
   "outputs": [
    {
     "data": {
      "text/html": [
       "<dl>\n",
       "\t<dt>$obj1</dt>\n",
       "\t\t<dd><ol class=list-inline>\n",
       "\t<li>1</li>\n",
       "\t<li>2</li>\n",
       "\t<li>3</li>\n",
       "</ol>\n",
       "</dd>\n",
       "\t<dt>$obj2</dt>\n",
       "\t\t<dd>\"Life is Study\"</dd>\n",
       "</dl>\n"
      ],
      "text/latex": [
       "\\begin{description}\n",
       "\\item[\\$obj1] \\begin{enumerate*}\n",
       "\\item 1\n",
       "\\item 2\n",
       "\\item 3\n",
       "\\end{enumerate*}\n",
       "\n",
       "\\item[\\$obj2] \"Life is Study\"\n",
       "\\end{description}\n"
      ],
      "text/markdown": [
       "$obj1\n",
       ":   1. 1\n",
       "2. 2\n",
       "3. 3\n",
       "\n",
       "\n",
       "\n",
       "$obj2\n",
       ":   \"Life is Study\"\n",
       "\n",
       "\n"
      ],
      "text/plain": [
       "$obj1\n",
       "[1] 1 2 3\n",
       "\n",
       "$obj2\n",
       "[1] \"Life is Study\"\n"
      ]
     },
     "execution_count": 4,
     "metadata": {},
     "output_type": "execute_result"
    },
    {
     "data": {
      "text/html": [
       "<dl>\n",
       "\t<dt>$obj1</dt>\n",
       "\t\t<dd><ol class=list-inline>\n",
       "\t<li>1</li>\n",
       "\t<li>2</li>\n",
       "\t<li>3</li>\n",
       "</ol>\n",
       "</dd>\n",
       "\t<dt>$obj3</dt>\n",
       "\t\t<dd><table>\n",
       "<tbody>\n",
       "\t<tr><td>1</td><td>3</td><td>5</td></tr>\n",
       "\t<tr><td>2</td><td>4</td><td>6</td></tr>\n",
       "</tbody>\n",
       "</table>\n",
       "</dd>\n",
       "</dl>\n"
      ],
      "text/latex": [
       "\\begin{description}\n",
       "\\item[\\$obj1] \\begin{enumerate*}\n",
       "\\item 1\n",
       "\\item 2\n",
       "\\item 3\n",
       "\\end{enumerate*}\n",
       "\n",
       "\\item[\\$obj3] \\begin{tabular}{lll}\n",
       "\t 1 & 3 & 5\\\\\n",
       "\t 2 & 4 & 6\\\\\n",
       "\\end{tabular}\n",
       "\n",
       "\\end{description}\n"
      ],
      "text/markdown": [
       "$obj1\n",
       ":   1. 1\n",
       "2. 2\n",
       "3. 3\n",
       "\n",
       "\n",
       "\n",
       "$obj3\n",
       ":   1. 1\n",
       "2. 2\n",
       "3. 3\n",
       "4. 4\n",
       "5. 5\n",
       "6. 6\n",
       "\n",
       "\n",
       "\n",
       "\n",
       "\n"
      ],
      "text/plain": [
       "$obj1\n",
       "[1] 1 2 3\n",
       "\n",
       "$obj3\n",
       "     [,1] [,2] [,3]\n",
       "[1,]    1    3    5\n",
       "[2,]    2    4    6\n"
      ]
     },
     "execution_count": 4,
     "metadata": {},
     "output_type": "execute_result"
    },
    {
     "data": {
      "text/html": [
       "<strong>$obj2</strong> = \"Life is Study\""
      ],
      "text/latex": [
       "\\textbf{\\$obj2} = \"Life is Study\""
      ],
      "text/markdown": [
       "**$obj2** = \"Life is Study\""
      ],
      "text/plain": [
       "$obj2\n",
       "[1] \"Life is Study\"\n"
      ]
     },
     "execution_count": 4,
     "metadata": {},
     "output_type": "execute_result"
    },
    {
     "data": {
      "text/html": [
       "\"list\""
      ],
      "text/latex": [
       "\"list\""
      ],
      "text/markdown": [
       "\"list\""
      ],
      "text/plain": [
       "[1] \"list\""
      ]
     },
     "execution_count": 4,
     "metadata": {},
     "output_type": "execute_result"
    }
   ],
   "source": [
    "new_list[1:2]         #Take a slice of the first 2 objects\n",
    "\n",
    "new_list[c(1,3)]      #Take a slice of the first and third objects\n",
    "\n",
    "new_list[2]           #Take a slice that contains only the second object\n",
    "\n",
    "typeof(new_list[2])   #Check the type of the single-object slice"
   ]
  },
  {
   "cell_type": "markdown",
   "metadata": {},
   "source": [
    "Note that list slices returned when you access a list with single brackets give you new, smaller lists, even if the slices only contain one object.\n",
    "\n",
    "To access a specific member of a list directly, wrap the object's index in double square brackets:"
   ]
  },
  {
   "cell_type": "code",
   "execution_count": 5,
   "metadata": {
    "collapsed": false
   },
   "outputs": [
    {
     "data": {
      "text/html": [
       "\"Life is Study\""
      ],
      "text/latex": [
       "\"Life is Study\""
      ],
      "text/markdown": [
       "\"Life is Study\""
      ],
      "text/plain": [
       "[1] \"Life is Study\""
      ]
     },
     "execution_count": 5,
     "metadata": {},
     "output_type": "execute_result"
    },
    {
     "data": {
      "text/html": [
       "\"character\""
      ],
      "text/latex": [
       "\"character\""
      ],
      "text/markdown": [
       "\"character\""
      ],
      "text/plain": [
       "[1] \"character\""
      ]
     },
     "execution_count": 5,
     "metadata": {},
     "output_type": "execute_result"
    }
   ],
   "source": [
    "new_list[[2]]          #Access the second list object\n",
    "\n",
    "typeof(new_list[[2]])  #Check the object's type"
   ]
  },
  {
   "cell_type": "markdown",
   "metadata": {},
   "source": [
    "If you gave names to your list objects, you can access them directly using those names either by passing the names as characters wrapped in double square brackets or by using $ followed by the object name:"
   ]
  },
  {
   "cell_type": "code",
   "execution_count": 6,
   "metadata": {
    "collapsed": false
   },
   "outputs": [
    {
     "data": {
      "text/html": [
       "<table>\n",
       "<tbody>\n",
       "\t<tr><td>1</td><td>3</td><td>5</td></tr>\n",
       "\t<tr><td>2</td><td>4</td><td>6</td></tr>\n",
       "</tbody>\n",
       "</table>\n"
      ],
      "text/latex": [
       "\\begin{tabular}{lll}\n",
       "\t 1 & 3 & 5\\\\\n",
       "\t 2 & 4 & 6\\\\\n",
       "\\end{tabular}\n"
      ],
      "text/markdown": [
       "1. 1\n",
       "2. 2\n",
       "3. 3\n",
       "4. 4\n",
       "5. 5\n",
       "6. 6\n",
       "\n",
       "\n"
      ],
      "text/plain": [
       "     [,1] [,2] [,3]\n",
       "[1,]    1    3    5\n",
       "[2,]    2    4    6"
      ]
     },
     "execution_count": 6,
     "metadata": {},
     "output_type": "execute_result"
    }
   ],
   "source": [
    "new_list[[\"obj3\"]]   #Access an object directly by name with square brackets"
   ]
  },
  {
   "cell_type": "code",
   "execution_count": 7,
   "metadata": {
    "collapsed": false
   },
   "outputs": [
    {
     "data": {
      "text/html": [
       "<table>\n",
       "<tbody>\n",
       "\t<tr><td>1</td><td>3</td><td>5</td></tr>\n",
       "\t<tr><td>2</td><td>4</td><td>6</td></tr>\n",
       "</tbody>\n",
       "</table>\n"
      ],
      "text/latex": [
       "\\begin{tabular}{lll}\n",
       "\t 1 & 3 & 5\\\\\n",
       "\t 2 & 4 & 6\\\\\n",
       "\\end{tabular}\n"
      ],
      "text/markdown": [
       "1. 1\n",
       "2. 2\n",
       "3. 3\n",
       "4. 4\n",
       "5. 5\n",
       "6. 6\n",
       "\n",
       "\n"
      ],
      "text/plain": [
       "     [,1] [,2] [,3]\n",
       "[1,]    1    3    5\n",
       "[2,]    2    4    6"
      ]
     },
     "execution_count": 7,
     "metadata": {},
     "output_type": "execute_result"
    }
   ],
   "source": [
    "new_list$obj3   #Access an object directly by name using $"
   ]
  },
  {
   "cell_type": "markdown",
   "metadata": {},
   "source": [
    "After directly accessing a list object, you can perform indexing and other operations on the object as usual. For instance, after accessing a matrix in a list you can then index the matrix:"
   ]
  },
  {
   "cell_type": "code",
   "execution_count": 8,
   "metadata": {
    "collapsed": false
   },
   "outputs": [
    {
     "data": {
      "text/html": [
       "4"
      ],
      "text/latex": [
       "4"
      ],
      "text/markdown": [
       "4"
      ],
      "text/plain": [
       "[1] 4"
      ]
     },
     "execution_count": 8,
     "metadata": {},
     "output_type": "execute_result"
    }
   ],
   "source": [
    "new_list[[\"obj3\"]][2,2] #Get obj3 and then get the value in row 2 column 2"
   ]
  },
  {
   "cell_type": "markdown",
   "metadata": {},
   "source": [
    "### List Summaries and Alterations"
   ]
  },
  {
   "cell_type": "markdown",
   "metadata": {},
   "source": [
    "Since lists can hold objects of different types, math operations and many of the other functions that work on vectors and matrices do not work on lists. \n",
    "\n",
    "The most common list functions are those that give basic information about the list, such as length, str and summary:"
   ]
  },
  {
   "cell_type": "code",
   "execution_count": 9,
   "metadata": {
    "collapsed": false
   },
   "outputs": [
    {
     "data": {
      "text/html": [
       "3"
      ],
      "text/latex": [
       "3"
      ],
      "text/markdown": [
       "3"
      ],
      "text/plain": [
       "[1] 3"
      ]
     },
     "execution_count": 9,
     "metadata": {},
     "output_type": "execute_result"
    },
    {
     "name": "stdout",
     "output_type": "stream",
     "text": [
      "List of 3\n",
      " $ obj1: num [1:3] 1 2 3\n",
      " $ obj2: chr \"Life is Study\"\n",
      " $ obj3: num [1:2, 1:3] 1 2 3 4 5 6\n"
     ]
    },
    {
     "data": {
      "text/plain": [
       "     Length Class  Mode     \n",
       "obj1 3      -none- numeric  \n",
       "obj2 1      -none- character\n",
       "obj3 6      -none- numeric  "
      ]
     },
     "execution_count": 9,
     "metadata": {},
     "output_type": "execute_result"
    }
   ],
   "source": [
    "length(new_list)    #Return the length of a list\n",
    "  \n",
    "str(new_list)       #Get an overview of the list's structure\n",
    "\n",
    "summary(new_list)   #Get an summary of the list's contents"
   ]
  },
  {
   "cell_type": "markdown",
   "metadata": {},
   "source": [
    "*Note: In RStudio the environment pane in the upper right corner provides a summary of stored objects. Certain objects like lists have an arrow next to them that you can click on to expand and view additional information about the object's contents.\n",
    "\n",
    "To add a new object to a list, you can give the list a new name with specified value using the $ notation:"
   ]
  },
  {
   "cell_type": "code",
   "execution_count": 10,
   "metadata": {
    "collapsed": false
   },
   "outputs": [
    {
     "name": "stdout",
     "output_type": "stream",
     "text": [
      "List of 4\n",
      " $ obj1: num [1:3] 1 2 3\n",
      " $ obj2: chr \"Life is Study\"\n",
      " $ obj3: num [1:2, 1:3] 1 2 3 4 5 6\n",
      " $ obj4: chr \"Additional object\"\n"
     ]
    }
   ],
   "source": [
    "new_list$obj4 <- \"Additional object\"\n",
    "\n",
    "str(new_list)"
   ]
  },
  {
   "cell_type": "code",
   "execution_count": 11,
   "metadata": {
    "collapsed": false
   },
   "outputs": [
    {
     "name": "stdout",
     "output_type": "stream",
     "text": [
      "List of 5\n",
      " $ obj1: num [1:3] 1 2 3\n",
      " $ obj2: chr \"Life is Study\"\n",
      " $ obj3: num [1:2, 1:3] 1 2 3 4 5 6\n",
      " $ obj4: chr \"Additional object\"\n",
      " $ obj5: chr \"The bracket notation also works\"\n"
     ]
    }
   ],
   "source": [
    "new_list[[\"obj5\"]] <- \"The bracket notation also works\"\n",
    "\n",
    "str(new_list)"
   ]
  },
  {
   "cell_type": "markdown",
   "metadata": {},
   "source": [
    "If you don't want to assign a name, you can add an object using the numeric index notation:"
   ]
  },
  {
   "cell_type": "code",
   "execution_count": 12,
   "metadata": {
    "collapsed": false
   },
   "outputs": [
    {
     "name": "stdout",
     "output_type": "stream",
     "text": [
      "List of 6\n",
      " $ obj1: num [1:3] 1 2 3\n",
      " $ obj2: chr \"Life is Study\"\n",
      " $ obj3: num [1:2, 1:3] 1 2 3 4 5 6\n",
      " $ obj4: chr \"Additional object\"\n",
      " $ obj5: chr \"The bracket notation also works\"\n",
      " $     : chr \"this object has no name!\"\n"
     ]
    }
   ],
   "source": [
    "new_list[[6]] <- \"this object has no name!\"\n",
    "\n",
    "str(new_list)"
   ]
  },
  {
   "cell_type": "markdown",
   "metadata": {},
   "source": [
    "The c() function can be used to join two lists together:"
   ]
  },
  {
   "cell_type": "code",
   "execution_count": 13,
   "metadata": {
    "collapsed": false
   },
   "outputs": [
    {
     "name": "stdout",
     "output_type": "stream",
     "text": [
      "List of 8\n",
      " $ obj1: num [1:3] 1 2 3\n",
      " $ obj2: chr \"Life is Study\"\n",
      " $ obj3: num [1:2, 1:3] 1 2 3 4 5 6\n",
      " $ obj4: chr \"Additional object\"\n",
      " $ obj5: chr \"The bracket notation also works\"\n",
      " $     : chr \"this object has no name!\"\n",
      " $     : chr \"combine me\"\n",
      " $     : chr \"with new_list\"\n"
     ]
    }
   ],
   "source": [
    "second_list <- list(\"combine me\", \"with new_list\")\n",
    "combined_list <- c(new_list, second_list)\n",
    "\n",
    "str(combined_list)"
   ]
  },
  {
   "cell_type": "markdown",
   "metadata": {},
   "source": [
    "Finally, you can remove list items by assigning them a value of NULL:"
   ]
  },
  {
   "cell_type": "code",
   "execution_count": 14,
   "metadata": {
    "collapsed": false
   },
   "outputs": [
    {
     "name": "stdout",
     "output_type": "stream",
     "text": [
      "List of 6\n",
      " $ obj2: chr \"Life is Study\"\n",
      " $ obj3: num [1:2, 1:3] 1 2 3 4 5 6\n",
      " $ obj4: chr \"Additional object\"\n",
      " $ obj5: chr \"The bracket notation also works\"\n",
      " $     : chr \"this object has no name!\"\n",
      " $     : chr \"combine me\"\n"
     ]
    }
   ],
   "source": [
    "combined_list[[8]] = NULL   #remove item 8\n",
    "\n",
    "combined_list$obj1 = NULL   #remove item the with the name obj1\n",
    "\n",
    "str(combined_list)"
   ]
  },
  {
   "cell_type": "code",
   "execution_count": 15,
   "metadata": {
    "collapsed": false
   },
   "outputs": [
    {
     "name": "stdout",
     "output_type": "stream",
     "text": [
      "List of 2\n",
      " $ obj2: chr \"Life is Study\"\n",
      " $ obj3: num [1:2, 1:3] 1 2 3 4 5 6\n"
     ]
    }
   ],
   "source": [
    "combined_list[3:6] = NULL   #remove items 3 through 6\n",
    "\n",
    "str(combined_list)"
   ]
  },
  {
   "cell_type": "markdown",
   "metadata": {},
   "source": [
    "In practice, lists are often created as a result of running functions on data so you probably won't spend a lot of time creating them yourself. When you work with data in R, it is more often in the form of a data frame, which is the subject of the next lesson."
   ]
  },
  {
   "cell_type": "markdown",
   "metadata": {},
   "source": [
    "### Next Time: Introduction to R Part 8: Data Frames"
   ]
  }
 ],
 "metadata": {
  "kernelspec": {
   "display_name": "R",
   "language": "R",
   "name": "ir"
  },
  "language_info": {
   "codemirror_mode": "r",
   "file_extension": ".r",
   "mimetype": "text/x-r-source",
   "name": "R",
   "pygments_lexer": "r",
   "version": "3.1.3"
  }
 },
 "nbformat": 4,
 "nbformat_minor": 0
}
