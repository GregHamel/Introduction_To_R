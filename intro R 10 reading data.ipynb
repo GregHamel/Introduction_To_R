{
 "cells": [
  {
   "cell_type": "markdown",
   "metadata": {},
   "source": [
    "# Introduction to R Part 10: Reading and Writing Data"
   ]
  },
  {
   "cell_type": "markdown",
   "metadata": {},
   "source": [
    "Reading data into your R environment is first step in conducting data analysis. Data comes in many different forms and although R is equipped to deal with most data formats, this lesson will focus on reading common data formats like comma separated values files (CSV) and Microsoft Excel files."
   ]
  },
  {
   "cell_type": "markdown",
   "metadata": {},
   "source": [
    "### R Working Directory and File Paths"
   ]
  },
  {
   "cell_type": "markdown",
   "metadata": {},
   "source": [
    "Before we can jump in and starting loading data, we need to learn a little bit about R's working directory and file paths. When you run R, it starts in a default location in your computer's file system called the working directory. You can check your working directory with the getwd() function:"
   ]
  },
  {
   "cell_type": "code",
   "execution_count": 1,
   "metadata": {
    "collapsed": false
   },
   "outputs": [
    {
     "data": {
      "text/html": [
       "\"C:/Users/Greg\""
      ],
      "text/latex": [
       "\"C:/Users/Greg\""
      ],
      "text/markdown": [
       "\"C:/Users/Greg\""
      ],
      "text/plain": [
       "[1] \"C:/Users/Greg\""
      ]
     },
     "execution_count": 1,
     "metadata": {},
     "output_type": "execute_result"
    }
   ],
   "source": [
    "getwd()                                    #Get the current working directory"
   ]
  },
  {
   "cell_type": "markdown",
   "metadata": {},
   "source": [
    "The working directory acts as your starting point for accessing other files on your computer. To load data into R from your hard disk, you either need to put the data file in your working directory, change your working directory to the folder containing the data or supply the data's file path to the data reading function.\n",
    "\n",
    "You can change your working directory by supplying a new file path in quotes to the setwd() function:"
   ]
  },
  {
   "cell_type": "code",
   "execution_count": 2,
   "metadata": {
    "collapsed": false
   },
   "outputs": [
    {
     "data": {
      "text/html": [
       "\"C:/Users/Greg/Desktop\""
      ],
      "text/latex": [
       "\"C:/Users/Greg/Desktop\""
      ],
      "text/markdown": [
       "\"C:/Users/Greg/Desktop\""
      ],
      "text/plain": [
       "[1] \"C:/Users/Greg/Desktop\""
      ]
     },
     "execution_count": 2,
     "metadata": {},
     "output_type": "execute_result"
    }
   ],
   "source": [
    "setwd(\"C:/Users/Greg/Desktop\")            #Set a new working directory\n",
    "\n",
    "getwd()                                   #Check the working directory again"
   ]
  },
  {
   "cell_type": "markdown",
   "metadata": {},
   "source": [
    "*Note: you can use forward slashes for your file path even in Windows which normally uses backslashes. If you want to use backslashes for file paths in Windows you should use use double backslashes (\\\\)\n",
    "\n",
    "Instead of worrying about slashes in filepaths, you can have R construct file paths for you using the file.path() function. It takes a comma separated sequence of character strings and then uses them to construct a file path string for you:"
   ]
  },
  {
   "cell_type": "code",
   "execution_count": 3,
   "metadata": {
    "collapsed": false
   },
   "outputs": [
    {
     "name": "stdout",
     "output_type": "stream",
     "text": [
      "[1] \"C:/Users/Greg/Desktop/Kaggle\"\n"
     ]
    },
    {
     "data": {
      "text/html": [
       "\"C:/Users/Greg/Desktop/Kaggle\""
      ],
      "text/latex": [
       "\"C:/Users/Greg/Desktop/Kaggle\""
      ],
      "text/markdown": [
       "\"C:/Users/Greg/Desktop/Kaggle\""
      ],
      "text/plain": [
       "[1] \"C:/Users/Greg/Desktop/Kaggle\""
      ]
     },
     "execution_count": 3,
     "metadata": {},
     "output_type": "execute_result"
    }
   ],
   "source": [
    "my_path <- file.path(\"C:\",\"Users\",\"Greg\",\"Desktop\",\"Kaggle\")      #Construct the file path\n",
    "\n",
    "print (my_path )                #Check the path\n",
    "\n",
    "setwd(my_path)                  #Set the working directory to the path\n",
    "\n",
    "getwd()                         #Check the working directory again"
   ]
  },
  {
   "cell_type": "markdown",
   "metadata": {},
   "source": [
    "In RStudio you can also change the the working directory under the \"Session\" dropdown menu. Under session select \"Set working directory\", \"Choose Directory\", navigate to the folder you want to set as your working directory and click \"Select folder.\""
   ]
  },
  {
   "cell_type": "markdown",
   "metadata": {},
   "source": [
    "You can list the files and folders in the current working directory using the list.files() function:"
   ]
  },
  {
   "cell_type": "code",
   "execution_count": 4,
   "metadata": {
    "collapsed": false
   },
   "outputs": [
    {
     "data": {
      "text/html": [
       "<ol class=list-inline>\n",
       "\t<li>\"~$draft2015.xlsx\"</li>\n",
       "\t<li>\"africa_soil_properties\"</li>\n",
       "\t<li>\"analytics_edge\"</li>\n",
       "\t<li>\"analytics_edge2\"</li>\n",
       "\t<li>\"analytics_edge3\"</li>\n",
       "\t<li>\"Applied Predictive Modeling notes.R\"</li>\n",
       "\t<li>\"applied_logreg1.R\"</li>\n",
       "\t<li>\"avito_ad_clicks\"</li>\n",
       "\t<li>\"BB_data.csv\"</li>\n",
       "\t<li>\"bike_sharing\"</li>\n",
       "\t<li>\"caltech6.R\"</li>\n",
       "\t<li>\"caltech7.R\"</li>\n",
       "\t<li>\"caltechfinal.R\"</li>\n",
       "\t<li>\"caltechfinalwork.R\"</li>\n",
       "\t<li>\"cat_tubing\"</li>\n",
       "\t<li>\"crowd_flower\"</li>\n",
       "\t<li>\"denoising_dirty_docs\"</li>\n",
       "\t<li>\"digit_recognizer\"</li>\n",
       "\t<li>\"dplyr.R\"</li>\n",
       "\t<li>\"draft2015.csv\"</li>\n",
       "\t<li>\"draft2015.tsv\"</li>\n",
       "\t<li>\"draft2015.xlsx\"</li>\n",
       "\t<li>\"facebook_bots\"</li>\n",
       "\t<li>\"finding_elo\"</li>\n",
       "\t<li>\"forest_ground_cover\"</li>\n",
       "\t<li>\"helping_santa\"</li>\n",
       "\t<li>\"liberty_mutual\"</li>\n",
       "\t<li>\"march_madness2015\"</li>\n",
       "\t<li>\"nba_analysis\"</li>\n",
       "\t<li>\"nba_by_numbers.html\"</li>\n",
       "\t<li>\"nba_by_numbers.md\"</li>\n",
       "\t<li>\"nba_by_numbers.Rmd\"</li>\n",
       "\t<li>\"otto_group\"</li>\n",
       "\t<li>\"poker_rule_induction\"</li>\n",
       "\t<li>\"poker_writeup.html\"</li>\n",
       "\t<li>\"poker_writeup.md\"</li>\n",
       "\t<li>\"R_ intro.R\"</li>\n",
       "\t<li>\"rcaltech.R\"</li>\n",
       "\t<li>\"sf_crime\"</li>\n",
       "\t<li>\"stufftolearn.txt\"</li>\n",
       "\t<li>\"tab_food\"</li>\n",
       "\t<li>\"taxi_prediction\"</li>\n",
       "\t<li>\"testing_python_in_knitr.html\"</li>\n",
       "\t<li>\"testing_python_in_knitr.md\"</li>\n",
       "\t<li>\"testing_python_in_knitr.Rmd\"</li>\n",
       "\t<li>\"titanic\"</li>\n",
       "\t<li>\"tradeshift_text_classification\"</li>\n",
       "\t<li>\"UTWeek7.R\"</li>\n",
       "\t<li>\"walmart_sales\"</li>\n",
       "\t<li>\"west_nile\"</li>\n",
       "\t<li>\"word2vec\"</li>\n",
       "</ol>\n"
      ],
      "text/latex": [
       "\\begin{enumerate*}\n",
       "\\item \"~$draft2015.xlsx\"\n",
       "\\item \"africa_soil_properties\"\n",
       "\\item \"analytics_edge\"\n",
       "\\item \"analytics_edge2\"\n",
       "\\item \"analytics_edge3\"\n",
       "\\item \"Applied Predictive Modeling notes.R\"\n",
       "\\item \"applied_logreg1.R\"\n",
       "\\item \"avito_ad_clicks\"\n",
       "\\item \"BB_data.csv\"\n",
       "\\item \"bike_sharing\"\n",
       "\\item \"caltech6.R\"\n",
       "\\item \"caltech7.R\"\n",
       "\\item \"caltechfinal.R\"\n",
       "\\item \"caltechfinalwork.R\"\n",
       "\\item \"cat_tubing\"\n",
       "\\item \"crowd_flower\"\n",
       "\\item \"denoising_dirty_docs\"\n",
       "\\item \"digit_recognizer\"\n",
       "\\item \"dplyr.R\"\n",
       "\\item \"draft2015.csv\"\n",
       "\\item \"draft2015.tsv\"\n",
       "\\item \"draft2015.xlsx\"\n",
       "\\item \"facebook_bots\"\n",
       "\\item \"finding_elo\"\n",
       "\\item \"forest_ground_cover\"\n",
       "\\item \"helping_santa\"\n",
       "\\item \"liberty_mutual\"\n",
       "\\item \"march_madness2015\"\n",
       "\\item \"nba_analysis\"\n",
       "\\item \"nba_by_numbers.html\"\n",
       "\\item \"nba_by_numbers.md\"\n",
       "\\item \"nba_by_numbers.Rmd\"\n",
       "\\item \"otto_group\"\n",
       "\\item \"poker_rule_induction\"\n",
       "\\item \"poker_writeup.html\"\n",
       "\\item \"poker_writeup.md\"\n",
       "\\item \"R_ intro.R\"\n",
       "\\item \"rcaltech.R\"\n",
       "\\item \"sf_crime\"\n",
       "\\item \"stufftolearn.txt\"\n",
       "\\item \"tab_food\"\n",
       "\\item \"taxi_prediction\"\n",
       "\\item \"testing_python_in_knitr.html\"\n",
       "\\item \"testing_python_in_knitr.md\"\n",
       "\\item \"testing_python_in_knitr.Rmd\"\n",
       "\\item \"titanic\"\n",
       "\\item \"tradeshift_text_classification\"\n",
       "\\item \"UTWeek7.R\"\n",
       "\\item \"walmart_sales\"\n",
       "\\item \"west_nile\"\n",
       "\\item \"word2vec\"\n",
       "\\end{enumerate*}\n"
      ],
      "text/markdown": [
       "1. \"~$draft2015.xlsx\"\n",
       "2. \"africa_soil_properties\"\n",
       "3. \"analytics_edge\"\n",
       "4. \"analytics_edge2\"\n",
       "5. \"analytics_edge3\"\n",
       "6. \"Applied Predictive Modeling notes.R\"\n",
       "7. \"applied_logreg1.R\"\n",
       "8. \"avito_ad_clicks\"\n",
       "9. \"BB_data.csv\"\n",
       "10. \"bike_sharing\"\n",
       "11. \"caltech6.R\"\n",
       "12. \"caltech7.R\"\n",
       "13. \"caltechfinal.R\"\n",
       "14. \"caltechfinalwork.R\"\n",
       "15. \"cat_tubing\"\n",
       "16. \"crowd_flower\"\n",
       "17. \"denoising_dirty_docs\"\n",
       "18. \"digit_recognizer\"\n",
       "19. \"dplyr.R\"\n",
       "20. \"draft2015.csv\"\n",
       "21. \"draft2015.tsv\"\n",
       "22. \"draft2015.xlsx\"\n",
       "23. \"facebook_bots\"\n",
       "24. \"finding_elo\"\n",
       "25. \"forest_ground_cover\"\n",
       "26. \"helping_santa\"\n",
       "27. \"liberty_mutual\"\n",
       "28. \"march_madness2015\"\n",
       "29. \"nba_analysis\"\n",
       "30. \"nba_by_numbers.html\"\n",
       "31. \"nba_by_numbers.md\"\n",
       "32. \"nba_by_numbers.Rmd\"\n",
       "33. \"otto_group\"\n",
       "34. \"poker_rule_induction\"\n",
       "35. \"poker_writeup.html\"\n",
       "36. \"poker_writeup.md\"\n",
       "37. \"R_ intro.R\"\n",
       "38. \"rcaltech.R\"\n",
       "39. \"sf_crime\"\n",
       "40. \"stufftolearn.txt\"\n",
       "41. \"tab_food\"\n",
       "42. \"taxi_prediction\"\n",
       "43. \"testing_python_in_knitr.html\"\n",
       "44. \"testing_python_in_knitr.md\"\n",
       "45. \"testing_python_in_knitr.Rmd\"\n",
       "46. \"titanic\"\n",
       "47. \"tradeshift_text_classification\"\n",
       "48. \"UTWeek7.R\"\n",
       "49. \"walmart_sales\"\n",
       "50. \"west_nile\"\n",
       "51. \"word2vec\"\n",
       "\n",
       "\n"
      ],
      "text/plain": [
       " [1] \"~$draft2015.xlsx\"                    \"africa_soil_properties\"             \n",
       " [3] \"analytics_edge\"                      \"analytics_edge2\"                    \n",
       " [5] \"analytics_edge3\"                     \"Applied Predictive Modeling notes.R\"\n",
       " [7] \"applied_logreg1.R\"                   \"avito_ad_clicks\"                    \n",
       " [9] \"BB_data.csv\"                         \"bike_sharing\"                       \n",
       "[11] \"caltech6.R\"                          \"caltech7.R\"                         \n",
       "[13] \"caltechfinal.R\"                      \"caltechfinalwork.R\"                 \n",
       "[15] \"cat_tubing\"                          \"crowd_flower\"                       \n",
       "[17] \"denoising_dirty_docs\"                \"digit_recognizer\"                   \n",
       "[19] \"dplyr.R\"                             \"draft2015.csv\"                      \n",
       "[21] \"draft2015.tsv\"                       \"draft2015.xlsx\"                     \n",
       "[23] \"facebook_bots\"                       \"finding_elo\"                        \n",
       "[25] \"forest_ground_cover\"                 \"helping_santa\"                      \n",
       "[27] \"liberty_mutual\"                      \"march_madness2015\"                  \n",
       "[29] \"nba_analysis\"                        \"nba_by_numbers.html\"                \n",
       "[31] \"nba_by_numbers.md\"                   \"nba_by_numbers.Rmd\"                 \n",
       "[33] \"otto_group\"                          \"poker_rule_induction\"               \n",
       "[35] \"poker_writeup.html\"                  \"poker_writeup.md\"                   \n",
       "[37] \"R_ intro.R\"                          \"rcaltech.R\"                         \n",
       "[39] \"sf_crime\"                            \"stufftolearn.txt\"                   \n",
       "[41] \"tab_food\"                            \"taxi_prediction\"                    \n",
       "[43] \"testing_python_in_knitr.html\"        \"testing_python_in_knitr.md\"         \n",
       "[45] \"testing_python_in_knitr.Rmd\"         \"titanic\"                            \n",
       "[47] \"tradeshift_text_classification\"      \"UTWeek7.R\"                          \n",
       "[49] \"walmart_sales\"                       \"west_nile\"                          \n",
       "[51] \"word2vec\"                           "
      ]
     },
     "execution_count": 4,
     "metadata": {},
     "output_type": "execute_result"
    }
   ],
   "source": [
    "list.files()                  #A list of files and folders in my Kaggle directory"
   ]
  },
  {
   "cell_type": "markdown",
   "metadata": {},
   "source": [
    "### Read CSV and TSV Files"
   ]
  },
  {
   "cell_type": "markdown",
   "metadata": {},
   "source": [
    "Data is commonly stored in simple text files consisting of values delimited by some by a special character. For instance, CSV files use commas as the delimiter and tab separated value files (TSV) use tabs as the delimiter.\n",
    "\n",
    "You can use the read.csv() function to read CSV files into R:"
   ]
  },
  {
   "cell_type": "code",
   "execution_count": 5,
   "metadata": {
    "collapsed": false
   },
   "outputs": [
    {
     "name": "stdout",
     "output_type": "stream",
     "text": [
      "                Player Draft_Express CBS CBS_2 CBS_3 BleacherReport SI\n",
      "1   Karl-Anthony Towns             1   1     1     1              1  1\n",
      "2        Jahlil Okafor             2   2     2     2              2  2\n",
      "3      Emmanuel Mudiay             7   6     6     6              7  6\n",
      "4     D'Angelo Russell             3   3     4     4              3  3\n",
      "5   Kristaps Porzingis             6   5     3     3              4  4\n",
      "6        Mario Hezonja             4   7     8     7              6  7\n",
      "7      Justise Winslow             5   4     5     5              5  5\n",
      "8  Willie Cauley-Stein            13   9     7    11              9 11\n",
      "9      Stanley Johnson             8   8    12     8              8 10\n",
      "10        Myles Turner            12  10    13    12             11 12\n",
      "11        Bobby Portis            17  15    17    20             17 15\n",
      "12        Devin Booker            10  11     9    13             13  8\n",
      "13      Frank Kaminsky             9  12    10     9             12  9\n",
      "14     Kelly Oubre Jr.            15  13    14    10             21 16\n",
      "15          Trey Lyles            11  17    20    15             15 17\n"
     ]
    }
   ],
   "source": [
    "draft <- read.csv(file =\"draft2015.csv\",         #path to the file from the working directory      \n",
    "                  stringsAsFactors = FALSE)      #whether to encode characters as factors\n",
    "\n",
    "\n",
    "\n",
    "print(head(draft,15))"
   ]
  },
  {
   "cell_type": "markdown",
   "metadata": {},
   "source": [
    "Data loaded into R via read.csv() becomes data frame. \n",
    "\n",
    "To load tab separated values, include the sep argument and set it to the tab character \"\\t\":"
   ]
  },
  {
   "cell_type": "code",
   "execution_count": 6,
   "metadata": {
    "collapsed": false
   },
   "outputs": [
    {
     "name": "stdout",
     "output_type": "stream",
     "text": [
      "                Player Draft_Express CBS CBS_2 CBS_3 BleacherReport SI\n",
      "1   Karl-Anthony Towns             1   1     1     1              1  1\n",
      "2        Jahlil Okafor             2   2     2     2              2  2\n",
      "3      Emmanuel Mudiay             7   6     6     6              7  6\n",
      "4     D'Angelo Russell             3   3     4     4              3  3\n",
      "5   Kristaps Porzingis             6   5     3     3              4  4\n",
      "6        Mario Hezonja             4   7     8     7              6  7\n",
      "7      Justise Winslow             5   4     5     5              5  5\n",
      "8  Willie Cauley-Stein            13   9     7    11              9 11\n",
      "9      Stanley Johnson             8   8    12     8              8 10\n",
      "10        Myles Turner            12  10    13    12             11 12\n",
      "11        Bobby Portis            17  15    17    20             17 15\n",
      "12        Devin Booker            10  11     9    13             13  8\n",
      "13      Frank Kaminsky             9  12    10     9             12  9\n",
      "14     Kelly Oubre Jr.            15  13    14    10             21 16\n",
      "15          Trey Lyles            11  17    20    15             15 17\n"
     ]
    }
   ],
   "source": [
    "draft2 <- read.csv(file=\"draft2015.tsv\",      #path to the TSV file\n",
    "          sep = \"\\t\",                         #use tabs as the delimiting character\n",
    "          stringsAsFactors = FALSE)\n",
    "\n",
    "print(head(draft2,15))"
   ]
  },
  {
   "cell_type": "markdown",
   "metadata": {},
   "source": [
    "The read.csv() function is an extension of a more general data reading function called read.table(). read.csv() just sets a few arguments of read.table() to values suitable for reading CSV and TSV files. The read.table() function has numerious additional arguments that have various effects on reading data; there are too many arguments to cover them all in detail here but you can always get more information by checking the function documents with ?read.table or help(read.table)."
   ]
  },
  {
   "cell_type": "markdown",
   "metadata": {},
   "source": [
    "### Read Excel Files"
   ]
  },
  {
   "cell_type": "markdown",
   "metadata": {},
   "source": [
    "Microsoft Excel is a ubiquitous enterprise spreadsheet program that stores data in its own format with the extension .xls or .xlsx. \n",
    "\n",
    "One simple way to read Excel data into R is to open an Excel workbook using Excel, save the data in CSV format or as a tab-delimited text file and then use the read.csv() function to load the data into R. \n",
    "\n",
    "If you want to read data from a .xls or .xlsx file directly into R, you'll need to download a package. Packages are extensions to the base R software library that give you access to additional functions. You can install packages from CRAN by supplying the name of the package to the install.packages() function. To read Excel Files, we need the \"xlsx\" package. When you attempt to install a package in RStudio you will be prompted to select a web mirror; choose one close you."
   ]
  },
  {
   "cell_type": "code",
   "execution_count": 7,
   "metadata": {
    "collapsed": false
   },
   "outputs": [
    {
     "name": "stdout",
     "output_type": "stream",
     "text": [
      "package 'xlsx' successfully unpacked and MD5 sums checked\n",
      "\n",
      "The downloaded binary packages are in\n",
      "\tC:\\Users\\Greg\\AppData\\Local\\Temp\\RtmpOwcCd4\\downloaded_packages\n"
     ]
    }
   ],
   "source": [
    "install.packages(\"xlsx\",  repos='http://cran.us.r-project.org')   #install the xlsx package from CRAN"
   ]
  },
  {
   "cell_type": "markdown",
   "metadata": {},
   "source": [
    "*Note: I had to supply a CRAN mirror manually since I'm using a program that makes it easy to export text and code to a web friendly format instead of RStudio.\n",
    "\n",
    "*Note: when you install a package, it may have dependencies that have to be installed first.\n",
    "\n",
    "After installing a package, you can load it into your R environment with the library() function:"
   ]
  },
  {
   "cell_type": "code",
   "execution_count": 8,
   "metadata": {
    "collapsed": false
   },
   "outputs": [
    {
     "name": "stderr",
     "output_type": "stream",
     "text": [
      "Loading required package: rJava\n",
      "Loading required package: xlsxjars\n"
     ]
    }
   ],
   "source": [
    "library(xlsx)                            #library() loads in a package and its dependencies"
   ]
  },
  {
   "cell_type": "markdown",
   "metadata": {},
   "source": [
    "With our new pacakge in hand, we can use its read.xlsx() function to read Excel files directly:"
   ]
  },
  {
   "cell_type": "code",
   "execution_count": 9,
   "metadata": {
    "collapsed": false
   },
   "outputs": [
    {
     "name": "stdout",
     "output_type": "stream",
     "text": [
      "              Player Draft_Express CBS CBS_2 CBS_3 BleacherReport SI\n",
      "1 Karl-Anthony Towns             1   1     1     1              1  1\n",
      "2      Jahlil Okafor             2   2     2     2              2  2\n",
      "3    Emmanuel Mudiay             7   6     6     6              7  6\n",
      "4   D'Angelo Russell             3   3     4     4              3  3\n",
      "5 Kristaps Porzingis             6   5     3     3              4  4\n",
      "6      Mario Hezonja             4   7     8     7              6  7\n"
     ]
    }
   ],
   "source": [
    "draft3 <- read.xlsx(\"draft2015.xlsx\", 1)  #Reads the first worksheet in the file draft2015.xlsx\n",
    "\n",
    "print(head(draft3))"
   ]
  },
  {
   "cell_type": "markdown",
   "metadata": {},
   "source": [
    "If you want to read a specific worksheet in an excel workbook, supply the sheetName argument:"
   ]
  },
  {
   "cell_type": "code",
   "execution_count": 10,
   "metadata": {
    "collapsed": false
   },
   "outputs": [
    {
     "name": "stdout",
     "output_type": "stream",
     "text": [
      "        This Is Dummy Data\n",
      "1  sometimes  2     0 fast\n",
      "2    missing  4     0 fast\n",
      "3       <NA>  7     1 slow\n",
      "4       data  5     1 slow\n",
      "5         is  3     0 fast\n",
      "6       <NA>  4     0 slow\n",
      "7  sometimes  6     0 fast\n",
      "8  sometimes  5    NA slow\n",
      "9       <NA>  5    NA fast\n",
      "10   missing  4     0 fast\n"
     ]
    }
   ],
   "source": [
    "dummy_data <- read.xlsx(\"draft2015.xlsx\", \n",
    "                        sheetName=\"dummy_data\")    #Loads in the specified worksheet\n",
    "\n",
    "print(dummy_data)"
   ]
  },
  {
   "cell_type": "markdown",
   "metadata": {},
   "source": [
    "### Reading Web Data"
   ]
  },
  {
   "cell_type": "markdown",
   "metadata": {},
   "source": [
    "The internet gives you access to more data than you could ever hope to analyze. Data analysis often begins with getting data from the web and loading it into R. Websites that offer data for download usually let you download data as CSV, TSV or excel files. \n",
    "\n",
    "The easiest way to use web data in R, is to simply download data to your hard drive in CSV, TSV or an excel file format and then use the functions we discussed earlier to load the data into R. You can supply a url to read.csv() or read.table() to read data directly from the web, but doing so can be problematic since web data isn't always formatted nicely. You may need to do a little manual data cleaning, such as deleting unnecessary titles and header rows in excel or a text editor like notepad++ to prepare data for use in R.\n",
    "\n",
    "Reading from the clipboard is another option for reading web data and other tabular data. To read in data from the clipboard, highlight the data you want to copy and use the approprate copy function as if you were going to copy and paste the data. Next, use the read.csv() or read.table() function with the the first argument set to \"clipboard\":"
   ]
  },
  {
   "cell_type": "code",
   "execution_count": 11,
   "metadata": {
    "collapsed": false
   },
   "outputs": [
    {
     "name": "stdout",
     "output_type": "stream",
     "text": [
      "   Rk         Player Pos Age  Tm  G GS   MP  FG FGA   FG. X3P X3PA X3P.1 X2P\n",
      "1   1     Quincy Acy  PF  24 NYK 68 22 1287 152 331 0.459  18   60 0.300 134\n",
      "2   2   Jordan Adams  SG  20 MEM 30  0  248  35  86 0.407  10   25 0.400  25\n",
      "3   3   Steven Adams   C  21 OKC 70 67 1771 217 399 0.544   0    2 0.000 217\n",
      "4   4    Jeff Adrien  PF  28 MIN 17  0  215  19  44 0.432   0    0    NA  19\n",
      "5   5  Arron Afflalo  SG  29 TOT 78 72 2502 375 884 0.424 118  333 0.354 257\n",
      "6   5  Arron Afflalo  SG  29 DEN 53 53 1750 281 657 0.428  82  243 0.337 199\n",
      "7   5  Arron Afflalo  SG  29 POR 25 19  752  94 227 0.414  36   90 0.400  58\n",
      "8   6  Alexis Ajinca   C  26 NOP 68  8  957 181 329 0.550   0    0    NA 181\n",
      "9   7 Furkan Aldemir  PF  23 PHI 41  9  540  40  78 0.513   0    5 0.000  40\n",
      "10  8   Cole Aldrich   C  26 NYK 61 16  976 144 301 0.478   0    0    NA 144\n",
      "   X2PA X2P.1  eFG.  FT FTA   FT. ORB DRB TRB AST STL BLK TOV  PF  PTS\n",
      "1   271 0.494 0.486  76  97 0.784  79 222 301  68  27  22  60 147  398\n",
      "2    61 0.410 0.465  14  23 0.609   9  19  28  16  16   7  14  24   94\n",
      "3   397 0.547 0.544 103 205 0.502 199 324 523  66  38  86  99 222  537\n",
      "4    44 0.432 0.432  22  38 0.579  23  54  77  15   4   9   9  30   60\n",
      "5   551 0.466 0.491 167 198 0.843  27 220 247 129  41   7 116 167 1035\n",
      "6   414 0.481 0.490 127 151 0.841  21 159 180 101  32   5  83 108  771\n",
      "7   137 0.423 0.493  40  47 0.851   6  61  67  28   9   2  33  59  264\n",
      "8   329 0.550 0.550  81  99 0.818 104 211 315  47  21  51  69 151  443\n",
      "9    73 0.548 0.513  13  27 0.481  78  98 176  28  17  16  17  96   93\n",
      "10  301 0.478 0.478  50  64 0.781 101 237 338  75  37  65  59 122  338\n"
     ]
    }
   ],
   "source": [
    "#First I went to http://www.basketball-reference.com/leagues/NBA_2015_totals.html and\n",
    "#clicked the CSV button to format data as CSV and then copied some data to the clipboard\n",
    "\n",
    "BB_reference_data <- read.csv(\"clipboard\")       #Read data from the clipboard\n",
    "\n",
    "print ( head(BB_reference_data, 10) )            #Check the data"
   ]
  },
  {
   "cell_type": "markdown",
   "metadata": {},
   "source": [
    "Data comes in all sorts of formats other than the friendly ones we've discussed thus far. R has functions and packages for working with data in other common data formats like SAS, SPSS and Stata files, json, xml, html and databases. It would take too long to cover how to deal with all the different data sources you might encounter in one lesson. If you encounter a data source you don't know how to work with, a little bit of Googling will usually reveal how to convert it into a more familiar format or use an R package to deal with it directly."
   ]
  },
  {
   "cell_type": "markdown",
   "metadata": {},
   "source": [
    "### Writing Data To CSV"
   ]
  },
  {
   "cell_type": "markdown",
   "metadata": {},
   "source": [
    "In the course of cleaning data, data analysis and predictive modeling, you'll generate new data. You can write data in an R data frame to CSV using the write.csv() function:"
   ]
  },
  {
   "cell_type": "code",
   "execution_count": 12,
   "metadata": {
    "collapsed": true
   },
   "outputs": [],
   "source": [
    "write.csv(BB_reference_data,          #name of varible assigned to the data       \n",
    "         \"BB_data.csv\",               #name of the file to create to store the data\n",
    "          row.names = FALSE,)         #whether to include row names in the file"
   ]
  },
  {
   "cell_type": "markdown",
   "metadata": {},
   "source": [
    "It's a good idea to save data periodically, especially after long, computationally expensive operations so that you don't lose progress or results.\n",
    "\n",
    "Now that we know the basics of reading and writing data we're ready to start exploring data."
   ]
  },
  {
   "cell_type": "markdown",
   "metadata": {},
   "source": [
    "### Next Time: Introduction to R Part 11: Initial Data Exploration"
   ]
  }
 ],
 "metadata": {
  "kernelspec": {
   "display_name": "R",
   "language": "R",
   "name": "ir"
  },
  "language_info": {
   "codemirror_mode": "r",
   "file_extension": ".r",
   "mimetype": "text/x-r-source",
   "name": "R",
   "pygments_lexer": "r",
   "version": "3.1.3"
  }
 },
 "nbformat": 4,
 "nbformat_minor": 0
}
