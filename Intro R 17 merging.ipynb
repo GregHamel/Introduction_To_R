{
 "cells": [
  {
   "cell_type": "markdown",
   "metadata": {},
   "source": [
    "# Introduction to R Part 17: Merging Data"
   ]
  },
  {
   "cell_type": "markdown",
   "metadata": {},
   "source": [
    "Data you use for your projects won't always be confined to a single table in a CSV or excel file. Data is often split across several tables that you need to combine in some way. Data frames can be joined together if they have columns in common. Joining tables in various ways is a common operation when working with databases but you can also join data frames in R using the built in function merge()."
   ]
  },
  {
   "cell_type": "markdown",
   "metadata": {},
   "source": [
    "First, lets load and inspect two related tables of dummy medical data. You can load the data into your own R enviromment by copying each table below and then using read.csv(\"clipboard\", sep=\"\\t\")"
   ]
  },
  {
   "cell_type": "code",
   "execution_count": 1,
   "metadata": {
    "collapsed": false
   },
   "outputs": [
    {
     "data": {
      "text/html": [
       "<table>\n",
       "<thead><tr><th></th><th scope=col>P_ID</th><th scope=col>gender</th><th scope=col>height</th><th scope=col>weight</th></tr></thead>\n",
       "<tbody>\n",
       "\t<tr><th scope=row>1</th><td>1</td><td>male</td><td>71</td><td>175</td></tr>\n",
       "\t<tr><th scope=row>2</th><td>2</td><td>male</td><td>74</td><td>225</td></tr>\n",
       "\t<tr><th scope=row>3</th><td>3</td><td>female</td><td>64</td><td>130</td></tr>\n",
       "\t<tr><th scope=row>4</th><td>4</td><td>female</td><td>64</td><td>125</td></tr>\n",
       "\t<tr><th scope=row>5</th><td>5</td><td>female</td><td>66</td><td>165</td></tr>\n",
       "\t<tr><th scope=row>6</th><td>6</td><td>male</td><td>69</td><td>160</td></tr>\n",
       "\t<tr><th scope=row>7</th><td>7</td><td>female</td><td>62</td><td>115</td></tr>\n",
       "\t<tr><th scope=row>8</th><td>8</td><td>male</td><td>72</td><td>250</td></tr>\n",
       "</tbody>\n",
       "</table>\n"
      ],
      "text/latex": [
       "\\begin{tabular}{r|llll}\n",
       "  & P_ID & gender & height & weight\\\\\n",
       "\\hline\n",
       "\t1 & 1 & male & 71 & 175\\\\\n",
       "\t2 & 2 & male & 74 & 225\\\\\n",
       "\t3 & 3 & female & 64 & 130\\\\\n",
       "\t4 & 4 & female & 64 & 125\\\\\n",
       "\t5 & 5 & female & 66 & 165\\\\\n",
       "\t6 & 6 & male & 69 & 160\\\\\n",
       "\t7 & 7 & female & 62 & 115\\\\\n",
       "\t8 & 8 & male & 72 & 250\\\\\n",
       "\\end{tabular}\n"
      ],
      "text/plain": [
       "  P_ID gender height weight\n",
       "1    1   male     71    175\n",
       "2    2   male     74    225\n",
       "3    3 female     64    130\n",
       "4    4 female     64    125\n",
       "5    5 female     66    165\n",
       "6    6   male     69    160\n",
       "7    7 female     62    115\n",
       "8    8   male     72    250"
      ]
     },
     "execution_count": 1,
     "metadata": {},
     "output_type": "execute_result"
    },
    {
     "data": {
      "text/html": [
       "<table>\n",
       "<thead><tr><th></th><th scope=col>P_ID</th><th scope=col>sex</th><th scope=col>visits</th><th scope=col>checkup</th><th scope=col>follow_up</th><th scope=col>illness</th><th scope=col>surgery</th><th scope=col>ER</th></tr></thead>\n",
       "<tbody>\n",
       "\t<tr><th scope=row>1</th><td>1</td><td>male</td><td>1</td><td>1</td><td>0</td><td>0</td><td>0</td><td>0</td></tr>\n",
       "\t<tr><th scope=row>2</th><td>2</td><td>male</td><td>2</td><td>1</td><td>0</td><td>0</td><td>0</td><td>1</td></tr>\n",
       "\t<tr><th scope=row>3</th><td>4</td><td>female</td><td>4</td><td>1</td><td>1</td><td>2</td><td>0</td><td>0</td></tr>\n",
       "\t<tr><th scope=row>4</th><td>5</td><td>female</td><td>12</td><td>1</td><td>2</td><td>7</td><td>2</td><td>0</td></tr>\n",
       "\t<tr><th scope=row>5</th><td>7</td><td>female</td><td>2</td><td>1</td><td>0</td><td>1</td><td>0</td><td>0</td></tr>\n",
       "\t<tr><th scope=row>6</th><td>8</td><td>male</td><td>2</td><td>1</td><td>0</td><td>1</td><td>0</td><td>0</td></tr>\n",
       "\t<tr><th scope=row>7</th><td>9</td><td>male</td><td>1</td><td>0</td><td>0</td><td>0</td><td>0</td><td>1</td></tr>\n",
       "\t<tr><th scope=row>8</th><td>10</td><td>female</td><td>1</td><td>0</td><td>0</td><td>0</td><td>0</td><td>1</td></tr>\n",
       "</tbody>\n",
       "</table>\n"
      ],
      "text/latex": [
       "\\begin{tabular}{r|llllllll}\n",
       "  & P_ID & sex & visits & checkup & follow_up & illness & surgery & ER\\\\\n",
       "\\hline\n",
       "\t1 & 1 & male & 1 & 1 & 0 & 0 & 0 & 0\\\\\n",
       "\t2 & 2 & male & 2 & 1 & 0 & 0 & 0 & 1\\\\\n",
       "\t3 & 4 & female & 4 & 1 & 1 & 2 & 0 & 0\\\\\n",
       "\t4 & 5 & female & 12 & 1 & 2 & 7 & 2 & 0\\\\\n",
       "\t5 & 7 & female & 2 & 1 & 0 & 1 & 0 & 0\\\\\n",
       "\t6 & 8 & male & 2 & 1 & 0 & 1 & 0 & 0\\\\\n",
       "\t7 & 9 & male & 1 & 0 & 0 & 0 & 0 & 1\\\\\n",
       "\t8 & 10 & female & 1 & 0 & 0 & 0 & 0 & 1\\\\\n",
       "\\end{tabular}\n"
      ],
      "text/plain": [
       "  P_ID    sex visits checkup follow_up illness surgery ER\n",
       "1    1   male      1       1         0       0       0  0\n",
       "2    2   male      2       1         0       0       0  1\n",
       "3    4 female      4       1         1       2       0  0\n",
       "4    5 female     12       1         2       7       2  0\n",
       "5    7 female      2       1         0       1       0  0\n",
       "6    8   male      2       1         0       1       0  0\n",
       "7    9   male      1       0         0       0       0  1\n",
       "8   10 female      1       0         0       0       0  1"
      ]
     },
     "execution_count": 1,
     "metadata": {},
     "output_type": "execute_result"
    }
   ],
   "source": [
    "setwd(\"C:/Users/Greg/Desktop\")\n",
    "\n",
    "table1 <- read.csv(\"intro_R_17_1.csv\")  \n",
    "\n",
    "table2 <- read.csv(\"intro_R_17_2.csv\")\n",
    "\n",
    "table1                                      #inspect the data\n",
    "table2"
   ]
  },
  {
   "cell_type": "markdown",
   "metadata": {},
   "source": [
    "*Note: your data will have an extra column \"X\" for rownames if you read from the clipboard."
   ]
  },
  {
   "cell_type": "markdown",
   "metadata": {},
   "source": [
    "Both data frames contain the column \"P_ID\" but the other columns are different. A unique identifier like an ID is usually a good key for joining two data frames together. You can combine two data frames by a common column with merge():"
   ]
  },
  {
   "cell_type": "code",
   "execution_count": 2,
   "metadata": {
    "collapsed": false
   },
   "outputs": [
    {
     "name": "stdout",
     "output_type": "stream",
     "text": [
      "  P_ID gender height weight    sex visits checkup follow_up illness surgery ER\n",
      "1    1   male     71    175   male      1       1         0       0       0  0\n",
      "2    2   male     74    225   male      2       1         0       0       0  1\n",
      "3    4 female     64    125 female      4       1         1       2       0  0\n",
      "4    5 female     66    165 female     12       1         2       7       2  0\n",
      "5    7 female     62    115 female      2       1         0       1       0  0\n",
      "6    8   male     72    250   male      2       1         0       1       0  0\n"
     ]
    }
   ],
   "source": [
    "combined1 <- merge(x = table1,              # first data frame\n",
    "                   y = table2,              # second data frame\n",
    "                   by = \"P_ID\")             # common column to merge on\n",
    "\n",
    "print(combined1)"
   ]
  },
  {
   "cell_type": "markdown",
   "metadata": {},
   "source": [
    "Inspecting the new combined data frame, we can see that the number of records dropped from 8 in the original tables to 6 in the combined table. If we inspect the P_ID column closely, we see that the original data tables contain some different values for P_ID. The merge() function performs an \"inner join\" by default. An inner join only merges records that appear in both columns used for the join. Since patients 3 and 6 only appear in table1 and patients 9 and 10 only appear in table2, those four patients were dropped when we merged the tables together.\n",
    "\n",
    "Inner joins ensure that we don't end up introducing NA values in our data. For instance, if we kept patients 3 and 6 in the combined data frame, those patients would end up with a lot of missing values because they arn't present in the table2. If you want to keep more of your data and don't mind introducing some missing values, you can use merge to perform other types of joins, such as left joins, right joins and outer joins, by supplying an extra argument to merge():"
   ]
  },
  {
   "cell_type": "code",
   "execution_count": 3,
   "metadata": {
    "collapsed": false
   },
   "outputs": [
    {
     "name": "stdout",
     "output_type": "stream",
     "text": [
      "  P_ID gender height weight    sex visits checkup follow_up illness surgery ER\n",
      "1    1   male     71    175   male      1       1         0       0       0  0\n",
      "2    2   male     74    225   male      2       1         0       0       0  1\n",
      "3    3 female     64    130   <NA>     NA      NA        NA      NA      NA NA\n",
      "4    4 female     64    125 female      4       1         1       2       0  0\n",
      "5    5 female     66    165 female     12       1         2       7       2  0\n",
      "6    6   male     69    160   <NA>     NA      NA        NA      NA      NA NA\n",
      "7    7 female     62    115 female      2       1         0       1       0  0\n",
      "8    8   male     72    250   male      2       1         0       1       0  0\n"
     ]
    }
   ],
   "source": [
    "# A left join keeps all key values in the first(left) data frame\n",
    "\n",
    "left_join <- merge(x = table1,              # first data frame\n",
    "                   y = table2,              # second data frame\n",
    "                   by = \"P_ID\",             # common column to merge on\n",
    "                   all.x = TRUE)            # keep all key values in x?\n",
    "\n",
    "print(left_join)"
   ]
  },
  {
   "cell_type": "code",
   "execution_count": 4,
   "metadata": {
    "collapsed": false
   },
   "outputs": [
    {
     "name": "stdout",
     "output_type": "stream",
     "text": [
      "  P_ID gender height weight    sex visits checkup follow_up illness surgery ER\n",
      "1    1   male     71    175   male      1       1         0       0       0  0\n",
      "2    2   male     74    225   male      2       1         0       0       0  1\n",
      "3    4 female     64    125 female      4       1         1       2       0  0\n",
      "4    5 female     66    165 female     12       1         2       7       2  0\n",
      "5    7 female     62    115 female      2       1         0       1       0  0\n",
      "6    8   male     72    250   male      2       1         0       1       0  0\n",
      "7    9   <NA>     NA     NA   male      1       0         0       0       0  1\n",
      "8   10   <NA>     NA     NA female      1       0         0       0       0  1\n"
     ]
    }
   ],
   "source": [
    "# A right join keeps all key values in the second(right) data frame\n",
    "\n",
    "right_join <- merge(x = table1,             # first data frame\n",
    "                   y = table2,              # second data frame\n",
    "                   by = \"P_ID\",             # common column to merge on\n",
    "                   all.y = TRUE)            # keep all key values in y?\n",
    "\n",
    "print(right_join)"
   ]
  },
  {
   "cell_type": "code",
   "execution_count": 5,
   "metadata": {
    "collapsed": false
   },
   "outputs": [
    {
     "name": "stdout",
     "output_type": "stream",
     "text": [
      "   P_ID gender height weight    sex visits checkup follow_up illness surgery ER\n",
      "1     1   male     71    175   male      1       1         0       0       0  0\n",
      "2     2   male     74    225   male      2       1         0       0       0  1\n",
      "3     3 female     64    130   <NA>     NA      NA        NA      NA      NA NA\n",
      "4     4 female     64    125 female      4       1         1       2       0  0\n",
      "5     5 female     66    165 female     12       1         2       7       2  0\n",
      "6     6   male     69    160   <NA>     NA      NA        NA      NA      NA NA\n",
      "7     7 female     62    115 female      2       1         0       1       0  0\n",
      "8     8   male     72    250   male      2       1         0       1       0  0\n",
      "9     9   <NA>     NA     NA   male      1       0         0       0       0  1\n",
      "10   10   <NA>     NA     NA female      1       0         0       0       0  1\n"
     ]
    }
   ],
   "source": [
    "# An outer join keeps all key values in both data frames\n",
    "\n",
    "outer_join <- merge(x = table1,             # first data frame\n",
    "                   y = table2,              # second data frame\n",
    "                   by = \"P_ID\",             # common column to merge on\n",
    "                   all = TRUE)              # keep all key values? (default=FALSE)\n",
    "\n",
    "print(outer_join)"
   ]
  },
  {
   "cell_type": "markdown",
   "metadata": {},
   "source": [
    "By this point you may have noticed that the two data frames contain a second column in common. The first table contains the column \"gender\" while the second contains the column \"sex\" both of which record the same information. We can solve this issue by first renaming one of the two columns so that thier names are the same and then supplying that column's name as a second column to merge upon:"
   ]
  },
  {
   "cell_type": "code",
   "execution_count": 6,
   "metadata": {
    "collapsed": false
   },
   "outputs": [
    {
     "name": "stdout",
     "output_type": "stream",
     "text": [
      "   P_ID gender height weight visits checkup follow_up illness surgery ER\n",
      "1     1   male     71    175      1       1         0       0       0  0\n",
      "2     2   male     74    225      2       1         0       0       0  1\n",
      "3     3 female     64    130     NA      NA        NA      NA      NA NA\n",
      "4     4 female     64    125      4       1         1       2       0  0\n",
      "5     5 female     66    165     12       1         2       7       2  0\n",
      "6     6   male     69    160     NA      NA        NA      NA      NA NA\n",
      "7     7 female     62    115      2       1         0       1       0  0\n",
      "8     8   male     72    250      2       1         0       1       0  0\n",
      "9     9   male     NA     NA      1       0         0       0       0  1\n",
      "10   10 female     NA     NA      1       0         0       0       0  1\n"
     ]
    }
   ],
   "source": [
    "names(table2)[2] <- \"gender\"                    # rename the second column of table2\n",
    "\n",
    "combined2 <- merge(x = table1,                  # first data frame\n",
    "                   y = table2,                  # second data frame\n",
    "                   by = c(\"P_ID\",\"gender\"),     # common columns to merge on\n",
    "                   all = TRUE)                  # perform an outer join\n",
    "\n",
    "print(combined2)"
   ]
  },
  {
   "cell_type": "markdown",
   "metadata": {},
   "source": [
    "By correcting renaming and merging on the gender column, we've managed to eliminate some NA values in the outer join. Although an outer joins introduce NA values, they can also be helpful for discovering patterns in the data. For example, in our combined data, notice that the two patients who did not have values listed for height and weight only made visits to the ER. It could be that the hospital did not have patients 9 and 10 on record previously and that it does not take height and weight measurements for ER visits. Using the same type of intution, it could be that patients 3 and 6 have height and weight measurements on file from visits in the past, but perhaps they did not visit the hopsital during the time period for which this visit data was collected."
   ]
  },
  {
   "cell_type": "markdown",
   "metadata": {},
   "source": [
    "### Wrap Up"
   ]
  },
  {
   "cell_type": "markdown",
   "metadata": {},
   "source": [
    "The base R function merge() can perform common joins to combine data frames with matching columns. For some projects, you may have to merge several tables into one to get the most out of your data. \n",
    "\n",
    "Now that we know how to prepare and merge data, we're ready to learn more about two of the most common tools for exploring data sets: contingency tables and plots."
   ]
  },
  {
   "cell_type": "markdown",
   "metadata": {},
   "source": [
    "### Next Time: Introduction to R Part 18: Contingency Tables"
   ]
  }
 ],
 "metadata": {
  "kernelspec": {
   "display_name": "R",
   "language": "R",
   "name": "ir"
  },
  "language_info": {
   "codemirror_mode": "r",
   "file_extension": ".r",
   "mimetype": "text/x-r-source",
   "name": "R",
   "pygments_lexer": "r",
   "version": "3.1.3"
  }
 },
 "nbformat": 4,
 "nbformat_minor": 0
}
