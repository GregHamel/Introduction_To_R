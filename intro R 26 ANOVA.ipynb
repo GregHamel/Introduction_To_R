{
 "cells": [
  {
   "cell_type": "markdown",
   "metadata": {},
   "source": [
    "# Introduction to R Part 26: Analysis of Variance (ANOVA)"
   ]
  },
  {
   "cell_type": "markdown",
   "metadata": {},
   "source": [
    "In lesson 24 we introduced the t-test for checking whether the means of two groups differ. The t-test works well when dealing with two groups, but sometimes we want to compare more than two groups at the same time. For example, if we wanted to test whether voter age differs based on some categorical variable like race, we have to compare the means of each level or group the variable. We could carry out a separate t-test for each pair of groups, but when you conduct many tests you increase the chances of false positives. The analysis of variance or ANOVA is a statistical inference test that lets you compare multiple groups at the same time."
   ]
  },
  {
   "cell_type": "markdown",
   "metadata": {},
   "source": [
    "### One-Way ANOVA"
   ]
  },
  {
   "cell_type": "markdown",
   "metadata": {},
   "source": [
    "The one-way ANOVA tests whether the mean of some numeric variable differs across the levels of one categorical variable. It essentailly answers the question: do any of the group means differ from one another? We won't get into the details of carrying out an ANOVA by hand as it invovles more calculations than the t-test, but the process is similar: you go through several calculations to arrive at a test statistic and then you compare the test statistic to a critical value based on a probabilitiy distribution. In the case of the ANOVA, you use the \"f-distribution\", which you can access with the functions rf(), pf(), qf() and df().\n",
    "\n",
    "To carry out an ANOVA in R, you can use the aov() function. aov() takes a formula as the first argument of the form: numeric_response_variable ~ categorical_variable. Let's generate some fake voter age and deomgraphic data and use the ANOVA to compare average ages across the deomgraphic groups:"
   ]
  },
  {
   "cell_type": "code",
   "execution_count": 1,
   "metadata": {
    "collapsed": false
   },
   "outputs": [
    {
     "data": {
      "text/plain": [
       "             Df Sum Sq Mean Sq F value Pr(>F)\n",
       "voter_race    4   1204   300.9   0.815  0.515\n",
       "Residuals   995 367270   369.1               "
      ]
     },
     "execution_count": 1,
     "metadata": {},
     "output_type": "execute_result"
    }
   ],
   "source": [
    "set.seed(12)\n",
    "voter_race <- sample(c(\"white\", \"hispanic\",                   # generate race data\n",
    "                     \"black\", \"asian\", \"other\"),              \n",
    "                     prob = c(0.5, 0.25 ,0.15, 0.1, 0.1), \n",
    "                     size=1000,\n",
    "                     replace=TRUE)\n",
    " \n",
    "voter_age <- rnorm(1000,50,20)                        # generate age data (equal means)\n",
    "voter_age <- ifelse(voter_age<18,18,voter_age)\n",
    "\n",
    "av_model <- aov(voter_age ~ voter_race)               # conduct the ANOVA and store the result\n",
    "summary(av_model)                                     # check a summary of the test result"
   ]
  },
  {
   "cell_type": "markdown",
   "metadata": {},
   "source": [
    "In the test output, the test statistic is the F-value of 0.905 and the p-value is 0.46. We could have calculated the p-value using the test statistic, the given degrees of freedom and the f-distribution:"
   ]
  },
  {
   "cell_type": "code",
   "execution_count": 2,
   "metadata": {
    "collapsed": false
   },
   "outputs": [
    {
     "data": {
      "text/html": [
       "0.460303780807136"
      ],
      "text/latex": [
       "0.460303780807136"
      ],
      "text/markdown": [
       "0.460303780807136"
      ],
      "text/plain": [
       "[1] 0.4603038"
      ]
     },
     "execution_count": 2,
     "metadata": {},
     "output_type": "execute_result"
    }
   ],
   "source": [
    "pf(q=0.905,           # f-value\n",
    "   df1=4,             # number of groups minus 1\n",
    "   df2=995,           # observations minus number of groups\n",
    "   lower.tail=FALSE)  # check upper tail only*"
   ]
  },
  {
   "cell_type": "markdown",
   "metadata": {},
   "source": [
    "*Note: similar to the chi-squared test we are only interested in the upper tail of the distribution.\n",
    "\n",
    "The test result indicates that there is not evidence that average ages differ based on the race variable, so we'd accept the null hypothesis that none of the groups differ.\n",
    "\n",
    "Now let's make new age data where the group means do differ and run a second ANOVA:"
   ]
  },
  {
   "cell_type": "code",
   "execution_count": 3,
   "metadata": {
    "collapsed": false
   },
   "outputs": [
    {
     "data": {
      "text/plain": [
       "             Df Sum Sq Mean Sq F value Pr(>F)  \n",
       "voter_race    4   3932   983.0    2.61 0.0342 *\n",
       "Residuals   995 374665   376.5                 \n",
       "---\n",
       "Signif. codes:  0 '***' 0.001 '**' 0.01 '*' 0.05 '.' 0.1 ' ' 1"
      ]
     },
     "execution_count": 3,
     "metadata": {},
     "output_type": "execute_result"
    }
   ],
   "source": [
    "set.seed(12)\n",
    "white_dist <- rnorm(1000,55,20)     # draw ages from a different distribution for white voters\n",
    "white_dist <- ifelse(white_dist<18,18,white_dist)\n",
    "\n",
    "new_voter_ages <- ifelse(voter_race == \"white\", white_dist, voter_age)\n",
    "\n",
    "\n",
    "av_model <- aov(new_voter_ages ~ voter_race)          # conduct the ANOVA and store the result\n",
    "summary(av_model)                                     # check a summary of the test result"
   ]
  },
  {
   "cell_type": "markdown",
   "metadata": {},
   "source": [
    "In the code above, we changed the average age for white voters to 55 while keeping the other groups unchanged with an average age of 50. The resulting p-value 0.034 means our test is now significant at the 95% level. Notice that the test output does not indicate which group mean(s) differ from the others. We know that it is the white voters who differ because we set it up that way, but when testing real data, you may not know which group(s) caused the the test to throw a positive result. To check which groups differ after getting a positive ANOVA result, you can perform a follow up test or \"post-hoc test\".\n",
    "\n",
    "One possible post-hoc test is to perform a separate t-test for each pair of groups. You can peform a t-test bewteen all pairs using the pairwise.t.test() function:"
   ]
  },
  {
   "cell_type": "code",
   "execution_count": 4,
   "metadata": {
    "collapsed": false
   },
   "outputs": [
    {
     "data": {
      "text/plain": [
       "\n",
       "\tPairwise comparisons using t tests with pooled SD \n",
       "\n",
       "data:  new_voter_ages and voter_race \n",
       "\n",
       "         asian black hispanic other\n",
       "black    0.255 -     -        -    \n",
       "hispanic 0.402 0.648 -        -    \n",
       "other    0.888 0.202 0.323    -    \n",
       "white    0.408 0.008 0.013    0.532\n",
       "\n",
       "P value adjustment method: none "
      ]
     },
     "execution_count": 4,
     "metadata": {},
     "output_type": "execute_result"
    }
   ],
   "source": [
    "pairwise.t.test(new_voter_ages,      # conduct pairwise t-tests bewteen all groups\n",
    "                voter_race, \n",
    "                p.adj = \"none\")      # do not adjust resulting p-values"
   ]
  },
  {
   "cell_type": "markdown",
   "metadata": {},
   "source": [
    "The resulting table shows the p-values for each pairwise t-test. Using unadjusted pairwise t-tests can overestimate significance because the more comparisons you make, the more likely you are to come across an unlikely result due to chance. We can account for this multiple comparison problem by specifying a p adjustment argument:"
   ]
  },
  {
   "cell_type": "code",
   "execution_count": 5,
   "metadata": {
    "collapsed": false
   },
   "outputs": [
    {
     "data": {
      "text/plain": [
       "\n",
       "\tPairwise comparisons using t tests with pooled SD \n",
       "\n",
       "data:  new_voter_ages and voter_race \n",
       "\n",
       "         asian black hispanic other\n",
       "black    1.00  -     -        -    \n",
       "hispanic 1.00  1.00  -        -    \n",
       "other    1.00  1.00  1.00     -    \n",
       "white    1.00  0.08  0.13     1.00 \n",
       "\n",
       "P value adjustment method: bonferroni "
      ]
     },
     "execution_count": 5,
     "metadata": {},
     "output_type": "execute_result"
    }
   ],
   "source": [
    "pairwise.t.test(new_voter_ages,        # conduct pairwise t-tests bewteen all groups\n",
    "                voter_race, \n",
    "                p.adj = \"bonferroni\")  # use bonferroni correction*"
   ]
  },
  {
   "cell_type": "markdown",
   "metadata": {},
   "source": [
    "*Note: Bonferroni correction adjusts the signifiance level α by dividing it by the number of comparisons made.\n",
    "\n",
    "Note that after adjusting for multiple comparisons, the p-values are no longer significant at the 95% level. The Bonferroni correction is somewhat conservative in its p-value estimates. \n",
    "\n",
    "Another common post hoc-test is Tukey's test. You can carry out Tukey's test using the built-in R function TukeyHSD():"
   ]
  },
  {
   "cell_type": "code",
   "execution_count": 6,
   "metadata": {
    "collapsed": false
   },
   "outputs": [
    {
     "data": {
      "text/plain": [
       "  Tukey multiple comparisons of means\n",
       "    95% family-wise confidence level\n",
       "\n",
       "Fit: aov(formula = new_voter_ages ~ voter_race)\n",
       "\n",
       "$voter_race\n",
       "                     diff         lwr       upr     p adj\n",
       "black-asian    -3.0009576 -10.2001836  4.198268 0.7856694\n",
       "hispanic-asian -2.0604424  -8.7833237  4.662439 0.9188866\n",
       "other-asian     0.4235040  -7.7872349  8.634243 0.9999112\n",
       "white-asian     1.8851439  -4.3437325  8.114020 0.9222716\n",
       "hispanic-black  0.9405152  -4.6833808  6.564411 0.9910128\n",
       "other-black     3.4244616  -3.9136107 10.762534 0.7065118\n",
       "white-black     4.8861015  -0.1368432  9.909046 0.0610682\n",
       "other-hispanic  2.4839463  -4.3874134  9.355306 0.8608383\n",
       "white-hispanic  3.9455862  -0.3669829  8.258155 0.0913566\n",
       "white-other     1.4616399  -4.9272059  7.850486 0.9710417\n"
      ]
     },
     "execution_count": 6,
     "metadata": {},
     "output_type": "execute_result"
    }
   ],
   "source": [
    "TukeyHSD(av_model)      # pass fitted ANOVA model"
   ]
  },
  {
   "cell_type": "markdown",
   "metadata": {},
   "source": [
    "The output of the Tukey test shows the average difference, a confidence interval, as well as a p-value for each pair of groups. Again, we see low p-value for the white-black and white-hispanic commparisons, suggesting that the white group is the one that led to the positive ANOVA result."
   ]
  },
  {
   "cell_type": "markdown",
   "metadata": {},
   "source": [
    "### Two-Way ANOVA"
   ]
  },
  {
   "cell_type": "markdown",
   "metadata": {},
   "source": [
    "The two-way ANOVA extends the analysis of variance to cases where you have two categorical variables of interest. For example, a two-way ANOVA would let us check whether voter age varies across two demographic variables like race and gender at the same time. You can conduct a two way ANOVA by passing an extra categorical varaible into the formula supplied to the aov() function. Let's make a new variable for voter gender, alter voter ages based on that variable and then do a two-way ANOVA test investigating the effects of voter gender and race on age:"
   ]
  },
  {
   "cell_type": "code",
   "execution_count": 7,
   "metadata": {
    "collapsed": false
   },
   "outputs": [
    {
     "data": {
      "text/plain": [
       "              Df Sum Sq Mean Sq F value Pr(>F)  \n",
       "voter_race     4   1203   300.8   0.821 0.5117  \n",
       "voter_gender   1   1743  1743.4   4.760 0.0294 *\n",
       "Residuals    994 364093   366.3                 \n",
       "---\n",
       "Signif. codes:  0 '***' 0.001 '**' 0.01 '*' 0.05 '.' 0.1 ' ' 1"
      ]
     },
     "execution_count": 7,
     "metadata": {},
     "output_type": "execute_result"
    }
   ],
   "source": [
    "set.seed(10)\n",
    "voter_gender <- sample(c(\"male\",\"female\"),     # generate genders\n",
    "                       size=1000, \n",
    "                       prob=c(0.5,0.5),\n",
    "                       replace = TRUE)\n",
    "\n",
    "voter_age2 <- ifelse(voter_gender==\"male\", voter_age-1.5, voter_age+1.5)  # alter age based on gender\n",
    "voter_age2 <- ifelse(voter_age2<18,18,voter_age2)\n",
    "\n",
    "av_model <- aov(voter_age2 ~ voter_race + voter_gender)    # perform ANOVA\n",
    "summary(av_model)                                          # show the result"
   ]
  },
  {
   "cell_type": "markdown",
   "metadata": {},
   "source": [
    "In the code above we added 1.5 years to the age of each female voter and subtracted 1.5 years from the age of each male voter. The test result detects this difference in age based on gender with a p-value of 0.029 for the voter_gender variable. On the other hand, the voter_race variable appears to have no significant effect on age.\n",
    "\n",
    "The two-way ANOVA can also test the interation bewteen the categorical variables. To check for interaction, add a third term to the formula you supply to aov() equal to the product of the two categorial variables:"
   ]
  },
  {
   "cell_type": "code",
   "execution_count": 8,
   "metadata": {
    "collapsed": false
   },
   "outputs": [
    {
     "data": {
      "text/plain": [
       "                         Df Sum Sq Mean Sq F value Pr(>F)  \n",
       "voter_race                4   1203   300.8   0.820 0.5122  \n",
       "voter_gender              1   1743  1743.4   4.755 0.0294 *\n",
       "voter_race:voter_gender   4   1132   282.9   0.772 0.5438  \n",
       "Residuals               990 362961   366.6                 \n",
       "---\n",
       "Signif. codes:  0 '***' 0.001 '**' 0.01 '*' 0.05 '.' 0.1 ' ' 1"
      ]
     },
     "execution_count": 8,
     "metadata": {},
     "output_type": "execute_result"
    }
   ],
   "source": [
    "av_model <- aov(voter_age2 ~ voter_race + voter_gender +    # repeat the test\n",
    "               (voter_race * voter_gender))                 # add interaction term\n",
    "\n",
    "summary(av_model)                                           # check result"
   ]
  },
  {
   "cell_type": "markdown",
   "metadata": {},
   "source": [
    "The test result shows no significant interaction bewteen gender and race, which is expected given that we created both independently. Let's create a new age variable with an interaction bewteen gender and race and then run the test again:"
   ]
  },
  {
   "cell_type": "code",
   "execution_count": 9,
   "metadata": {
    "collapsed": false
   },
   "outputs": [
    {
     "data": {
      "text/plain": [
       "                         Df Sum Sq Mean Sq F value Pr(>F)  \n",
       "voter_race                4   4612  1153.0   3.118 0.0146 *\n",
       "voter_gender              1     89    88.7   0.240 0.6244  \n",
       "voter_race:voter_gender   4   4229  1057.2   2.859 0.0226 *\n",
       "Residuals               990 366107   369.8                 \n",
       "---\n",
       "Signif. codes:  0 '***' 0.001 '**' 0.01 '*' 0.05 '.' 0.1 ' ' 1"
      ]
     },
     "execution_count": 9,
     "metadata": {},
     "output_type": "execute_result"
    }
   ],
   "source": [
    "# Increase the age of asian female voters by 10\n",
    "interaction_age <- ifelse((voter_gender==\"female\")&(voter_race==\"asian\"), \n",
    "                    (voter_age + 10), voter_age)    # alter age based on gender and race\n",
    "\n",
    "av_model <- aov(interaction_age ~ voter_race + voter_gender +     # repeat the test\n",
    "               (voter_race * voter_gender))                       \n",
    "\n",
    "summary(av_model)                                                 "
   ]
  },
  {
   "cell_type": "markdown",
   "metadata": {},
   "source": [
    "In this case, we see a low p-value for the interaction bewteen race and gender. A low p-value for the interaction term suggests that some group defined by a combination of the two categorical variables may be having a large influence on the test results. In this case, we added 10 to the ages of all asian women voters, while all other gender/race combinations are drawn from the same distribution. To identify the specific variable combination affecting our results, we can run Tukey's test and inspect the interactions:"
   ]
  },
  {
   "cell_type": "code",
   "execution_count": 10,
   "metadata": {
    "collapsed": false
   },
   "outputs": [
    {
     "data": {
      "text/plain": [
       "  Tukey multiple comparisons of means\n",
       "    95% family-wise confidence level\n",
       "\n",
       "Fit: aov(formula = interaction_age ~ voter_race + voter_gender + (voter_race * voter_gender))\n",
       "\n",
       "$voter_race\n",
       "                     diff        lwr         upr     p adj\n",
       "black-asian    -7.6521204 -14.786664 -0.51757695 0.0284489\n",
       "hispanic-asian -6.7116051 -13.374084 -0.04912651 0.0473129\n",
       "other-asian    -4.2276588 -12.364627  3.90930939 0.6149472\n",
       "white-asian    -7.3934760 -13.566388 -1.22056391 0.0096866\n",
       "hispanic-black  0.9405152  -4.632852  6.51388251 0.9906984\n",
       "other-black     3.4244616  -3.847681 10.69660382 0.6994030\n",
       "white-black     0.2586444  -4.719171  5.23645967 0.9999086\n",
       "other-hispanic  2.4839463  -4.325677  9.29356924 0.8568273\n",
       "white-hispanic -0.6818709  -4.955693  3.59195136 0.9924901\n",
       "white-other    -3.1658172  -9.497261  3.16562710 0.6493747\n",
       "\n",
       "$voter_gender\n",
       "                  diff       lwr      upr     p adj\n",
       "male-female -0.5955427 -2.982237 1.791151 0.6244823\n",
       "\n",
       "$`voter_race:voter_gender`\n",
       "                                      diff        lwr        upr     p adj\n",
       "black:female-asian:female     -15.87770243 -27.933022 -3.8223831 0.0013260\n",
       "hispanic:female-asian:female  -14.74735615 -25.966324 -3.5283884 0.0013720\n",
       "other:female-asian:female     -10.94914470 -24.421040  2.5227502 0.2298501\n",
       "white:female-asian:female     -13.31288410 -23.749261 -2.8765069 0.0022776\n",
       "asian:male-asian:female       -12.37309637 -25.556171  0.8099784 0.0872193\n",
       "black:male-asian:female       -12.76862494 -24.680184 -0.8570660 0.0244322\n",
       "hispanic:male-asian:female    -11.89953279 -23.131587 -0.6674787 0.0278104\n",
       "other:male-asian:female       -10.73456106 -24.456884  2.9877622 0.2802153\n",
       "white:male-asian:female       -14.72572729 -25.178858 -4.2725967 0.0003755\n",
       "hispanic:female-black:female    1.13034628  -8.104229 10.3649213 0.9999968\n",
       "other:female-black:female       4.92855772  -6.941745 16.7988607 0.9498841\n",
       "white:female-black:female       2.56481833  -5.701384 10.8310211 0.9931353\n",
       "asian:male-black:female         3.50460606  -8.036867 15.0460791 0.9941469\n",
       "black:male-black:female         3.10907749  -6.955582 13.1737372 0.9933549\n",
       "hispanic:male-black:female      3.97816963  -5.272300 13.2286388 0.9378622\n",
       "other:male-black:female         5.14314136  -7.010636 17.2969184 0.9436563\n",
       "white:male-black:female         1.15197514  -7.135369  9.4393197 0.9999902\n",
       "other:female-hispanic:female    3.79821145  -7.221707 14.8181299 0.9853952\n",
       "white:female-hispanic:female    1.43447205  -5.555851  8.4247954 0.9997336\n",
       "asian:male-hispanic:female      2.37425978  -8.290641 13.0391607 0.9994809\n",
       "black:male-hispanic:female      1.97873121  -7.067367 11.0248291 0.9995502\n",
       "hispanic:male-hispanic:female   2.84782335  -5.282717 10.9783640 0.9836604\n",
       "other:male-hispanic:female      4.01279509  -7.311904 15.3374941 0.9822981\n",
       "white:male-hispanic:female      0.02162886  -6.993682  7.0369401 1.0000000\n",
       "white:female-other:female      -2.36373940 -12.585840  7.8583610 0.9992942\n",
       "asian:male-other:female        -1.42395167 -14.438053 11.5901494 0.9999988\n",
       "black:male-other:female        -1.81948024 -13.543754  9.9047938 0.9999747\n",
       "hispanic:male-other:female     -0.95038809 -11.983629 10.0828529 0.9999999\n",
       "other:male-other:female         0.21458364 -13.345487 13.7746546 1.0000000\n",
       "white:male-other:female        -3.77658259 -14.015787  6.4626218 0.9767331\n",
       "asian:male-white:female         0.93978773  -8.898548 10.7781232 0.9999996\n",
       "black:male-white:female         0.54425916  -7.510840  8.5993582 1.0000000\n",
       "hispanic:male-white:female      1.41335130  -5.597956  8.4246582 0.9997701\n",
       "other:male-white:female         2.57832304  -7.971631 13.1282776 0.9989008\n",
       "white:male-white:female        -1.41284319  -7.093277  4.2675903 0.9987365\n",
       "black:male-asian:male          -0.39552857 -11.786758 10.9957010 1.0000000\n",
       "hispanic:male-asian:male        0.47356357 -10.205103 11.1522299 1.0000000\n",
       "other:male-asian:male           1.63853531 -11.634634 14.9117049 0.9999965\n",
       "white:male-asian:male          -2.35263092 -12.208736  7.5034745 0.9990892\n",
       "hispanic:male-black:male        0.86909214  -8.193230  9.9314147 0.9999996\n",
       "other:male-black:male           2.03406388  -9.977131 14.0452590 0.9999467\n",
       "white:male-black:male          -1.95710235 -10.033896  6.1196910 0.9989731\n",
       "other:male-hispanic:male        1.16497173 -10.172692 12.5026351 0.9999993\n",
       "white:male-hispanic:male       -2.82619449  -9.862415  4.2100257 0.9593104\n",
       "white:male-other:male          -3.99116623 -14.557694  6.5753617 0.9727189\n"
      ]
     },
     "execution_count": 10,
     "metadata": {},
     "output_type": "execute_result"
    }
   ],
   "source": [
    "TukeyHSD(av_model)      # pass fitted ANOVA model"
   ]
  },
  {
   "cell_type": "markdown",
   "metadata": {},
   "source": [
    "The output shows low p-values for several comparisons bewteen asian females and other groups. If this were a real study, this result might lead us toward investigating asian females as a subgroup in more detail. "
   ]
  },
  {
   "cell_type": "markdown",
   "metadata": {},
   "source": [
    "### Wrap Up"
   ]
  },
  {
   "cell_type": "markdown",
   "metadata": {},
   "source": [
    "The one-way and two-way ANOVA tests let us check whether a numeric response variable varies according to the levels of one or two categorical variables. R makes it easy to perform ANOVA tests without diving too deep into the details of the procedure.\n",
    "\n",
    "Next time, we'll move on from statistical inference to the final topic of this introducion: predictive modeling."
   ]
  },
  {
   "cell_type": "markdown",
   "metadata": {},
   "source": [
    "### Next Time: Introduction to R Part 27: TBD"
   ]
  }
 ],
 "metadata": {
  "kernelspec": {
   "display_name": "R",
   "language": "R",
   "name": "ir"
  },
  "language_info": {
   "codemirror_mode": "r",
   "file_extension": ".r",
   "mimetype": "text/x-r-source",
   "name": "R",
   "pygments_lexer": "r",
   "version": "3.1.3"
  }
 },
 "nbformat": 4,
 "nbformat_minor": 0
}
