{
 "cells": [
  {
   "cell_type": "markdown",
   "metadata": {},
   "source": [
    "# Introduction to R Part 9: Factors"
   ]
  },
  {
   "cell_type": "markdown",
   "metadata": {},
   "source": [
    "At the end of the last lesson, we learned that character data loaded into a data frame is converted into a special data structure called a factor by default. Factors are intended to hold categorial--also called nominal--data. Categorical data describes variables that can take on one of several distinct values from a set. Examples of categorial variables include gender, state of residence and educational attainment.\n",
    "\n",
    "Factors take categorical data and assign each category an integer value. The number of factor categories or levels is equal to the number of unique elements in the vector used the make the factor. For example, a factor representing gender would have two levels: male and female.\n",
    "\n",
    "You can create a factor by passing a character or numeric vector into the factor() function:"
   ]
  },
  {
   "cell_type": "code",
   "execution_count": 1,
   "metadata": {
    "collapsed": false
   },
   "outputs": [
    {
     "name": "stdout",
     "output_type": "stream",
     "text": [
      " [1] \"male\"   \"male\"   \"male\"   \"male\"   \"male\"   \"male\"   \"male\"   \"male\"  \n",
      " [9] \"male\"   \"male\"   \"female\" \"female\" \"female\" \"female\" \"female\" \"female\"\n",
      "[17] \"female\" \"female\" \"female\" \"female\" \"female\" \"female\" \"female\" \"female\"\n",
      "[25] \"female\"\n"
     ]
    }
   ],
   "source": [
    "gender_vector <- c(rep(\"male\",10),rep(\"female\",15)) #create a character variable\n",
    "\n",
    "print(gender_vector)"
   ]
  },
  {
   "cell_type": "code",
   "execution_count": 2,
   "metadata": {
    "collapsed": false
   },
   "outputs": [
    {
     "name": "stdout",
     "output_type": "stream",
     "text": [
      " [1] male   male   male   male   male   male   male   male   male   male  \n",
      "[11] female female female female female female female female female female\n",
      "[21] female female female female female\n",
      "Levels: female male\n"
     ]
    }
   ],
   "source": [
    "gender_factor <- factor(gender_vector)              #convert to factor\n",
    " \n",
    "print(gender_factor)"
   ]
  },
  {
   "cell_type": "code",
   "execution_count": 3,
   "metadata": {
    "collapsed": false
   },
   "outputs": [
    {
     "name": "stdout",
     "output_type": "stream",
     "text": [
      " [1] 0 1 1 0 1 0 0 0 1 1 1 1 1 0 1 0 1 1 1 1\n",
      "Levels: 0 1\n"
     ]
    }
   ],
   "source": [
    "numeric_vector <- round(runif(20,0,1))             #create a numeric variable\n",
    "\n",
    "\n",
    "numeric_factor <-  factor(numeric_vector)          #convert to factor\n",
    "\n",
    "print( numeric_factor )                           "
   ]
  },
  {
   "cell_type": "markdown",
   "metadata": {},
   "source": [
    "You can specify the levels a factor can take by passing a character vector of levels to the levels argument:"
   ]
  },
  {
   "cell_type": "code",
   "execution_count": 4,
   "metadata": {
    "collapsed": false
   },
   "outputs": [
    {
     "name": "stdout",
     "output_type": "stream",
     "text": [
      " [1] male   male   male   male   male   male   male   male   male   male  \n",
      "[11] female female female female female female female female female female\n",
      "[21] female female female female female\n",
      "Levels: male female other\n"
     ]
    }
   ],
   "source": [
    "gender_factor <- factor(gender_vector, levels = c(\"male\",\"female\",\"other\"))\n",
    "\n",
    "print(gender_factor)"
   ]
  },
  {
   "cell_type": "markdown",
   "metadata": {},
   "source": [
    "In this case there are no data points that take on the level \"other\" but the factor allows for the possibility of encountering the category \"other\". Factors often need to have the same levels when used in analyses, even if some of those levels have no members.\n",
    "\n",
    "You can check, rename and add to the levels of a factor with the levels() function:"
   ]
  },
  {
   "cell_type": "code",
   "execution_count": 5,
   "metadata": {
    "collapsed": false
   },
   "outputs": [
    {
     "data": {
      "text/html": [
       "<ol class=list-inline>\n",
       "\t<li>\"male\"</li>\n",
       "\t<li>\"female\"</li>\n",
       "\t<li>\"other\"</li>\n",
       "</ol>\n"
      ],
      "text/latex": [
       "\\begin{enumerate*}\n",
       "\\item \"male\"\n",
       "\\item \"female\"\n",
       "\\item \"other\"\n",
       "\\end{enumerate*}\n"
      ],
      "text/markdown": [
       "1. \"male\"\n",
       "2. \"female\"\n",
       "3. \"other\"\n",
       "\n",
       "\n"
      ],
      "text/plain": [
       "[1] \"male\"   \"female\" \"other\" "
      ]
     },
     "execution_count": 5,
     "metadata": {},
     "output_type": "execute_result"
    }
   ],
   "source": [
    "levels(gender_factor)                                      #Check levels "
   ]
  },
  {
   "cell_type": "code",
   "execution_count": 6,
   "metadata": {
    "collapsed": false
   },
   "outputs": [
    {
     "data": {
      "text/html": [
       "<ol class=list-inline>\n",
       "\t<li>\"male\"</li>\n",
       "\t<li>\"female\"</li>\n",
       "\t<li>\"unknown\"</li>\n",
       "</ol>\n"
      ],
      "text/latex": [
       "\\begin{enumerate*}\n",
       "\\item \"male\"\n",
       "\\item \"female\"\n",
       "\\item \"unknown\"\n",
       "\\end{enumerate*}\n"
      ],
      "text/markdown": [
       "1. \"male\"\n",
       "2. \"female\"\n",
       "3. \"unknown\"\n",
       "\n",
       "\n"
      ],
      "text/plain": [
       "[1] \"male\"    \"female\"  \"unknown\""
      ]
     },
     "execution_count": 6,
     "metadata": {},
     "output_type": "execute_result"
    }
   ],
   "source": [
    "levels(gender_factor) <- c(\"male\",\"female\",\"unknown\")      #Change levels\n",
    "\n",
    "levels(gender_factor)"
   ]
  },
  {
   "cell_type": "code",
   "execution_count": 7,
   "metadata": {
    "collapsed": false
   },
   "outputs": [
    {
     "data": {
      "text/html": [
       "<ol class=list-inline>\n",
       "\t<li>\"male\"</li>\n",
       "\t<li>\"female\"</li>\n",
       "\t<li>\"unknown\"</li>\n",
       "\t<li>\"no_response\"</li>\n",
       "</ol>\n"
      ],
      "text/latex": [
       "\\begin{enumerate*}\n",
       "\\item \"male\"\n",
       "\\item \"female\"\n",
       "\\item \"unknown\"\n",
       "\\item \"no_response\"\n",
       "\\end{enumerate*}\n"
      ],
      "text/markdown": [
       "1. \"male\"\n",
       "2. \"female\"\n",
       "3. \"unknown\"\n",
       "4. \"no_response\"\n",
       "\n",
       "\n"
      ],
      "text/plain": [
       "[1] \"male\"        \"female\"      \"unknown\"     \"no_response\""
      ]
     },
     "execution_count": 7,
     "metadata": {},
     "output_type": "execute_result"
    }
   ],
   "source": [
    "levels(gender_factor) <- c(\"male\",\"female\",\"unknown\",\"no_response\")    #Add a level\n",
    "\n",
    "levels(gender_factor)"
   ]
  },
  {
   "cell_type": "markdown",
   "metadata": {},
   "source": [
    "You can remove factor levels with no data present by recreating the factor with the factor() function or by using the droplevels() function:"
   ]
  },
  {
   "cell_type": "code",
   "execution_count": 8,
   "metadata": {
    "collapsed": false
   },
   "outputs": [
    {
     "data": {
      "text/html": [
       "<ol class=list-inline>\n",
       "\t<li>\"male\"</li>\n",
       "\t<li>\"female\"</li>\n",
       "</ol>\n"
      ],
      "text/latex": [
       "\\begin{enumerate*}\n",
       "\\item \"male\"\n",
       "\\item \"female\"\n",
       "\\end{enumerate*}\n"
      ],
      "text/markdown": [
       "1. \"male\"\n",
       "2. \"female\"\n",
       "\n",
       "\n"
      ],
      "text/plain": [
       "[1] \"male\"   \"female\""
      ]
     },
     "execution_count": 8,
     "metadata": {},
     "output_type": "execute_result"
    }
   ],
   "source": [
    "gender_factor <- factor(gender_factor)      #recreating a factor drops unused levels\n",
    "\n",
    "levels(gender_factor)"
   ]
  },
  {
   "cell_type": "code",
   "execution_count": 9,
   "metadata": {
    "collapsed": false
   },
   "outputs": [
    {
     "data": {
      "text/html": [
       "<ol class=list-inline>\n",
       "\t<li>\"male\"</li>\n",
       "\t<li>\"female\"</li>\n",
       "</ol>\n"
      ],
      "text/latex": [
       "\\begin{enumerate*}\n",
       "\\item \"male\"\n",
       "\\item \"female\"\n",
       "\\end{enumerate*}\n"
      ],
      "text/markdown": [
       "1. \"male\"\n",
       "2. \"female\"\n",
       "\n",
       "\n"
      ],
      "text/plain": [
       "[1] \"male\"   \"female\""
      ]
     },
     "execution_count": 9,
     "metadata": {},
     "output_type": "execute_result"
    }
   ],
   "source": [
    "gender_factor <- droplevels(gender_factor)   #droplevels also removes unused levels\n",
    "\n",
    "levels(gender_factor)"
   ]
  },
  {
   "cell_type": "markdown",
   "metadata": {},
   "source": [
    "R offers a second type of factor called an ordered factor for orindal data. Ordinal data is non-numeric data that has some sense of natural ordering. For example, a variable with the levels \"very low\", \"low\", \"medium\", \"high\", and \"very high\" is not numeric but it has a natural ordering, so it can be encoded as an ordered factor. To create an ordered factor, use the factor() function with the additional argument ordered=TRUE or use the ordered() function:"
   ]
  },
  {
   "cell_type": "code",
   "execution_count": 10,
   "metadata": {
    "collapsed": false
   },
   "outputs": [
    {
     "name": "stdout",
     "output_type": "stream",
     "text": [
      " [1] very low  low       medium    high      very high very low  low      \n",
      " [8] medium    high      very high very low  low       medium    high     \n",
      "[15] very high very low  low       medium    high      very high very low \n",
      "[22] low       medium    high      very high\n",
      "Levels: very low < low < medium < high < very high\n"
     ]
    }
   ],
   "source": [
    "dat <- rep(c(\"very low\", \"low\", \"medium\", \"high\", \"very high\"), 5)\n",
    "\n",
    "dat_factor <- factor(dat, \n",
    "                     levels=c(\"very low\", \"low\", \"medium\", \"high\", \"very high\"),\n",
    "                     ordered=TRUE)\n",
    "\n",
    "print(dat_factor)"
   ]
  },
  {
   "cell_type": "code",
   "execution_count": 11,
   "metadata": {
    "collapsed": false
   },
   "outputs": [
    {
     "name": "stdout",
     "output_type": "stream",
     "text": [
      " [1] very low  low       medium    high      very high very low  low      \n",
      " [8] medium    high      very high very low  low       medium    high     \n",
      "[15] very high very low  low       medium    high      very high very low \n",
      "[22] low       medium    high      very high\n",
      "Levels: very low < low < medium < high < very high\n"
     ]
    }
   ],
   "source": [
    "dat_factor <- ordered(dat, \n",
    "                     levels=c(\"very low\", \"low\", \"medium\", \"high\", \"very high\"))\n",
    "\n",
    "print(dat_factor)"
   ]
  },
  {
   "cell_type": "markdown",
   "metadata": {},
   "source": [
    "*Note: it is important to use the levels argument when creating an ordered factor because the levels you supply are used to create the ordering from lowest to highest."
   ]
  },
  {
   "cell_type": "markdown",
   "metadata": {},
   "source": [
    "### Factor Indexing"
   ]
  },
  {
   "cell_type": "markdown",
   "metadata": {},
   "source": [
    "Since factors are essentially vectors with each value being an integer, character level pair, factor indexing works the same as vector indexing:"
   ]
  },
  {
   "cell_type": "code",
   "execution_count": 12,
   "metadata": {
    "collapsed": false
   },
   "outputs": [
    {
     "data": {
      "text/html": [
       "male"
      ],
      "text/latex": [
       "male"
      ],
      "text/markdown": [
       "male"
      ],
      "text/plain": [
       "[1] male\n",
       "Levels: male female"
      ]
     },
     "execution_count": 12,
     "metadata": {},
     "output_type": "execute_result"
    },
    {
     "data": {
      "text/html": [
       "<ol class=list-inline>\n",
       "\t<li>male</li>\n",
       "\t<li>male</li>\n",
       "\t<li>female</li>\n",
       "\t<li>female</li>\n",
       "\t<li>female</li>\n",
       "\t<li>female</li>\n",
       "\t<li>female</li>\n",
       "</ol>\n"
      ],
      "text/latex": [
       "\\begin{enumerate*}\n",
       "\\item male\n",
       "\\item male\n",
       "\\item female\n",
       "\\item female\n",
       "\\item female\n",
       "\\item female\n",
       "\\item female\n",
       "\\end{enumerate*}\n"
      ],
      "text/markdown": [
       "1. male\n",
       "2. male\n",
       "3. female\n",
       "4. female\n",
       "5. female\n",
       "6. female\n",
       "7. female\n",
       "\n",
       "\n"
      ],
      "text/plain": [
       "[1] male   male   female female female female female\n",
       "Levels: male female"
      ]
     },
     "execution_count": 12,
     "metadata": {},
     "output_type": "execute_result"
    },
    {
     "data": {
      "text/html": [
       "<ol class=list-inline>\n",
       "\t<li>male</li>\n",
       "\t<li>male</li>\n",
       "\t<li>female</li>\n",
       "</ol>\n"
      ],
      "text/latex": [
       "\\begin{enumerate*}\n",
       "\\item male\n",
       "\\item male\n",
       "\\item female\n",
       "\\end{enumerate*}\n"
      ],
      "text/markdown": [
       "1. male\n",
       "2. male\n",
       "3. female\n",
       "\n",
       "\n"
      ],
      "text/plain": [
       "[1] male   male   female\n",
       "Levels: male female"
      ]
     },
     "execution_count": 12,
     "metadata": {},
     "output_type": "execute_result"
    },
    {
     "data": {
      "text/html": [
       "<ol class=list-inline>\n",
       "\t<li>male</li>\n",
       "\t<li>male</li>\n",
       "\t<li>male</li>\n",
       "\t<li>male</li>\n",
       "\t<li>male</li>\n",
       "\t<li>male</li>\n",
       "\t<li>male</li>\n",
       "\t<li>male</li>\n",
       "\t<li>male</li>\n",
       "\t<li>male</li>\n",
       "</ol>\n"
      ],
      "text/latex": [
       "\\begin{enumerate*}\n",
       "\\item male\n",
       "\\item male\n",
       "\\item male\n",
       "\\item male\n",
       "\\item male\n",
       "\\item male\n",
       "\\item male\n",
       "\\item male\n",
       "\\item male\n",
       "\\item male\n",
       "\\end{enumerate*}\n"
      ],
      "text/markdown": [
       "1. male\n",
       "2. male\n",
       "3. male\n",
       "4. male\n",
       "5. male\n",
       "6. male\n",
       "7. male\n",
       "8. male\n",
       "9. male\n",
       "10. male\n",
       "\n",
       "\n"
      ],
      "text/plain": [
       " [1] male male male male male male male male male male\n",
       "Levels: male female"
      ]
     },
     "execution_count": 12,
     "metadata": {},
     "output_type": "execute_result"
    }
   ],
   "source": [
    "gender_factor[2]                       #Get the second element\n",
    "gender_factor[9:15]                    #Get a slice of elements\n",
    "gender_factor[c(3,6,12)]               #Get a selection of specific elements\n",
    "gender_factor[gender_factor==\"male\"]   #Get all values where the level equals male"
   ]
  },
  {
   "cell_type": "markdown",
   "metadata": {},
   "source": [
    "### Factor Summary Functions"
   ]
  },
  {
   "cell_type": "markdown",
   "metadata": {},
   "source": [
    "In addition to levels(), factors support several other summary functions:"
   ]
  },
  {
   "cell_type": "code",
   "execution_count": 13,
   "metadata": {
    "collapsed": false
   },
   "outputs": [
    {
     "data": {
      "text/html": [
       "<dl class=dl-horizontal>\n",
       "\t<dt>male</dt>\n",
       "\t\t<dd>10</dd>\n",
       "\t<dt>female</dt>\n",
       "\t\t<dd>15</dd>\n",
       "</dl>\n"
      ],
      "text/latex": [
       "\\begin{description*}\n",
       "\\item[male] 10\n",
       "\\item[female] 15\n",
       "\\end{description*}\n"
      ],
      "text/markdown": [
       "male\n",
       ":   10female\n",
       ":   15\n",
       "\n"
      ],
      "text/plain": [
       "  male female \n",
       "    10     15 "
      ]
     },
     "execution_count": 13,
     "metadata": {},
     "output_type": "execute_result"
    }
   ],
   "source": [
    "summary(gender_factor)       #summary() returns counts for each level"
   ]
  },
  {
   "cell_type": "code",
   "execution_count": 14,
   "metadata": {
    "collapsed": false
   },
   "outputs": [
    {
     "name": "stdout",
     "output_type": "stream",
     "text": [
      " Factor w/ 2 levels \"male\",\"female\": 1 1 1 1 1 1 1 1 1 1 ...\n"
     ]
    }
   ],
   "source": [
    "str(gender_factor)           #str() shows the factor's stucture"
   ]
  },
  {
   "cell_type": "code",
   "execution_count": 15,
   "metadata": {
    "collapsed": false
   },
   "outputs": [
    {
     "data": {
      "text/html": [
       "25"
      ],
      "text/latex": [
       "25"
      ],
      "text/markdown": [
       "25"
      ],
      "text/plain": [
       "[1] 25"
      ]
     },
     "execution_count": 15,
     "metadata": {},
     "output_type": "execute_result"
    }
   ],
   "source": [
    "length(gender_factor)        #get the length of the factor"
   ]
  },
  {
   "cell_type": "code",
   "execution_count": 16,
   "metadata": {
    "collapsed": false
   },
   "outputs": [
    {
     "data": {
      "text/plain": [
       "gender_factor\n",
       "  male female \n",
       "    10     15 "
      ]
     },
     "execution_count": 16,
     "metadata": {},
     "output_type": "execute_result"
    }
   ],
   "source": [
    "table(gender_factor)         #table() creates a data table for the factor"
   ]
  },
  {
   "cell_type": "markdown",
   "metadata": {},
   "source": [
    "Factors and ordered factors are useful because many statistical, preditive modeling and graphing functions in R are set up to recognize factors and handle them as categorial variables. When you are performing data analysis, you'll probably want to encode your character data as factors more often than not. On the other hand, factors aren't easy to manipulate so it is best to work with normal atomic data if you are doing data munging.\n",
    "\n",
    "When load well-formed data into an R data frame, it can be convenient to have characters converted to factors. If you're loading messy data or data with an unknown stucture, it's safest to use stringsAsFactors = FALSE and convert columns to factors later. \n",
    "\n",
    "Now that we know about all of R's basic data types and data stuctures we are ready to learn how to load data into R from external sources and write data to files."
   ]
  },
  {
   "cell_type": "markdown",
   "metadata": {},
   "source": [
    "### Next Time: Introduction to R Part 10: Reading and Writing Data"
   ]
  }
 ],
 "metadata": {
  "kernelspec": {
   "display_name": "R",
   "language": "R",
   "name": "ir"
  },
  "language_info": {
   "codemirror_mode": "r",
   "file_extension": ".r",
   "mimetype": "text/x-r-source",
   "name": "R",
   "pygments_lexer": "r",
   "version": "3.1.3"
  }
 },
 "nbformat": 4,
 "nbformat_minor": 0
}
